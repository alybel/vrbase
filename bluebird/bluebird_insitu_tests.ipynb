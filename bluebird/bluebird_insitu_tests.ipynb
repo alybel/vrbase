{
 "cells": [
  {
   "cell_type": "code",
   "execution_count": 12,
   "metadata": {
    "collapsed": false
   },
   "outputs": [
    {
     "name": "stdout",
     "output_type": "stream",
     "text": [
      "The autoreload extension is already loaded. To reload it, use:\n",
      "  %reload_ext autoreload\n"
     ]
    }
   ],
   "source": [
    "import bblib as bbl\n",
    "import bbanalytics as bba\n",
    "%load_ext autoreload\n",
    "%autoreload 2"
   ]
  },
  {
   "cell_type": "code",
   "execution_count": 14,
   "metadata": {
    "collapsed": false
   },
   "outputs": [
    {
     "name": "stdout",
     "output_type": "stream",
     "text": [
      "317005063-xDIynEL3JE2059IEpYXhErvOX4nRVgtFlB9qedAG\n"
     ]
    }
   ],
   "source": [
    "import sys\n",
    "sys.path.append(\"../accounts/AlexanderD_Beck/\")\n",
    "import config as cfg\n",
    "bba.set_cfg(cfg)\n",
    "bbl.set_cfg(cfg)"
   ]
  },
  {
   "cell_type": "code",
   "execution_count": 15,
   "metadata": {
    "collapsed": false
   },
   "outputs": [
    {
     "data": {
      "text/plain": [
       "'jtZb6CrucwE5ZNP5BoYGBskMDyZ7GSfbnMjm5aifXQQg7'"
      ]
     },
     "execution_count": 15,
     "metadata": {},
     "output_type": "execute_result"
    }
   ],
   "source": [
    "cfg.access_token_secret"
   ]
  },
  {
   "cell_type": "code",
   "execution_count": 16,
   "metadata": {
    "collapsed": false
   },
   "outputs": [
    {
     "data": {
      "text/plain": [
       "'jtZb6CrucwE5ZNP5BoYGBskMDyZ7GSfbnMjm5aifXQQg7'"
      ]
     },
     "execution_count": 16,
     "metadata": {},
     "output_type": "execute_result"
    }
   ],
   "source": [
    "bbl.cfg.access_token_secret"
   ]
  },
  {
   "cell_type": "code",
   "execution_count": 17,
   "metadata": {
    "collapsed": false
   },
   "outputs": [],
   "source": [
    "auth, api = bbl.connect_app_to_twitter()"
   ]
  },
  {
   "cell_type": "code",
   "execution_count": 6,
   "metadata": {
    "collapsed": false
   },
   "outputs": [],
   "source": [
    "statuses = bbl.get_statuses(api)"
   ]
  },
  {
   "cell_type": "code",
   "execution_count": 19,
   "metadata": {
    "collapsed": false
   },
   "outputs": [
    {
     "data": {
      "text/plain": [
       "[2497992199,\n",
       " 40063894,\n",
       " 532818331,\n",
       " 235198532,\n",
       " 3220201621,\n",
       " 329184408,\n",
       " 30340726,\n",
       " 15024152,\n",
       " 21349138,\n",
       " 53125344,\n",
       " 95214667,\n",
       " 1099558375,\n",
       " 253246806,\n",
       " 91189763,\n",
       " 7032982,\n",
       " 3010753375,\n",
       " 14954908,\n",
       " 1084650420,\n",
       " 96679651,\n",
       " 149090103,\n",
       " 2849950716,\n",
       " 97063671,\n",
       " 2242826922,\n",
       " 525711014,\n",
       " 34677653,\n",
       " 525949945,\n",
       " 19803185,\n",
       " 14857978,\n",
       " 217223915,\n",
       " 2714708753,\n",
       " 237421637,\n",
       " 3028215965,\n",
       " 62833835,\n",
       " 141160224,\n",
       " 22662719,\n",
       " 17998577,\n",
       " 468527713,\n",
       " 474856675,\n",
       " 34634332,\n",
       " 16189815,\n",
       " 24745651,\n",
       " 2932819010,\n",
       " 17844801,\n",
       " 3232331462,\n",
       " 22088050,\n",
       " 2900787624,\n",
       " 291815624,\n",
       " 1539504326,\n",
       " 28211309,\n",
       " 467476120,\n",
       " 3291857709,\n",
       " 2934263408,\n",
       " 3001194814,\n",
       " 28620862,\n",
       " 316551948,\n",
       " 2470832323,\n",
       " 3107066557,\n",
       " 2770233804,\n",
       " 127625168,\n",
       " 82109405,\n",
       " 190015509,\n",
       " 2416250390,\n",
       " 2807600952,\n",
       " 21888985,\n",
       " 19405388,\n",
       " 1460181,\n",
       " 152008665,\n",
       " 44442335,\n",
       " 16528607,\n",
       " 1886547626,\n",
       " 3056290379,\n",
       " 3017503738,\n",
       " 771308689,\n",
       " 3096297807,\n",
       " 41262881,\n",
       " 1973465078,\n",
       " 168834351,\n",
       " 534643598,\n",
       " 11637332,\n",
       " 373995388,\n",
       " 156746452,\n",
       " 82723242,\n",
       " 347012999,\n",
       " 1305965395,\n",
       " 16897125,\n",
       " 48477873,\n",
       " 16948477,\n",
       " 2282320446,\n",
       " 44140499,\n",
       " 1425042025,\n",
       " 386722642,\n",
       " 469350276,\n",
       " 2200199862,\n",
       " 273486439,\n",
       " 52772574,\n",
       " 17458103,\n",
       " 850339579,\n",
       " 2815919497,\n",
       " 49466062,\n",
       " 15967075,\n",
       " 113363880,\n",
       " 2629434962,\n",
       " 1258442605,\n",
       " 921501217,\n",
       " 336042923,\n",
       " 160593052,\n",
       " 19560889,\n",
       " 376295279,\n",
       " 282093499,\n",
       " 39520685,\n",
       " 59300201,\n",
       " 1410229064,\n",
       " 129026051,\n",
       " 265225982,\n",
       " 245408575,\n",
       " 2873696445,\n",
       " 977168610,\n",
       " 18583837,\n",
       " 44749906,\n",
       " 113629009,\n",
       " 48402711,\n",
       " 2842608458,\n",
       " 211122484,\n",
       " 2436839581,\n",
       " 2209587206,\n",
       " 15526772,\n",
       " 132660476,\n",
       " 129520541,\n",
       " 14749225,\n",
       " 2520999920,\n",
       " 41126857,\n",
       " 160893537,\n",
       " 62316970,\n",
       " 21306956,\n",
       " 457155962,\n",
       " 119732917,\n",
       " 2399994620,\n",
       " 59918812,\n",
       " 482065542,\n",
       " 17306290,\n",
       " 236623365,\n",
       " 1567786130,\n",
       " 636146223,\n",
       " 1207280370,\n",
       " 58805316,\n",
       " 2740085959,\n",
       " 1584343075,\n",
       " 1225002560,\n",
       " 1097624179,\n",
       " 7169482,\n",
       " 2723555492,\n",
       " 2696642156,\n",
       " 169630984,\n",
       " 2983890943,\n",
       " 15158654,\n",
       " 2540547732,\n",
       " 335191510,\n",
       " 605438099,\n",
       " 1079889530,\n",
       " 17542265,\n",
       " 212596094,\n",
       " 3298859685,\n",
       " 2474470303,\n",
       " 125767439,\n",
       " 592692506,\n",
       " 18735819,\n",
       " 197444594,\n",
       " 12231172,\n",
       " 12068492,\n",
       " 1580459472,\n",
       " 185622716,\n",
       " 1333152308,\n",
       " 11659562,\n",
       " 40845905,\n",
       " 3103006784,\n",
       " 40644047,\n",
       " 135553008,\n",
       " 783440136,\n",
       " 236977223,\n",
       " 1081967509,\n",
       " 2811751748,\n",
       " 627485161,\n",
       " 462317122,\n",
       " 285072417,\n",
       " 23966851,\n",
       " 18952832,\n",
       " 9852332,\n",
       " 1931502354,\n",
       " 3161843418,\n",
       " 29409554,\n",
       " 23873342,\n",
       " 26770977,\n",
       " 38620162,\n",
       " 121918001,\n",
       " 2861124214,\n",
       " 127159325,\n",
       " 17835945,\n",
       " 2876581619,\n",
       " 18133603,\n",
       " 176540776,\n",
       " 119987616,\n",
       " 2435184254,\n",
       " 3222387163,\n",
       " 281691977,\n",
       " 567474324,\n",
       " 23580740,\n",
       " 169884526,\n",
       " 3291122141,\n",
       " 1606082322,\n",
       " 317477412,\n",
       " 20671814,\n",
       " 713973,\n",
       " 3184960164,\n",
       " 621061306,\n",
       " 2920610478,\n",
       " 353127628,\n",
       " 228686642,\n",
       " 15158066,\n",
       " 160309003,\n",
       " 22117824,\n",
       " 2867237076,\n",
       " 495228599,\n",
       " 16301171,\n",
       " 3219591649,\n",
       " 2837913549,\n",
       " 237614756,\n",
       " 421295817,\n",
       " 2426644646,\n",
       " 2775800587,\n",
       " 366373844,\n",
       " 58028028,\n",
       " 505520414,\n",
       " 1264163719,\n",
       " 346538365,\n",
       " 2911376309,\n",
       " 16847689,\n",
       " 2583938166,\n",
       " 480458199,\n",
       " 2289756704,\n",
       " 1396574695,\n",
       " 2565419845,\n",
       " 86692803,\n",
       " 1891144105,\n",
       " 28074289,\n",
       " 2360774646,\n",
       " 3222850370,\n",
       " 10437792,\n",
       " 19711691,\n",
       " 205315827,\n",
       " 15890453,\n",
       " 1898985745,\n",
       " 1161220694,\n",
       " 3095911098,\n",
       " 84401897,\n",
       " 80157719,\n",
       " 3082332893,\n",
       " 386982931,\n",
       " 137526258,\n",
       " 31162353,\n",
       " 276891288,\n",
       " 246846936,\n",
       " 3165009256,\n",
       " 2927712042,\n",
       " 2513119544,\n",
       " 5770442,\n",
       " 2468354550,\n",
       " 16299627,\n",
       " 2821663239,\n",
       " 1205552395,\n",
       " 21276122,\n",
       " 2903615809,\n",
       " 123831737,\n",
       " 3073657447,\n",
       " 2328931944,\n",
       " 18075623,\n",
       " 17789501,\n",
       " 23785621,\n",
       " 23280370,\n",
       " 563455743,\n",
       " 435686645,\n",
       " 3169887048,\n",
       " 384302755,\n",
       " 85093076,\n",
       " 1223402474,\n",
       " 1223380418,\n",
       " 20274912,\n",
       " 2785001732,\n",
       " 2595663716,\n",
       " 3186913227,\n",
       " 582532832,\n",
       " 926765593,\n",
       " 621419621,\n",
       " 797598200,\n",
       " 484296415,\n",
       " 2541933493,\n",
       " 325327587,\n",
       " 41306341,\n",
       " 555583935,\n",
       " 2331822642,\n",
       " 83664813,\n",
       " 134232741,\n",
       " 2927072838,\n",
       " 2842259387,\n",
       " 1707874436,\n",
       " 9373552,\n",
       " 2221556419,\n",
       " 1425134526,\n",
       " 32761187,\n",
       " 16129061,\n",
       " 1567804267,\n",
       " 187386227,\n",
       " 247282007,\n",
       " 3162986810,\n",
       " 18715834,\n",
       " 383682559,\n",
       " 2568340292,\n",
       " 23643572,\n",
       " 266027490,\n",
       " 139377825,\n",
       " 27525492,\n",
       " 2479067262,\n",
       " 2612341440,\n",
       " 1021461535,\n",
       " 86555696,\n",
       " 3165968742,\n",
       " 508007709,\n",
       " 2590791536,\n",
       " 149124522,\n",
       " 100977445,\n",
       " 295264798,\n",
       " 1639220083,\n",
       " 234362042,\n",
       " 2252200914,\n",
       " 16916799,\n",
       " 2962250933,\n",
       " 167523340,\n",
       " 2526639126,\n",
       " 290643086,\n",
       " 2741941014,\n",
       " 1728963602,\n",
       " 3070176224,\n",
       " 2841301635,\n",
       " 36419954,\n",
       " 14160389,\n",
       " 460830455,\n",
       " 2343198944,\n",
       " 2970749801,\n",
       " 1636340558,\n",
       " 3220899626,\n",
       " 2750254825,\n",
       " 2285591323,\n",
       " 2928265764,\n",
       " 41600912,\n",
       " 381681453,\n",
       " 2249180048,\n",
       " 3299413138,\n",
       " 31318115,\n",
       " 2208120743,\n",
       " 224739916,\n",
       " 26501213,\n",
       " 211025315,\n",
       " 92597791,\n",
       " 281606811,\n",
       " 2354925032,\n",
       " 105812929,\n",
       " 17528527,\n",
       " 3171824689,\n",
       " 151472012,\n",
       " 23518611,\n",
       " 14116906,\n",
       " 24363198,\n",
       " 2329671530,\n",
       " 87151593,\n",
       " 23440773,\n",
       " 985348537,\n",
       " 2546636072,\n",
       " 717072986,\n",
       " 1510965194,\n",
       " 28028273,\n",
       " 2434082929,\n",
       " 1513221848,\n",
       " 92526801,\n",
       " 1702226689,\n",
       " 3074021110,\n",
       " 739659222,\n",
       " 3107900130,\n",
       " 2386378975,\n",
       " 375742729,\n",
       " 325014410,\n",
       " 411787173,\n",
       " 14469929,\n",
       " 1496833831,\n",
       " 1235881375,\n",
       " 2358980035,\n",
       " 25450073,\n",
       " 3158545621,\n",
       " 369791074,\n",
       " 18440893,\n",
       " 218775788,\n",
       " 60672691,\n",
       " 374699298,\n",
       " 3020853470,\n",
       " 284413065,\n",
       " 2752941304,\n",
       " 1690850126,\n",
       " 2164837584,\n",
       " 196508143,\n",
       " 331685393,\n",
       " 29600873,\n",
       " 33388399,\n",
       " 36607187,\n",
       " 434671764,\n",
       " 17685712,\n",
       " 10641412,\n",
       " 1693482542,\n",
       " 363248329,\n",
       " 1443156703,\n",
       " 1575616646,\n",
       " 109239816,\n",
       " 2723221604,\n",
       " 3281825812,\n",
       " 702585769,\n",
       " 276868806,\n",
       " 2990545984,\n",
       " 764763620,\n",
       " 1691717670,\n",
       " 28850148,\n",
       " 126331438,\n",
       " 596203049,\n",
       " 3214282667,\n",
       " 134510236,\n",
       " 32049460,\n",
       " 624665387,\n",
       " 180091802,\n",
       " 3294836417,\n",
       " 2345876618,\n",
       " 89986405,\n",
       " 471676853,\n",
       " 2887841382,\n",
       " 18858801,\n",
       " 2975482842,\n",
       " 259561471,\n",
       " 2320821690,\n",
       " 2807512092,\n",
       " 125565507,\n",
       " 162411494,\n",
       " 3297272559,\n",
       " 19957340,\n",
       " 2451962965,\n",
       " 2329536224,\n",
       " 50364464,\n",
       " 356704036,\n",
       " 112752050,\n",
       " 3294630693,\n",
       " 202876984,\n",
       " 24537879,\n",
       " 590791391,\n",
       " 17220997,\n",
       " 782589836,\n",
       " 47826340,\n",
       " 285125335,\n",
       " 74730910,\n",
       " 47710124,\n",
       " 3019824482,\n",
       " 191998996,\n",
       " 476509464,\n",
       " 30130137,\n",
       " 1248073086,\n",
       " 637369822,\n",
       " 23141491,\n",
       " 1676851075,\n",
       " 15292902,\n",
       " 743530880,\n",
       " 191199537,\n",
       " 14533238,\n",
       " 135299845,\n",
       " 489990680,\n",
       " 2525428598,\n",
       " 875831312,\n",
       " 885816924,\n",
       " 311377916,\n",
       " 133042870,\n",
       " 95912326,\n",
       " 3037255931,\n",
       " 200309432,\n",
       " 95514455,\n",
       " 3218934380,\n",
       " 1440258450,\n",
       " 34010976,\n",
       " 2724992269,\n",
       " 417863636,\n",
       " 2680745317,\n",
       " 114480007,\n",
       " 224326574,\n",
       " 73674212,\n",
       " 2664211787,\n",
       " 122282792,\n",
       " 2423090431,\n",
       " 320502634,\n",
       " 193720066,\n",
       " 109328955,\n",
       " 512045820,\n",
       " 20657852,\n",
       " 19050933,\n",
       " 2403245724,\n",
       " 2783736254,\n",
       " 16989970,\n",
       " 353671700,\n",
       " 2165372642,\n",
       " 3230565022,\n",
       " 16475223,\n",
       " 86383412,\n",
       " 1372853570,\n",
       " 46822039,\n",
       " 40624651,\n",
       " 2366227951,\n",
       " 2311963597,\n",
       " 45654844,\n",
       " 323446516,\n",
       " 16126694,\n",
       " 2250146256,\n",
       " 20850912,\n",
       " 3019678600,\n",
       " 2399833658,\n",
       " 17375116,\n",
       " 31030273,\n",
       " 436763738,\n",
       " 24636272,\n",
       " 2797975172,\n",
       " 38685317,\n",
       " 308130306,\n",
       " 3028547107,\n",
       " 2802356613,\n",
       " 14536890,\n",
       " 350124101,\n",
       " 187532947,\n",
       " 17365817,\n",
       " 411544489,\n",
       " 142766786,\n",
       " 47689128,\n",
       " 337474844,\n",
       " 26483452,\n",
       " 2345979408,\n",
       " 536903293,\n",
       " 2941352891,\n",
       " 2300102203,\n",
       " 33867913,\n",
       " 17304321,\n",
       " 11146322,\n",
       " 21049116,\n",
       " 1054359732,\n",
       " 18820024,\n",
       " 749669935,\n",
       " 16723669,\n",
       " 46425581,\n",
       " 985985995,\n",
       " 1348116295,\n",
       " 1311529537,\n",
       " 3293373473,\n",
       " 45132254,\n",
       " 155353430,\n",
       " 1641795866,\n",
       " 294862170,\n",
       " 78465165,\n",
       " 420385488,\n",
       " 77012180,\n",
       " 3232968706,\n",
       " 19100194,\n",
       " 89720439,\n",
       " 3302955682,\n",
       " 574798036,\n",
       " 19770043,\n",
       " 377222009,\n",
       " 313525664,\n",
       " 554850266,\n",
       " 33701641,\n",
       " 14773964,\n",
       " 23708942,\n",
       " 15835800,\n",
       " 12884322,\n",
       " 2769226405,\n",
       " 48785721,\n",
       " 2890920067,\n",
       " 2651807617,\n",
       " 1180627544,\n",
       " 26484622,\n",
       " 50259636,\n",
       " 30887033,\n",
       " 253880531,\n",
       " 121813258,\n",
       " 33678240,\n",
       " 336493733,\n",
       " 37726682,\n",
       " 238535104,\n",
       " 3139328349,\n",
       " 219029342,\n",
       " 3115271021,\n",
       " 87483744,\n",
       " 1074885002,\n",
       " 168354298,\n",
       " 71647024,\n",
       " 287194246,\n",
       " 3176824605,\n",
       " 631987447,\n",
       " 2503098770,\n",
       " 1079485218,\n",
       " 23579607,\n",
       " 196602363,\n",
       " 2865541899,\n",
       " 3000632011,\n",
       " 179036742,\n",
       " 2976197609,\n",
       " 343267635,\n",
       " 64072619,\n",
       " 121378193,\n",
       " 206661388,\n",
       " 3004465778,\n",
       " 17804312,\n",
       " 2587511036,\n",
       " 2718638341,\n",
       " 2471452880,\n",
       " 97194793,\n",
       " 3225351896,\n",
       " 2535902826,\n",
       " 296996843,\n",
       " 95459568,\n",
       " 959912893,\n",
       " 2762651155,\n",
       " 2787312817,\n",
       " 389151290,\n",
       " 2773517432,\n",
       " 122458732,\n",
       " 2944164937,\n",
       " 385120105,\n",
       " 713292288,\n",
       " 78395382,\n",
       " 2367325219,\n",
       " 297337197,\n",
       " 67396927,\n",
       " 303142248,\n",
       " 11985682,\n",
       " 1566087175,\n",
       " 464458913,\n",
       " 2210503370,\n",
       " 614246029,\n",
       " 14793788,\n",
       " 138121596,\n",
       " 374806924,\n",
       " 389616318,\n",
       " 379820199,\n",
       " 1198655857,\n",
       " 1904780030,\n",
       " 328249470,\n",
       " 3224884542,\n",
       " 3047937393,\n",
       " 3214529908,\n",
       " 219677367,\n",
       " 172668659,\n",
       " 2831744023,\n",
       " 3035064616,\n",
       " 3179596612,\n",
       " 466333756,\n",
       " 3065914455,\n",
       " 92823926,\n",
       " 994541251,\n",
       " 39775054,\n",
       " 3177408955,\n",
       " 715528057,\n",
       " 15989022,\n",
       " 183192784,\n",
       " 545416726,\n",
       " 13992552,\n",
       " 12251332,\n",
       " 220953858,\n",
       " 2299291716,\n",
       " 140721535,\n",
       " 155746054,\n",
       " 3225950957,\n",
       " 70949821,\n",
       " 3050123548,\n",
       " 1882699663,\n",
       " 2448181273,\n",
       " 36155464,\n",
       " 28072322,\n",
       " 80123213,\n",
       " 81204976,\n",
       " 2310274694,\n",
       " 20939204,\n",
       " 186327114,\n",
       " 40764388,\n",
       " 381508331,\n",
       " 335181321,\n",
       " 233788247,\n",
       " 81525608,\n",
       " 36479097,\n",
       " 1522698907,\n",
       " 118117690,\n",
       " 87412947,\n",
       " 15890153,\n",
       " 338907300,\n",
       " 390866918,\n",
       " 225465292,\n",
       " 3236565574,\n",
       " 67531161,\n",
       " 31363679,\n",
       " 126717253,\n",
       " 60958946,\n",
       " 2341469444,\n",
       " 221774993,\n",
       " 186166920,\n",
       " 276388413,\n",
       " 32981486,\n",
       " 835638086,\n",
       " 246005837,\n",
       " 2862081172,\n",
       " 14472695,\n",
       " 395203241,\n",
       " 47900704,\n",
       " 1612670168,\n",
       " 27621429,\n",
       " 230775287,\n",
       " 3188571865,\n",
       " 2550146486,\n",
       " 323598828,\n",
       " 140906408,\n",
       " 24314821,\n",
       " 181885145,\n",
       " 45036231,\n",
       " 39762378,\n",
       " 194120876,\n",
       " 401443447,\n",
       " 631380804,\n",
       " 15203791,\n",
       " 568980171,\n",
       " 3264789214,\n",
       " 155404351,\n",
       " 2931069277,\n",
       " 2254845301,\n",
       " 2172682461,\n",
       " 82892840,\n",
       " 2781175453,\n",
       " 252679524,\n",
       " 2284014234,\n",
       " 190956129,\n",
       " 247525607,\n",
       " 2238967694,\n",
       " 361319187,\n",
       " 15369049,\n",
       " 3078891395,\n",
       " 1418842788,\n",
       " 43855487,\n",
       " 317902592,\n",
       " 251632443,\n",
       " 350575657,\n",
       " 3293269001,\n",
       " 1380942740,\n",
       " 2865166750,\n",
       " 17132452,\n",
       " 1445763787,\n",
       " 110986551,\n",
       " 2202510348,\n",
       " 2570075156,\n",
       " 3068232680,\n",
       " 19637556,\n",
       " 206692321,\n",
       " 37513862,\n",
       " 3157629854,\n",
       " 360784875,\n",
       " 23237589,\n",
       " 17574296,\n",
       " 750687800,\n",
       " 473227126,\n",
       " 14584927,\n",
       " 1194962714,\n",
       " 597213735,\n",
       " 45607773,\n",
       " 104898022,\n",
       " 2540337912,\n",
       " 236181116,\n",
       " 338474608,\n",
       " 2612423629,\n",
       " 1402533342,\n",
       " 2579819161,\n",
       " 2162843286,\n",
       " 632458788,\n",
       " 1397460546,\n",
       " 2215475485,\n",
       " 19341361,\n",
       " 1700701627,\n",
       " 26570585,\n",
       " 3066075088,\n",
       " 40018751,\n",
       " 3004346448,\n",
       " 349807131,\n",
       " 1595937006,\n",
       " 3206432619,\n",
       " 3207433605,\n",
       " 3177794806,\n",
       " 3207796851,\n",
       " 3183325947,\n",
       " 634246050,\n",
       " 3169717725,\n",
       " 3207675293,\n",
       " 3197918105,\n",
       " 3151476394,\n",
       " 1621741225,\n",
       " 3202181357,\n",
       " 3180760095,\n",
       " 3196245243,\n",
       " 3202376884,\n",
       " 3197788175,\n",
       " 3159656809,\n",
       " 3166037517,\n",
       " 256478435,\n",
       " 183166373,\n",
       " 2859094945,\n",
       " 303735625,\n",
       " 15453445,\n",
       " 130864185,\n",
       " 105150443,\n",
       " 3196689686,\n",
       " 942773174,\n",
       " 355396460,\n",
       " 122095969,\n",
       " 20011098,\n",
       " 403364044,\n",
       " 16090040,\n",
       " 1950891758,\n",
       " 366916273,\n",
       " 3086159597,\n",
       " 345701175,\n",
       " 1128763147,\n",
       " 1426762752,\n",
       " 2355957176,\n",
       " 14109159,\n",
       " 584195022,\n",
       " 3109279532,\n",
       " 218117307,\n",
       " 1104609835,\n",
       " 144551747,\n",
       " 7242102,\n",
       " 9419512,\n",
       " 29646552,\n",
       " 156666863,\n",
       " 3294891952,\n",
       " 133849611,\n",
       " 374961159,\n",
       " 2563773470,\n",
       " 2775713880,\n",
       " 39227449,\n",
       " 17899593,\n",
       " 1355650081,\n",
       " 3033278329,\n",
       " 37773874,\n",
       " 3302637245,\n",
       " 233606438,\n",
       " 3222330378,\n",
       " 21034845,\n",
       " 108654139,\n",
       " 226252568,\n",
       " 18347295,\n",
       " 68911475,\n",
       " 550804307,\n",
       " 17437583,\n",
       " 2865666652,\n",
       " 3227268228,\n",
       " 10246352,\n",
       " 6424252,\n",
       " 179700715,\n",
       " 45312171,\n",
       " 223489042,\n",
       " 265830237,\n",
       " 2305664414,\n",
       " 1410636835,\n",
       " 2821303211,\n",
       " 2445447283,\n",
       " 85678895,\n",
       " 270958410,\n",
       " 228743905,\n",
       " 27134755,\n",
       " 1480063002,\n",
       " 454923339,\n",
       " 22676920,\n",
       " 2290139234,\n",
       " 3013713120,\n",
       " 2221733304,\n",
       " 1474976347,\n",
       " 2540062238,\n",
       " 141177624,\n",
       " 12997952,\n",
       " 16269613,\n",
       " 22445912,\n",
       " 36553959,\n",
       " 16450071,\n",
       " 91337293,\n",
       " 81710054,\n",
       " 20650110,\n",
       " 112725719,\n",
       " 290136364,\n",
       " 3094671137,\n",
       " 41182436,\n",
       " 301644445,\n",
       " 70976994,\n",
       " 44938094,\n",
       " 106541420,\n",
       " 978711343,\n",
       " 1930961490,\n",
       " 15506512,\n",
       " 105323837,\n",
       " 19116165,\n",
       " 2838271322,\n",
       " 276543273,\n",
       " 236891946,\n",
       " 29821560,\n",
       " 130888959,\n",
       " 946100996,\n",
       " 290555237,\n",
       " 108701420,\n",
       " 330799343,\n",
       " 3193384374,\n",
       " 2715827341,\n",
       " 74979251,\n",
       " 268290531,\n",
       " 575481880,\n",
       " 52668944,\n",
       " 3092473354,\n",
       " 18419299,\n",
       " 2831781309,\n",
       " 2513591,\n",
       " 532405773,\n",
       " 1592055570,\n",
       " 364950131,\n",
       " 288921462,\n",
       " 23989221,\n",
       " 14410741,\n",
       " 963182402,\n",
       " 2615827098,\n",
       " 545495421,\n",
       " 468790081,\n",
       " 2508111144,\n",
       " 15934139,\n",
       " 15542360,\n",
       " 820454305,\n",
       " 3169837799,\n",
       " 144559716,\n",
       " 867889794,\n",
       " 2349749900,\n",
       " 127777519,\n",
       " 110604337,\n",
       " 14746910,\n",
       " 362809649,\n",
       " 49571008,\n",
       " 234014245,\n",
       " 2838086740,\n",
       " 1439446945,\n",
       " 17449590,\n",
       " 72978171,\n",
       " 18171729,\n",
       " 34739864,\n",
       " 14208801,\n",
       " 539235905,\n",
       " 326197163,\n",
       " 1702717561,\n",
       " 32948176,\n",
       " 179275414,\n",
       " 637232530,\n",
       " 615051242,\n",
       " 171995960,\n",
       " 3176886177,\n",
       " 1517161411,\n",
       " 22185680,\n",
       " 19914421,\n",
       " 20518767,\n",
       " 2424037092,\n",
       " 2887211104,\n",
       " 554757120,\n",
       " 2997603930,\n",
       " 2998577586,\n",
       " 15953340,\n",
       " 394679474,\n",
       " 15377759,\n",
       " 415647691,\n",
       " 303805459,\n",
       " 21870239,\n",
       " 82234496,\n",
       " 1364657870,\n",
       " 1470804984,\n",
       " 2955194985,\n",
       " 861177404,\n",
       " 399525302,\n",
       " 2577013974,\n",
       " 1636728266,\n",
       " 2283143510,\n",
       " 2510388518,\n",
       " 2214389095,\n",
       " 2303133834,\n",
       " 47000647,\n",
       " 48788453,\n",
       " 23193553,\n",
       " 2534140268,\n",
       " ...]"
      ]
     },
     "execution_count": 19,
     "metadata": {},
     "output_type": "execute_result"
    }
   ],
   "source": [
    "bbl.get_friends_ids(api)"
   ]
  },
  {
   "cell_type": "code",
   "execution_count": 12,
   "metadata": {
    "collapsed": false
   },
   "outputs": [
    {
     "data": {
      "text/plain": [
       "u'RT @finance_agent: Citizens Financial Group Announces Pricing of $1.5 Billion of \\n      Citizens Bank, N.A. Senior Notes http://t.co/foAXVh\\u2026'"
      ]
     },
     "execution_count": 12,
     "metadata": {},
     "output_type": "execute_result"
    }
   ],
   "source": [
    "statuses[0].text"
   ]
  },
  {
   "cell_type": "code",
   "execution_count": 20,
   "metadata": {
    "collapsed": false
   },
   "outputs": [
    {
     "data": {
      "text/plain": [
       "User(follow_request_sent=False, profile_use_background_image=True, _json={u'follow_request_sent': False, u'profile_use_background_image': True, u'profile_text_color': u'333333', u'default_profile_image': False, u'id': 14954908, u'profile_background_image_url_https': u'https://abs.twimg.com/images/themes/theme1/bg.png', u'verified': False, u'profile_location': None, u'profile_image_url_https': u'https://pbs.twimg.com/profile_images/3000085400/62b442b1f19a55362819c3902a85222d_normal.png', u'profile_sidebar_fill_color': u'DDEEF6', u'entities': {u'url': {u'urls': [{u'url': u'http://t.co/3I7TMvtcji', u'indices': [0, 22], u'expanded_url': u'http://quickbase.intuit.com', u'display_url': u'quickbase.intuit.com'}]}, u'description': {u'urls': [{u'url': u'http://t.co/GC4DyJqTTJ', u'indices': [114, 136], u'expanded_url': u'http://bit.ly/djmQyO', u'display_url': u'bit.ly/djmQyO'}]}}, u'followers_count': 4277, u'profile_sidebar_border_color': u'FFFFFF', u'id_str': u'14954908', u'profile_background_color': u'C0DEED', u'listed_count': 304, u'status': {u'contributors': None, u'truncated': False, u'text': u'RT @QuickBaseDuane: What a great time in Chicago.  @IntuitQuickBase users are my heroes. http://t.co/SkMQdVMB8e #EMPOWER2015', u'in_reply_to_status_id': None, u'id': 605476518123458561, u'favorite_count': 0, u'source': u'<a href=\"http://www.hootsuite.com\" rel=\"nofollow\">Hootsuite</a>', u'retweeted': False, u'coordinates': None, u'entities': {u'symbols': [], u'user_mentions': [{u'id': 2767006784, u'indices': [3, 18], u'id_str': u'2767006784', u'screen_name': u'QuickBaseDuane', u'name': u'Duane Gabor'}, {u'id': 14954908, u'indices': [51, 67], u'id_str': u'14954908', u'screen_name': u'IntuitQuickBase', u'name': u'IntuitQuickBase'}], u'hashtags': [{u'indices': [112, 124], u'text': u'EMPOWER2015'}], u'urls': [{u'url': u'http://t.co/SkMQdVMB8e', u'indices': [89, 111], u'expanded_url': u'http://bit.ly/QuickBaseEMPOWER', u'display_url': u'bit.ly/QuickBaseEMPOW\\u2026'}]}, u'in_reply_to_screen_name': None, u'id_str': u'605476518123458561', u'retweet_count': 0, u'in_reply_to_user_id': None, u'favorited': False, u'geo': None, u'in_reply_to_user_id_str': None, u'possibly_sensitive': False, u'lang': u'en', u'created_at': u'Mon Jun 01 20:50:25 +0000 2015', u'in_reply_to_status_id_str': None, u'place': None}, u'is_translation_enabled': False, u'utc_offset': -14400, u'statuses_count': 6872, u'description': u'Helping you Run your #Business, Manage your Teams & #Projects & Increase your #Productivity - The Fast Track blog http://t.co/GC4DyJqTTJ Tweets by @AlexNForbes', u'friends_count': 3163, u'location': u'Cambridge, MA', u'profile_link_color': u'0084B4', u'profile_image_url': u'http://pbs.twimg.com/profile_images/3000085400/62b442b1f19a55362819c3902a85222d_normal.png', u'following': True, u'geo_enabled': False, u'profile_banner_url': u'https://pbs.twimg.com/profile_banners/14954908/1433169672', u'profile_background_image_url': u'http://abs.twimg.com/images/themes/theme1/bg.png', u'name': u'IntuitQuickBase', u'lang': u'en', u'profile_background_tile': False, u'favourites_count': 98, u'screen_name': u'IntuitQuickBase', u'notifications': False, u'url': u'http://t.co/3I7TMvtcji', u'created_at': u'Fri May 30 14:25:10 +0000 2008', u'contributors_enabled': False, u'time_zone': u'Eastern Time (US & Canada)', u'protected': False, u'default_profile': False, u'is_translator': False}, time_zone=u'Eastern Time (US & Canada)', id=14954908, description=u'Helping you Run your #Business, Manage your Teams & #Projects & Increase your #Productivity - The Fast Track blog http://t.co/GC4DyJqTTJ Tweets by @AlexNForbes', _api=<tweepy.api.API object at 0x103163710>, verified=False, profile_location=None, profile_image_url_https=u'https://pbs.twimg.com/profile_images/3000085400/62b442b1f19a55362819c3902a85222d_normal.png', profile_sidebar_fill_color=u'DDEEF6', is_translator=False, geo_enabled=False, entities={u'url': {u'urls': [{u'url': u'http://t.co/3I7TMvtcji', u'indices': [0, 22], u'expanded_url': u'http://quickbase.intuit.com', u'display_url': u'quickbase.intuit.com'}]}, u'description': {u'urls': [{u'url': u'http://t.co/GC4DyJqTTJ', u'indices': [114, 136], u'expanded_url': u'http://bit.ly/djmQyO', u'display_url': u'bit.ly/djmQyO'}]}}, followers_count=4277, protected=False, id_str=u'14954908', default_profile_image=False, listed_count=304, status=Status(contributors=None, truncated=False, text=u'RT @QuickBaseDuane: What a great time in Chicago.  @IntuitQuickBase users are my heroes. http://t.co/SkMQdVMB8e #EMPOWER2015', in_reply_to_status_id=None, id=605476518123458561, favorite_count=0, _api=<tweepy.api.API object at 0x103163710>, source=u'Hootsuite', _json={u'contributors': None, u'truncated': False, u'text': u'RT @QuickBaseDuane: What a great time in Chicago.  @IntuitQuickBase users are my heroes. http://t.co/SkMQdVMB8e #EMPOWER2015', u'in_reply_to_status_id': None, u'id': 605476518123458561, u'favorite_count': 0, u'source': u'<a href=\"http://www.hootsuite.com\" rel=\"nofollow\">Hootsuite</a>', u'retweeted': False, u'coordinates': None, u'entities': {u'symbols': [], u'user_mentions': [{u'id': 2767006784, u'indices': [3, 18], u'id_str': u'2767006784', u'screen_name': u'QuickBaseDuane', u'name': u'Duane Gabor'}, {u'id': 14954908, u'indices': [51, 67], u'id_str': u'14954908', u'screen_name': u'IntuitQuickBase', u'name': u'IntuitQuickBase'}], u'hashtags': [{u'indices': [112, 124], u'text': u'EMPOWER2015'}], u'urls': [{u'url': u'http://t.co/SkMQdVMB8e', u'indices': [89, 111], u'expanded_url': u'http://bit.ly/QuickBaseEMPOWER', u'display_url': u'bit.ly/QuickBaseEMPOW\\u2026'}]}, u'in_reply_to_screen_name': None, u'id_str': u'605476518123458561', u'retweet_count': 0, u'in_reply_to_user_id': None, u'favorited': False, u'geo': None, u'in_reply_to_user_id_str': None, u'possibly_sensitive': False, u'lang': u'en', u'created_at': u'Mon Jun 01 20:50:25 +0000 2015', u'in_reply_to_status_id_str': None, u'place': None}, coordinates=None, entities={u'symbols': [], u'user_mentions': [{u'id': 2767006784, u'indices': [3, 18], u'id_str': u'2767006784', u'screen_name': u'QuickBaseDuane', u'name': u'Duane Gabor'}, {u'id': 14954908, u'indices': [51, 67], u'id_str': u'14954908', u'screen_name': u'IntuitQuickBase', u'name': u'IntuitQuickBase'}], u'hashtags': [{u'indices': [112, 124], u'text': u'EMPOWER2015'}], u'urls': [{u'url': u'http://t.co/SkMQdVMB8e', u'indices': [89, 111], u'expanded_url': u'http://bit.ly/QuickBaseEMPOWER', u'display_url': u'bit.ly/QuickBaseEMPOW\\u2026'}]}, in_reply_to_screen_name=None, id_str=u'605476518123458561', retweet_count=0, in_reply_to_user_id=None, favorited=False, source_url=u'http://www.hootsuite.com', geo=None, in_reply_to_user_id_str=None, possibly_sensitive=False, lang=u'en', created_at=datetime.datetime(2015, 6, 1, 20, 50, 25), in_reply_to_status_id_str=None, place=None, retweeted=False), lang=u'en', utc_offset=-14400, statuses_count=6872, profile_background_color=u'C0DEED', friends_count=3163, profile_link_color=u'0084B4', profile_image_url=u'http://pbs.twimg.com/profile_images/3000085400/62b442b1f19a55362819c3902a85222d_normal.png', notifications=False, favourites_count=98, profile_background_image_url_https=u'https://abs.twimg.com/images/themes/theme1/bg.png', profile_banner_url=u'https://pbs.twimg.com/profile_banners/14954908/1433169672', profile_background_image_url=u'http://abs.twimg.com/images/themes/theme1/bg.png', screen_name=u'IntuitQuickBase', is_translation_enabled=False, profile_background_tile=False, profile_text_color=u'333333', name=u'IntuitQuickBase', url=u'http://t.co/3I7TMvtcji', created_at=datetime.datetime(2008, 5, 30, 14, 25, 10), contributors_enabled=False, location=u'Cambridge, MA', profile_sidebar_border_color=u'FFFFFF', default_profile=False, following=True)"
      ]
     },
     "execution_count": 20,
     "metadata": {},
     "output_type": "execute_result"
    }
   ],
   "source": [
    "bbl.get_user_info(api, 14954908)"
   ]
  },
  {
   "cell_type": "code",
   "execution_count": 40,
   "metadata": {
    "collapsed": false
   },
   "outputs": [],
   "source": [
    "q = api.me()\n",
    "t = api.user_timeline(screen_name = \"bluebirdboost\", count = 200)"
   ]
  },
  {
   "cell_type": "code",
   "execution_count": 45,
   "metadata": {
    "collapsed": false
   },
   "outputs": [
    {
     "data": {
      "text/plain": [
       "199"
      ]
     },
     "execution_count": 45,
     "metadata": {},
     "output_type": "execute_result"
    }
   ],
   "source": [
    "len(t)"
   ]
  },
  {
   "cell_type": "code",
   "execution_count": 6,
   "metadata": {
    "collapsed": false
   },
   "outputs": [],
   "source": [
    "tweet = api.get_status(528430990008803328)"
   ]
  },
  {
   "cell_type": "code",
   "execution_count": 11,
   "metadata": {
    "collapsed": false
   },
   "outputs": [
    {
     "data": {
      "text/plain": [
       "1"
      ]
     },
     "execution_count": 11,
     "metadata": {},
     "output_type": "execute_result"
    }
   ],
   "source": [
    "tweet.retweet_count"
   ]
  },
  {
   "cell_type": "code",
   "execution_count": 12,
   "metadata": {
    "collapsed": false
   },
   "outputs": [
    {
     "data": {
      "text/plain": [
       "11"
      ]
     },
     "execution_count": 12,
     "metadata": {},
     "output_type": "execute_result"
    }
   ],
   "source": [
    "tweet.favorite_count"
   ]
  },
  {
   "cell_type": "code",
   "execution_count": 64,
   "metadata": {
    "collapsed": false
   },
   "outputs": [
    {
     "name": "stdout",
     "output_type": "stream",
     "text": [
      "RT @SlamtMobile: improved run #indiedev  #gamdev http://t.co/zd6SL8FTAf\n"
     ]
    }
   ],
   "source": [
    "retweets= api.home_timeline()\n",
    "print retweets[0].text"
   ]
  },
  {
   "cell_type": "code",
   "execution_count": 46,
   "metadata": {
    "collapsed": false
   },
   "outputs": [
    {
     "name": "stdout",
     "output_type": "stream",
     "text": [
      "[u'JuntaeDeLane', u'digitalpark_', u'marketme', u'DubliAlive', u'givenlondon', u'Brand_Refinery', u'adhutchinson', u'gertwalhof', u'BGillich', u'SMediaDirector', u'RobinSelvy', u'Audj_K', u'WillScottMedia', u'GetAutoTweet', u'donhornsby', u'travelaff', u'TrishKrachun', u'TWTraderCom', u'TellaMedia', u'GordonHewitt2']\n"
     ]
    }
   ],
   "source": [
    "re = [fo.screen_name for fo in followers]\n",
    "print snames"
   ]
  },
  {
   "cell_type": "code",
   "execution_count": 47,
   "metadata": {
    "collapsed": false
   },
   "outputs": [
    {
     "name": "stdout",
     "output_type": "stream",
     "text": [
      "destroyed friendship <built-in function id>\n",
      "destroyed friendship <built-in function id>\n",
      "destroyed friendship <built-in function id>\n",
      "destroyed friendship <built-in function id>\n",
      "destroyed friendship <built-in function id>\n",
      "destroyed friendship <built-in function id>\n",
      "destroyed friendship <built-in function id>\n",
      "destroyed friendship <built-in function id>\n",
      "destroyed friendship <built-in function id>\n",
      "destroyed friendship <built-in function id>\n",
      "destroyed friendship <built-in function id>\n",
      "destroyed friendship <built-in function id>\n",
      "destroyed friendship <built-in function id>\n",
      "destroyed friendship <built-in function id>\n",
      "destroyed friendship <built-in function id>\n",
      "destroyed friendship <built-in function id>\n",
      "destroyed friendship <built-in function id>\n",
      "destroyed friendship <built-in function id>\n",
      "destroyed friendship <built-in function id>\n",
      "destroyed friendship <built-in function id>\n"
     ]
    }
   ],
   "source": [
    "for name in snames:\n",
    "    bbl.remove_follow(name, api)"
   ]
  },
  {
   "cell_type": "code",
   "execution_count": null,
   "metadata": {
    "collapsed": false
   },
   "outputs": [],
   "source": [
    "me = api.me()\n",
    "print me.friends_count\n",
    "print me.followers_count"
   ]
  },
  {
   "cell_type": "code",
   "execution_count": 78,
   "metadata": {
    "collapsed": false
   },
   "outputs": [
    {
     "name": "stdout",
     "output_type": "stream",
     "text": [
      "530045428096851968\n",
      "530043321608306688\n",
      "530043091928236033\n",
      "530043050572382208\n",
      "530043043903463425\n",
      "530042868023701504\n",
      "530042693192515584\n",
      "530042655401869312\n",
      "530042618215157760\n",
      "530042585096937472\n",
      "530042515916095488\n",
      "530042510715125760\n",
      "530042505694547970\n",
      "530042503186382848\n",
      "530042369929129985\n",
      "530042291457884161\n",
      "530042260814331905\n",
      "530042192535224320\n",
      "530042181814591488\n",
      "530042164857044992\n"
     ]
    }
   ],
   "source": [
    "timeline = me.timeline()\n",
    "for el in timeline:\n",
    "    print el.id\n",
    "    api.destroy_status(el.id)"
   ]
  },
  {
   "cell_type": "code",
   "execution_count": 12,
   "metadata": {
    "collapsed": false
   },
   "outputs": [],
   "source": [
    "\n"
   ]
  },
  {
   "cell_type": "code",
   "execution_count": 92,
   "metadata": {
    "collapsed": false
   },
   "outputs": [
    {
     "data": {
      "text/plain": [
       "0"
      ]
     },
     "execution_count": 92,
     "metadata": {},
     "output_type": "execute_result"
    }
   ],
   "source": [
    "me = api.me()\n",
    "me.statuses_count"
   ]
  },
  {
   "cell_type": "code",
   "execution_count": 93,
   "metadata": {
    "collapsed": false
   },
   "outputs": [
    {
     "data": {
      "text/plain": [
       "322"
      ]
     },
     "execution_count": 93,
     "metadata": {},
     "output_type": "execute_result"
    }
   ],
   "source": [
    "me.favourites_count"
   ]
  },
  {
   "cell_type": "code",
   "execution_count": 12,
   "metadata": {
    "collapsed": false
   },
   "outputs": [],
   "source": []
  },
  {
   "cell_type": "code",
   "execution_count": 27,
   "metadata": {
    "collapsed": false
   },
   "outputs": [],
   "source": [
    "class a:\n",
    "    def __init__(self):\n",
    "        self.q = [1,2,3,4]\n",
    "    \n",
    "    def change(self):\n",
    "        b = [1,2,3,4]\n",
    "        a = b\n",
    "        b.pop(1)\n",
    "        print a\n",
    "        qhelp = self.q\n",
    "        qhelp.pop(1)\n",
    "        print self.q\n",
    "    "
   ]
  },
  {
   "cell_type": "code",
   "execution_count": 28,
   "metadata": {
    "collapsed": false
   },
   "outputs": [],
   "source": [
    "a = a()"
   ]
  },
  {
   "cell_type": "code",
   "execution_count": 29,
   "metadata": {
    "collapsed": false
   },
   "outputs": [
    {
     "name": "stdout",
     "output_type": "stream",
     "text": [
      "[1, 2, 3, 4]\n"
     ]
    }
   ],
   "source": [
    "print a.q"
   ]
  },
  {
   "cell_type": "code",
   "execution_count": 30,
   "metadata": {
    "collapsed": false
   },
   "outputs": [
    {
     "name": "stdout",
     "output_type": "stream",
     "text": [
      "[1, 3, 4]\n",
      "[1, 3, 4]\n"
     ]
    }
   ],
   "source": [
    "a.change()"
   ]
  },
  {
   "cell_type": "code",
   "execution_count": 3,
   "metadata": {
    "collapsed": false
   },
   "outputs": [
    {
     "name": "stdout",
     "output_type": "stream",
     "text": [
      "{'internetofthings': 6, 'anomalydetection': 5, 'overview': 2, 'randomforest': 11, 'bigdata': 4, 'infographic': 6, 'predictiveanalytics': 6, 'analyticstool': 4, 'fintech': 11, 'machinelearning': 6, 'transform': 3, 'finance': 3, 'datamining': 3, 'businessstrategy': 4, 'outlierdetection': 5, 'scikit': 6, 'changemanagement': 3, 'unsupervisedlearning': 5, 'fraud': 6, 'prescriptiveanalytics': 11, 'summary': 2, 'deeplearning': 6, 'datavisualization': 5, 'rstudio': 3, 'businessanalytics': 4, 'trading': 3, 'statistic': 6, 'technology': 6, 'dataanalytics': 6, 'hadoop': 5, 'research': 5, 'python': 5, 'innovation': 6, 'datascientist': 5, 'artificialintelligence': 5, 'iot': 5, 'neuralnetwork': 11, 'manufacturing': 3, 'dimensionalityreduction': 5, 'credit': 3, 'supervisedlearning': 5, 'datascience': 6}\n"
     ]
    },
    {
     "data": {
      "text/plain": [
       "5"
      ]
     },
     "execution_count": 3,
     "metadata": {},
     "output_type": "execute_result"
    }
   ],
   "source": [
    "import sys\n",
    "sys.path.append(\"../accounts/AlexanderD_Beck/\")\n",
    "import config as cfg\n",
    "bba.set_cfg(cfg)\n",
    "bba.initialize()\n",
    "bba.score_tweets(\"HCA and TUCO respond to ODI research | Cost Sector Catering\")"
   ]
  },
  {
   "cell_type": "code",
   "execution_count": null,
   "metadata": {
    "collapsed": true
   },
   "outputs": [],
   "source": []
  }
 ],
 "metadata": {
  "kernelspec": {
   "display_name": "Python 2",
   "language": "python",
   "name": "python2"
  },
  "language_info": {
   "codemirror_mode": {
    "name": "ipython",
    "version": 2
   },
   "file_extension": ".py",
   "mimetype": "text/x-python",
   "name": "python",
   "nbconvert_exporter": "python",
   "pygments_lexer": "ipython2",
   "version": "2.7.9"
  }
 },
 "nbformat": 4,
 "nbformat_minor": 0
}
