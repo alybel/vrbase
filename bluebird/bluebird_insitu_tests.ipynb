{
 "cells": [
  {
   "cell_type": "code",
   "execution_count": 1,
   "metadata": {
    "collapsed": false
   },
   "outputs": [],
   "source": [
    "import bblib as bbl\n",
    "import bbanalytics as bba\n",
    "%load_ext autoreload\n",
    "%autoreload 2"
   ]
  },
  {
   "cell_type": "code",
   "execution_count": 5,
   "metadata": {
    "collapsed": false
   },
   "outputs": [],
   "source": [
    "auth, api = bbl.connect_app_to_twitter()"
   ]
  },
  {
   "cell_type": "code",
   "execution_count": 6,
   "metadata": {
    "collapsed": false
   },
   "outputs": [],
   "source": [
    "statuses = bbl.get_statuses(api)"
   ]
  },
  {
   "cell_type": "code",
   "execution_count": 12,
   "metadata": {
    "collapsed": false
   },
   "outputs": [
    {
     "data": {
      "text/plain": [
       "u'RT @finance_agent: Citizens Financial Group Announces Pricing of $1.5 Billion of \\n      Citizens Bank, N.A. Senior Notes http://t.co/foAXVh\\u2026'"
      ]
     },
     "execution_count": 12,
     "metadata": {},
     "output_type": "execute_result"
    }
   ],
   "source": [
    "statuses[0].text"
   ]
  },
  {
   "cell_type": "code",
   "execution_count": 40,
   "metadata": {
    "collapsed": false
   },
   "outputs": [],
   "source": [
    "q = api.me()\n",
    "t = api.user_timeline(screen_name = \"bluebirdboost\", count = 200)"
   ]
  },
  {
   "cell_type": "code",
   "execution_count": 45,
   "metadata": {
    "collapsed": false
   },
   "outputs": [
    {
     "data": {
      "text/plain": [
       "199"
      ]
     },
     "execution_count": 45,
     "metadata": {},
     "output_type": "execute_result"
    }
   ],
   "source": [
    "len(t)"
   ]
  },
  {
   "cell_type": "code",
   "execution_count": 6,
   "metadata": {
    "collapsed": false
   },
   "outputs": [],
   "source": [
    "tweet = api.get_status(528430990008803328)"
   ]
  },
  {
   "cell_type": "code",
   "execution_count": 11,
   "metadata": {
    "collapsed": false
   },
   "outputs": [
    {
     "data": {
      "text/plain": [
       "1"
      ]
     },
     "execution_count": 11,
     "metadata": {},
     "output_type": "execute_result"
    }
   ],
   "source": [
    "tweet.retweet_count"
   ]
  },
  {
   "cell_type": "code",
   "execution_count": 12,
   "metadata": {
    "collapsed": false
   },
   "outputs": [
    {
     "data": {
      "text/plain": [
       "11"
      ]
     },
     "execution_count": 12,
     "metadata": {},
     "output_type": "execute_result"
    }
   ],
   "source": [
    "tweet.favorite_count"
   ]
  },
  {
   "cell_type": "code",
   "execution_count": 64,
   "metadata": {
    "collapsed": false
   },
   "outputs": [
    {
     "name": "stdout",
     "output_type": "stream",
     "text": [
      "RT @SlamtMobile: improved run #indiedev  #gamdev http://t.co/zd6SL8FTAf\n"
     ]
    }
   ],
   "source": [
    "retweets= api.home_timeline()\n",
    "print retweets[0].text"
   ]
  },
  {
   "cell_type": "code",
   "execution_count": 46,
   "metadata": {
    "collapsed": false
   },
   "outputs": [
    {
     "name": "stdout",
     "output_type": "stream",
     "text": [
      "[u'JuntaeDeLane', u'digitalpark_', u'marketme', u'DubliAlive', u'givenlondon', u'Brand_Refinery', u'adhutchinson', u'gertwalhof', u'BGillich', u'SMediaDirector', u'RobinSelvy', u'Audj_K', u'WillScottMedia', u'GetAutoTweet', u'donhornsby', u'travelaff', u'TrishKrachun', u'TWTraderCom', u'TellaMedia', u'GordonHewitt2']\n"
     ]
    }
   ],
   "source": [
    "re = [fo.screen_name for fo in followers]\n",
    "print snames"
   ]
  },
  {
   "cell_type": "code",
   "execution_count": 47,
   "metadata": {
    "collapsed": false
   },
   "outputs": [
    {
     "name": "stdout",
     "output_type": "stream",
     "text": [
      "destroyed friendship <built-in function id>\n",
      "destroyed friendship <built-in function id>\n",
      "destroyed friendship <built-in function id>\n",
      "destroyed friendship <built-in function id>\n",
      "destroyed friendship <built-in function id>\n",
      "destroyed friendship <built-in function id>\n",
      "destroyed friendship <built-in function id>\n",
      "destroyed friendship <built-in function id>\n",
      "destroyed friendship <built-in function id>\n",
      "destroyed friendship <built-in function id>\n",
      "destroyed friendship <built-in function id>\n",
      "destroyed friendship <built-in function id>\n",
      "destroyed friendship <built-in function id>\n",
      "destroyed friendship <built-in function id>\n",
      "destroyed friendship <built-in function id>\n",
      "destroyed friendship <built-in function id>\n",
      "destroyed friendship <built-in function id>\n",
      "destroyed friendship <built-in function id>\n",
      "destroyed friendship <built-in function id>\n",
      "destroyed friendship <built-in function id>\n"
     ]
    }
   ],
   "source": [
    "for name in snames:\n",
    "    bbl.remove_follow(name, api)"
   ]
  },
  {
   "cell_type": "code",
   "execution_count": null,
   "metadata": {
    "collapsed": false
   },
   "outputs": [],
   "source": [
    "me = api.me()\n",
    "print me.friends_count\n",
    "print me.followers_count"
   ]
  },
  {
   "cell_type": "code",
   "execution_count": 78,
   "metadata": {
    "collapsed": false
   },
   "outputs": [
    {
     "name": "stdout",
     "output_type": "stream",
     "text": [
      "530045428096851968\n",
      "530043321608306688\n",
      "530043091928236033\n",
      "530043050572382208\n",
      "530043043903463425\n",
      "530042868023701504\n",
      "530042693192515584\n",
      "530042655401869312\n",
      "530042618215157760\n",
      "530042585096937472\n",
      "530042515916095488\n",
      "530042510715125760\n",
      "530042505694547970\n",
      "530042503186382848\n",
      "530042369929129985\n",
      "530042291457884161\n",
      "530042260814331905\n",
      "530042192535224320\n",
      "530042181814591488\n",
      "530042164857044992\n"
     ]
    }
   ],
   "source": [
    "timeline = me.timeline()\n",
    "for el in timeline:\n",
    "    print el.id\n",
    "    api.destroy_status(el.id)"
   ]
  },
  {
   "cell_type": "code",
   "execution_count": 12,
   "metadata": {
    "collapsed": false
   },
   "outputs": [],
   "source": [
    "\n"
   ]
  },
  {
   "cell_type": "code",
   "execution_count": 92,
   "metadata": {
    "collapsed": false
   },
   "outputs": [
    {
     "data": {
      "text/plain": [
       "0"
      ]
     },
     "execution_count": 92,
     "metadata": {},
     "output_type": "execute_result"
    }
   ],
   "source": [
    "me = api.me()\n",
    "me.statuses_count"
   ]
  },
  {
   "cell_type": "code",
   "execution_count": 93,
   "metadata": {
    "collapsed": false
   },
   "outputs": [
    {
     "data": {
      "text/plain": [
       "322"
      ]
     },
     "execution_count": 93,
     "metadata": {},
     "output_type": "execute_result"
    }
   ],
   "source": [
    "me.favourites_count"
   ]
  },
  {
   "cell_type": "code",
   "execution_count": 12,
   "metadata": {
    "collapsed": false
   },
   "outputs": [],
   "source": []
  },
  {
   "cell_type": "code",
   "execution_count": 27,
   "metadata": {
    "collapsed": false
   },
   "outputs": [],
   "source": [
    "class a:\n",
    "    def __init__(self):\n",
    "        self.q = [1,2,3,4]\n",
    "    \n",
    "    def change(self):\n",
    "        b = [1,2,3,4]\n",
    "        a = b\n",
    "        b.pop(1)\n",
    "        print a\n",
    "        qhelp = self.q\n",
    "        qhelp.pop(1)\n",
    "        print self.q\n",
    "    "
   ]
  },
  {
   "cell_type": "code",
   "execution_count": 28,
   "metadata": {
    "collapsed": false
   },
   "outputs": [],
   "source": [
    "a = a()"
   ]
  },
  {
   "cell_type": "code",
   "execution_count": 29,
   "metadata": {
    "collapsed": false
   },
   "outputs": [
    {
     "name": "stdout",
     "output_type": "stream",
     "text": [
      "[1, 2, 3, 4]\n"
     ]
    }
   ],
   "source": [
    "print a.q"
   ]
  },
  {
   "cell_type": "code",
   "execution_count": 30,
   "metadata": {
    "collapsed": false
   },
   "outputs": [
    {
     "name": "stdout",
     "output_type": "stream",
     "text": [
      "[1, 3, 4]\n",
      "[1, 3, 4]\n"
     ]
    }
   ],
   "source": [
    "a.change()"
   ]
  },
  {
   "cell_type": "code",
   "execution_count": 7,
   "metadata": {
    "collapsed": false
   },
   "outputs": [
    {
     "name": "stdout",
     "output_type": "stream",
     "text": [
      "{'internetofthings': 6, 'anomalydetection': 5, 'overview': 2, 'randomforest': 11, 'bigdata': 4, 'infographic': 6, 'predictiveanalytics': 6, 'analyticstool': 4, 'fintech': 11, 'machinelearning': 6, 'transform': 3, 'finance': 3, 'datamining': 3, 'businessstrategy': 4, 'outlierdetection': 5, 'scikit': 6, 'changemanagement': 3, 'unsupervisedlearning': 5, 'fraud': 6, 'prescriptiveanalytics': 11, 'summary': 2, 'deeplearning': 6, 'datavisualization': 5, 'rstudio': 3, 'businessanalytics': 4, 'trading': 3, 'statistic': 6, 'technology': 6, 'dataanalytics': 6, 'hadoop': 5, 'research': 5, 'python': 5, 'innovation': 6, 'datascientist': 5, 'artificialintelligence': 5, 'iot': 5, 'neuralnetwork': 11, 'manufacturing': 3, 'dimensionalityreduction': 5, 'credit': 3, 'supervisedlearning': 5, 'datascience': 6}\n"
     ]
    },
    {
     "data": {
      "text/plain": [
       "12"
      ]
     },
     "execution_count": 7,
     "metadata": {},
     "output_type": "execute_result"
    }
   ],
   "source": [
    "import sys\n",
    "sys.path.append(\"../accounts/AlexanderD_Beck/\")\n",
    "import config as cfg\n",
    "bba.set_cfg(cfg)\n",
    "bba.initialize()\n",
    "bba.score_tweets(\"Technology Innovations\")"
   ]
  },
  {
   "cell_type": "code",
   "execution_count": null,
   "metadata": {
    "collapsed": true
   },
   "outputs": [],
   "source": []
  }
 ],
 "metadata": {
  "kernelspec": {
   "display_name": "Python 2",
   "language": "python",
   "name": "python2"
  },
  "language_info": {
   "codemirror_mode": {
    "name": "ipython",
    "version": 2
   },
   "file_extension": ".py",
   "mimetype": "text/x-python",
   "name": "python",
   "nbconvert_exporter": "python",
   "pygments_lexer": "ipython2",
   "version": "2.7.9"
  }
 },
 "nbformat": 4,
 "nbformat_minor": 0
}
