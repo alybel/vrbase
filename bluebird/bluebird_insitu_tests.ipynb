{
 "metadata": {
  "name": "",
  "signature": "sha256:111c9b26ac041e218aa90b362b10058f9055843bb2b0aced255b46ff967f806a"
 },
 "nbformat": 3,
 "nbformat_minor": 0,
 "worksheets": [
  {
   "cells": [
    {
     "cell_type": "code",
     "collapsed": false,
     "input": [
      "import bblib as bbl\n",
      "import bbanalytics as bba\n",
      "%load_ext autoreload\n",
      "%autoreload 2"
     ],
     "language": "python",
     "metadata": {},
     "outputs": [],
     "prompt_number": 4
    },
    {
     "cell_type": "code",
     "collapsed": false,
     "input": [
      "auth, api = bbl.connect_app_to_twitter()"
     ],
     "language": "python",
     "metadata": {},
     "outputs": [],
     "prompt_number": 5
    },
    {
     "cell_type": "code",
     "collapsed": false,
     "input": [
      "statuses = bbl.get_statuses(api)"
     ],
     "language": "python",
     "metadata": {},
     "outputs": [],
     "prompt_number": 6
    },
    {
     "cell_type": "code",
     "collapsed": false,
     "input": [
      "statuses[0].text"
     ],
     "language": "python",
     "metadata": {},
     "outputs": [
      {
       "metadata": {},
       "output_type": "pyout",
       "prompt_number": 12,
       "text": [
        "u'RT @finance_agent: Citizens Financial Group Announces Pricing of $1.5 Billion of \\n      Citizens Bank, N.A. Senior Notes http://t.co/foAXVh\\u2026'"
       ]
      }
     ],
     "prompt_number": 12
    },
    {
     "cell_type": "raw",
     "metadata": {},
     "source": []
    },
    {
     "cell_type": "code",
     "collapsed": false,
     "input": [
      "q = api.me()\n",
      "t = api.user_timeline(screen_name = \"bluebirdboost\", count = 200)"
     ],
     "language": "python",
     "metadata": {},
     "outputs": [],
     "prompt_number": 40
    },
    {
     "cell_type": "code",
     "collapsed": false,
     "input": [
      "len(t)"
     ],
     "language": "python",
     "metadata": {},
     "outputs": [
      {
       "metadata": {},
       "output_type": "pyout",
       "prompt_number": 45,
       "text": [
        "199"
       ]
      }
     ],
     "prompt_number": 45
    },
    {
     "cell_type": "code",
     "collapsed": false,
     "input": [
      "t2 = api.user_timeline(screen_name = \"bluebirdboost\", count = 200, max_id = 530066823254147073)"
     ],
     "language": "python",
     "metadata": {},
     "outputs": [],
     "prompt_number": 50
    },
    {
     "cell_type": "code",
     "collapsed": false,
     "input": [
      "t2[-1].id"
     ],
     "language": "python",
     "metadata": {},
     "outputs": [
      {
       "metadata": {},
       "output_type": "pyout",
       "prompt_number": 53,
       "text": [
        "530066823254147073"
       ]
      }
     ],
     "prompt_number": 53
    },
    {
     "cell_type": "code",
     "collapsed": false,
     "input": [
      "[el.id for el in q]"
     ],
     "language": "python",
     "metadata": {},
     "outputs": [
      {
       "metadata": {},
       "output_type": "pyout",
       "prompt_number": 6,
       "text": [
        "[163715778,\n",
        " 175051465,\n",
        " 2321486413,\n",
        " 1242637776,\n",
        " 2235560467,\n",
        " 2895978157,\n",
        " 846871074,\n",
        " 871087154,\n",
        " 96684068,\n",
        " 51752365,\n",
        " 2499160524,\n",
        " 2541962790,\n",
        " 256990323,\n",
        " 24915870,\n",
        " 1633561777,\n",
        " 68659794,\n",
        " 37488280,\n",
        " 2806554471,\n",
        " 114678997,\n",
        " 88051576]"
       ]
      }
     ],
     "prompt_number": 6
    },
    {
     "cell_type": "code",
     "collapsed": false,
     "input": [
      "tweet = api.get_status(528430990008803328)"
     ],
     "language": "python",
     "metadata": {},
     "outputs": [],
     "prompt_number": 6
    },
    {
     "cell_type": "code",
     "collapsed": false,
     "input": [
      "tweet.retweet_count"
     ],
     "language": "python",
     "metadata": {},
     "outputs": [
      {
       "metadata": {},
       "output_type": "pyout",
       "prompt_number": 11,
       "text": [
        "1"
       ]
      }
     ],
     "prompt_number": 11
    },
    {
     "cell_type": "code",
     "collapsed": false,
     "input": [
      "tweet.favorite_count"
     ],
     "language": "python",
     "metadata": {},
     "outputs": [
      {
       "metadata": {},
       "output_type": "pyout",
       "prompt_number": 12,
       "text": [
        "11"
       ]
      }
     ],
     "prompt_number": 12
    },
    {
     "cell_type": "code",
     "collapsed": false,
     "input": [
      "retweets= api.home_timeline()\n",
      "print retweets[0].text"
     ],
     "language": "python",
     "metadata": {},
     "outputs": [
      {
       "output_type": "stream",
       "stream": "stdout",
       "text": [
        "RT @SlamtMobile: improved run #indiedev  #gamdev http://t.co/zd6SL8FTAf\n"
       ]
      }
     ],
     "prompt_number": 64
    },
    {
     "cell_type": "code",
     "collapsed": false,
     "input": [
      "re = [fo.screen_name for fo in followers]\n",
      "print snames"
     ],
     "language": "python",
     "metadata": {},
     "outputs": [
      {
       "output_type": "stream",
       "stream": "stdout",
       "text": [
        "[u'JuntaeDeLane', u'digitalpark_', u'marketme', u'DubliAlive', u'givenlondon', u'Brand_Refinery', u'adhutchinson', u'gertwalhof', u'BGillich', u'SMediaDirector', u'RobinSelvy', u'Audj_K', u'WillScottMedia', u'GetAutoTweet', u'donhornsby', u'travelaff', u'TrishKrachun', u'TWTraderCom', u'TellaMedia', u'GordonHewitt2']\n"
       ]
      }
     ],
     "prompt_number": 46
    },
    {
     "cell_type": "code",
     "collapsed": false,
     "input": [
      "for name in snames:\n",
      "    bbl.remove_follow(name, api)"
     ],
     "language": "python",
     "metadata": {},
     "outputs": [
      {
       "output_type": "stream",
       "stream": "stdout",
       "text": [
        "destroyed friendship <built-in function id>\n",
        "destroyed friendship"
       ]
      },
      {
       "output_type": "stream",
       "stream": "stdout",
       "text": [
        " <built-in function id>\n",
        "destroyed friendship"
       ]
      },
      {
       "output_type": "stream",
       "stream": "stdout",
       "text": [
        " <built-in function id>\n",
        "destroyed friendship"
       ]
      },
      {
       "output_type": "stream",
       "stream": "stdout",
       "text": [
        " <built-in function id>\n",
        "destroyed friendship"
       ]
      },
      {
       "output_type": "stream",
       "stream": "stdout",
       "text": [
        " <built-in function id>\n",
        "destroyed friendship"
       ]
      },
      {
       "output_type": "stream",
       "stream": "stdout",
       "text": [
        " <built-in function id>\n",
        "destroyed friendship"
       ]
      },
      {
       "output_type": "stream",
       "stream": "stdout",
       "text": [
        " <built-in function id>\n",
        "destroyed friendship"
       ]
      },
      {
       "output_type": "stream",
       "stream": "stdout",
       "text": [
        " <built-in function id>\n",
        "destroyed friendship"
       ]
      },
      {
       "output_type": "stream",
       "stream": "stdout",
       "text": [
        " <built-in function id>\n",
        "destroyed friendship"
       ]
      },
      {
       "output_type": "stream",
       "stream": "stdout",
       "text": [
        " <built-in function id>\n",
        "destroyed friendship"
       ]
      },
      {
       "output_type": "stream",
       "stream": "stdout",
       "text": [
        " <built-in function id>\n",
        "destroyed friendship"
       ]
      },
      {
       "output_type": "stream",
       "stream": "stdout",
       "text": [
        " <built-in function id>\n",
        "destroyed friendship"
       ]
      },
      {
       "output_type": "stream",
       "stream": "stdout",
       "text": [
        " <built-in function id>\n",
        "destroyed friendship"
       ]
      },
      {
       "output_type": "stream",
       "stream": "stdout",
       "text": [
        " <built-in function id>\n",
        "destroyed friendship"
       ]
      },
      {
       "output_type": "stream",
       "stream": "stdout",
       "text": [
        " <built-in function id>\n",
        "destroyed friendship"
       ]
      },
      {
       "output_type": "stream",
       "stream": "stdout",
       "text": [
        " <built-in function id>\n",
        "destroyed friendship"
       ]
      },
      {
       "output_type": "stream",
       "stream": "stdout",
       "text": [
        " <built-in function id>\n",
        "destroyed friendship"
       ]
      },
      {
       "output_type": "stream",
       "stream": "stdout",
       "text": [
        " <built-in function id>\n",
        "destroyed friendship"
       ]
      },
      {
       "output_type": "stream",
       "stream": "stdout",
       "text": [
        " <built-in function id>\n",
        "destroyed friendship"
       ]
      },
      {
       "output_type": "stream",
       "stream": "stdout",
       "text": [
        " <built-in function id>\n"
       ]
      }
     ],
     "prompt_number": 47
    },
    {
     "cell_type": "code",
     "collapsed": false,
     "input": [
      "me = api.me()\n",
      "print me.friends_count\n",
      "print me.followers_count"
     ],
     "language": "python",
     "metadata": {},
     "outputs": []
    },
    {
     "cell_type": "code",
     "collapsed": false,
     "input": [
      "timeline = me.timeline()\n",
      "for el in timeline:\n",
      "    print el.id\n",
      "    api.destroy_status(el.id)"
     ],
     "language": "python",
     "metadata": {},
     "outputs": [
      {
       "output_type": "stream",
       "stream": "stdout",
       "text": [
        "530045428096851968\n",
        "530043321608306688"
       ]
      },
      {
       "output_type": "stream",
       "stream": "stdout",
       "text": [
        "\n",
        "530043091928236033"
       ]
      },
      {
       "output_type": "stream",
       "stream": "stdout",
       "text": [
        "\n",
        "530043050572382208"
       ]
      },
      {
       "output_type": "stream",
       "stream": "stdout",
       "text": [
        "\n",
        "530043043903463425"
       ]
      },
      {
       "output_type": "stream",
       "stream": "stdout",
       "text": [
        "\n",
        "530042868023701504"
       ]
      },
      {
       "output_type": "stream",
       "stream": "stdout",
       "text": [
        "\n",
        "530042693192515584"
       ]
      },
      {
       "output_type": "stream",
       "stream": "stdout",
       "text": [
        "\n",
        "530042655401869312"
       ]
      },
      {
       "output_type": "stream",
       "stream": "stdout",
       "text": [
        "\n",
        "530042618215157760"
       ]
      },
      {
       "output_type": "stream",
       "stream": "stdout",
       "text": [
        "\n",
        "530042585096937472"
       ]
      },
      {
       "output_type": "stream",
       "stream": "stdout",
       "text": [
        "\n",
        "530042515916095488"
       ]
      },
      {
       "output_type": "stream",
       "stream": "stdout",
       "text": [
        "\n",
        "530042510715125760"
       ]
      },
      {
       "output_type": "stream",
       "stream": "stdout",
       "text": [
        "\n",
        "530042505694547970"
       ]
      },
      {
       "output_type": "stream",
       "stream": "stdout",
       "text": [
        "\n",
        "530042503186382848"
       ]
      },
      {
       "output_type": "stream",
       "stream": "stdout",
       "text": [
        "\n",
        "530042369929129985"
       ]
      },
      {
       "output_type": "stream",
       "stream": "stdout",
       "text": [
        "\n",
        "530042291457884161"
       ]
      },
      {
       "output_type": "stream",
       "stream": "stdout",
       "text": [
        "\n",
        "530042260814331905"
       ]
      },
      {
       "output_type": "stream",
       "stream": "stdout",
       "text": [
        "\n",
        "530042192535224320"
       ]
      },
      {
       "output_type": "stream",
       "stream": "stdout",
       "text": [
        "\n",
        "530042181814591488"
       ]
      },
      {
       "output_type": "stream",
       "stream": "stdout",
       "text": [
        "\n",
        "530042164857044992"
       ]
      },
      {
       "output_type": "stream",
       "stream": "stdout",
       "text": [
        "\n"
       ]
      }
     ],
     "prompt_number": 78
    },
    {
     "cell_type": "code",
     "collapsed": false,
     "input": [
      "\n"
     ],
     "language": "python",
     "metadata": {},
     "outputs": [],
     "prompt_number": 12
    },
    {
     "cell_type": "code",
     "collapsed": false,
     "input": [
      "me = api.me()\n",
      "me.statuses_count"
     ],
     "language": "python",
     "metadata": {},
     "outputs": [
      {
       "metadata": {},
       "output_type": "pyout",
       "prompt_number": 92,
       "text": [
        "0"
       ]
      }
     ],
     "prompt_number": 92
    },
    {
     "cell_type": "code",
     "collapsed": false,
     "input": [
      "me.favourites_count"
     ],
     "language": "python",
     "metadata": {},
     "outputs": [
      {
       "metadata": {},
       "output_type": "pyout",
       "prompt_number": 93,
       "text": [
        "322"
       ]
      }
     ],
     "prompt_number": 93
    },
    {
     "cell_type": "code",
     "collapsed": false,
     "input": [],
     "language": "python",
     "metadata": {},
     "outputs": [],
     "prompt_number": 12
    },
    {
     "cell_type": "code",
     "collapsed": false,
     "input": [
      "class a:\n",
      "    def __init__(self):\n",
      "        self.q = [1,2,3,4]\n",
      "    \n",
      "    def change(self):\n",
      "        b = [1,2,3,4]\n",
      "        a = b\n",
      "        b.pop(1)\n",
      "        print a\n",
      "        qhelp = self.q\n",
      "        qhelp.pop(1)\n",
      "        print self.q\n",
      "    "
     ],
     "language": "python",
     "metadata": {},
     "outputs": [],
     "prompt_number": 27
    },
    {
     "cell_type": "code",
     "collapsed": false,
     "input": [
      "a = a()"
     ],
     "language": "python",
     "metadata": {},
     "outputs": [],
     "prompt_number": 28
    },
    {
     "cell_type": "code",
     "collapsed": false,
     "input": [
      "print a.q"
     ],
     "language": "python",
     "metadata": {},
     "outputs": [
      {
       "output_type": "stream",
       "stream": "stdout",
       "text": [
        "[1, 2, 3, 4]\n"
       ]
      }
     ],
     "prompt_number": 29
    },
    {
     "cell_type": "code",
     "collapsed": false,
     "input": [
      "a.change()"
     ],
     "language": "python",
     "metadata": {},
     "outputs": [
      {
       "output_type": "stream",
       "stream": "stdout",
       "text": [
        "[1, 3, 4]\n",
        "[1, 3, 4]\n"
       ]
      }
     ],
     "prompt_number": 30
    },
    {
     "cell_type": "code",
     "collapsed": false,
     "input": [],
     "language": "python",
     "metadata": {},
     "outputs": []
    }
   ],
   "metadata": {}
  }
 ]
}