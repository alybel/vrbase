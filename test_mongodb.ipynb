{
 "cells": [
  {
   "cell_type": "code",
   "execution_count": 2,
   "metadata": {
    "collapsed": false
   },
   "outputs": [],
   "source": [
    "import sys\n",
    "from pymongo import MongoClient\n",
    "sys.path.append(\"bluebird/\")\n",
    "import bblib as bbl\n",
    "import bbanalytics as bba\n",
    "%load_ext autoreload\n",
    "%autoreload 2\n",
    "import json\n",
    "\n",
    "sys.path.append(\"accounts/AlexanderD_Beck/\")\n",
    "import config as cfg\n",
    "bbl.set_cfg(cfg)\n",
    "auth, api = bbl.connect_app_to_twitter()\n",
    "#establish ssh tunnel: ssh -f alex@213.239.216.227 -L 27017:localhost:27017 -N"
   ]
  },
  {
   "cell_type": "code",
   "execution_count": 3,
   "metadata": {
    "collapsed": true
   },
   "outputs": [],
   "source": [
    "client = MongoClient(\"mongodb://localhost:27017\")"
   ]
  },
  {
   "cell_type": "code",
   "execution_count": 4,
   "metadata": {
    "collapsed": true
   },
   "outputs": [],
   "source": [
    "db = client.friends"
   ]
  },
  {
   "cell_type": "code",
   "execution_count": 5,
   "metadata": {
    "collapsed": false
   },
   "outputs": [],
   "source": [
    "def update_to_mongodb(info, own_twitter_name):\n",
    "    info._json[\"_id\"] = info.id\n",
    "    result = db[own_twitter_name].update_one(\n",
    "        {\"_id\": info.id},\n",
    "            {\n",
    "            \"$set\":info._json,\n",
    "            \"$currentDate\": {\"lastModified\": True}\n",
    "             },\n",
    "    upsert = True)\n",
    "    return result"
   ]
  },
  {
   "cell_type": "code",
   "execution_count": 34,
   "metadata": {
    "collapsed": false
   },
   "outputs": [],
   "source": [
    "for el in x:\n",
    "    update_to_mongodb(el, \"AlexanderD_Beck\")"
   ]
  },
  {
   "cell_type": "code",
   "execution_count": 37,
   "metadata": {
    "collapsed": false
   },
   "outputs": [],
   "source": [
    "ids = [el.id for el in x]"
   ]
  },
  {
   "cell_type": "code",
   "execution_count": 40,
   "metadata": {
    "collapsed": false
   },
   "outputs": [
    {
     "data": {
      "text/plain": [
       "1799"
      ]
     },
     "execution_count": 40,
     "metadata": {},
     "output_type": "execute_result"
    }
   ],
   "source": [
    "len(set(ids))"
   ]
  },
  {
   "cell_type": "code",
   "execution_count": 32,
   "metadata": {
    "collapsed": false
   },
   "outputs": [
    {
     "name": "stdout",
     "output_type": "stream",
     "text": [
      "test\n"
     ]
    }
   ],
   "source": [
    "result = update_to_mongodb(x[0], \"AlexanderD_Beck\")"
   ]
  },
  {
   "cell_type": "code",
   "execution_count": 10,
   "metadata": {
    "collapsed": false
   },
   "outputs": [],
   "source": [
    "test_friend = {u'blocked_by': False,\n",
    " u'blocking': False,\n",
    " u'contributors_enabled': False,\n",
    " u'created_at': u'Thu Oct 20 15:15:05 +0000 2011',\n",
    " u'default_profile': True,\n",
    " u'default_profile_image': False,\n",
    " u'description': u'Experienced, commercially minded Finance Director.\\n\\nCook, traveller, brewer and F1 fan.',\n",
    " u'entities': {u'description': {u'urls': []}},\n",
    " u'favourites_count': 197,\n",
    " u'follow_request_sent': False,\n",
    " u'followers_count': 193,\n",
    " u'following': True,\n",
    " u'friends_count': 365,\n",
    " u'geo_enabled': False,\n",
    " u'id': 394741642,\n",
    " u'id_str': u'394741642',\n",
    " u'is_translation_enabled': False,\n",
    " u'is_translator': False,\n",
    " u'lang': u'en',\n",
    " u'listed_count': 10,\n",
    " u'location': u'',\n",
    " u'muting': False,\n",
    " u'name': u'Scot Ramsay',\n",
    " u'notifications': False,\n",
    " u'profile_background_color': u'C0DEED',\n",
    " u'profile_background_image_url': u'http://abs.twimg.com/images/themes/theme1/bg.png',\n",
    " u'profile_background_image_url_https': u'https://abs.twimg.com/images/themes/theme1/bg.png',\n",
    " u'profile_background_tile': False,\n",
    " u'profile_banner_url': u'https://pbs.twimg.com/profile_banners/394741642/1384278191',\n",
    " u'profile_image_url': u'http://pbs.twimg.com/profile_images/2669733663/85ec9b06928277e12e674f80878f1c1b_normal.jpeg',\n",
    " u'profile_image_url_https': u'https://pbs.twimg.com/profile_images/2669733663/85ec9b06928277e12e674f80878f1c1b_normal.jpeg',\n",
    " u'profile_link_color': u'0084B4',\n",
    " u'profile_sidebar_border_color': u'C0DEED',\n",
    " u'profile_sidebar_fill_color': u'DDEEF6',\n",
    " u'profile_text_color': u'333333',\n",
    " u'profile_use_background_image': True,\n",
    " u'protected': False,\n",
    " u'screen_name': u'ScotRamsay',\n",
    " u'status': {u'contributors': None,\n",
    "  u'coordinates': None,\n",
    "  u'created_at': u'Sat Jun 06 19:49:06 +0000 2015',\n",
    "  u'entities': {u'hashtags': [],\n",
    "   u'symbols': [],\n",
    "   u'urls': [{u'display_url': u'po.st/8LyxNF',\n",
    "     u'expanded_url': u'http://po.st/8LyxNF',\n",
    "     u'indices': [62, 84],\n",
    "     u'url': u'http://t.co/pEbsPhZHqu'}],\n",
    "   u'user_mentions': [{u'id': 61177115,\n",
    "     u'id_str': u'61177115',\n",
    "     u'indices': [0, 8],\n",
    "     u'name': u'Alan Henness',\n",
    "     u'screen_name': u'zeno001'},\n",
    "    {u'id': 23427329,\n",
    "     u'id_str': u'23427329',\n",
    "     u'indices': [9, 25],\n",
    "     u'name': u'joanne',\n",
    "     u'screen_name': u'josephine_jones'}]},\n",
    "  u'favorite_count': 0,\n",
    "  u'favorited': False,\n",
    "  u'geo': None,\n",
    "  u'id': 607273026934210560,\n",
    "  u'id_str': u'607273026934210560',\n",
    "  u'in_reply_to_screen_name': u'zeno001',\n",
    "  u'in_reply_to_status_id': None,\n",
    "  u'in_reply_to_status_id_str': None,\n",
    "  u'in_reply_to_user_id': 61177115,\n",
    "  u'in_reply_to_user_id_str': u'61177115',\n",
    "  u'lang': u'en',\n",
    "  u'place': None,\n",
    "  u'possibly_sensitive': False,\n",
    "  u'retweet_count': 0,\n",
    "  u'retweeted': False,\n",
    "  u'source': u'<a href=\"http://mobile.twitter.com\" rel=\"nofollow\">Mobile Web</a>',\n",
    "  u'text': u'@zeno001 @josephine_Jones Thought this might be of interest.  http://t.co/pEbsPhZHqu',\n",
    "  u'truncated': False},\n",
    " u'statuses_count': 5824,\n",
    " u'time_zone': u'Amsterdam',\n",
    " u'url': None,\n",
    " u'utc_offset': 7200,\n",
    " u'verified': False}"
   ]
  },
  {
   "cell_type": "code",
   "execution_count": null,
   "metadata": {
    "collapsed": false
   },
   "outputs": [],
   "source": [
    "import time\n",
    "cursor = -1\n",
    "count = 0\n",
    "ql = []\n",
    "while 1:     \n",
    "    q = api.friends(screen_name = \"AlexanderD_Beck\", count = 200, cursor = cursor)\n",
    "    ql.append(q[0])\n",
    "    count += 1\n",
    "    cursor = q[1][1]\n",
    "    print cursor\n",
    "    if count == 14:\n",
    "        #wait for a little more than 31 minutes\n",
    "        time.sleep(16*60)\n",
    "        count = 0\n",
    "    if cursor == 0 or cursor == -1: \n",
    "        print \"done\"\n",
    "        break\n"
   ]
  },
  {
   "cell_type": "code",
   "execution_count": 16,
   "metadata": {
    "collapsed": false
   },
   "outputs": [],
   "source": [
    "x = [item for sublist in ql for item in sublist]"
   ]
  },
  {
   "cell_type": "code",
   "execution_count": 29,
   "metadata": {
    "collapsed": false
   },
   "outputs": [],
   "source": [
    "a = x[0]"
   ]
  },
  {
   "cell_type": "code",
   "execution_count": 30,
   "metadata": {
    "collapsed": false
   },
   "outputs": [
    {
     "name": "stdout",
     "output_type": "stream",
     "text": [
      "test\n"
     ]
    },
    {
     "data": {
      "text/plain": [
       "<pymongo.results.UpdateResult at 0x1147e6b90>"
      ]
     },
     "execution_count": 30,
     "metadata": {},
     "output_type": "execute_result"
    }
   ],
   "source": [
    "update_to_mongodb(a, \"AlexanderD_Beck\")"
   ]
  },
  {
   "cell_type": "code",
   "execution_count": null,
   "metadata": {
    "collapsed": true
   },
   "outputs": [],
   "source": [
    "import time\n",
    "cursor = -1\n",
    "while 1:     \n",
    "    q = api.friends_ids(screen_name = \"AlexanderD_Beck\", count = 200, cursor = cursor)\n",
    "    cursor = q[1][1]\n",
    "    print cursor\n",
    "    time.sleep(5)\n",
    "\n"
   ]
  },
  {
   "cell_type": "code",
   "execution_count": 6,
   "metadata": {
    "collapsed": false
   },
   "outputs": [],
   "source": [
    "q = api.friends(screen_name = \"AlexanderD_Beck\")"
   ]
  },
  {
   "cell_type": "code",
   "execution_count": 16,
   "metadata": {
    "collapsed": false
   },
   "outputs": [
    {
     "data": {
      "text/plain": [
       "'User(follow_request_sent=False, blocked_by=False, profile_use_background_image=True, _json={u\\'follow_request_sent\\': False, u\\'blocked_by\\': False, u\\'profile_use_background_image\\': True, u\\'default_profile_image\\': False, u\\'id\\': 59319817, u\\'profile_background_image_url_https\\': u\\'https://abs.twimg.com/images/themes/theme10/bg.gif\\', u\\'verified\\': False, u\\'profile_text_color\\': u\\'3D1957\\', u\\'muting\\': False, u\\'profile_image_url_https\\': u\\'https://pbs.twimg.com/profile_images/572852073167716352/yoZrSaoC_normal.jpeg\\', u\\'profile_sidebar_fill_color\\': u\\'7AC3EE\\', u\\'entities\\': {u\\'description\\': {u\\'urls\\': []}}, u\\'followers_count\\': 143, u\\'profile_sidebar_border_color\\': u\\'65B0DA\\', u\\'id_str\\': u\\'59319817\\', u\\'profile_background_color\\': u\\'642D8B\\', u\\'listed_count\\': 17, u\\'status\\': {u\\'contributors\\': None, u\\'truncated\\': False, u\\'text\\': u\\'RT @ldlynd: Imposing the right kind of order on the chaos of data | UBC Research + International https://t.co/vAvtYryBJU #pmsummit2015\\', u\\'in_reply_to_status_id\\': None, u\\'id\\': 607991807612325888, u\\'favorite_count\\': 0, u\\'source\\': u\\'<a href=\"https://twitter.com/download/android\" rel=\"nofollow\">Twitter for Android Tablets</a>\\', u\\'retweeted\\': False, u\\'coordinates\\': None, u\\'entities\\': {u\\'symbols\\': [], u\\'user_mentions\\': [{u\\'id\\': 297685961, u\\'indices\\': [3, 10], u\\'id_str\\': u\\'297685961\\', u\\'screen_name\\': u\\'ldlynd\\', u\\'name\\': u\\'Larry Lynd\\'}], u\\'hashtags\\': [{u\\'indices\\': [121, 134], u\\'text\\': u\\'pmsummit2015\\'}], u\\'urls\\': [{u\\'url\\': u\\'https://t.co/vAvtYryBJU\\', u\\'indices\\': [97, 120], u\\'expanded_url\\': u\\'https://research.ubc.ca/research-excellence/spotlight-areas/digital-technologies/imposing-right-kind-order-chaos-data#.VXXn3D7M3n4.twitter\\', u\\'display_url\\': u\\'research.ubc.ca/research-excel\\\\u2026\\'}]}, u\\'in_reply_to_screen_name\\': None, u\\'id_str\\': u\\'607991807612325888\\', u\\'retweet_count\\': 2, u\\'in_reply_to_user_id\\': None, u\\'favorited\\': False, u\\'retweeted_status\\': {u\\'contributors\\': None, u\\'truncated\\': False, u\\'text\\': u\\'Imposing the right kind of order on the chaos of data | UBC Research + International https://t.co/vAvtYryBJU #pmsummit2015\\', u\\'in_reply_to_status_id\\': None, u\\'id\\': 607987343358689280, u\\'favorite_count\\': 1, u\\'source\\': u\\'<a href=\"http://twitter.com/#!/download/ipad\" rel=\"nofollow\">Twitter for iPad</a>\\', u\\'retweeted\\': False, u\\'coordinates\\': None, u\\'entities\\': {u\\'symbols\\': [], u\\'user_mentions\\': [], u\\'hashtags\\': [{u\\'indices\\': [109, 122], u\\'text\\': u\\'pmsummit2015\\'}], u\\'urls\\': [{u\\'url\\': u\\'https://t.co/vAvtYryBJU\\', u\\'indices\\': [85, 108], u\\'expanded_url\\': u\\'https://research.ubc.ca/research-excellence/spotlight-areas/digital-technologies/imposing-right-kind-order-chaos-data#.VXXn3D7M3n4.twitter\\', u\\'display_url\\': u\\'research.ubc.ca/research-excel\\\\u2026\\'}]}, u\\'in_reply_to_screen_name\\': None, u\\'id_str\\': u\\'607987343358689280\\', u\\'retweet_count\\': 2, u\\'in_reply_to_user_id\\': None, u\\'favorited\\': False, u\\'geo\\': None, u\\'in_reply_to_user_id_str\\': None, u\\'possibly_sensitive\\': False, u\\'lang\\': u\\'en\\', u\\'created_at\\': u\\'Mon Jun 08 19:07:33 +0000 2015\\', u\\'in_reply_to_status_id_str\\': None, u\\'place\\': None}, u\\'geo\\': None, u\\'in_reply_to_user_id_str\\': None, u\\'possibly_sensitive\\': False, u\\'lang\\': u\\'en\\', u\\'created_at\\': u\\'Mon Jun 08 19:25:17 +0000 2015\\', u\\'in_reply_to_status_id_str\\': None, u\\'place\\': None}, u\\'is_translation_enabled\\': False, u\\'utc_offset\\': -25200, u\\'statuses_count\\': 690, u\\'description\\': u\\'Science and #scicomm lover. Currently siked about Local Adaptation, Trees, Poplar, Genes. PhD candidate at UBC. Runner, wanna be climber, skier, mountain biker\\', u\\'friends_count\\': 201, u\\'location\\': u\\'Vancouver\\', u\\'profile_link_color\\': u\\'FF0000\\', u\\'profile_image_url\\': u\\'http://pbs.twimg.com/profile_images/572852073167716352/yoZrSaoC_normal.jpeg\\', u\\'following\\': True, u\\'geo_enabled\\': True, u\\'blocking\\': False, u\\'profile_background_image_url\\': u\\'http://abs.twimg.com/images/themes/theme10/bg.gif\\', u\\'screen_name\\': u\\'AdriSuarezGonz\\', u\\'lang\\': u\\'en\\', u\\'profile_background_tile\\': True, u\\'favourites_count\\': 188, u\\'name\\': u\\'Adriana Suarez\\', u\\'notifications\\': False, u\\'url\\': None, u\\'created_at\\': u\\'Thu Jul 23 01:33:21 +0000 2009\\', u\\'contributors_enabled\\': False, u\\'time_zone\\': u\\'Pacific Time (US & Canada)\\', u\\'protected\\': False, u\\'default_profile\\': False, u\\'is_translator\\': False}, time_zone=u\\'Pacific Time (US & Canada)\\', id=59319817, description=u\\'Science and #scicomm lover. Currently siked about Local Adaptation, Trees, Poplar, Genes. PhD candidate at UBC. Runner, wanna be climber, skier, mountain biker\\', _api=<tweepy.api.API object at 0x1068440d0>, verified=False, profile_text_color=u\\'3D1957\\', muting=False, profile_image_url_https=u\\'https://pbs.twimg.com/profile_images/572852073167716352/yoZrSaoC_normal.jpeg\\', profile_sidebar_fill_color=u\\'7AC3EE\\', is_translator=False, geo_enabled=True, entities={u\\'description\\': {u\\'urls\\': []}}, followers_count=143, protected=False, id_str=u\\'59319817\\', default_profile_image=False, listed_count=17, status=Status(contributors=None, truncated=False, text=u\\'RT @ldlynd: Imposing the right kind of order on the chaos of data | UBC Research + International https://t.co/vAvtYryBJU #pmsummit2015\\', in_reply_to_status_id=None, id=607991807612325888, favorite_count=0, _api=<tweepy.api.API object at 0x1068440d0>, source=u\\'Twitter for Android Tablets\\', _json={u\\'contributors\\': None, u\\'truncated\\': False, u\\'text\\': u\\'RT @ldlynd: Imposing the right kind of order on the chaos of data | UBC Research + International https://t.co/vAvtYryBJU #pmsummit2015\\', u\\'in_reply_to_status_id\\': None, u\\'id\\': 607991807612325888, u\\'favorite_count\\': 0, u\\'source\\': u\\'<a href=\"https://twitter.com/download/android\" rel=\"nofollow\">Twitter for Android Tablets</a>\\', u\\'retweeted\\': False, u\\'coordinates\\': None, u\\'entities\\': {u\\'symbols\\': [], u\\'user_mentions\\': [{u\\'id\\': 297685961, u\\'indices\\': [3, 10], u\\'id_str\\': u\\'297685961\\', u\\'screen_name\\': u\\'ldlynd\\', u\\'name\\': u\\'Larry Lynd\\'}], u\\'hashtags\\': [{u\\'indices\\': [121, 134], u\\'text\\': u\\'pmsummit2015\\'}], u\\'urls\\': [{u\\'url\\': u\\'https://t.co/vAvtYryBJU\\', u\\'indices\\': [97, 120], u\\'expanded_url\\': u\\'https://research.ubc.ca/research-excellence/spotlight-areas/digital-technologies/imposing-right-kind-order-chaos-data#.VXXn3D7M3n4.twitter\\', u\\'display_url\\': u\\'research.ubc.ca/research-excel\\\\u2026\\'}]}, u\\'in_reply_to_screen_name\\': None, u\\'id_str\\': u\\'607991807612325888\\', u\\'retweet_count\\': 2, u\\'in_reply_to_user_id\\': None, u\\'favorited\\': False, u\\'retweeted_status\\': {u\\'contributors\\': None, u\\'truncated\\': False, u\\'text\\': u\\'Imposing the right kind of order on the chaos of data | UBC Research + International https://t.co/vAvtYryBJU #pmsummit2015\\', u\\'in_reply_to_status_id\\': None, u\\'id\\': 607987343358689280, u\\'favorite_count\\': 1, u\\'source\\': u\\'<a href=\"http://twitter.com/#!/download/ipad\" rel=\"nofollow\">Twitter for iPad</a>\\', u\\'retweeted\\': False, u\\'coordinates\\': None, u\\'entities\\': {u\\'symbols\\': [], u\\'user_mentions\\': [], u\\'hashtags\\': [{u\\'indices\\': [109, 122], u\\'text\\': u\\'pmsummit2015\\'}], u\\'urls\\': [{u\\'url\\': u\\'https://t.co/vAvtYryBJU\\', u\\'indices\\': [85, 108], u\\'expanded_url\\': u\\'https://research.ubc.ca/research-excellence/spotlight-areas/digital-technologies/imposing-right-kind-order-chaos-data#.VXXn3D7M3n4.twitter\\', u\\'display_url\\': u\\'research.ubc.ca/research-excel\\\\u2026\\'}]}, u\\'in_reply_to_screen_name\\': None, u\\'id_str\\': u\\'607987343358689280\\', u\\'retweet_count\\': 2, u\\'in_reply_to_user_id\\': None, u\\'favorited\\': False, u\\'geo\\': None, u\\'in_reply_to_user_id_str\\': None, u\\'possibly_sensitive\\': False, u\\'lang\\': u\\'en\\', u\\'created_at\\': u\\'Mon Jun 08 19:07:33 +0000 2015\\', u\\'in_reply_to_status_id_str\\': None, u\\'place\\': None}, u\\'geo\\': None, u\\'in_reply_to_user_id_str\\': None, u\\'possibly_sensitive\\': False, u\\'lang\\': u\\'en\\', u\\'created_at\\': u\\'Mon Jun 08 19:25:17 +0000 2015\\', u\\'in_reply_to_status_id_str\\': None, u\\'place\\': None}, coordinates=None, entities={u\\'symbols\\': [], u\\'user_mentions\\': [{u\\'id\\': 297685961, u\\'indices\\': [3, 10], u\\'id_str\\': u\\'297685961\\', u\\'screen_name\\': u\\'ldlynd\\', u\\'name\\': u\\'Larry Lynd\\'}], u\\'hashtags\\': [{u\\'indices\\': [121, 134], u\\'text\\': u\\'pmsummit2015\\'}], u\\'urls\\': [{u\\'url\\': u\\'https://t.co/vAvtYryBJU\\', u\\'indices\\': [97, 120], u\\'expanded_url\\': u\\'https://research.ubc.ca/research-excellence/spotlight-areas/digital-technologies/imposing-right-kind-order-chaos-data#.VXXn3D7M3n4.twitter\\', u\\'display_url\\': u\\'research.ubc.ca/research-excel\\\\u2026\\'}]}, in_reply_to_screen_name=None, id_str=u\\'607991807612325888\\', retweet_count=2, in_reply_to_user_id=None, favorited=False, retweeted_status=Status(contributors=None, truncated=False, text=u\\'Imposing the right kind of order on the chaos of data | UBC Research + International https://t.co/vAvtYryBJU #pmsummit2015\\', in_reply_to_status_id=None, id=607987343358689280, favorite_count=1, _api=<tweepy.api.API object at 0x1068440d0>, source=u\\'Twitter for iPad\\', _json={u\\'contributors\\': None, u\\'truncated\\': False, u\\'text\\': u\\'Imposing the right kind of order on the chaos of data | UBC Research + International https://t.co/vAvtYryBJU #pmsummit2015\\', u\\'in_reply_to_status_id\\': None, u\\'id\\': 607987343358689280, u\\'favorite_count\\': 1, u\\'source\\': u\\'<a href=\"http://twitter.com/#!/download/ipad\" rel=\"nofollow\">Twitter for iPad</a>\\', u\\'retweeted\\': False, u\\'coordinates\\': None, u\\'entities\\': {u\\'symbols\\': [], u\\'user_mentions\\': [], u\\'hashtags\\': [{u\\'indices\\': [109, 122], u\\'text\\': u\\'pmsummit2015\\'}], u\\'urls\\': [{u\\'url\\': u\\'https://t.co/vAvtYryBJU\\', u\\'indices\\': [85, 108], u\\'expanded_url\\': u\\'https://research.ubc.ca/research-excellence/spotlight-areas/digital-technologies/imposing-right-kind-order-chaos-data#.VXXn3D7M3n4.twitter\\', u\\'display_url\\': u\\'research.ubc.ca/research-excel\\\\u2026\\'}]}, u\\'in_reply_to_screen_name\\': None, u\\'id_str\\': u\\'607987343358689280\\', u\\'retweet_count\\': 2, u\\'in_reply_to_user_id\\': None, u\\'favorited\\': False, u\\'geo\\': None, u\\'in_reply_to_user_id_str\\': None, u\\'possibly_sensitive\\': False, u\\'lang\\': u\\'en\\', u\\'created_at\\': u\\'Mon Jun 08 19:07:33 +0000 2015\\', u\\'in_reply_to_status_id_str\\': None, u\\'place\\': None}, coordinates=None, entities={u\\'symbols\\': [], u\\'user_mentions\\': [], u\\'hashtags\\': [{u\\'indices\\': [109, 122], u\\'text\\': u\\'pmsummit2015\\'}], u\\'urls\\': [{u\\'url\\': u\\'https://t.co/vAvtYryBJU\\', u\\'indices\\': [85, 108], u\\'expanded_url\\': u\\'https://research.ubc.ca/research-excellence/spotlight-areas/digital-technologies/imposing-right-kind-order-chaos-data#.VXXn3D7M3n4.twitter\\', u\\'display_url\\': u\\'research.ubc.ca/research-excel\\\\u2026\\'}]}, in_reply_to_screen_name=None, id_str=u\\'607987343358689280\\', retweet_count=2, in_reply_to_user_id=None, favorited=False, source_url=u\\'http://twitter.com/#!/download/ipad\\', geo=None, in_reply_to_user_id_str=None, possibly_sensitive=False, lang=u\\'en\\', created_at=datetime.datetime(2015, 6, 8, 19, 7, 33), in_reply_to_status_id_str=None, place=None, retweeted=False), source_url=u\\'https://twitter.com/download/android\\', geo=None, in_reply_to_user_id_str=None, possibly_sensitive=False, lang=u\\'en\\', created_at=datetime.datetime(2015, 6, 8, 19, 25, 17), in_reply_to_status_id_str=None, place=None, retweeted=False), lang=u\\'en\\', utc_offset=-25200, statuses_count=690, profile_background_color=u\\'642D8B\\', friends_count=201, profile_link_color=u\\'FF0000\\', profile_image_url=u\\'http://pbs.twimg.com/profile_images/572852073167716352/yoZrSaoC_normal.jpeg\\', notifications=False, profile_background_image_url_https=u\\'https://abs.twimg.com/images/themes/theme10/bg.gif\\', blocking=False, profile_background_image_url=u\\'http://abs.twimg.com/images/themes/theme10/bg.gif\\', name=u\\'Adriana Suarez\\', is_translation_enabled=False, profile_background_tile=True, favourites_count=188, screen_name=u\\'AdriSuarezGonz\\', url=None, created_at=datetime.datetime(2009, 7, 23, 1, 33, 21), contributors_enabled=False, location=u\\'Vancouver\\', profile_sidebar_border_color=u\\'65B0DA\\', default_profile=False, following=True)'"
      ]
     },
     "execution_count": 16,
     "metadata": {},
     "output_type": "execute_result"
    }
   ],
   "source": []
  },
  {
   "cell_type": "code",
   "execution_count": 113,
   "metadata": {
    "collapsed": false
   },
   "outputs": [
    {
     "data": {
      "text/plain": [
       "1433537491.574998"
      ]
     },
     "execution_count": 113,
     "metadata": {},
     "output_type": "execute_result"
    }
   ],
   "source": [
    "import time\n",
    "time.time()"
   ]
  },
  {
   "cell_type": "code",
   "execution_count": null,
   "metadata": {
    "collapsed": false
   },
   "outputs": [],
   "source": [
    "import time\n",
    "import copy\n",
    "def wait_on_minute(func):\n",
    "    t = time.time()\n",
    "    def check_on_time(a,b,t):\n",
    "        t2 = time.time()\n",
    "        delta_t = t2 - t\n",
    "        print t\n",
    "        print delta_t\n",
    "        if delta_t > 4:\n",
    "            t = time.time()\n",
    "            print t\n",
    "    return check_on_time"
   ]
  },
  {
   "cell_type": "code",
   "execution_count": null,
   "metadata": {
    "collapsed": false
   },
   "outputs": [],
   "source": [
    "@wait_on_minute\n",
    "def add(a=a,b=b):\n",
    "    return a+b"
   ]
  },
  {
   "cell_type": "code",
   "execution_count": null,
   "metadata": {
    "collapsed": false
   },
   "outputs": [],
   "source": [
    "add(1,1)"
   ]
  },
  {
   "cell_type": "code",
   "execution_count": null,
   "metadata": {
    "collapsed": true
   },
   "outputs": [],
   "source": []
  },
  {
   "cell_type": "code",
   "execution_count": 1,
   "metadata": {
    "collapsed": false
   },
   "outputs": [
    {
     "name": "stdout",
     "output_type": "stream",
     "text": [
      "no stored variable ql\n"
     ]
    }
   ],
   "source": [
    "%store -r ql"
   ]
  },
  {
   "cell_type": "code",
   "execution_count": null,
   "metadata": {
    "collapsed": true
   },
   "outputs": [],
   "source": []
  }
 ],
 "metadata": {
  "kernelspec": {
   "display_name": "Python 2",
   "language": "python",
   "name": "python2"
  },
  "language_info": {
   "codemirror_mode": {
    "name": "ipython",
    "version": 2
   },
   "file_extension": ".py",
   "mimetype": "text/x-python",
   "name": "python",
   "nbconvert_exporter": "python",
   "pygments_lexer": "ipython2",
   "version": "2.7.9"
  }
 },
 "nbformat": 4,
 "nbformat_minor": 0
}
