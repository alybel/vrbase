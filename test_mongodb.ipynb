{
 "cells": [
  {
   "cell_type": "code",
   "execution_count": 1,
   "metadata": {
    "collapsed": false
   },
   "outputs": [
    {
     "name": "stdout",
     "output_type": "stream",
     "text": [
      "317005063-xDIynEL3JE2059IEpYXhErvOX4nRVgtFlB9qedAG\n"
     ]
    }
   ],
   "source": [
    "import sys\n",
    "from pymongo import MongoClient\n",
    "sys.path.append(\"bluebird/\")\n",
    "import bblib as bbl\n",
    "import bbanalytics as bba\n",
    "%load_ext autoreload\n",
    "%autoreload 2\n",
    "import json\n",
    "\n",
    "sys.path.append(\"accounts/AlexanderD_Beck/\")\n",
    "import config as cfg\n",
    "bbl.set_cfg(cfg)\n",
    "auth, api = bbl.connect_app_to_twitter()\n",
    "#establish ssh tunnel: ssh -f alex@213.239.216.227 -L 27017:localhost:27017 -N"
   ]
  },
  {
   "cell_type": "code",
   "execution_count": 11,
   "metadata": {
    "collapsed": true
   },
   "outputs": [],
   "source": [
    "client = MongoClient(\"mongodb://localhost:27017\")"
   ]
  },
  {
   "cell_type": "code",
   "execution_count": 12,
   "metadata": {
    "collapsed": true
   },
   "outputs": [],
   "source": [
    "db = client.friends"
   ]
  },
  {
   "cell_type": "code",
   "execution_count": 11,
   "metadata": {
    "collapsed": false
   },
   "outputs": [],
   "source": [
    "bbl.get_friends_ids(api);"
   ]
  },
  {
   "cell_type": "code",
   "execution_count": 13,
   "metadata": {
    "collapsed": false
   },
   "outputs": [],
   "source": [
    "info = bbl.get_info_from_account_id(api = api, id=33474655)"
   ]
  },
  {
   "cell_type": "code",
   "execution_count": 6,
   "metadata": {
    "collapsed": false
   },
   "outputs": [],
   "source": [
    "d = json.loads(json.dumps(info._json))"
   ]
  },
  {
   "cell_type": "code",
   "execution_count": 7,
   "metadata": {
    "collapsed": false
   },
   "outputs": [
    {
     "data": {
      "text/plain": [
       "dict"
      ]
     },
     "execution_count": 7,
     "metadata": {},
     "output_type": "execute_result"
    }
   ],
   "source": [
    "type(info._json)"
   ]
  },
  {
   "cell_type": "code",
   "execution_count": 8,
   "metadata": {
    "collapsed": false
   },
   "outputs": [],
   "source": [
    "import tweepy"
   ]
  },
  {
   "cell_type": "code",
   "execution_count": 12,
   "metadata": {
    "collapsed": false
   },
   "outputs": [
    {
     "data": {
      "text/plain": [
       "33474655"
      ]
     },
     "execution_count": 12,
     "metadata": {},
     "output_type": "execute_result"
    }
   ],
   "source": [
    "info.id"
   ]
  },
  {
   "cell_type": "code",
   "execution_count": 14,
   "metadata": {
    "collapsed": false
   },
   "outputs": [],
   "source": []
  },
  {
   "cell_type": "code",
   "execution_count": 15,
   "metadata": {
    "collapsed": false
   },
   "outputs": [
    {
     "ename": "DuplicateKeyError",
     "evalue": "E11000 duplicate key error index: friends.user.$_id_ dup key: { : 33474655 }",
     "output_type": "error",
     "traceback": [
      "\u001b[0;31m---------------------------------------------------------------------------\u001b[0m",
      "\u001b[0;31mDuplicateKeyError\u001b[0m                         Traceback (most recent call last)",
      "\u001b[0;32m<ipython-input-15-f7ebe84d983f>\u001b[0m in \u001b[0;36m<module>\u001b[0;34m()\u001b[0m\n\u001b[0;32m----> 1\u001b[0;31m \u001b[0mdb\u001b[0m\u001b[0;34m.\u001b[0m\u001b[0muser\u001b[0m\u001b[0;34m.\u001b[0m\u001b[0minsert_one\u001b[0m\u001b[0;34m(\u001b[0m\u001b[0minfo\u001b[0m\u001b[0;34m.\u001b[0m\u001b[0m_json\u001b[0m\u001b[0;34m)\u001b[0m\u001b[0;34m\u001b[0m\u001b[0m\n\u001b[0m",
      "\u001b[0;32m/Users/alex/.virtualenvs/vr/lib/python2.7/site-packages/pymongo/collection.pyc\u001b[0m in \u001b[0;36minsert_one\u001b[0;34m(self, document)\u001b[0m\n\u001b[1;32m    465\u001b[0m             \u001b[0mdocument\u001b[0m\u001b[0;34m[\u001b[0m\u001b[0;34m\"_id\"\u001b[0m\u001b[0;34m]\u001b[0m \u001b[0;34m=\u001b[0m \u001b[0mObjectId\u001b[0m\u001b[0;34m(\u001b[0m\u001b[0;34m)\u001b[0m\u001b[0;34m\u001b[0m\u001b[0m\n\u001b[1;32m    466\u001b[0m         \u001b[0;32mwith\u001b[0m \u001b[0mself\u001b[0m\u001b[0;34m.\u001b[0m\u001b[0m_socket_for_writes\u001b[0m\u001b[0;34m(\u001b[0m\u001b[0;34m)\u001b[0m \u001b[0;32mas\u001b[0m \u001b[0msock_info\u001b[0m\u001b[0;34m:\u001b[0m\u001b[0;34m\u001b[0m\u001b[0m\n\u001b[0;32m--> 467\u001b[0;31m             return InsertOneResult(self._insert(sock_info, document),\n\u001b[0m\u001b[1;32m    468\u001b[0m                                    self.write_concern.acknowledged)\n\u001b[1;32m    469\u001b[0m \u001b[0;34m\u001b[0m\u001b[0m\n",
      "\u001b[0;32m/Users/alex/.virtualenvs/vr/lib/python2.7/site-packages/pymongo/collection.pyc\u001b[0m in \u001b[0;36m_insert\u001b[0;34m(self, sock_info, docs, ordered, check_keys, manipulate, write_concern)\u001b[0m\n\u001b[1;32m    429\u001b[0m                 \u001b[0mself\u001b[0m\u001b[0;34m.\u001b[0m\u001b[0mdatabase\u001b[0m\u001b[0;34m.\u001b[0m\u001b[0mname\u001b[0m \u001b[0;34m+\u001b[0m \u001b[0;34m\".$cmd\"\u001b[0m\u001b[0;34m,\u001b[0m \u001b[0m_INSERT\u001b[0m\u001b[0;34m,\u001b[0m \u001b[0mcommand\u001b[0m\u001b[0;34m,\u001b[0m\u001b[0;34m\u001b[0m\u001b[0m\n\u001b[1;32m    430\u001b[0m                 gen(), check_keys, self.codec_options, sock_info)\n\u001b[0;32m--> 431\u001b[0;31m             \u001b[0m_check_write_command_response\u001b[0m\u001b[0;34m(\u001b[0m\u001b[0mresults\u001b[0m\u001b[0;34m)\u001b[0m\u001b[0;34m\u001b[0m\u001b[0m\n\u001b[0m\u001b[1;32m    432\u001b[0m         \u001b[0;32melse\u001b[0m\u001b[0;34m:\u001b[0m\u001b[0;34m\u001b[0m\u001b[0m\n\u001b[1;32m    433\u001b[0m             \u001b[0;31m# Legacy batched OP_INSERT.\u001b[0m\u001b[0;34m\u001b[0m\u001b[0;34m\u001b[0m\u001b[0m\n",
      "\u001b[0;32m/Users/alex/.virtualenvs/vr/lib/python2.7/site-packages/pymongo/helpers.pyc\u001b[0m in \u001b[0;36m_check_write_command_response\u001b[0;34m(results)\u001b[0m\n\u001b[1;32m    258\u001b[0m             \u001b[0merror\u001b[0m\u001b[0;34m[\u001b[0m\u001b[0;34m\"index\"\u001b[0m\u001b[0;34m]\u001b[0m \u001b[0;34m+=\u001b[0m \u001b[0moffset\u001b[0m\u001b[0;34m\u001b[0m\u001b[0m\n\u001b[1;32m    259\u001b[0m             \u001b[0;32mif\u001b[0m \u001b[0merror\u001b[0m\u001b[0;34m.\u001b[0m\u001b[0mget\u001b[0m\u001b[0;34m(\u001b[0m\u001b[0;34m\"code\"\u001b[0m\u001b[0;34m)\u001b[0m \u001b[0;34m==\u001b[0m \u001b[0;36m11000\u001b[0m\u001b[0;34m:\u001b[0m\u001b[0;34m\u001b[0m\u001b[0m\n\u001b[0;32m--> 260\u001b[0;31m                 \u001b[0;32mraise\u001b[0m \u001b[0mDuplicateKeyError\u001b[0m\u001b[0;34m(\u001b[0m\u001b[0merror\u001b[0m\u001b[0;34m.\u001b[0m\u001b[0mget\u001b[0m\u001b[0;34m(\u001b[0m\u001b[0;34m\"errmsg\"\u001b[0m\u001b[0;34m)\u001b[0m\u001b[0;34m,\u001b[0m \u001b[0;36m11000\u001b[0m\u001b[0;34m,\u001b[0m \u001b[0merror\u001b[0m\u001b[0;34m)\u001b[0m\u001b[0;34m\u001b[0m\u001b[0m\n\u001b[0m\u001b[1;32m    261\u001b[0m             \u001b[0;32mraise\u001b[0m \u001b[0mWriteError\u001b[0m\u001b[0;34m(\u001b[0m\u001b[0merror\u001b[0m\u001b[0;34m.\u001b[0m\u001b[0mget\u001b[0m\u001b[0;34m(\u001b[0m\u001b[0;34m\"errmsg\"\u001b[0m\u001b[0;34m)\u001b[0m\u001b[0;34m,\u001b[0m \u001b[0merror\u001b[0m\u001b[0;34m.\u001b[0m\u001b[0mget\u001b[0m\u001b[0;34m(\u001b[0m\u001b[0;34m\"code\"\u001b[0m\u001b[0;34m)\u001b[0m\u001b[0;34m,\u001b[0m \u001b[0merror\u001b[0m\u001b[0;34m)\u001b[0m\u001b[0;34m\u001b[0m\u001b[0m\n\u001b[1;32m    262\u001b[0m         \u001b[0;32melse\u001b[0m\u001b[0;34m:\u001b[0m\u001b[0;34m\u001b[0m\u001b[0m\n",
      "\u001b[0;31mDuplicateKeyError\u001b[0m: E11000 duplicate key error index: friends.user.$_id_ dup key: { : 33474655 }"
     ]
    }
   ],
   "source": [
    "info._json[\"_id\"] = info.id\n",
    "try\n",
    "db.user.insert_one(info._json)"
   ]
  },
  {
   "cell_type": "code",
   "execution_count": 24,
   "metadata": {
    "collapsed": false
   },
   "outputs": [],
   "source": [
    "n = bool(db.user.find({\"_id\":33474355}).count())"
   ]
  },
  {
   "cell_type": "code",
   "execution_count": 25,
   "metadata": {
    "collapsed": false
   },
   "outputs": [
    {
     "data": {
      "text/plain": [
       "False"
      ]
     },
     "execution_count": 25,
     "metadata": {},
     "output_type": "execute_result"
    }
   ],
   "source": [
    "n"
   ]
  },
  {
   "cell_type": "code",
   "execution_count": 69,
   "metadata": {
    "collapsed": false
   },
   "outputs": [
    {
     "name": "stdout",
     "output_type": "stream",
     "text": [
      "updated 2351863003\n",
      "updated 200292328\n",
      "updated 3201275693\n",
      "updated 308596524\n",
      "updated 1096775252\n",
      "updated 278228244\n",
      "updated 2431526408\n",
      "updated 844000490\n",
      "updated 34986396\n",
      "updated 448034346\n"
     ]
    }
   ],
   "source": [
    "q = bbl.UpdateUserInfo(api = api, account_name = \"AlexanderD_Beck\")\n",
    "q.update_user_info(10)"
   ]
  },
  {
   "cell_type": "code",
   "execution_count": 9,
   "metadata": {
    "collapsed": false
   },
   "outputs": [
    {
     "data": {
      "text/plain": [
       "True"
      ]
     },
     "execution_count": 9,
     "metadata": {},
     "output_type": "execute_result"
    }
   ],
   "source": [
    "q.id_exists_in_userdb(33474655)"
   ]
  },
  {
   "cell_type": "code",
   "execution_count": 17,
   "metadata": {
    "collapsed": false
   },
   "outputs": [
    {
     "data": {
      "text/plain": [
       "{'_id': 33474655,\n",
       " u'contributors_enabled': False,\n",
       " u'created_at': u'Mon Apr 20 10:14:14 +0000 2009',\n",
       " u'default_profile': False,\n",
       " u'default_profile_image': False,\n",
       " u'description': u'News and Events from the University of Cambridge',\n",
       " u'entities': {u'description': {u'urls': []},\n",
       "  u'url': {u'urls': [{u'display_url': u'cam.ac.uk',\n",
       "     u'expanded_url': u'http://www.cam.ac.uk/',\n",
       "     u'indices': [0, 22],\n",
       "     u'url': u'http://t.co/npSMZaWCAQ'}]}},\n",
       " u'favourites_count': 81,\n",
       " u'follow_request_sent': False,\n",
       " u'followers_count': 188021,\n",
       " u'following': True,\n",
       " u'friends_count': 658,\n",
       " u'geo_enabled': False,\n",
       " u'id': 33474655,\n",
       " u'id_str': u'33474655',\n",
       " u'is_translation_enabled': False,\n",
       " u'is_translator': False,\n",
       " u'lang': u'en',\n",
       " u'listed_count': 2877,\n",
       " u'location': u'Cambridge, England',\n",
       " u'name': u'Cambridge University',\n",
       " u'notifications': False,\n",
       " u'profile_background_color': u'016867',\n",
       " u'profile_background_image_url': u'http://pbs.twimg.com/profile_background_images/50476876/twitterbackground.jpg',\n",
       " u'profile_background_image_url_https': u'https://pbs.twimg.com/profile_background_images/50476876/twitterbackground.jpg',\n",
       " u'profile_background_tile': False,\n",
       " u'profile_banner_url': u'https://pbs.twimg.com/profile_banners/33474655/1398249913',\n",
       " u'profile_image_url': u'http://pbs.twimg.com/profile_images/378800000770173726/fd146b7706d9ae5ac6594356592f0592_normal.jpeg',\n",
       " u'profile_image_url_https': u'https://pbs.twimg.com/profile_images/378800000770173726/fd146b7706d9ae5ac6594356592f0592_normal.jpeg',\n",
       " u'profile_link_color': u'25A5D4',\n",
       " u'profile_location': None,\n",
       " u'profile_sidebar_border_color': u'FFFFFF',\n",
       " u'profile_sidebar_fill_color': u'000000',\n",
       " u'profile_text_color': u'5C5C5C',\n",
       " u'profile_use_background_image': True,\n",
       " u'protected': False,\n",
       " u'screen_name': u'Cambridge_Uni',\n",
       " u'status': {u'contributors': None,\n",
       "  u'coordinates': None,\n",
       "  u'created_at': u'Fri Jun 05 08:41:07 +0000 2015',\n",
       "  u'entities': {u'hashtags': [{u'indices': [99, 117],\n",
       "     u'text': u'ThanksForWatching'}],\n",
       "   u'media': [{u'display_url': u'pic.twitter.com/a64lP3khE4',\n",
       "     u'expanded_url': u'http://twitter.com/Cambridge_Uni/status/606742535650844672/photo/1',\n",
       "     u'id': 606742534774259712,\n",
       "     u'id_str': u'606742534774259712',\n",
       "     u'indices': [118, 140],\n",
       "     u'media_url': u'http://pbs.twimg.com/media/CGuVHudXAAA_oEm.jpg',\n",
       "     u'media_url_https': u'https://pbs.twimg.com/media/CGuVHudXAAA_oEm.jpg',\n",
       "     u'sizes': {u'large': {u'h': 285, u'resize': u'fit', u'w': 570},\n",
       "      u'medium': {u'h': 285, u'resize': u'fit', u'w': 570},\n",
       "      u'small': {u'h': 170, u'resize': u'fit', u'w': 340},\n",
       "      u'thumb': {u'h': 150, u'resize': u'crop', u'w': 150}},\n",
       "     u'type': u'photo',\n",
       "     u'url': u'http://t.co/a64lP3khE4'}],\n",
       "   u'symbols': [],\n",
       "   u'urls': [{u'display_url': u'bit.ly/1MseWOj',\n",
       "     u'expanded_url': u'http://bit.ly/1MseWOj',\n",
       "     u'indices': [76, 98],\n",
       "     u'url': u'http://t.co/CBPLuzd48j'}],\n",
       "   u'user_mentions': []},\n",
       "  u'favorite_count': 12,\n",
       "  u'favorited': False,\n",
       "  u'geo': None,\n",
       "  u'id': 606742535650844672,\n",
       "  u'id_str': u'606742535650844672',\n",
       "  u'in_reply_to_screen_name': None,\n",
       "  u'in_reply_to_status_id': None,\n",
       "  u'in_reply_to_status_id_str': None,\n",
       "  u'in_reply_to_user_id': None,\n",
       "  u'in_reply_to_user_id_str': None,\n",
       "  u'lang': u'en',\n",
       "  u'place': None,\n",
       "  u'possibly_sensitive': False,\n",
       "  u'retweet_count': 17,\n",
       "  u'retweeted': False,\n",
       "  u'source': u'<a href=\"http://twitter.com\" rel=\"nofollow\">Twitter Web Client</a>',\n",
       "  u'text': u'T cells, energy, insects &amp; whales \\u2013 all in our top 10 videos on YouTube http://t.co/CBPLuzd48j #ThanksForWatching http://t.co/a64lP3khE4',\n",
       "  u'truncated': False},\n",
       " u'statuses_count': 4935,\n",
       " u'time_zone': u'London',\n",
       " u'url': u'http://t.co/npSMZaWCAQ',\n",
       " u'utc_offset': 3600,\n",
       " u'verified': False}"
      ]
     },
     "execution_count": 17,
     "metadata": {},
     "output_type": "execute_result"
    }
   ],
   "source": [
    "info._json"
   ]
  },
  {
   "cell_type": "code",
   "execution_count": 62,
   "metadata": {
    "collapsed": false
   },
   "outputs": [],
   "source": [
    "result = db.user.update_one(\n",
    "    {\"_id\": info.id},\n",
    "        {\n",
    "        \"$set\":info._json,\n",
    "        \"$currentDate\": {\"lastModified\": True}\n",
    "         },\n",
    "upsert = True)"
   ]
  },
  {
   "cell_type": "code",
   "execution_count": 59,
   "metadata": {
    "collapsed": false
   },
   "outputs": [
    {
     "data": {
      "text/plain": [
       "1"
      ]
     },
     "execution_count": 59,
     "metadata": {},
     "output_type": "execute_result"
    }
   ],
   "source": [
    "result.matched_count"
   ]
  },
  {
   "cell_type": "code",
   "execution_count": 65,
   "metadata": {
    "collapsed": false
   },
   "outputs": [
    {
     "name": "stdout",
     "output_type": "stream",
     "text": [
      "updated 373268907\n",
      "updated 2646264140\n",
      "updated 2708670444\n",
      "updated 47576778\n",
      "updated 18319419\n",
      "updated 19302326\n",
      "updated 886882542\n",
      "updated 304443027\n",
      "updated 1416078199\n",
      "updated 3184904779\n"
     ]
    }
   ],
   "source": [
    "q.update_user_info(10)"
   ]
  },
  {
   "cell_type": "code",
   "execution_count": 70,
   "metadata": {
    "collapsed": false
   },
   "outputs": [
    {
     "name": "stdout",
     "output_type": "stream",
     "text": [
      "updated 3196617592\n",
      "updated 13229072\n",
      "updated 93181919\n",
      "updated 376117985\n",
      "updated 2835833288\n",
      "updated 3099049666\n",
      "updated 487777556\n",
      "updated 2894779564\n",
      "updated 2417186348\n",
      "updated 195054590\n"
     ]
    }
   ],
   "source": [
    "q.update_user_info("
   ]
  },
  {
   "cell_type": "code",
   "execution_count": null,
   "metadata": {
    "collapsed": true
   },
   "outputs": [],
   "source": []
  }
 ],
 "metadata": {
  "kernelspec": {
   "display_name": "Python 2",
   "language": "python",
   "name": "python2"
  },
  "language_info": {
   "codemirror_mode": {
    "name": "ipython",
    "version": 2
   },
   "file_extension": ".py",
   "mimetype": "text/x-python",
   "name": "python",
   "nbconvert_exporter": "python",
   "pygments_lexer": "ipython2",
   "version": "2.7.9"
  }
 },
 "nbformat": 4,
 "nbformat_minor": 0
}
