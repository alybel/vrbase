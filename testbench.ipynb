{
 "cells": [
  {
   "cell_type": "code",
   "execution_count": 1,
   "metadata": {
    "collapsed": false
   },
   "outputs": [],
   "source": [
    "%load_ext autoreload\n",
    "%autoreload 2"
   ]
  },
  {
   "cell_type": "code",
   "execution_count": 2,
   "metadata": {
    "collapsed": false
   },
   "outputs": [
    {
     "name": "stdout",
     "output_type": "stream",
     "text": [
      "20\n",
      "loaded config from database\n",
      "{u'legoland': 7, u'jetlag': 12, u'reise': 7, u'fcBarcelona': 5, u'Reisekamera': 7, u'besteFreundin': 5, u'AllianzArenaStadiontour': 12, u'fu\\xdfballfan': 7, u'abenteuer': 5, u'gourmet': 7, u'OnceInALifetime': 12, u'HarryPotter': 7, u'reisetrend': 12, u'erlebnisreise': 7, u'Reiseliteratur': 12, u'SkylinePark': 12, u'GameOfThrones': 7, u'RucksackPacken': 12, u'Reisezubeh\\xf6r': 7, u'br\\xfcckentage': 12, u'EuropaPark': 7, u'RealMadrid': 5, u'Reiseplanung': 12, u'disneyland': 7, u'InsiderTipps': 7, u'FcBayernErlebniswelt': 12, u'freizeitpark': 12, u'Roadtrip': 7, 'parcasterix': 12, u'autostadt': 7, u'Filmreise': 7, u'lafodia': 7, u'romantik': 7, u'Reisegep\\xe4ckListe': 12, u'erlebnisreisen': 12, u'adventurerooms': 12, u'BucketList': 7, u'reiseerlebnis': 12, u'm\\xe4nnerurlaub': 7, u'action': 5, u'TropicalIslands': 12, u'Reiseapotheke': 7}\n",
      "{u'justaway': 1000, u'deal': 1000, u'schn\\xe4ppchen': 1000, u'groupon': 1000, u'sale': 1000, u'urlaubsguru': 1000, u'allinclusive': 12, u'tourvital': 1000, u'\\u20ac': 1000, u'avastama': 1000, u'Euro': 1000, u'bergeundmeer': 1000, u'travelbird': 1000, u'geschenkidee': 1000, u'job': 1000, u'EUR': 1000, u'diamir': 1000, u'jollydays': 1000, u'angebot': 1000, u'mydays': 1000, u'travador': 1000, u'urlaubspiraten': 1000, u'dawanda': 1000}\n"
     ]
    },
    {
     "data": {
      "text/plain": [
       "'2.3.0'"
      ]
     },
     "execution_count": 2,
     "metadata": {},
     "output_type": "execute_result"
    }
   ],
   "source": [
    "account = \"hiptripsde\"\n",
    "import sys\n",
    "sys.path.append(\"bluebird/\")\n",
    "import bblib as bbl\n",
    "import bbanalytics as bba\n",
    "\n",
    "import load_config\n",
    "\n",
    "cfg = load_config.load_config(account)\n",
    "\n",
    "\n",
    "\n",
    "bbl.set_cfg(cfg)\n",
    "bba.set_cfg(cfg)\n",
    "bba.initialize()\n",
    "bbl.tweepy.__version__\n",
    "#TextBuilder = bbl.BuildText(preambles=cfg.preambles, hashtags=cfg.hashtags)"
   ]
  },
  {
   "cell_type": "markdown",
   "metadata": {},
   "source": [
    "##Check Score of Tweets"
   ]
  },
  {
   "cell_type": "code",
   "execution_count": 3,
   "metadata": {
    "collapsed": true
   },
   "outputs": [],
   "source": [
    "t = \"Sisu: Melatonin (5mg) (120 Tablets) BONUS https://t.co/KnMrpDH6hr #jetlag\""
   ]
  },
  {
   "cell_type": "code",
   "execution_count": 15,
   "metadata": {
    "collapsed": false
   },
   "outputs": [],
   "source": [
    "keywords = [x.encode('utf-8', 'replace') for x in bba.manage_keywords2(cfg.keywords)]"
   ]
  },
  {
   "cell_type": "code",
   "execution_count": 18,
   "metadata": {
    "collapsed": false
   },
   "outputs": [
    {
     "data": {
      "text/plain": [
       "False"
      ]
     },
     "execution_count": 18,
     "metadata": {},
     "output_type": "execute_result"
    }
   ],
   "source": [
    "'städtereise' in keywords"
   ]
  },
  {
   "cell_type": "code",
   "execution_count": 26,
   "metadata": {
    "collapsed": false
   },
   "outputs": [
    {
     "name": "stdout",
     "output_type": "stream",
     "text": [
      "0\n",
      "Städtereise\n",
      "['st\\xc3\\xa4dtereise']\n"
     ]
    },
    {
     "data": {
      "text/plain": [
       "0"
      ]
     },
     "execution_count": 26,
     "metadata": {},
     "output_type": "execute_result"
    }
   ],
   "source": [
    "q = bba.manage_keywords2(cfg.keywords)\n"
   ]
  },
  {
   "cell_type": "code",
   "execution_count": 34,
   "metadata": {
    "collapsed": false
   },
   "outputs": [
    {
     "data": {
      "text/plain": [
       "True"
      ]
     },
     "execution_count": 34,
     "metadata": {},
     "output_type": "execute_result"
    }
   ],
   "source": [
    "'fußballfan'.decode('utf-8', 'replace') in q.keys()"
   ]
  },
  {
   "cell_type": "code",
   "execution_count": 4,
   "metadata": {
    "collapsed": false
   },
   "outputs": [
    {
     "name": "stdout",
     "output_type": "stream",
     "text": [
      "12\n",
      "Sisu: Melatonin (5mg) (120 Tablets) BONUS https://t.co/KnMrpDH6hr #jetlag\n",
      "['sisu:', 'melatonin', '(5mg)', '(120', 'tablets)', 'bonu', 'https://t', 'co/knmrpdh6hr', 'jetlag']\n"
     ]
    },
    {
     "data": {
      "text/plain": [
       "12"
      ]
     },
     "execution_count": 4,
     "metadata": {},
     "output_type": "execute_result"
    }
   ],
   "source": [
    "bba.score_tweets(t = t, verbose = True)"
   ]
  },
  {
   "cell_type": "code",
   "execution_count": 87,
   "metadata": {
    "collapsed": false
   },
   "outputs": [
    {
     "name": "stdout",
     "output_type": "stream",
     "text": [
      "22\n",
      "loaded config from database\n",
      "{u'alipay': 7, u'samsungpay': 7, u'startup': 7, u'googlewallet': 12, u'entrepreneur': 7, u'businessanalytics': 12, u'churn': 7, u'technology': 5, u'ecommerce': 7, u'predictiveanalytics': 12, u'datascientist': 12, u'applepay': 7, u'fintech': 7, u'machinelearning': 12, u'saas': 12, u'dataanalytics': 12, u'creditcard': 7, u'onlinepayment': 12, u'innovation': 5, u'finance': 7, u'datamining': 7, u'visualization': 7, u'artificialintelligence': 12, u'leadership': 7, u'venturecapital': 7, u'neuralnetwork': 12, u'payment': 7, u'bank': 7, u'fraud': 7, u'analytics': 7, u'prescriptiveanalytics': 12, u'deeplearning': 12, u'blockchain': 12, u'datascience': 12}\n",
      "{u'shop': 7, u'cheap': 12, u'francisco': 12, u'sas': 12, u'sap': 12, u'guarantee': 12, u'hiriing': 12, u'big data': 12, u'only': 12, u'music': 12, u'local': 12, u'buy': 12, u'jobs': 12, u'adverstising': 7, u'offer': 12, u'marketing': 12, u'price': 12, u'free': 12, u'discount': 12, u'job': 12, u'birthday': 12, u'opportunity': 12, u'rapidminer': 12, u'hire': 12, u'knime': 12, u'off': 12, u'ibm': 12, u'ebay': 12, u'trial': 12, u'oracle': 12, u'spss': 12}\n",
      "{u'entrepreneur': 7, u'technology': 5, u'startup': 7, u'finance': 7, u'creditcard': 7}\n"
     ]
    }
   ],
   "source": [
    "cfg = load_config.load_config(account)\n",
    "\n",
    "\n",
    "\n",
    "bbl.set_cfg(cfg)\n",
    "bba.set_cfg(cfg)\n",
    "bba.initialize()\n",
    "bbl.tweepy.__version__\n",
    "\n"
   ]
  },
  {
   "cell_type": "code",
   "execution_count": 91,
   "metadata": {
    "collapsed": false
   },
   "outputs": [],
   "source": [
    "at = bbl.build_text(url = 'https://t.co/dr2C4U8NR1')"
   ]
  },
  {
   "cell_type": "code",
   "execution_count": 92,
   "metadata": {
    "collapsed": false
   },
   "outputs": [
    {
     "data": {
      "text/plain": [
       "(u'Building a startup isn\\u2019t as risky as you think - The Globe and Mail https://t.co/dr2C4U8NR1 #entrepreneur #startup #finance',\n",
       " 28)"
      ]
     },
     "execution_count": 92,
     "metadata": {},
     "output_type": "execute_result"
    }
   ],
   "source": [
    "at"
   ]
  },
  {
   "cell_type": "code",
   "execution_count": 83,
   "metadata": {
    "collapsed": false
   },
   "outputs": [],
   "source": [
    "at = at.decode('utf-8', 'replace')"
   ]
  },
  {
   "cell_type": "code",
   "execution_count": 84,
   "metadata": {
    "collapsed": false
   },
   "outputs": [
    {
     "data": {
      "text/plain": [
       "[u'<',\n",
       " u'!',\n",
       " u'DOCTYPE',\n",
       " u'html',\n",
       " u'>',\n",
       " u'<',\n",
       " u'!',\n",
       " u'--',\n",
       " u'[',\n",
       " u'if',\n",
       " u'lt',\n",
       " u'IE',\n",
       " u'7',\n",
       " u']',\n",
       " u'>',\n",
       " u'<',\n",
       " u'html',\n",
       " u'lang=',\n",
       " u\"''\",\n",
       " u'en-ca',\n",
       " u\"''\",\n",
       " u'class=',\n",
       " u\"''\",\n",
       " u'ie6',\n",
       " u'ltie9',\n",
       " u\"''\",\n",
       " u'xmlns',\n",
       " u':',\n",
       " u'fb=',\n",
       " u\"''\",\n",
       " u'http',\n",
       " u':',\n",
       " u'//www.facebook.com/2008/fbml',\n",
       " u\"''\",\n",
       " u'>',\n",
       " u'<',\n",
       " u'!',\n",
       " u'[',\n",
       " u'endif',\n",
       " u']',\n",
       " u'--',\n",
       " u'>',\n",
       " u'<',\n",
       " u'!',\n",
       " u'--',\n",
       " u'[',\n",
       " u'if',\n",
       " u'IE',\n",
       " u'7',\n",
       " u']',\n",
       " u'>',\n",
       " u'<',\n",
       " u'html',\n",
       " u'lang=',\n",
       " u\"''\",\n",
       " u'en-ca',\n",
       " u\"''\",\n",
       " u'class=',\n",
       " u\"''\",\n",
       " u'ie7',\n",
       " u'ltie9',\n",
       " u\"''\",\n",
       " u'xmlns',\n",
       " u':',\n",
       " u'fb=',\n",
       " u\"''\",\n",
       " u'http',\n",
       " u':',\n",
       " u'//www.facebook.com/2008/fbml',\n",
       " u\"''\",\n",
       " u'>',\n",
       " u'<',\n",
       " u'!',\n",
       " u'[',\n",
       " u'endif',\n",
       " u']',\n",
       " u'--',\n",
       " u'>',\n",
       " u'<',\n",
       " u'!',\n",
       " u'--',\n",
       " u'[',\n",
       " u'if',\n",
       " u'IE',\n",
       " u'8',\n",
       " u']',\n",
       " u'>',\n",
       " u'<',\n",
       " u'html',\n",
       " u'lang=',\n",
       " u\"''\",\n",
       " u'en-ca',\n",
       " u\"''\",\n",
       " u'class=',\n",
       " u\"''\",\n",
       " u'ie8',\n",
       " u'ltie9',\n",
       " u\"''\",\n",
       " u'xmlns',\n",
       " u':',\n",
       " u'fb=',\n",
       " u\"''\",\n",
       " u'http',\n",
       " u':',\n",
       " u'//www.facebook.com/2008/fbml',\n",
       " u\"''\",\n",
       " u'>',\n",
       " u'<',\n",
       " u'!',\n",
       " u'[',\n",
       " u'endif',\n",
       " u']',\n",
       " u'--',\n",
       " u'>',\n",
       " u'<',\n",
       " u'!',\n",
       " u'--',\n",
       " u'[',\n",
       " u'if',\n",
       " u'IE',\n",
       " u'9',\n",
       " u']',\n",
       " u'>',\n",
       " u'<',\n",
       " u'html',\n",
       " u'lang=',\n",
       " u\"''\",\n",
       " u'en-ca',\n",
       " u\"''\",\n",
       " u'class=',\n",
       " u\"''\",\n",
       " u'ie9',\n",
       " u\"''\",\n",
       " u'xmlns',\n",
       " u':',\n",
       " u'fb=',\n",
       " u\"''\",\n",
       " u'http',\n",
       " u':',\n",
       " u'//www.facebook.com/2008/fbml',\n",
       " u\"''\",\n",
       " u'>',\n",
       " u'<',\n",
       " u'!',\n",
       " u'[',\n",
       " u'endif',\n",
       " u']',\n",
       " u'--',\n",
       " u'>',\n",
       " u'<',\n",
       " u'!',\n",
       " u'--',\n",
       " u'[',\n",
       " u'if',\n",
       " u'(',\n",
       " u'gt',\n",
       " u'IE',\n",
       " u'9',\n",
       " u')',\n",
       " u'|',\n",
       " u'!',\n",
       " u'(',\n",
       " u'IE',\n",
       " u')',\n",
       " u']',\n",
       " u'>',\n",
       " u'<',\n",
       " u'!',\n",
       " u'--',\n",
       " u'>',\n",
       " u'<',\n",
       " u'html',\n",
       " u'lang=',\n",
       " u\"''\",\n",
       " u'en-ca',\n",
       " u\"''\",\n",
       " u'xmlns',\n",
       " u':',\n",
       " u'fb=',\n",
       " u\"''\",\n",
       " u'http',\n",
       " u':',\n",
       " u'//www.facebook.com/2008/fbml',\n",
       " u\"''\",\n",
       " u'>',\n",
       " u'<',\n",
       " u'!',\n",
       " u'--',\n",
       " u'<',\n",
       " u'!',\n",
       " u'[',\n",
       " u'endif',\n",
       " u']',\n",
       " u'--',\n",
       " u'>',\n",
       " u'<',\n",
       " u'head',\n",
       " u'>',\n",
       " u'<',\n",
       " u'title',\n",
       " u'>',\n",
       " u'Building',\n",
       " u'a',\n",
       " u'startup',\n",
       " u'isn\\u2019t',\n",
       " u'as',\n",
       " u'risky',\n",
       " u'as',\n",
       " u'you',\n",
       " u'think',\n",
       " u'-',\n",
       " u'The',\n",
       " u'Globe',\n",
       " u'and',\n",
       " u'Mail',\n",
       " u'<',\n",
       " u'/title',\n",
       " u'>',\n",
       " u'<',\n",
       " u'link',\n",
       " u'rel=',\n",
       " u\"''\",\n",
       " u'dns-prefetch',\n",
       " u\"''\",\n",
       " u'href=',\n",
       " u\"''\",\n",
       " u'http',\n",
       " u':',\n",
       " u'//static.theglobeandmail.ca',\n",
       " u\"''\",\n",
       " u'>',\n",
       " u'<',\n",
       " u'meta',\n",
       " u'http-equiv=',\n",
       " u\"''\",\n",
       " u'X-UA-Compatible',\n",
       " u\"''\",\n",
       " u'content=',\n",
       " u\"''\",\n",
       " u'IE=edge',\n",
       " u',',\n",
       " u'chrome=1',\n",
       " u\"''\",\n",
       " u'>',\n",
       " u'<',\n",
       " u'meta',\n",
       " u'http-equiv=',\n",
       " u\"''\",\n",
       " u'content-type',\n",
       " u\"''\",\n",
       " u'content=',\n",
       " u\"''\",\n",
       " u'text/html',\n",
       " u';',\n",
       " u'charset=UTF-8',\n",
       " u\"''\",\n",
       " u'>',\n",
       " u'<',\n",
       " u'meta',\n",
       " u'http-equiv=',\n",
       " u\"''\",\n",
       " u'expires',\n",
       " u\"''\",\n",
       " u'content=',\n",
       " u\"''\",\n",
       " u'0',\n",
       " u\"''\",\n",
       " u'>',\n",
       " u'<',\n",
       " u'meta',\n",
       " u'http-equiv=',\n",
       " u\"''\",\n",
       " u'pragma',\n",
       " u\"''\",\n",
       " u'content=',\n",
       " u\"''\",\n",
       " u'no-cache',\n",
       " u\"''\",\n",
       " u'>',\n",
       " u'<',\n",
       " u'meta',\n",
       " u'http-equiv=',\n",
       " u\"''\",\n",
       " u'window-target',\n",
       " u\"''\",\n",
       " u'content=',\n",
       " u\"''\",\n",
       " u'_top',\n",
       " u\"''\",\n",
       " u'>',\n",
       " u'<',\n",
       " u'meta',\n",
       " u'http-equiv=',\n",
       " u\"''\",\n",
       " u'Content-Language',\n",
       " u\"''\",\n",
       " u'content=',\n",
       " u\"''\",\n",
       " u'en-ca',\n",
       " u\"''\",\n",
       " u'>',\n",
       " u'<',\n",
       " u'meta',\n",
       " u'name=',\n",
       " u\"''\",\n",
       " u'identifier-URL',\n",
       " u\"''\",\n",
       " u'content=',\n",
       " u\"''\",\n",
       " u'http',\n",
       " u':',\n",
       " u'//www.theglobeandmail.com',\n",
       " u\"''\",\n",
       " u'>',\n",
       " u'<',\n",
       " u'meta',\n",
       " u'name=',\n",
       " u\"''\",\n",
       " u'viewport',\n",
       " u\"''\",\n",
       " u'content=',\n",
       " u\"''\",\n",
       " u'width=device-width',\n",
       " u\"''\",\n",
       " u'>',\n",
       " u'<',\n",
       " u'meta',\n",
       " u'name=',\n",
       " u\"''\",\n",
       " u'location',\n",
       " u\"''\",\n",
       " u'content=',\n",
       " u\"''\",\n",
       " u'Canada',\n",
       " u\"''\",\n",
       " u'>',\n",
       " u'<',\n",
       " u'meta',\n",
       " u'name=',\n",
       " u\"''\",\n",
       " u'robots',\n",
       " u\"''\",\n",
       " u'content=',\n",
       " u\"''\",\n",
       " u'noarchive',\n",
       " u\"''\",\n",
       " u'>',\n",
       " u'<',\n",
       " u'meta',\n",
       " u'name=',\n",
       " u\"''\",\n",
       " u'website',\n",
       " u\"''\",\n",
       " u'content=',\n",
       " u\"''\",\n",
       " u'http',\n",
       " u':',\n",
       " u'//www.theglobeandmail.com',\n",
       " u\"''\",\n",
       " u'>',\n",
       " u'<',\n",
       " u'meta',\n",
       " u'name=',\n",
       " u\"''\",\n",
       " u'application-artifactId',\n",
       " u\"''\",\n",
       " u'content=',\n",
       " u\"''\",\n",
       " u'gam-webapp',\n",
       " u\"''\",\n",
       " u'>',\n",
       " u'<',\n",
       " u'meta',\n",
       " u'name=',\n",
       " u\"''\",\n",
       " u'application-version',\n",
       " u\"''\",\n",
       " u'content=',\n",
       " u\"''\",\n",
       " u'14.0.276',\n",
       " u\"''\",\n",
       " u'>',\n",
       " u'<',\n",
       " u'meta',\n",
       " u'name=',\n",
       " u\"''\",\n",
       " u'application-contextName',\n",
       " u\"''\",\n",
       " u'content=',\n",
       " u\"''\",\n",
       " u'globeandmail',\n",
       " u\"''\",\n",
       " u'>',\n",
       " u'<',\n",
       " u'meta',\n",
       " u'name=',\n",
       " u\"''\",\n",
       " u'last-modified',\n",
       " u\"''\",\n",
       " u'content=',\n",
       " u\"''\",\n",
       " u'2014-11-17',\n",
       " u'12:59:47',\n",
       " u'EST',\n",
       " u\"''\",\n",
       " u'>',\n",
       " u'<',\n",
       " u'meta',\n",
       " u'name=',\n",
       " u\"''\",\n",
       " u'description',\n",
       " u\"''\",\n",
       " u'content=',\n",
       " u\"''\",\n",
       " u'Entrepreneurs',\n",
       " u'have',\n",
       " u'to',\n",
       " u'do',\n",
       " u'a',\n",
       " u'better',\n",
       " u'job',\n",
       " u'of',\n",
       " u'revealing',\n",
       " u'some',\n",
       " u'of',\n",
       " u'their',\n",
       " u'secret',\n",
       " u'sauce',\n",
       " u'and',\n",
       " u'understand',\n",
       " u'that',\n",
       " u',',\n",
       " u'while',\n",
       " u'sharing',\n",
       " u'knowledge',\n",
       " u'may',\n",
       " u'limit',\n",
       " u'your',\n",
       " u'individual',\n",
       " u'advantage',\n",
       " u',',\n",
       " u'it',\n",
       " u'benefits',\n",
       " u'the',\n",
       " u'community',\n",
       " u'in',\n",
       " u'the',\n",
       " u'long-run',\n",
       " u\"''\",\n",
       " u'>',\n",
       " u'<',\n",
       " u'meta',\n",
       " u'name=',\n",
       " u\"''\",\n",
       " u'keywords',\n",
       " u\"''\",\n",
       " u'content=',\n",
       " u\"''\",\n",
       " u'canadian',\n",
       " u'news',\n",
       " u',',\n",
       " u'national',\n",
       " u'newspaper',\n",
       " u',',\n",
       " u'daily',\n",
       " u'news',\n",
       " u',',\n",
       " u'breaking',\n",
       " u'news',\n",
       " u',',\n",
       " u'political',\n",
       " u'news',\n",
       " u',',\n",
       " u'world',\n",
       " u'news',\n",
       " u',',\n",
       " u'canadian',\n",
       " u'business',\n",
       " u'news',\n",
       " u',',\n",
       " u'canadian',\n",
       " u'newspapers',\n",
       " u'online',\n",
       " u',',\n",
       " u'international',\n",
       " u'news',\n",
       " u',',\n",
       " u'report',\n",
       " u'on',\n",
       " u'business',\n",
       " u',',\n",
       " u'national',\n",
       " u'news',\n",
       " u',',\n",
       " u'canadian',\n",
       " u'sports',\n",
       " u',',\n",
       " u'travel',\n",
       " u'information',\n",
       " u',',\n",
       " u'globe',\n",
       " u'and',\n",
       " u'mail',\n",
       " u',',\n",
       " u'globe',\n",
       " u'&',\n",
       " u'mail',\n",
       " u\"''\",\n",
       " u'>',\n",
       " u'<',\n",
       " u'meta',\n",
       " u'name=',\n",
       " u\"''\",\n",
       " u'article',\n",
       " u':',\n",
       " u'id',\n",
       " u\"''\",\n",
       " u'content=',\n",
       " u\"''\",\n",
       " u'21612683',\n",
       " u\"''\",\n",
       " u'/',\n",
       " u'>',\n",
       " u'<',\n",
       " u'meta',\n",
       " u'name=',\n",
       " u\"''\",\n",
       " u'article',\n",
       " u':',\n",
       " u'type',\n",
       " u\"''\",\n",
       " u'content=',\n",
       " u\"''\",\n",
       " u'column',\n",
       " u\"''\",\n",
       " u'/',\n",
       " u'>',\n",
       " u'<',\n",
       " u'meta',\n",
       " u'name=',\n",
       " u\"''\",\n",
       " u'article',\n",
       " u':',\n",
       " u'comments',\n",
       " u\"''\",\n",
       " u'content=',\n",
       " u\"''\",\n",
       " u'false',\n",
       " u\"''\",\n",
       " u'/',\n",
       " u'>',\n",
       " u'<',\n",
       " u'meta',\n",
       " u'name=',\n",
       " u\"''\",\n",
       " u'article',\n",
       " u':',\n",
       " u'engagement',\n",
       " u\"''\",\n",
       " u'content=',\n",
       " u\"''\",\n",
       " u'true',\n",
       " u\"''\",\n",
       " u'/',\n",
       " u'>',\n",
       " u'<',\n",
       " u'meta',\n",
       " u'name=',\n",
       " u\"''\",\n",
       " u'article',\n",
       " u':',\n",
       " u'pages',\n",
       " u\"''\",\n",
       " u'content=',\n",
       " u\"''\",\n",
       " u'1',\n",
       " u\"''\",\n",
       " u'/',\n",
       " u'>',\n",
       " u'<',\n",
       " u'meta',\n",
       " u'name=',\n",
       " u\"''\",\n",
       " u'article',\n",
       " u':',\n",
       " u'onpage',\n",
       " u\"''\",\n",
       " u'content=',\n",
       " u\"''\",\n",
       " u\"''\",\n",
       " u'/',\n",
       " u'>',\n",
       " u'<',\n",
       " u'meta',\n",
       " u'property=',\n",
       " u\"''\",\n",
       " u'fb',\n",
       " u':',\n",
       " u'app_id',\n",
       " u\"''\",\n",
       " u'content=',\n",
       " u\"''\",\n",
       " u'126045934076200',\n",
       " u\"''\",\n",
       " u'>',\n",
       " u'<',\n",
       " u'meta',\n",
       " u'property=',\n",
       " u\"''\",\n",
       " u'og',\n",
       " u':',\n",
       " u'site_name',\n",
       " u\"''\",\n",
       " u'content=',\n",
       " u\"''\",\n",
       " u'The',\n",
       " u'Globe',\n",
       " u'and',\n",
       " u'Mail',\n",
       " u\"''\",\n",
       " u'>',\n",
       " u'<',\n",
       " u'meta',\n",
       " u'property=',\n",
       " u\"''\",\n",
       " u'og',\n",
       " u':',\n",
       " u'title',\n",
       " u\"''\",\n",
       " u'content=',\n",
       " u\"''\",\n",
       " u'Building',\n",
       " u'a',\n",
       " u'startup',\n",
       " u'isn\\u2019t',\n",
       " u'as',\n",
       " u'risky',\n",
       " u'as',\n",
       " u'you',\n",
       " u'think',\n",
       " u\"''\",\n",
       " u'>',\n",
       " u'<',\n",
       " u'meta',\n",
       " u'property=',\n",
       " u\"''\",\n",
       " u'og',\n",
       " u':',\n",
       " u'url',\n",
       " u\"''\",\n",
       " u'content=',\n",
       " u\"''\",\n",
       " u'http',\n",
       " u':',\n",
       " u'//www.theglobeandmail.com/report-on-business/small-business/building-a-startup-isnt-as-risky-as-you-think/article21612683/',\n",
       " u\"''\",\n",
       " u'>',\n",
       " u'<',\n",
       " u'meta',\n",
       " u'property=',\n",
       " u\"''\",\n",
       " u'og',\n",
       " u':',\n",
       " u'description',\n",
       " u\"''\",\n",
       " u'content=',\n",
       " u\"''\",\n",
       " u'Entrepreneurs',\n",
       " u'have',\n",
       " u'to',\n",
       " u'do',\n",
       " u'a',\n",
       " u'better',\n",
       " u'job',\n",
       " u'of',\n",
       " u'revealing',\n",
       " u'some',\n",
       " u'of',\n",
       " u'their',\n",
       " u'secret',\n",
       " u'sauce',\n",
       " u'and',\n",
       " u'understand',\n",
       " u'that',\n",
       " u',',\n",
       " u'while',\n",
       " u'sharing',\n",
       " u'knowledge',\n",
       " u'may',\n",
       " u'limit',\n",
       " u'your',\n",
       " u'individual',\n",
       " u'advantage',\n",
       " u',',\n",
       " u'it',\n",
       " u'benefits',\n",
       " u'the',\n",
       " u'community',\n",
       " u'in',\n",
       " u'the',\n",
       " u'long-run',\n",
       " u\"''\",\n",
       " u'>',\n",
       " u'<',\n",
       " u'meta',\n",
       " u'property=',\n",
       " u\"''\",\n",
       " u'og',\n",
       " u':',\n",
       " u'type',\n",
       " u\"''\",\n",
       " u'content=',\n",
       " u\"''\",\n",
       " u'article',\n",
       " u\"''\",\n",
       " u'>',\n",
       " u'<',\n",
       " u'meta',\n",
       " u'property=',\n",
       " u\"''\",\n",
       " u'og',\n",
       " u':',\n",
       " u'image',\n",
       " u\"''\",\n",
       " u'content=',\n",
       " u\"''\",\n",
       " u'http',\n",
       " u':',\n",
       " u'//static.theglobeandmail.ca/770/report-on-business/small-business/article21612682.ece/ALTERNATES/w620/95startup.jpg',\n",
       " u\"''\",\n",
       " u'>',\n",
       " u'<',\n",
       " u'meta',\n",
       " u'property=',\n",
       " u\"''\",\n",
       " u'twitter',\n",
       " u':',\n",
       " u'account_id',\n",
       " u\"''\",\n",
       " u'content=',\n",
       " u\"''\",\n",
       " u'1512948019',\n",
       " u\"''\",\n",
       " u'/',\n",
       " u'>',\n",
       " u'<',\n",
       " u'meta',\n",
       " u'name=',\n",
       " u\"''\",\n",
       " u'apple-itunes-app',\n",
       " u\"''\",\n",
       " u'content=',\n",
       " u\"''\",\n",
       " u'app-id=429228415',\n",
       " u\"''\",\n",
       " u'>',\n",
       " u'<',\n",
       " u'!',\n",
       " u'--',\n",
       " u'[',\n",
       " u'if',\n",
       " u'IE',\n",
       " u']',\n",
       " u'>',\n",
       " u'<',\n",
       " u'meta',\n",
       " u'http-equiv=',\n",
       " u\"''\",\n",
       " u'imagetoolbar',\n",
       " u\"''\",\n",
       " u'content=',\n",
       " u\"''\",\n",
       " u'no',\n",
       " u\"''\",\n",
       " u'>',\n",
       " u'<',\n",
       " u'!',\n",
       " u'[',\n",
       " u'endif',\n",
       " u']',\n",
       " u'--',\n",
       " u'>',\n",
       " u'<',\n",
       " u'!',\n",
       " u'--',\n",
       " u'[',\n",
       " u'if',\n",
       " u'gt',\n",
       " u'IE',\n",
       " u'8',\n",
       " u']',\n",
       " u'>',\n",
       " u'<',\n",
       " u'meta',\n",
       " u'name=',\n",
       " u\"''\",\n",
       " u'application-name',\n",
       " u\"''\",\n",
       " u'content=',\n",
       " u\"''\",\n",
       " u'The',\n",
       " u'Globe',\n",
       " u'and',\n",
       " u'Mail',\n",
       " u\"''\",\n",
       " u'>',\n",
       " u'<',\n",
       " u'meta',\n",
       " u'name=',\n",
       " u\"''\",\n",
       " u'msapplication-tooltip',\n",
       " u\"''\",\n",
       " u'content=',\n",
       " u\"''\",\n",
       " u'See',\n",
       " u'the',\n",
       " u'latest',\n",
       " u'news',\n",
       " u'from',\n",
       " u'The',\n",
       " u'Globe',\n",
       " u'and',\n",
       " u'Mail',\n",
       " u\"''\",\n",
       " u'>',\n",
       " u'<',\n",
       " u'meta',\n",
       " u'name=',\n",
       " u\"''\",\n",
       " u'msapplication-starturl',\n",
       " u\"''\",\n",
       " u'content=',\n",
       " u\"''\",\n",
       " u'http',\n",
       " u':',\n",
       " u'//www.theglobeandmail.com/',\n",
       " u\"''\",\n",
       " u'>',\n",
       " u'<',\n",
       " u'meta',\n",
       " u'name=',\n",
       " u\"''\",\n",
       " u'msapplication-navbutton-color',\n",
       " u\"''\",\n",
       " u'content=',\n",
       " u\"''\",\n",
       " u'#',\n",
       " u'FF0000',\n",
       " u\"''\",\n",
       " u'>',\n",
       " u'<',\n",
       " u'meta',\n",
       " u'name=',\n",
       " u\"''\",\n",
       " u'msapplication-task',\n",
       " u\"''\",\n",
       " u'content=',\n",
       " u\"''\",\n",
       " u'name=Read',\n",
       " u'the',\n",
       " u'latest',\n",
       " u'news',\n",
       " u';',\n",
       " u'action-uri=http',\n",
       " u':',\n",
       " u'//www.theglobeandmail.com/',\n",
       " u';',\n",
       " u'icon-uri=http',\n",
       " u':',\n",
       " u'//beta.images.theglobeandmail.com/media/www/images/flag/favicon.ico',\n",
       " u\"''\",\n",
       " u'>',\n",
       " u'<',\n",
       " u'meta',\n",
       " u'name=',\n",
       " u\"''\",\n",
       " u'msapplication-task',\n",
       " u\"''\",\n",
       " u'content=',\n",
       " u\"''\",\n",
       " u'name=Check',\n",
       " u'your',\n",
       " u'investments',\n",
       " u';',\n",
       " u'action-uri=http',\n",
       " u':',\n",
       " u'//www.theglobeandmail.com/globe-investor/my-watchlist/',\n",
       " u';',\n",
       " u'icon-uri=http',\n",
       " u':',\n",
       " u'//beta.images.theglobeandmail.com/media/www/images/flag/favicon.ico',\n",
       " u\"''\",\n",
       " u'>',\n",
       " u'<',\n",
       " u'meta',\n",
       " u'name=',\n",
       " u\"''\",\n",
       " u'msapplication-task',\n",
       " u\"''\",\n",
       " u'content=',\n",
       " u\"''\",\n",
       " u'name=Ask',\n",
       " u'a',\n",
       " u'health',\n",
       " u'expert',\n",
       " u';',\n",
       " u'action-uri=http',\n",
       " u':',\n",
       " u'//www.theglobeandmail.com/life/health-and-fitness/ask-a-health-expert/',\n",
       " u';',\n",
       " u'icon-uri=http',\n",
       " u':',\n",
       " u'//beta.images.theglobeandmail.com/media/www/images/flag/favicon.ico',\n",
       " u\"''\",\n",
       " u'>',\n",
       " u'<',\n",
       " u'meta',\n",
       " u'name=',\n",
       " u\"''\",\n",
       " u'msapplication-task',\n",
       " u\"''\",\n",
       " u'content=',\n",
       " u\"''\",\n",
       " u'name=See',\n",
       " u'the',\n",
       " u'editorial',\n",
       " u'cartoons',\n",
       " u';',\n",
       " u'action-uri=http',\n",
       " u':',\n",
       " u'//www.theglobeandmail.com/globe-debate/',\n",
       " u';',\n",
       " u'icon-uri=http',\n",
       " u':',\n",
       " u'//beta.images.theglobeandmail.com/media/www/images/flag/favicon.ico',\n",
       " u\"''\",\n",
       " u'>',\n",
       " u'<',\n",
       " u'meta',\n",
       " u'name=',\n",
       " u\"''\",\n",
       " u'msapplication-task',\n",
       " u\"''\",\n",
       " u'content=',\n",
       " u\"''\",\n",
       " u'name=Do',\n",
       " u'a',\n",
       " u'puzzle',\n",
       " u'or',\n",
       " u'crossword',\n",
       " u';',\n",
       " u'action-uri=http',\n",
       " u':',\n",
       " u'//www.theglobeandmail.com/puzzles-and-crosswords/',\n",
       " u';',\n",
       " u'icon-uri=http',\n",
       " u':',\n",
       " u'//beta.images.theglobeandmail.com/media/www/images/flag/favicon.ico',\n",
       " u\"''\",\n",
       " u'>',\n",
       " u'<',\n",
       " u'!',\n",
       " u'[',\n",
       " u'endif',\n",
       " u']',\n",
       " u'--',\n",
       " u'>',\n",
       " u'<',\n",
       " u'link',\n",
       " u'rel=',\n",
       " u\"''\",\n",
       " u'canonical',\n",
       " u\"''\",\n",
       " u'href=',\n",
       " u\"''\",\n",
       " u'http',\n",
       " u':',\n",
       " u'//www.theglobeandmail.com/report-on-business/small-business/building-a-startup-isnt-as-risky-as-you-think/article21612683/',\n",
       " u\"''\",\n",
       " u'/',\n",
       " u'>',\n",
       " u'<',\n",
       " u'link',\n",
       " u'rel=',\n",
       " u\"''\",\n",
       " u'alternate',\n",
       " u\"''\",\n",
       " u'media=',\n",
       " u\"''\",\n",
       " u'only',\n",
       " u'screen',\n",
       " u'and',\n",
       " u'(',\n",
       " u'max-width',\n",
       " u':',\n",
       " u'640px',\n",
       " u')',\n",
       " u\"''\",\n",
       " u'href=',\n",
       " u\"''\",\n",
       " ...]"
      ]
     },
     "execution_count": 84,
     "metadata": {},
     "output_type": "execute_result"
    }
   ],
   "source": [
    "nltk.word_tokenize(at)"
   ]
  },
  {
   "cell_type": "code",
   "execution_count": 75,
   "metadata": {
    "collapsed": false
   },
   "outputs": [
    {
     "data": {
      "text/plain": [
       "(None, -4)"
      ]
     },
     "execution_count": 75,
     "metadata": {},
     "output_type": "execute_result"
    }
   ],
   "source": [
    "tt"
   ]
  },
  {
   "cell_type": "code",
   "execution_count": 71,
   "metadata": {
    "collapsed": false
   },
   "outputs": [],
   "source": [
    "a = unicode('hallo')"
   ]
  },
  {
   "cell_type": "code",
   "execution_count": 73,
   "metadata": {
    "collapsed": false
   },
   "outputs": [
    {
     "data": {
      "text/plain": [
       "[u'hallo']"
      ]
     },
     "execution_count": 73,
     "metadata": {},
     "output_type": "execute_result"
    }
   ],
   "source": [
    "a.split(' ')"
   ]
  },
  {
   "cell_type": "code",
   "execution_count": 45,
   "metadata": {
    "collapsed": false
   },
   "outputs": [],
   "source": [
    "import nltk"
   ]
  },
  {
   "cell_type": "code",
   "execution_count": 46,
   "metadata": {
    "collapsed": true
   },
   "outputs": [],
   "source": [
    "token = nltk.word_tokenize(\"\")"
   ]
  },
  {
   "cell_type": "code",
   "execution_count": 27,
   "metadata": {
    "collapsed": false
   },
   "outputs": [
    {
     "data": {
      "text/plain": [
       "'Building a startup isn\\xe2\\x80\\x99t as risky as you think - The Globe and Mail https://t.co/dr2C4U8NR1'"
      ]
     },
     "execution_count": 27,
     "metadata": {},
     "output_type": "execute_result"
    }
   ],
   "source": [
    "tt.encode('utf-8')"
   ]
  },
  {
   "cell_type": "code",
   "execution_count": 7,
   "metadata": {
    "collapsed": false
   },
   "outputs": [],
   "source": [
    "auth, api = bblib.connect_app_to_twitter()"
   ]
  },
  {
   "cell_type": "code",
   "execution_count": 8,
   "metadata": {
    "collapsed": false
   },
   "outputs": [],
   "source": [
    "tl = api.user_timeline(screen_name = account, count = 200)"
   ]
  },
  {
   "cell_type": "code",
   "execution_count": 11,
   "metadata": {
    "collapsed": true
   },
   "outputs": [],
   "source": [
    "import json"
   ]
  },
  {
   "cell_type": "code",
   "execution_count": 27,
   "metadata": {
    "collapsed": false
   },
   "outputs": [
    {
     "data": {
      "text/plain": [
       "3600"
      ]
     },
     "execution_count": 27,
     "metadata": {},
     "output_type": "execute_result"
    }
   ],
   "source": [
    "User = bblib.get_info_from_account_id(api, 'valureach')\n",
    "User.followers_count"
   ]
  },
  {
   "cell_type": "code",
   "execution_count": 18,
   "metadata": {
    "collapsed": false
   },
   "outputs": [
    {
     "data": {
      "text/plain": [
       "561471163785023489"
      ]
     },
     "execution_count": 18,
     "metadata": {},
     "output_type": "execute_result"
    }
   ],
   "source": [
    "tl[-1].id"
   ]
  },
  {
   "cell_type": "code",
   "execution_count": 19,
   "metadata": {
    "collapsed": false
   },
   "outputs": [],
   "source": [
    "tl2 = api.user_timeline(screen_name = account, count = 200, max_id =561471163785023489 )"
   ]
  },
  {
   "cell_type": "code",
   "execution_count": 20,
   "metadata": {
    "collapsed": false
   },
   "outputs": [
    {
     "data": {
      "text/plain": [
       "59"
      ]
     },
     "execution_count": 20,
     "metadata": {},
     "output_type": "execute_result"
    }
   ],
   "source": [
    "len(tl2)"
   ]
  },
  {
   "cell_type": "code",
   "execution_count": 29,
   "metadata": {
    "collapsed": false
   },
   "outputs": [
    {
     "data": {
      "text/plain": [
       "[<tweepy.models.Status at 0x104d312d0>]"
      ]
     },
     "execution_count": 29,
     "metadata": {},
     "output_type": "execute_result"
    }
   ],
   "source": [
    "api.retweets_of_me()"
   ]
  },
  {
   "cell_type": "code",
   "execution_count": 25,
   "metadata": {
    "collapsed": false
   },
   "outputs": [
    {
     "data": {
      "text/plain": [
       "1"
      ]
     },
     "execution_count": 25,
     "metadata": {},
     "output_type": "execute_result"
    }
   ],
   "source": [
    "len(q)"
   ]
  },
  {
   "cell_type": "code",
   "execution_count": 31,
   "metadata": {
    "collapsed": false
   },
   "outputs": [],
   "source": []
  },
  {
   "cell_type": "code",
   "execution_count": 32,
   "metadata": {
    "collapsed": false
   },
   "outputs": [
    {
     "data": {
      "text/plain": [
       "'2.1'"
      ]
     },
     "execution_count": 32,
     "metadata": {},
     "output_type": "execute_result"
    }
   ],
   "source": []
  },
  {
   "cell_type": "code",
   "execution_count": 36,
   "metadata": {
    "collapsed": false
   },
   "outputs": [],
   "source": [
    "me = api.me()"
   ]
  },
  {
   "cell_type": "code",
   "execution_count": 37,
   "metadata": {
    "collapsed": false
   },
   "outputs": [
    {
     "data": {
      "text/plain": [
       "318"
      ]
     },
     "execution_count": 37,
     "metadata": {},
     "output_type": "execute_result"
    }
   ],
   "source": [
    "me.statuses_count"
   ]
  },
  {
   "cell_type": "markdown",
   "metadata": {
    "collapsed": false
   },
   "source": [
    "### Debug Build Tweet"
   ]
  },
  {
   "cell_type": "code",
   "execution_count": 15,
   "metadata": {
    "collapsed": true
   },
   "outputs": [],
   "source": [
    "url = \"https://t.co/guY49zxC8x\""
   ]
  },
  {
   "cell_type": "code",
   "execution_count": 16,
   "metadata": {
    "collapsed": false
   },
   "outputs": [],
   "source": [
    "BT = bbl.BuildText([], [])"
   ]
  },
  {
   "cell_type": "code",
   "execution_count": 14,
   "metadata": {
    "collapsed": false
   },
   "outputs": [],
   "source": [
    "html = BT.get_ws_html(url)"
   ]
  },
  {
   "cell_type": "code",
   "execution_count": 17,
   "metadata": {
    "collapsed": false
   },
   "outputs": [
    {
     "name": "stderr",
     "output_type": "stream",
     "text": [
      "ERROR:logger:in get_title_from_website, lxml.html fails\n"
     ]
    }
   ],
   "source": [
    "text, score = BT.build_text(url, debug=True)"
   ]
  },
  {
   "cell_type": "code",
   "execution_count": 30,
   "metadata": {
    "collapsed": false
   },
   "outputs": [
    {
     "data": {
      "text/plain": [
       "(None, 0)"
      ]
     },
     "execution_count": 30,
     "metadata": {},
     "output_type": "execute_result"
    }
   ],
   "source": [
    "text, score"
   ]
  },
  {
   "cell_type": "code",
   "execution_count": 42,
   "metadata": {
    "collapsed": false
   },
   "outputs": [],
   "source": [
    "import pickle"
   ]
  },
  {
   "cell_type": "code",
   "execution_count": 44,
   "metadata": {
    "collapsed": false
   },
   "outputs": [],
   "source": [
    "with open('pickle.sav', 'w') as f: \n",
    "    pickle.dump(html, f)"
   ]
  },
  {
   "cell_type": "code",
   "execution_count": 9,
   "metadata": {
    "collapsed": false
   },
   "outputs": [],
   "source": [
    "from bs4 import UnicodeDammit"
   ]
  },
  {
   "cell_type": "code",
   "execution_count": null,
   "metadata": {
    "collapsed": true
   },
   "outputs": [],
   "source": [
    "UnicodeDammit."
   ]
  },
  {
   "cell_type": "code",
   "execution_count": 4,
   "metadata": {
    "collapsed": false
   },
   "outputs": [
    {
     "data": {
      "text/plain": [
       "(None, 0)"
      ]
     },
     "execution_count": 4,
     "metadata": {},
     "output_type": "execute_result"
    }
   ],
   "source": [
    "BT.build_text(url)"
   ]
  },
  {
   "cell_type": "code",
   "execution_count": 19,
   "metadata": {
    "collapsed": false
   },
   "outputs": [
    {
     "data": {
      "text/plain": [
       "<lxml.etree._ElementTree at 0x1080d1320>"
      ]
     },
     "execution_count": 19,
     "metadata": {},
     "output_type": "execute_result"
    }
   ],
   "source": [
    "ws"
   ]
  },
  {
   "cell_type": "code",
   "execution_count": 20,
   "metadata": {
    "collapsed": false
   },
   "outputs": [
    {
     "name": "stdout",
     "output_type": "stream",
     "text": [
      "<lxml.etree._ElementTree object at 0x1080d1320>\n"
     ]
    }
   ],
   "source": [
    "print ws"
   ]
  },
  {
   "cell_type": "code",
   "execution_count": 22,
   "metadata": {
    "collapsed": true
   },
   "outputs": [],
   "source": [
    "from lxml import etree"
   ]
  },
  {
   "cell_type": "code",
   "execution_count": null,
   "metadata": {
    "collapsed": false
   },
   "outputs": [],
   "source": [
    "result = etree.tostring(ws.getroot(), pretty_print=False, method=\"html\")\n",
    "print(result)"
   ]
  },
  {
   "cell_type": "code",
   "execution_count": 2,
   "metadata": {
    "collapsed": false
   },
   "outputs": [],
   "source": [
    "import nltk\n",
    "from nltk import bigrams\n",
    "from nltk.util import ngrams\n"
   ]
  },
  {
   "cell_type": "code",
   "execution_count": 3,
   "metadata": {
    "collapsed": false
   },
   "outputs": [
    {
     "name": "stdout",
     "output_type": "stream",
     "text": [
      "<generator object bigrams at 0x11190b4b0>\n"
     ]
    }
   ],
   "source": [
    "string = \"I really like python, it's pretty awesome.\"\n",
    "string_bigrams = bigrams(string)\n",
    "print string_bigrams"
   ]
  },
  {
   "cell_type": "code",
   "execution_count": 4,
   "metadata": {
    "collapsed": true
   },
   "outputs": [],
   "source": [
    "token = nltk.word_tokenize(string)\n",
    "sb = ngrams(token,2)"
   ]
  },
  {
   "cell_type": "code",
   "execution_count": 5,
   "metadata": {
    "collapsed": false
   },
   "outputs": [
    {
     "name": "stdout",
     "output_type": "stream",
     "text": [
      "Ireally\n",
      "reallylike\n",
      "likepython\n",
      "python,\n",
      ",it\n",
      "it's\n",
      "'spretty\n",
      "prettyawesome\n",
      "awesome.\n"
     ]
    }
   ],
   "source": [
    "for w1, w2 in ngrams(token,2):\n",
    "        print w1+w2"
   ]
  },
  {
   "cell_type": "code",
   "execution_count": 9,
   "metadata": {
    "collapsed": false
   },
   "outputs": [
    {
     "data": {
      "text/plain": [
       "('I', 'really')"
      ]
     },
     "execution_count": 9,
     "metadata": {},
     "output_type": "execute_result"
    }
   ],
   "source": [
    "sb.next()"
   ]
  },
  {
   "cell_type": "code",
   "execution_count": 12,
   "metadata": {
    "collapsed": false
   },
   "outputs": [
    {
     "name": "stdout",
     "output_type": "stream",
     "text": [
      "<generator object ngrams at 0x10c4e5280>\n"
     ]
    }
   ],
   "source": [
    "print sb"
   ]
  },
  {
   "cell_type": "code",
   "execution_count": 1,
   "metadata": {
    "collapsed": true
   },
   "outputs": [],
   "source": [
    "import requests"
   ]
  },
  {
   "cell_type": "code",
   "execution_count": 8,
   "metadata": {
    "collapsed": false
   },
   "outputs": [],
   "source": [
    "r = requests.get('http://www.analyticbridge.com/profiles/blogs/why-analytics-needs-the-human-element', timeout = 1)"
   ]
  },
  {
   "cell_type": "code",
   "execution_count": 6,
   "metadata": {
    "collapsed": false
   },
   "outputs": [
    {
     "data": {
      "text/plain": [
       "u'<!DOCTYPE html>\\n<html lang=\"en\" xmlns:og=\"http://ogp.me/ns#\" xmlns:fb=\"http://www.facebook.com/2008/fbml\">\\n<head data-layout-view=\"default\" class=\"xj_layout_head\">    <meta http-equiv=\"Content-Type\" content=\"text/html; charset=utf-8\" />\\n    <title>Why Analytics Needs The Human Element - AnalyticBridge</title>\\n    <link rel=\"icon\" href=\"/favicon.ico\" type=\"image/x-icon\" />\\n    <link rel=\"SHORTCUT ICON\" href=\"/favicon.ico\" type=\"image/x-icon\" />\\n    <meta name=\"description\" content=\"Big data is now, more or less, an accepted fact of business, and all companies are collecting it to some degree. Collection is, however, the easy part. Analyzi\\u2026\" />\\n<meta name=\"title\" content=\"Why Analytics Needs The Human Element\" />\\n<meta property=\"og:type\" content=\"website\" />\\n<meta property=\"og:url\" content=\"http://www.analyticbridge.com/profiles/blogs/why-analytics-needs-the-human-element\" />\\n<meta property=\"og:title\" content=\"Why Analytics Needs The Human Element\" />\\n<link rel=\"image_src\" href=\"http://api.ning.com/icons/appatar/2004291?default=2004291&amp;width=64&amp;height=64\" />\\n<script type=\"text/javascript\">\\n    djConfig = { baseScriptUri: \\'http://www.analyticbridge.com/xn/static-6.11.8.1/js/dojo-0.3.1-ning/\\', isDebug: false }\\nning = {\"CurrentApp\":{\"premium\":true,\"iconUrl\":\"http:\\\\/\\\\/api.ning.com\\\\/icons\\\\/appatar\\\\/2004291?default=2004291&width=64&height=64\",\"url\":\"http:\\\\/\\\\/datashaping.ning.com\",\"domains\":[\"analyticbridge.com\"],\"online\":true,\"privateSource\":true,\"id\":\"datashaping\",\"appId\":\"2004291\",\"description\":\"Data Science Central Channel for Business Analytics, Data Intelligence, Predictive Modeling, Operations Research, Data Mining.\",\"name\":\"AnalyticBridge\",\"owner\":\"vi0zmqyuk8ci\",\"createdDate\":\"2008-02-16T00:47:51.275Z\",\"runOwnAds\":false,\"category\":{\"big data\":null,\"data science\":null,\"business analytics\":null,\"predictive modeling\":null,\"data visualization\":null,\"analytics\":null,\"data mining\":null,\"machine learning\":null},\"tags\":[\"big data\",\"data science\",\"business analytics\",\"predictive modeling\",\"data visualization\",\"analytics\",\"data mining\",\"machine learning\"]},\"CurrentProfile\":null,\"maxFileUploadSize\":7};\\n        (function(){\\n            if (!window.ning) { return; }\\n\\n            var age, gender, rand, obfuscated, combined;\\n\\n            obfuscated = document.cookie.match(/xgdi=([^;]+)/);\\n            if (obfuscated) {\\n                var offset = 100000;\\n                obfuscated = parseInt(obfuscated[1]);\\n                rand = obfuscated / offset;\\n                combined = (obfuscated % offset) ^ rand;\\n                age = combined % 1000;\\n                gender = (combined / 1000) & 3;\\n                gender = (gender == 1 ? \\'m\\' : gender == 2 ? \\'f\\' : 0);\\n                ning.viewer = {\"age\":age,\"gender\":gender};\\n            }\\n        })();\\n\\n        if (window.location.hash.indexOf(\\'#!/\\') == 0) {\\n        window.location.replace(window.location.hash.substr(2));\\n    }\\n    window.xg = window.xg || {};\\nxg.addOnRequire = function(f) { xg.addOnRequire.functions.push(f); };\\nxg.addOnRequire.functions = [];\\nxg.addOnFacebookLoad = function (f) { xg.addOnFacebookLoad.functions.push(f); };\\nxg.addOnFacebookLoad.functions = [];\\nxg._loader = {\\n    p: 0,\\n    loading: function(set) { this.p++; },\\n    onLoad: function(set) {\\n        this.p--;\\n        if (this.p == 0 && typeof(xg._loader.onDone) == \\'function\\') {\\n            xg._loader.onDone();\\n        }\\n    }\\n};\\nxg._loader.loading(\\'xnloader\\');\\nif (window.bzplcm) {\\n    window.bzplcm._profileCount = 0;\\n    window.bzplcm._profileSend = function() { if (window.bzplcm._profileCount++ == 1) window.bzplcm.send(); };\\n}\\nxg._loader.onDone = function() {\\n        if(window.bzplcm)window.bzplcm.start(\\'ni\\');\\n        xg.shared.util.parseWidgets();    var addOnRequireFunctions = xg.addOnRequire.functions;\\n    xg.addOnRequire = function(f) { f(); };\\n    try {\\n        if (addOnRequireFunctions) { dojo.lang.forEach(addOnRequireFunctions, function(onRequire) { onRequire.apply(); }); }\\n    } catch (e) {\\n        if(window.bzplcm)window.bzplcm.ts(\\'nx\\').send();\\n        throw e;\\n    }\\n    if(window.bzplcm) { window.bzplcm.stop(\\'ni\\'); window.bzplcm._profileSend(); }\\n};\\nwindow.xn = { track: { _globals: { screen_name: null, subdomain: \"datashaping\", is_owner: false, is_admin: false, is_member: false, join_date: 0, request_method: \"GET\", trace: \"d2edc642-0877-4994-858e-d4db591f01b6\"}, event: function() {}, pageView: function() {}, registerCompletedFlow: function() {}, registerError: function() {}, timer: function() { return { lapTime: function() {} }; }, _trackingHost: \"coll.ning.com\", _jsDebug: false } };</script>\\n<meta name=\"medium\" content=\"blog\" /><link rel=\"alternate\" type=\"application/atom+xml\" title=\"Sam Button&#039;s Posts - AnalyticBridge\" href=\"http://www.analyticbridge.com/profiles/blog/feed?user=1ks85i4wgushp&amp;xn_auth=no\" /><link rel=\"alternate\" type=\"application/atom+xml\" title=\"Comments - Why Analytics Needs The Human Element - AnalyticBridge\" href=\"http://www.analyticbridge.com/profiles/comment/feed?attachedTo=2004291%3ABlogPost%3A336968&amp;xn_auth=no\" /><link rel=\"alternate\" type=\"application/rss+xml\" title=\"On Hadoop - AnalyticBridge\" href=\"http://www.hadoop360.com/blog/list/featured\" />\\n<style type=\"text/css\" media=\"screen,projection\">\\n@import url(http://static.ning.com/socialnetworkmain/widgets/index/css/common-982.min.css?xn_version=2665753446);\\n@import url(http://static.ning.com/socialnetworkmain/widgets/profiles/css/component.min.css?xn_version=2871767745);\\n\\n</style>\\n\\n<style type=\"text/css\" media=\"screen,projection\">\\n@import url(http://api.ning.com:80/files/FbzLmqb7FY4BMNfZ-2i9Bc59tXS3cKMJGS*oAtPrhaQ-S0lO6x-Gmd346tpOhavN5LVxHR5bgus2XcIQnOgWzRRklLs-C6yN/1154092854.css?xn_version=201511092056);\\n\\n</style>\\n\\n<style type=\"text/css\" media=\"screen,projection\">\\n@import url(http://api.ning.com:80/files/HIUOh5bCM1g9P0gdeHWANmQlNbOxovdvIssgBbnM5X6lKfPuWxFTW4z7obuGAGe7hyx3Ukp55oJPT76X8xzqweXJEBDfFLrT/1154122501.css?xn_version=201511092056);\\n\\n</style>\\n\\n<!--[if IE 6]>\\n    <link rel=\"stylesheet\" type=\"text/css\" href=\"http://static.ning.com/socialnetworkmain/widgets/index/css/common-ie6.min.css?xn_version=1394342931\" />\\n<![endif]-->\\n<!--[if IE 7]>\\n<link rel=\"stylesheet\" type=\"text/css\" href=\"http://static.ning.com/socialnetworkmain/widgets/index/css/common-ie7.css?xn_version=2712659298\" />\\n<![endif]-->\\n<link rel=\"EditURI\" type=\"application/rsd+xml\" title=\"RSD\" href=\"http://www.analyticbridge.com/profiles/blog/rsd\" />\\n<script type=\"text/javascript\">(function(a,b){if(/(android|bb\\\\d+|meego).+mobile|avantgo|bada\\\\/|blackberry|blazer|compal|elaine|fennec|hiptop|iemobile|ip(hone|od)|iris|kindle|lge |maemo|midp|mmp|netfront|opera m(ob|in)i|palm( os)?|phone|p(ixi|re)\\\\/|plucker|pocket|psp|series(4|6)0|symbian|treo|up\\\\.(browser|link)|vodafone|wap|windows (ce|phone)|xda|xiino/i.test(a)||/1207|6310|6590|3gso|4thp|50[1-6]i|770s|802s|a wa|abac|ac(er|oo|s\\\\-)|ai(ko|rn)|al(av|ca|co)|amoi|an(ex|ny|yw)|aptu|ar(ch|go)|as(te|us)|attw|au(di|\\\\-m|r |s )|avan|be(ck|ll|nq)|bi(lb|rd)|bl(ac|az)|br(e|v)w|bumb|bw\\\\-(n|u)|c55\\\\/|capi|ccwa|cdm\\\\-|cell|chtm|cldc|cmd\\\\-|co(mp|nd)|craw|da(it|ll|ng)|dbte|dc\\\\-s|devi|dica|dmob|do(c|p)o|ds(12|\\\\-d)|el(49|ai)|em(l2|ul)|er(ic|k0)|esl8|ez([4-7]0|os|wa|ze)|fetc|fly(\\\\-|_)|g1 u|g560|gene|gf\\\\-5|g\\\\-mo|go(\\\\.w|od)|gr(ad|un)|haie|hcit|hd\\\\-(m|p|t)|hei\\\\-|hi(pt|ta)|hp( i|ip)|hs\\\\-c|ht(c(\\\\-| |_|a|g|p|s|t)|tp)|hu(aw|tc)|i\\\\-(20|go|ma)|i230|iac( |\\\\-|\\\\/)|ibro|idea|ig01|ikom|im1k|inno|ipaq|iris|ja(t|v)a|jbro|jemu|jigs|kddi|keji|kgt( |\\\\/)|klon|kpt |kwc\\\\-|kyo(c|k)|le(no|xi)|lg( g|\\\\/(k|l|u)|50|54|\\\\-[a-w])|libw|lynx|m1\\\\-w|m3ga|m50\\\\/|ma(te|ui|xo)|mc(01|21|ca)|m\\\\-cr|me(rc|ri)|mi(o8|oa|ts)|mmef|mo(01|02|bi|de|do|t(\\\\-| |o|v)|zz)|mt(50|p1|v )|mwbp|mywa|n10[0-2]|n20[2-3]|n30(0|2)|n50(0|2|5)|n7(0(0|1)|10)|ne((c|m)\\\\-|on|tf|wf|wg|wt)|nok(6|i)|nzph|o2im|op(ti|wv)|oran|owg1|p800|pan(a|d|t)|pdxg|pg(13|\\\\-([1-8]|c))|phil|pire|pl(ay|uc)|pn\\\\-2|po(ck|rt|se)|prox|psio|pt\\\\-g|qa\\\\-a|qc(07|12|21|32|60|\\\\-[2-7]|i\\\\-)|qtek|r380|r600|raks|rim9|ro(ve|zo)|s55\\\\/|sa(ge|ma|mm|ms|ny|va)|sc(01|h\\\\-|oo|p\\\\-)|sdk\\\\/|se(c(\\\\-|0|1)|47|mc|nd|ri)|sgh\\\\-|shar|sie(\\\\-|m)|sk\\\\-0|sl(45|id)|sm(al|ar|b3|it|t5)|so(ft|ny)|sp(01|h\\\\-|v\\\\-|v )|sy(01|mb)|t2(18|50)|t6(00|10|18)|ta(gt|lk)|tcl\\\\-|tdg\\\\-|tel(i|m)|tim\\\\-|t\\\\-mo|to(pl|sh)|ts(70|m\\\\-|m3|m5)|tx\\\\-9|up(\\\\.b|g1|si)|utst|v400|v750|veri|vi(rg|te)|vk(40|5[0-3]|\\\\-v)|vm40|voda|vulc|vx(52|53|60|61|70|80|81|83|85|98)|w3c(\\\\-| )|webc|whit|wi(g |nc|nw)|wmlb|wonu|x700|yas\\\\-|your|zeto|zte\\\\-/i.test(a.substr(0,4)))window.location=b})(navigator.userAgent||navigator.vendor||window.opera,\\'http://www.analyticbridge.com/m/blogpost?id=2004291%3ABlogPost%3A336968\\');</script></head>\\n<body>\\n    <div class=\"xj_before_content\"><div id=\\'fb-root\\'></div>\\n<script>\\n  window.fbAsyncInit = function () {\\n    FB.init({\\n      appId      : null, \\n      status     : true,   \\n      cookie     : true,   \\n      xfbml      : true, \\n      version    : \\'v2.3\\'  \\n    });\\n    var n = xg.addOnFacebookLoad.functions.length;\\n    for (var i = 0; i < n; i++) {\\n      xg.addOnFacebookLoad.functions[i]();\\n    }\\n    xg.addOnFacebookLoad = function (f) { f(); };\\n    xg.addOnFacebookLoad.functions = [];\\n  };\\n  (function() {\\n    var e = document.createElement(\\'script\\');\\n    e.src = document.location.protocol + \\'//connect.facebook.net/en_US/sdk.js\\';\\n    e.async = true;\\n    document.getElementById(\\'fb-root\\').appendChild(e);\\n  })();\\n</script>        <div id=\"xn_bar\">\\n            <div id=\"xn_bar_menu\">\\n                <div id=\"xn_bar_menu_branding\" >\\n                                    </div>\\n\\n                <div id=\"xn_bar_menu_more\">\\n                    <form id=\"xn_bar_menu_search\" method=\"GET\" action=\"http://www.analyticbridge.com/main/search/search\">\\n                        <fieldset>\\n                            <input type=\"text\" name=\"q\" id=\"xn_bar_menu_search_query\" value=\"Search AnalyticBridge\" _hint=\"Search AnalyticBridge\" accesskey=\"4\" class=\"text xj_search_hint\" />\\n                            <a id=\"xn_bar_menu_search_submit\" href=\"#\" onclick=\"document.getElementById(\\'xn_bar_menu_search\\').submit();return false\">Search</a>\\n                        </fieldset>\\n                    </form>\\n                </div>\\n\\n                            <ul id=\"xn_bar_menu_tabs\">\\n                                            <li><a href=\"http://www.analyticbridge.com/main/authorization/signUp?target=http%3A%2F%2Fwww.analyticbridge.com%2Fprofiles%2Fblogs%2Fwhy-analytics-needs-the-human-element\">Sign Up</a></li>\\n                                                <li><a href=\"http://www.analyticbridge.com/main/authorization/signIn?target=http%3A%2F%2Fwww.analyticbridge.com%2Fprofiles%2Fblogs%2Fwhy-analytics-needs-the-human-element\">Sign In</a></li>\\n                                    </ul>\\n                        </div>\\n        </div>\\n            <script src=\"http://www35.glam.com/gad/glamadapt_jsapi.act?afid=183770529\"></script>\\n    <script>\\n        try {\\n            GlamCreateSlot(\"183770529\", \"728x90\", \"Ning_Top_Leaderboard\");\\n            GlamSetSlotData(\"Ning_Top_Leaderboard\", \"ningid=2004291\");\\n            GlamCreateSlot(\"183770529\", \"300x250\", \"Ning_Top_Right\");\\n            GlamSetSlotData(\"Ning_Top_Right\", \"ningid=2004291\");\\n            GlamTrack(\"183770529\");\\n        } catch (e) {}\\n    </script>\\n    </div>\\n    <div class=\"xg_theme\" data-layout-pack=\"brutus\">\\n        <div id=\"xg_themebody\">\\n            <div id=\"xg_ad_above_header\" class=\"xg_ad xj_ad_above_header dy-displaynone\">\\n                    \\n                </div>        \\n            <div id=\"xg_head\">\\n                <div id=\"xg_masthead\">\\n                    <h1 id=\"xg_sitename\" class=\"xj_site_name\"><a id=\"application_name_header_link\" href=\"/\">AnalyticBridge</a></h1>\\n                    <p id=\"xg_sitedesc\" class=\"xj_site_desc\">Data Intelligence, Business Analytics</p>\\n                </div>\\n                <div id=\"xg_navigation\" class=\"xj_navigation\"><ul>\\n    <li id=\"xg_tab_xn29\" class=\"xg_subtab\"><a href=\"http://www.datasciencecentral.com/\"><span>DataScienceCentral</span></a></li><li id=\"xg_tab_main\" class=\"xg_subtab\"><a href=\"http://www.datasciencecentral.com/page/data-science-book\"><span>Book</span></a></li><li id=\"xg_tab_xn40\" class=\"xg_subtab\"><a href=\"/page/links\"><span>Links</span></a></li><li id=\"xg_tab_xn16\" class=\"xg_subtab\"><a href=\"http://www.analytictalent.com/\" target=\"_blank\"><span>Jobs</span></a></li><li id=\"xg_tab_xn36\" class=\"xg_subtab\"><a href=\"http://www.datasciencecentral.com/group/data-science-apprenticeship\" target=\"_blank\"><span>Training</span></a></li><li id=\"xg_tab_xn41\" class=\"xg_subtab\"><a href=\"http://www.datasciencecentral.com/profiles/blogs/check-out-our-dsc-newsletter\" target=\"_blank\"><span>DSC Digest</span></a></li><li id=\"xg_tab_xn43\" class=\"xg_subtab\"><a href=\"http://www.datasciencecentral.com/video/video/listFeatured\"><span>Webinars</span></a></li><li id=\"xg_tab_xn44\" class=\"xg_subtab\"><a href=\"/page/search\"><span>Search</span></a></li><li id=\"xg_tab_xn39\" class=\"xg_subtab\"><a href=\"/page/contact-us\"><span>Contact Us</span></a></li></ul>\\n</div>\\n            </div>\\n            <div id=\"xg_ad_below_header\" class=\"xg_ad xj_ad_below_header\">\\n                        <div class=\"xg_module module-plain  html_module module_text xg_reset\" data-module_name=\"text\"\\n        >\\n            <div class=\"xg_module_body xg_user_generated\">\\n            <center><script type=\\'text/javascript\\'>\\nvar googletag = googletag || {};\\ngoogletag.cmd = googletag.cmd || [];\\n(function() {\\nvar gads = document.createElement(\\'script\\');\\ngads.async = true;\\ngads.type = \\'text/javascript\\';\\nvar useSSL = \\'https:\\' == document.location.protocol;\\ngads.src = (useSSL ? \\'https:\\' : \\'http:\\') + \\n\\'//www.googletagservices.com/tag/js/gpt.js\\';\\nvar node = document.getElementsByTagName(\\'script\\')[0];\\nnode.parentNode.insertBefore(gads, node);\\n})();\\n</script> <script type=\\'text/javascript\\'>\\ngoogletag.cmd.push(function() {\\ngoogletag.defineSlot(\\'/2672641/Bottom_Leaderboard\\', [728, 90], \\'div-gpt-ad-1422803181128-0\\').addService(googletag.pubads());\\ngoogletag.defineSlot(\\'/2672641/Box_Ad\\', [300, 250], \\'div-gpt-ad-1422803181128-1\\').addService(googletag.pubads());\\ngoogletag.defineSlot(\\'/2672641/Box_Ad2\\', [300, 250], \\'div-gpt-ad-1422803181128-2\\').addService(googletag.pubads());\\ngoogletag.defineSlot(\\'/2672641/Left_Square_Box\\', [220, 220], \\'div-gpt-ad-1422803181128-3\\').addService(googletag.pubads());\\ngoogletag.defineSlot(\\'/2672641/Skyscraper\\', [160, 600], \\'div-gpt-ad-1422803181128-4\\').addService(googletag.pubads());\\ngoogletag.defineSlot(\\'/2672641/Square_Box\\', [220, 220], \\'div-gpt-ad-1422803181128-5\\').addService(googletag.pubads());\\ngoogletag.defineSlot(\\'/2672641/Top_Leaderboard\\', [728, 90], \\'div-gpt-ad-1422803181128-6\\').addService(googletag.pubads());\\ngoogletag.enableServices();\\n});\\n</script><!-- Top_Leaderboard -->\\n<div id=\\'div-gpt-ad-1422803181128-6\\' style=\\'width:728px; height:90px;\\'><script type=\\'text/javascript\\'>\\ngoogletag.cmd.push(function() { googletag.display(\\'div-gpt-ad-1422803181128-6\\'); });\\n</script></div>\\n<br /></center>\\n<center><a href=\"http://www.datasciencecentral.com/profiles/blogs/check-out-our-dsc-newsletter\">Subscribe to DSC Newsletter</a></center>\\n<br />\\n        </div>\\n            </div>\\n\\n                    </div>\\n            <div id=\"xg\" class=\"xg_widget_profiles xg_widget_profiles_blog xg_widget_profiles_blog_show\">\\n            \\t \\n                <div id=\"xg_body\">\\n                   \\n                    <div class=\"xj_notifications\"></div>\\n                    <div class=\"xg_column xg_span-16\" id=\"column1\">\\n                        <div id=\"xg_canvas\" class=\"xj_canvas\">\\n                            <ul class=\"navigation easyclear\"><li><a href=\"http://www.analyticbridge.com/profiles/blog/list\">All Blog Posts</a></li><li><a href=\"http://www.analyticbridge.com/profiles/blog/list?my=1\">My Blog</a></li><li class=\"right  xg_lightborder navbutton\"><a href=\"http://www.analyticbridge.com/profiles/blog/new\" class=\"xg_sprite xg_sprite-add\">Add</a></li></ul>\\n<div class=\"xg_module xg_blog xg_blog_detail xg_blog_mypage xg_module_with_dialog\">\\n        <div class=\"xg_headline xg_headline-img xg_headline-2l\">\\n    <div class=\"ib\"><span class=\"xg_avatar\"><a class=\"fn url\" href=\"http://www.analyticbridge.com/profile/SamButton\"  title=\"Sam Button\"><span class=\"dy-avatar dy-avatar-64 \"><img  class=\"photo photo\" src=\"http://api.ning.com/files/kcn3-uygVcj0kLCYudk*0OUp0Sz0F2j1yNF2dcwbLlgVrWFVG7rG88*flnHUF3eXTs7wGnOQWsdTvkqQdaWwkSSd35DOpoGa/analitycbridge.png?width=64&amp;height=64&amp;crop=1%3A1\" alt=\"\" /></span></a></span></div>\\n<div class=\"tb\"><h1>Why Analytics Needs The Human Element</h1>\\n        <ul class=\"navigation byline\">\\n            <li><a class=\"nolink\">Posted by </a><a href=\"/profile/SamButton\">Sam Button</a><a class=\"nolink\"> on November 19, 2015 at 5:26am</a></li>\\n            <li><a class=\"xg_sprite xg_sprite-view\" href=\"http://www.analyticbridge.com/profiles/blog/list?user=1ks85i4wgushp\">View Blog</a></li>\\n        </ul>\\n    </div>\\n</div>\\n    <div class=\"xg_module_body\">\\n        <div class=\"postbody\">\\n                    <div class=\"xg_user_generated\">\\n                <p><span style=\"font-family: georgia, palatino;\" class=\"font-size-3\">Big data is now, more or less, an accepted fact of business, and all companies are collecting it to some degree. Collection is, however, the easy part. Analyzing it to leverage insights that could actually improve company performance is the entire point of collecting data, yet many firms lack staff with the appropriate skill set to do this. It\\u2019s like a football team spending millions on training facilities and then signing exclusively farm animals to play for them.</span></p>\\n<p></p>\\n<p><span style=\"font-family: georgia, palatino;\" class=\"font-size-3\">In an EY and Forbes Insights survey of 564 executives in large global enterprises, most respondents said they still lack an effective and aligned business strategy for competing in a digital, analytics enabled world. They also continue to struggle with change management issues in getting business users to adopt analytics insights. Meanwhile, according to a recent study by Forrester Research, most companies estimate they\\'re analyzing a mere 12% of the data they have.</span></p>\\n<p></p>\\n<p><span style=\"font-family: georgia, palatino;\" class=\"font-size-3\">This inability to really embrace data analytics is often a case of not having the right people in place who understand data and where it can add value. Contrarily, many companies are also putting data on a pedestal and forgetting how important the human element is. Firms often now find themselves reliant on analytics software powered by algorithms that they have no understanding of, and look to data visualization programs to provide them with insights from this data and make decisions for them. Humans have limited capacity when it comes to making sense of large data sets, and computer driven algorithms are far better placed to deal with them, so they are largely left to their own devices and the conclusions they reach taken as gospel.</span></p>\\n<p><span style=\"font-family: georgia, palatino;\" class=\"font-size-3\">This has the potential to cause a number of problems further down the line. Buying some analytics software and treating data as the be-all and end-all of decision making is not \\u2018having a data strategy\\u2019, in the same way that buying a fast car doesn\\u2019t make you \\u2018a Formula 1 driver\\u2019. Data analytics needs people in place who have a real understanding of how the models work to establish which information is useful. They are also needed in cases that big data throws up with an ethical and moral dimension that data can\\u2019t address. Big data needs context and interpretation, and when it\\u2019s applied to scenarios such as who to give life-saving treatment to, there are often variables at play that only humans can understand. The logical conclusion of this was illustrated in the film \\u2018I, Robot\\u2019, in which a robot is forced to make a decision between saving the life of a young girl and the hero, played by Will Smith. The robot opts to save Smith because the data suggests he will be easiest to save, despite his protests.</span></p>\\n<p></p>\\n<p><span style=\"font-family: georgia, palatino;\" class=\"font-size-3\">A lack of human input around data is not necessarily all a company\\u2019s fault. There is a substantial difference between the number of data scientists available and the number needed by companies. McKinsey &amp; Co estimated that there would be a shortfall of between 140,000 and 190,000 people with analytical expertise by 2018 in the United States alone, and between 1.5m managers and analysts with the skills to understand and make decisions based on the analysis of big data would be needed.</span></p>\\n<p></p>\\n<p><span style=\"font-family: georgia, palatino;\" class=\"font-size-3\">While it may be difficult to find people, it is still important that companies recognize the importance of human judgment in having the last word when it comes to decision making. The human element is needed throughout the chain, both in understanding when data analytics is needed, but also when it isn\\u2019t. \\xa0</span></p>            </div>\\n        </div>\\n        <div class=\"left-panel\">\\n                          <script>xg.addOnRequire(function () { xg.post(\\'/main/viewcount/update?xn_out=json\\', {key: \\'2004291:BlogPost:336968\\', x: \\'9a9b1a1\\'}); });</script>                <p class=\"small dy-clear view-count-container\">\\n    <span class=\"view-count-label\">Views:</span> <span class=\"view-count\">236</span></p>\\n\\n                            <p class=\"small object-detail\" id=\"tagsList\" style=\"display:none\">Tags:<br/></p>\\n            <p class=\"share-links clear\"><a class=\"xg_sprite xg_sprite-share\" href=\"http://www.analyticbridge.com/main/sharing/share?id=2004291%253ABlogPost%253A336968\">Share</a>            <script>!function(d,s,id){var js,fjs=d.getElementsByTagName(s)[0];if(!d.getElementById(id)){js=d.createElement(s);js.id=id;js.src=\"//platform.twitter.com/widgets.js\";fjs.parentNode.insertBefore(js,fjs);}}(document,\"script\",\"twitter-wjs\");</script>\\n                    <span class=\"xg_tweet\">\\n        <a href=\"https://twitter.com/share\" class=\"post_to_twitter twitter-share-button\" target=\"_blank\"\\n            data-text=\"Checking out &quot;Why Analytics Needs The Human Element&quot; on AnalyticBridge:\" data-url=\"http://www.analyticbridge.com/profiles/blogs/why-analytics-needs-the-human-element\" data-count=\"none\" data-dnt=\"true\">Tweet</a>\\n        </span>\\n        <span class=\"google-plusone\" data-content-type=\"BlogPost\" data-content-id=\"2004291:BlogPost:336968\" data-page-type=\"detail\">\\n    <g:plusone callback=\"xg_index_googlePlusOne_onPlusOne\" size=\"medium\" count=\"false\" href=\"http://www.analyticbridge.com/xn/detail/2004291:BlogPost:336968\"></g:plusone>\\n</span>\\n\\n<div class=\"likebox\">\\n    <div class=\"facebook-like\" data-content-type=\"BlogPost\" data-content-id=\"2004291:BlogPost:336968\" data-page-type=\"detail\">\\n        <fb:like href=\"http://www.analyticbridge.com/xn/detail/2004291:BlogPost:336968\" layout=\"button_count\" show_faces=\"false\" width=\"450\"></fb:like>\\n    </div>\\n</div>\\n</p>        </div>\\n                    <ul class=\"pagination smallpagination\">\\n                            <li class=\"left\"><a href=\"http://www.analyticbridge.com/profiles/blogs/communicating-analytics-insight-with-data-visualization\" title=\"Communicating Analytics Insight With Data Visualization\">&lt; Previous Post</a></li>                         </ul>\\n            </div>\\n</div>\\n\\n        <div class=\"xg_module\">\\n                                        <div class=\"xg_module_body\">\\n                    <p id=\"add-comment\">Comment</p>\\n                                            <div class=\"comment-join\">\\n                            <h3>You need to be a member of AnalyticBridge to add comments!</h3>\\n                                                <p><a href=\"http://www.analyticbridge.com/main/authorization/signUp?target=http%3A%2F%2Fwww.analyticbridge.com%2Fprofiles%2Fblogs%2Fwhy-analytics-needs-the-human-element\">Join AnalyticBridge</a></p>\\n                                                </div>\\n                                                        </div>\\n                    <div class=\"xg_module_body\" id=\"comments\" style=\"display: none\" _numComments=\"0\" _scrollTo=\"\">\\n                    </div>\\n                    <div class=\"xg_module_foot\" id=\"xj_comments_footer\" style=\"display:none\">\\n                                            <p class=\"left\">\\n                            <a class=\"xg_icon xg_icon-rss\" href=\"http://www.analyticbridge.com/profiles/comment/feed?attachedTo=2004291%3ABlogPost%3A336968&amp;xn_auth=no\">RSS</a>\\n                        </p>\\n                                    </div>\\n                    </div>\\n    \\n      <input type=\"hidden\" id=\"incrementViewCountEndpoint\" value=\"http://www.analyticbridge.com/profiles/blog/incrementViewCount?id=2004291%3ABlogPost%3A336968&amp;xn_out=json\" />\\n\\n                        </div>\\n                    </div>\\n                    <div class=\"xg_column xg_span-5 xg_last\" id=\"column2\">\\n                        <div class=\"xj_user_info\">    <div class=\"xg_module\" id=\"xg_module_account\">\\n        <div class=\"xg_module_body xg_signup xg_lightborder\">\\n            <p>Welcome to<br />AnalyticBridge</p>\\n                        <p class=\"last-child\"><big><strong><a href=\"http://www.analyticbridge.com/main/authorization/signUp?target=http%3A%2F%2Fwww.analyticbridge.com%2Fprofiles%2Fblogs%2Fwhy-analytics-needs-the-human-element\">Sign Up</a></strong></big><br/>or <a href=\"http://www.analyticbridge.com/main/authorization/signIn?target=http%3A%2F%2Fwww.analyticbridge.com%2Fprofiles%2Fblogs%2Fwhy-analytics-needs-the-human-element\" style=\"white-space:nowrap\">Sign In</a></p>\\n                            <div class=\"xg_external_signup xg_lightborder xj_signup\">\\n                    <p class=\"dy-small\">Or sign in with:</p>\\n                    <ul class=\"providers\">\\n            <li><a onclick=\"window.open(\\'https://analyticbridge.networkauth.com/googleplus/start?token_url=http%3A%2F%2Fwww.analyticbridge.com%2Fmain%2Fauthorization%2FprocessExternalAuth%3Ftarget%3Dhttp%253A%252F%252Fwww.analyticbridge.com%252Fprofiles%252Fblogs%252Fwhy-analytics-needs-the-human-element%26source%3DsignUp%26close%3D1%26provider%3Dgoogle\\', null, \\'width=530,height=480,location=no,menubar=no,resizable=yes,scrollbars=yes,toolbar=no,status=no\\'); return false;\" href=\"https://analyticbridge.networkauth.com/googleplus/start?token_url=http%3A%2F%2Fwww.analyticbridge.com%2Fmain%2Fauthorization%2FprocessExternalAuth%3Ftarget%3Dhttp%253A%252F%252Fwww.analyticbridge.com%252Fprofiles%252Fblogs%252Fwhy-analytics-needs-the-human-element%26source%3DsignUp%26close%3D0%26provider%3Dgoogle\">\\n            <span class=\"mini-service mini-service-google\" title=\"Google\"></span>\\n        </a></li>\\n            <li><a onclick=\"window.open(\\'https://analyticbridge.networkauth.com/openid/start?openid_identifier=http%3A%2F%2Fme.yahoo.com%2F&token_url=http%3A%2F%2Fwww.analyticbridge.com%2Fmain%2Fauthorization%2FprocessExternalAuth%3Ftarget%3Dhttp%253A%252F%252Fwww.analyticbridge.com%252Fprofiles%252Fblogs%252Fwhy-analytics-needs-the-human-element%26source%3DsignUp%26close%3D1%26provider%3Dyahoo\\', null, \\'width=500,height=480,location=no,menubar=no,resizable=yes,scrollbars=yes,toolbar=no,status=no\\'); return false;\" href=\"https://analyticbridge.networkauth.com/openid/start?openid_identifier=http%3A%2F%2Fme.yahoo.com%2F&amp;token_url=http%3A%2F%2Fwww.analyticbridge.com%2Fmain%2Fauthorization%2FprocessExternalAuth%3Ftarget%3Dhttp%253A%252F%252Fwww.analyticbridge.com%252Fprofiles%252Fblogs%252Fwhy-analytics-needs-the-human-element%26source%3DsignUp%26close%3D0%26provider%3Dyahoo\">\\n            <span class=\"mini-service mini-service-yahoo\" title=\"Yahoo!\"></span>\\n        </a></li>\\n    </ul>\\n                </div>\\n                    </div>\\n    </div>\\n</div>\\n                        <div class=\"xj_sidebar_content\"><div class=\"xg_module html_module module_text xg_reset\" data-module_name=\"text\"\\n        >\\n            <div class=\"xg_module_body xg_user_generated\">\\n            <center><!-- Skyscraper -->\\n<div id=\\'div-gpt-ad-1422803181128-4\\' style=\\'width:160px; height:600px;\\'><script type=\\'text/javascript\\'>\\ngoogletag.cmd.push(function() { googletag.display(\\'div-gpt-ad-1422803181128-4\\'); });\\n</script></div>\\n</center>\\n        </div>\\n            </div>\\n<div class=\"xg_module html_module module_text xg_reset\" data-module_name=\"text\"\\n        >\\n            <div class=\"xg_module_body xg_user_generated\">\\n            <center><!-- Square_Box -->\\n<div id=\\'div-gpt-ad-1422803181128-5\\' style=\\'width:220px; height:220px;\\'><script type=\\'text/javascript\\'>\\ngoogletag.cmd.push(function() { googletag.display(\\'div-gpt-ad-1422803181128-5\\'); });\\n</script></div>\\n</center>\\n        </div>\\n            </div>\\n<div class=\"xg_module html_module module_text xg_reset\" data-module_name=\"text\"\\n        >\\n        <div class=\"xg_module_head\"><h2>Follow Us</h2></div>\\n        <div class=\"xg_module_body xg_user_generated\">\\n            <p><a href=\"https://twitter.com/analyticbridge\"><font color=\"#CC0000\"><b>@Analyticbridge</b></font></a><span>&#160;|&#160;</span><a href=\"http://www.datasciencecentral.com/page/news-feeds\">RSS Feeds</a></p>\\n        </div>\\n            </div>\\n<div class=\"xg_module html_module module_text xg_reset\" data-module_name=\"text\"\\n        >\\n        <div class=\"xg_module_head\"><h2>On Data Science Central</h2></div>\\n        <div class=\"xg_module_body xg_user_generated\">\\n            <script src=\"http://feeds.feedburner.com/FeaturedBlogPosts-DataScienceCentral?format=sigpro\" type=\"text/javascript\">\\n</script>\\n        </div>\\n            </div>\\n<div class=\"xg_module module_feed\" data-module_name=\"feed\">\\n    <div class=\"xg_module_head\"><h2>On DataViz</h2></div>\\n    </div>\\n<div class=\"xg_module module_feed\" data-module_name=\"feed\">\\n    <div class=\"xg_module_head\"><h2>On Hadoop</h2></div>\\n                    <div class=\"xg_module_body\">\\n            <p class=\"last-child\"><a href=\"http://www.hadoop360.com/xn/detail/6623215:BlogEntry:12265\" target=\"_blank\">Hadoop Summit notes &ndash; Part 1: Vision</a></p>\\n        </div>\\n                        <div class=\"xg_module_body\">\\n            <p class=\"last-child\"><a href=\"http://www.hadoop360.com/xn/detail/6623215:BlogEntry:12181\" target=\"_blank\">10 Free Hadoop Tutorials</a></p>\\n        </div>\\n                        <div class=\"xg_module_body\">\\n            <p class=\"last-child\"><a href=\"http://www.hadoop360.com/xn/detail/6623215:BlogEntry:12263\" target=\"_blank\">Spark Or Hadoop: Which Is The Best Big Data Framework?</a></p>\\n        </div>\\n                        <div class=\"xg_module_body\">\\n            <p class=\"last-child\"><a href=\"http://www.hadoop360.com/xn/detail/6623215:BlogEntry:12262\" target=\"_blank\">What is Hadoop - An Easy Explanation For Absolutely Anyone</a></p>\\n        </div>\\n                        <div class=\"xg_module_body\">\\n            <p class=\"last-child\"><a href=\"http://www.hadoop360.com/xn/detail/6623215:BlogEntry:12168\" target=\"_blank\">The Need for Speed: In-Memory and the Marriage of RDBMS and NoSQL</a></p>\\n        </div>\\n                        <div class=\"xg_module_body\">\\n            <p class=\"last-child\"><a href=\"http://www.hadoop360.com/xn/detail/6623215:BlogEntry:12088\" target=\"_blank\">$320,000 for a Java architect: Discussion about High Salaries</a></p>\\n        </div>\\n                        <div class=\"xg_module_body\">\\n            <p class=\"last-child\"><a href=\"http://www.hadoop360.com/xn/detail/6623215:BlogEntry:12167\" target=\"_blank\">Hadoop, What&rsquo;s on the Horizon?</a></p>\\n        </div>\\n                        <div class=\"xg_module_body\">\\n            <p class=\"last-child\"><a href=\"http://www.hadoop360.com/xn/detail/6623215:BlogEntry:12254\" target=\"_blank\">Jump over the Data Preparation Hurdle with Spark</a></p>\\n        </div>\\n                        <div class=\"xg_module_body\">\\n            <p class=\"last-child\"><a href=\"http://www.hadoop360.com/xn/detail/6623215:BlogEntry:12245\" target=\"_blank\">Book Introduction: High-Performance Data Mining and Big Data Analytics</a></p>\\n        </div>\\n                        <div class=\"xg_module_body\">\\n            <p class=\"last-child\"><a href=\"http://www.hadoop360.com/xn/detail/6623215:BlogEntry:12072\" target=\"_blank\">Big Data : How do you run capacity planning?</a></p>\\n        </div>\\n        <div class=\"xg_module_foot\">\\n    <ul>\\n            </ul>\\n</div>\\n</div>\\n</div>\\n                    </div>\\n                </div>\\n            </div>\\n            <div id=\"xg_foot\">\\n                <div id=\"xg_footcontent\">\\n                    <div class=\"xj_foot_content\"><p class=\"left\">\\n    \\xa9 2015             &nbsp; AnalyticBridge.com is a subsidiary and dedicated channel of Data Science Central LLC            &nbsp;\\n    Powered by<a href=\"http://www.ning.com/?utm_source=online&amp;utm_content=bazfooter&amp;utm_campaign=9000&amp;utm_medium=prd&amp;utm_term=datashaping\"><img width=\"87\" height=\"15\" src=\"http://static.ning.com/socialnetworkmain/widgets/index/gfx/Ning_MM_footer_wht@2x.png?xn_version=3410518215\" alt=\"Ning\" class=\"poweredbylogo\" /></a>\\n    </p>\\n    <p class=\"right xg_lightfont\">\\n                    <a href=\"http://www.analyticbridge.com/main/embeddable/list\">Badges</a> &nbsp;|&nbsp;\\n                        <a href=\"http://www.analyticbridge.com/main/authorization/signUp?target=http%3A%2F%2Fwww.analyticbridge.com%2Fmain%2Findex%2Freport\" dojoType=\"PromptToJoinLink\" _joinPromptText=\"Please sign up or sign in to complete this step.\" _hasSignUp=\"true\" _signInUrl=\"http://www.analyticbridge.com/main/authorization/signIn?target=http%3A%2F%2Fwww.analyticbridge.com%2Fmain%2Findex%2Freport\">Report an Issue</a> &nbsp;|&nbsp;\\n                        <a href=\"http://www.analyticbridge.com/main/authorization/termsOfService?previousUrl=http%3A%2F%2Fwww.analyticbridge.com%2Fprofiles%2Fblogs%2Fwhy-analytics-needs-the-human-element\">Terms of Service</a>\\n            </p>\\n</div>\\n                </div>\\n            </div>\\n\\t\\t\\t<div id=\"xg_ad_below_footer\" class=\"xg_ad xj_ad_below_footer\">\\n\\t\\t\\t\\t<div class=\"xg_module module-plain  html_module module_text xg_reset\" data-module_name=\"text\"\\n        >\\n            <div class=\"xg_module_body xg_user_generated\">\\n            <center><!-- Bottom_Leaderboard -->\\n<div id=\\'div-gpt-ad-1422803181128-0\\' style=\\'width:728px; height:90px;\\'><script type=\\'text/javascript\\'>\\ngoogletag.cmd.push(function() { googletag.display(\\'div-gpt-ad-1422803181128-0\\'); });\\n</script></div>\\n<br /></center>\\n        </div>\\n            </div>\\n\\n\\t\\t\\t</div>\\n        </div>\\n    </div>\\n    <div class=\"xj_after_content\"><div id=\"xj_baz17246\" class=\"xg_theme\"></div>\\n<div id=\"xg_overlay\" style=\"display:none;\">\\n<!--[if lte IE 6.5]><iframe></iframe><![endif]-->\\n</div>\\n<!--googleoff: all--><noscript>\\n\\t<style type=\"text/css\" media=\"screen\">\\n        #xg { position:relative;top:120px; }\\n        #xn_bar { top:120px; }\\n\\t</style>\\n\\t<div class=\"errordesc noscript\">\\n\\t\\t<div>\\n            <h3><strong>Hello, you need to enable JavaScript to use AnalyticBridge.</strong></h3>\\n            <p>Please check your browser settings or contact your system administrator.</p>\\n\\t\\t\\t<img src=\"/xn_resources/widgets/index/gfx/jstrk_off.gif\" alt=\"\" height=\"1\" width=\"1\" />\\n\\t\\t</div>\\n\\t</div>\\n</noscript><!--googleon: all-->\\n<script type=\"text/javascript\" src=\"http://static.ning.com/socialnetworkmain/widgets/lib/core.min.js?xn_version=2765273374\"></script>        <script>\\n            var sources = [\"http:\\\\/\\\\/api.ning.com:80\\\\/files\\\\/Uf5Jdma8M33SjPbusyHgc3TEFMmS1wsoSwUHdsYYQIa-Q9S4yc-D3I7sKu0ZZ7PO65aeYEIJ34JVXY-9Lf1QLcpn7nNkOEZL\\\\/set_common_min.js?r=1442248321\",\"http:\\\\/\\\\/api.ning.com:80\\\\/files\\\\/0QhDR-HWkflTALLsrZ-tRFVLbVLHrzsflspSK07RjCvQ4PYnJMJoq1LqGpgMNpzz8RMPB1x8Xf8aqnvp77qNj7Jdm6VbxBL9\\\\/set_shared_c0.min.js?r=1397587964\",\"http:\\\\/\\\\/api.ning.com:80\\\\/files\\\\/F-9RLDKjng8RBmt11oMaX0BqW-VpKLxfj8B6XuSjAnNYS3i3HcUx4Neqnidly-zRfLinlPTFCedv6II0ol*h9SX8PWWnTU3a\\\\/set_sidebar_u_min.js?r=1443889159\"];\\n            var numSources = sources.length;\\n            var heads = document.getElementsByTagName(\\'head\\');\\n            var node = heads.length > 0 ? heads[0] : document.body;\\n            var onloadFunctionsObj = {};\\n\\n            var createScriptTagFunc = function(source) {\\n                var script = document.createElement(\\'script\\');\\n                \\n                script.type = \\'text/javascript\\';\\n                                var currentOnLoad = function() {xg._loader.onLoad(source);};\\n                if (script.readyState) { //for IE (including IE9)\\n                    script.onreadystatechange = function() {\\n                        if (script.readyState == \\'complete\\' || script.readyState == \\'loaded\\') {\\n                            script.onreadystatechange = null;\\n                            currentOnLoad();\\n                        }\\n                    }\\n                } else {\\n                   script.onerror = script.onload = currentOnLoad;\\n                }\\n\\n                script.src = source;\\n                node.appendChild(script);\\n            };\\n\\n            for (var i = 0; i < numSources; i++) {\\n                xg._loader.loading(sources[i]);\\n                createScriptTagFunc(sources[i]);\\n            }\\n        </script>\\n    <script type=\"text/javascript\">\\nif (!ning._) {ning._ = {}}\\nning._.compat = { encryptedToken: \"<empty>\" }\\nning._.CurrentServerTime = \"2015-11-25T19:09:24+00:00\";\\nning._.probableScreenName = \"\";\\nning._.domains = {\\n    base: \\'ning.com\\',\\n    ports: { http: \\'80\\', ssl: \\'443\\' }\\n};\\nning.loader.version = \\'201511092056\\'; // DEP-9205:a2f6545 33\\ndjConfig.parseWidgets = false;\\n</script>\\n        <script type=\"text/javascript\">\\n          (function() {\\n            var po = document.createElement(\\'script\\'); po.type = \\'text/javascript\\'; po.async = true;\\n            po.src = \\'https://apis.google.com/js/plusone.js\\';\\n            var s = document.getElementsByTagName(\\'script\\')[0]; s.parentNode.insertBefore(po, s);\\n          })();\\n        </script>\\n        <script type=\"text/javascript\">\\n        xg.token = \\'\\';\\nxg.canTweet = false;\\nxg.cdnHost = \\'static.ning.com\\';\\nxg.version = \\'201511092056\\';\\nxg.useMultiCdn = true;\\nxg.staticRoot = \\'socialnetworkmain\\';\\nxg.xnTrackHost = \"coll.ning.com\";\\n    xg.cdnDefaultPolicyHost = \\'static\\';\\n    xg.cdnPolicy = [];\\nxg.global = xg.global || {};\\nxg.global.currentMozzle = \\'profiles\\';\\nxg.global.userCanInvite = false;\\nxg.global.requestBase = \\'\\';\\nxg.global.locale = \\'en_US\\';\\nxg.num_thousand_sep = \",\";\\nxg.num_decimal_sep = \".\";\\n(function() {\\n    dojo.addOnLoad(function() {\\n        if(window.bzplcm) { window.bzplcm.ts(\\'hr\\'); window.bzplcm._profileSend(); }\\n            });\\n            ning.loader.require(\\'xg.profiles.blog.show\\', \\'xg.index.googlePlusOne\\', \\'xg.index.facebookLike\\', function() { xg._loader.onLoad(\\'xnloader\\'); });\\n    })();    </script>\\n<script type=\"text/javascript\" src=\"http://static.ning.com/socialnetworkmain/widgets/lib/js/thrift/xn_track.min.js?xn_version=2965732102\"></script>\\n<!-- Start Quantcast tag -->\\r\\n<script type=\"text/javascript\" src=\"http://edge.quantserve.com/quant.js\"></script>\\r\\n<script type=\"text/javascript\">_qacct=\"p-0f45-7mMDyhgM\";quantserve();</script>\\r\\n<noscript>\\r\\n<a href=\"http://www.quantcast.com/p-0f45-7mMDyhgM\" target=\"_blank\"><img src=\"http://pixel.quantserve.com/pixel/p-0f45-7mMDyhgM.gif\" style=\"display: none;\" border=\"0\" height=\"1\" width=\"1\" alt=\"Quantcast\"/></a>\\r\\n</noscript>\\r\\n<!-- End Quantcast tag -->\\r\\n<link rel=stylesheet href=\"http://www.datashaping.com/template55.css?AFFID=AnalyticBridge\" type=\"text/css\">\\r\\n<script>\\r\\n  (function(i,s,o,g,r,a,m){i[\\'GoogleAnalyticsObject\\']=r;i[r]=i[r]||function(){\\r\\n  (i[r].q=i[r].q||[]).push(arguments)},i[r].l=1*new Date();a=s.createElement(o),\\r\\n  m=s.getElementsByTagName(o)[0];a.async=1;a.src=g;m.parentNode.insertBefore(a,m)\\r\\n  })(window,document,\\'script\\',\\'//www.google-analytics.com/analytics.js\\',\\'ga\\');\\r\\n\\r\\n  ga(\\'create\\', \\'UA-27452860-1\\', \\'auto\\');\\r\\n  ga(\\'create\\', \\'UA-470717-3\\', \\'auto\\', {\\'name\\': \\'ABTracker\\'});  // AB separate tracker.\\r\\n  ga(\\'send\\', \\'pageview\\');\\r\\n  ga(\\'ABTracker.send\\', \\'pageview\\'); // Send page view for AB tracker.\\r\\n\\r\\n</script>\\r\\n<script type=\"text/javascript\">\\r\\n\\r\\nxg.addOnRequire(function() {\\r\\n    document.getElementById(\\'xn_bar_menu_search\\').action = \\'http://www.analyticbridge.com/page/search\\';\\r\\n    var cx = document.createElement(\\'input\\');\\r\\n    cx.setAttribute(\\'name\\', \\'cx\\');\\r\\n    cx.setAttribute(\\'value\\', \\'007889287169707156432:04zouenp6u0\\');\\r\\n    cx.setAttribute(\\'type\\', \\'hidden\\');\\r\\n    document.getElementById(\\'xn_bar_menu_search\\').appendChild(cx);\\r\\n    var ie = document.createElement(\\'input\\');\\r\\n    ie.setAttribute(\\'name\\', \\'ie\\');\\r\\n    ie.setAttribute(\\'type\\', \\'hidden\\');\\r\\n    ie.setAttribute(\\'value\\', \\'UTF-8\\');\\r\\n    document.getElementById(\\'xn_bar_menu_search\\').appendChild(ie);\\r\\n    var cof = document.createElement(\\'input\\');\\r\\n    cof.setAttribute(\\'name\\', \\'cof\\');\\r\\n    cof.setAttribute(\\'type\\', \\'hidden\\');\\r\\n    cof.setAttribute(\\'value\\', \\'FORID:11;NB:1\\');\\r\\n    document.getElementById(\\'xn_bar_menu_search\\').appendChild(cof);\\r\\n    var sa = document.createElement(\\'input\\');\\r\\n    sa.setAttribute(\\'name\\', \\'sa\\');\\r\\n    sa.setAttribute(\\'type\\', \\'hidden\\');\\r\\n    sa.setAttribute(\\'value\\', \\'Search\\');\\r\\n    document.getElementById(\\'xn_bar_menu_search\\').appendChild(sa);\\r\\n});\\r\\n\\r\\n</script>\\r\\n<!--CUSTOM GOOGLE SEARCH BAR-->\\r\\n<script src=\\'//www.google.com/jsapi\\' type=\\'text/javascript\\'></script>\\r\\n<script type=\\'text/javascript\\'>\\r\\ngoogle.load(\\'search\\', \\'1\\', {language: \\'en\\', style: google.loader.themes.V2_DEFAULT});\\r\\ngoogle.setOnLoadCallback(function() {\\r\\n  var customSearchOptions = {};\\r\\n  var customSearchControl =   new google.search.CustomSearchControl(\\'007889287169707156432:04zouenp6u0\\', customSearchOptions);\\r\\n  customSearchControl.setLinkTarget(google.search.Search.LINK_TARGET_SELF);\\r\\n  customSearchControl.setResultSetSize(google.search.Search.FILTERED_CSE_RESULTSET);\\r\\n  var options = new google.search.DrawOptions();\\r\\n  customSearchControl.draw(\\'cse\\', options);\\r\\n  function parseParamsFromUrl() { var params = {};        \\r\\nvar parts = window.location.search.substr(1).split(\\'\\\\x26\\'); for (var i = 0; i < parts.length; i++) { var keyValuePair = parts[i].split(\\'=\\'); var key = decodeURIComponent(keyValuePair[0]); params[key] = keyValuePair[1] ?             decodeURIComponent(keyValuePair[1].replace(/\\\\+/g, \\' \\')) :             keyValuePair[1];} return params;} var urlParams = parseParamsFromUrl(); var queryParamName = \"q\"; if (urlParams[queryParamName]) {       customSearchControl.execute(urlParams[queryParamName]);}\\r\\n}, true);\\r\\n</script>\\r\\n<style type=\\'text/css\\'>\\r\\n  .gsc-control-cse {\\r\\n    font-family: Arial, sans-serif;\\r\\n    border-color: #FFFFFF;\\r\\n    background-color: #FFFFFF;\\r\\n  }\\r\\n  .gsc-control-cse .gsc-table-result {\\r\\n    font-family: Arial, sans-serif;\\r\\n  }\\r\\n  input.gsc-input, .gsc-input-box, .gsc-input-box-hover, .gsc-input-box-focus {\\r\\n    border-color: #CCCCCC;\\r\\n  }\\r\\n  input.gsc-search-button, input.gsc-search-button:hover, input.gsc-search-button:focus {\\r\\n    border-color: #CCCCCC;\\r\\n    background-color: #3C78A7;\\r\\n    background-image: none;\\r\\n    filter: none;\\r\\n\\r\\n  }\\r\\n  .gsc-tabHeader.gsc-tabhInactive {\\r\\n    border-color: #FF9900;\\r\\n    background-color: #FFFFFF;\\r\\n  }\\r\\n  .gsc-tabHeader.gsc-tabhActive {\\r\\n    border-color: #E9E9E9;\\r\\n    background-color: #E9E9E9;\\r\\n    border-bottom-color: #FF9900\\r\\n  }\\r\\n  .gsc-tabsArea {\\r\\n    border-color: #FF9900;\\r\\n  }\\r\\n  .gsc-webResult.gsc-result, .gsc-results .gsc-imageResult {\\r\\n    border-color: #FFFFFF;\\r\\n    background-color: #FFFFFF;\\r\\n  }\\r\\n  .gsc-webResult.gsc-result:hover, .gsc-imageResult:hover {\\r\\n    border-color: #FFFFFF;\\r\\n    background-color: #FFFFFF;\\r\\n  }\\r\\n  .gs-webResult.gs-result a.gs-title:link, .gs-webResult.gs-result a.gs-title:link b, .gs-imageResult a.gs-title:link, .gs-imageResult a.gs-title:link b  {\\r\\n    color: #3C78A7;\\r\\n  }\\r\\n  .gs-webResult.gs-result a.gs-title:visited, .gs-webResult.gs-result a.gs-title:visited b, .gs-imageResult a.gs-title:visited, .gs-imageResult a.gs-title:visited b {\\r\\n    color: #073763;\\r\\n  }\\r\\n  .gs-webResult.gs-result a.gs-title:hover, .gs-webResult.gs-result a.gs-title:hover b, .gs-imageResult a.gs-title:hover, .gs-imageResult a.gs-title:hover b {\\r\\n    color: #1A0DAB;\\r\\n  }\\r\\n  .gs-webResult.gs-result a.gs-title:active, .gs-webResult.gs-result a.gs-title:active b, .gs-imageResult a.gs-title:active, .gs-imageResult a.gs-title:active b {\\r\\n    color: #3C78A7;\\r\\n  }\\r\\n  .gsc-cursor-page {\\r\\n    color: #3C78A7;\\r\\n  }\\r\\n  a.gsc-trailing-more-results:link {\\r\\n    color: #3C78A7;\\r\\n  }\\r\\n  .gs-webResult .gs-snippet, .gs-imageResult .gs-snippet, .gs-fileFormatType {\\r\\n    color: #333333;\\r\\n  }\\r\\n  .gs-webResult div.gs-visibleUrl, .gs-imageResult div.gs-visibleUrl {\\r\\n    color: #006621;\\r\\n  }\\r\\n  .gs-webResult div.gs-visibleUrl-short {\\r\\n    color: #006621;\\r\\n  }\\r\\n  .gs-webResult div.gs-visibleUrl-short  {\\r\\n    display: none;\\r\\n  }\\r\\n  .gs-webResult div.gs-visibleUrl-long {\\r\\n    display: block;\\r\\n  }\\r\\n  .gs-promotion div.gs-visibleUrl-short {\\r\\n    display: none;\\r\\n  }\\r\\n  .gs-promotion div.gs-visibleUrl-long  {\\r\\n    display: block;\\r\\n  }\\r\\n  .gsc-cursor-box {\\r\\n    border-color: #FFFFFF;\\r\\n  }\\r\\n  .gsc-results .gsc-cursor-box .gsc-cursor-page {\\r\\n    border-color: #E9E9E9;\\r\\n    background-color: #FFFFFF;\\r\\n    color: #3C78A7;\\r\\n  }\\r\\n  .gsc-results .gsc-cursor-box .gsc-cursor-current-page {\\r\\n    border-color: #FF9900;\\r\\n    background-color: #FFFFFF;\\r\\n    color: #073763;\\r\\n  }\\r\\n  .gsc-webResult.gsc-result.gsc-promotion {\\r\\n    border-color: #336699;\\r\\n    background-color: #FFFFFF;\\r\\n  }\\r\\n  .gsc-completion-title {\\r\\n    color: #3C78A7;\\r\\n  }\\r\\n  .gsc-completion-snippet {\\r\\n    color: #333333;\\r\\n  }\\r\\n  .gs-promotion a.gs-title:link,.gs-promotion a.gs-title:link *,.gs-promotion .gs-snippet a:link  {\\r\\n    color: #0000FF;\\r\\n  }\\r\\n  .gs-promotion a.gs-title:visited,.gs-promotion a.gs-title:visited *,.gs-promotion .gs-snippet a:visited {\\r\\n    color: #663399;\\r\\n  }\\r\\n  .gs-promotion a.gs-title:hover,.gs-promotion a.gs-title:hover *,.gs-promotion .gs-snippet a:hover  {\\r\\n    color: #0000FF;\\r\\n  }\\r\\n  .gs-promotion a.gs-title:active,.gs-promotion a.gs-title:active *,.gs-promotion .gs-snippet a:active {\\r\\n    color: #0000FF;\\r\\n  }\\r\\n  .gs-promotion .gs-snippet, .gs-promotion .gs-title .gs-promotion-title-right, .gs-promotion .gs-title .gs-promotion-title-right * {\\r\\n    color: #000000;\\r\\n  }\\r\\n  .gs-promotion .gs-visibleUrl,.gs-promotion .gs-visibleUrl-short  {\\r\\n    color: #008000;\\r\\n  }\\r\\n  .gsc-input input.gsc-input {\\r\\n    background: none repeat scroll 0% 0% white !important;\\r\\n  }\\r\\n.gsc-thumbnail-inside, .gsc-url-top {\\r\\n  padding-left: 0 !important;\\r\\n  margin: 0 !important;\\r\\n}\\r\\n.gsc-input input.gsc-input {\\r\\nbackground:url(http://frenchlane.com/DSC_search.png) no-repeat 0% 0% white !important;\\r\\ntext-indent: 130px;\\r\\n}\\r\\n</style>\\r\\n<!--CUSTOM GOOGLE SEARCH BAR-->    <script>\\n        xg.tg = function () {\\n    var cookies = document.cookie.split(\\';\\');\\n    var re = /^\\\\s*xn_visitor=([^\\\\s]*)/;\\n    var vc = \\'\\';\\n    for (i in cookies) {\\n        if (!cookies.hasOwnProperty(i)) {\\n            continue\\n        }\\n        var match = re.exec(cookies[i]);\\n        if (match) {\\n            vc = match[1];\\n            break;\\n        }\\n    }\\n    var image = new Image();\\n    var user = vc + \\',,datashaping\\';\\n    image.src = \\'http://www22.glam.com/cTagsImgCmd.act?gname=ning_user&gvalue=\\' + user + \\'&gtid=5000059145&gcmd=setc&gexpires=604800&ord=\\' + Math.random()*1E16;\\n    };\\n    xg.tg();\\n    </script>\\n    <script type=\"text/javascript\">\\n    var ning_gaq = ning_gaq || [];\\n    ning_gaq.push([\\'_ning_ga._setAccount\\', \\'UA-2024191-82\\']);\\n    ning_gaq.push([\\'_ning_ga._setNamespace\\', \\'ning\\']);\\n                    ning_gaq.push([\\'_ning_ga._setCustomVar\\', 1, \\'member_type\\', \\'anonymous\\', 3]);\\n            ning_gaq.push([\\'_ning_ga._setCustomVar\\', 2, \\'subdomain\\', \\'datashaping.ning.com\\', 3]);\\n            ning_gaq.push([\\'_ning_ga._setCustomVar\\', 3, \\'category\\', \\'technology\\', 3]);\\n            ning_gaq.push([\\'_ning_ga._setCustomVar\\', 4, \\'product_type\\', \\'pro\\', 3]);\\n            ning_gaq.push([\\'_ning_ga._setCustomVar\\', 5, \\'ab_variation\\', \\'-\\', 3]);    ning_gaq.push([\\'_ning_ga._trackPageview\\']);\\n    ning_gaq.push([\\'_ning_ga._trackPageLoadTime\\']);\\n\\n    (function() {\\n     var ga = document.createElement(\\'script\\'); ga.type = \\'text/javascript\\'; ga.async = true;\\n     ga.src = \"http://static.ning.com/socialnetworkmain/widgets/index/js/google-analytics/ga.js?xn_version=201511092056\";\\n     var s = document.getElementsByTagName(\\'script\\')[0]; s.parentNode.insertBefore(ga, s);\\n     })();\\n</script>\\n<script>\\n  var _comscore = _comscore || [];\\n  _comscore.push({ c1: \"2\", c2: \"6770185\" });\\n  (function() {\\n    var s = document.createElement(\"script\"), el = document.getElementsByTagName(\"script\")[0]; s.async = true;\\n    s.src = (document.location.protocol == \"https:\" ? \"https://sb\" : \"http://b\") + \".scorecardresearch.com/beacon.js\";\\n    el.parentNode.insertBefore(s, el);\\n  })();\\n</script>\\n<noscript>\\n  <img src=\"http://b.scorecardresearch.com/p?c1=2&c2=6770185&cv=2.0&cj=1\" />\\n</noscript>\\n\\n</div>\\n</body>\\n</html>\\n'"
      ]
     },
     "execution_count": 6,
     "metadata": {},
     "output_type": "execute_result"
    }
   ],
   "source": [
    "r.text"
   ]
  },
  {
   "cell_type": "code",
   "execution_count": 12,
   "metadata": {
    "collapsed": true
   },
   "outputs": [],
   "source": [
    "from goose import Goose"
   ]
  },
  {
   "cell_type": "code",
   "execution_count": 13,
   "metadata": {
    "collapsed": true
   },
   "outputs": [],
   "source": [
    "g = Goose()"
   ]
  },
  {
   "cell_type": "code",
   "execution_count": 32,
   "metadata": {
    "collapsed": true
   },
   "outputs": [],
   "source": [
    "del g"
   ]
  },
  {
   "cell_type": "code",
   "execution_count": 33,
   "metadata": {
    "collapsed": false
   },
   "outputs": [
    {
     "ename": "NameError",
     "evalue": "name 'g' is not defined",
     "output_type": "error",
     "traceback": [
      "\u001b[0;31m---------------------------------------------------------------------------\u001b[0m",
      "\u001b[0;31mNameError\u001b[0m                                 Traceback (most recent call last)",
      "\u001b[0;32m<ipython-input-33-f5302386464f>\u001b[0m in \u001b[0;36m<module>\u001b[0;34m()\u001b[0m\n\u001b[0;32m----> 1\u001b[0;31m \u001b[0mg\u001b[0m\u001b[0;34m\u001b[0m\u001b[0m\n\u001b[0m",
      "\u001b[0;31mNameError\u001b[0m: name 'g' is not defined"
     ]
    }
   ],
   "source": [
    "g"
   ]
  },
  {
   "cell_type": "code",
   "execution_count": 34,
   "metadata": {
    "collapsed": false
   },
   "outputs": [
    {
     "data": {
      "text/plain": [
       "u'New Zealand fintech \\u2013 companies to watch'"
      ]
     },
     "execution_count": 34,
     "metadata": {},
     "output_type": "execute_result"
    }
   ],
   "source": [
    "a.title\n",
    "#bba.score_tweets('Machine Learning microsoft at Comcast - Andrew Leamon and Chushi Ren - http://FORA.tv  http://bit.ly/1j4eU5x ')"
   ]
  },
  {
   "cell_type": "code",
   "execution_count": 7,
   "metadata": {
    "collapsed": true
   },
   "outputs": [],
   "source": [
    "a = [(u'kurztrip', 7), (u'kurzurlaub', 7), (u'europapark', 5), (u'freizeitpark', 5), (u'legoland', 5), (u'harrypotter', 5), (u'romantik', 5), (u'gameofthrones', 5), (u'bestefreundin', 5), (u'autostadt', 5), (u'fcbarcelona', 5), (u'realmadrid', 5), (u'gourmet', 5), (u'fu\\xdfballfan', 5), (u'disneyland', 5), (u'm\\xe4nnerurlaub', 5), (u'reise', 7), (u'erlebnisreise', 7), (u'reisetrend', 7), (u'kurzreise', 7), (u'action', 5), (u'abenteuer', 5), (u'st\\xe4dtetrip', 7), (u'st\\xe4dtereise', 7)]"
   ]
  },
  {
   "cell_type": "code",
   "execution_count": 11,
   "metadata": {
    "collapsed": false
   },
   "outputs": [
    {
     "data": {
      "text/plain": [
       "('',\n",
       " 'Three Ways Machine Learning Will Help Leaders Become Better Decision Makers')"
      ]
     },
     "execution_count": 11,
     "metadata": {},
     "output_type": "execute_result"
    }
   ],
   "source": [
    "bbl.get_article_from_url('https://t.co/X6HEVqMfKx')"
   ]
  },
  {
   "cell_type": "code",
   "execution_count": null,
   "metadata": {
    "collapsed": true
   },
   "outputs": [],
   "source": []
  },
  {
   "cell_type": "code",
   "execution_count": 36,
   "metadata": {
    "collapsed": false
   },
   "outputs": [
    {
     "ename": "NameError",
     "evalue": "name 'g' is not defined",
     "output_type": "error",
     "traceback": [
      "\u001b[0;31m---------------------------------------------------------------------------\u001b[0m",
      "\u001b[0;31mNameError\u001b[0m                                 Traceback (most recent call last)",
      "\u001b[0;32m<ipython-input-36-874b09bacc77>\u001b[0m in \u001b[0;36m<module>\u001b[0;34m()\u001b[0m\n\u001b[0;32m----> 1\u001b[0;31m \u001b[0ma\u001b[0m \u001b[0;34m=\u001b[0m \u001b[0mg\u001b[0m\u001b[0;34m.\u001b[0m\u001b[0mextract\u001b[0m\u001b[0;34m(\u001b[0m\u001b[0;34m\"\"\u001b[0m\u001b[0;34m)\u001b[0m\u001b[0;34m\u001b[0m\u001b[0m\n\u001b[0m",
      "\u001b[0;31mNameError\u001b[0m: name 'g' is not defined"
     ]
    }
   ],
   "source": [
    "a = g.extract(\"\")"
   ]
  },
  {
   "cell_type": "code",
   "execution_count": 35,
   "metadata": {
    "collapsed": false
   },
   "outputs": [
    {
     "data": {
      "text/plain": [
       "u'New Zealand fintech \\u2013 companies to watch'"
      ]
     },
     "execution_count": 35,
     "metadata": {},
     "output_type": "execute_result"
    }
   ],
   "source": [
    "a.title"
   ]
  },
  {
   "cell_type": "code",
   "execution_count": null,
   "metadata": {
    "collapsed": true
   },
   "outputs": [],
   "source": []
  },
  {
   "cell_type": "markdown",
   "metadata": {},
   "source": [
    "bbl.get_article_from_url('https://t.co/H6vjGehrgz')"
   ]
  },
  {
   "cell_type": "code",
   "execution_count": 29,
   "metadata": {
    "collapsed": false
   },
   "outputs": [
    {
     "name": "stdout",
     "output_type": "stream",
     "text": [
      "{}\n"
     ]
    },
    {
     "data": {
      "text/plain": [
       "(u'30 Days Startups https://t.co/7RZX6PP2Xc', 0)"
      ]
     },
     "execution_count": 29,
     "metadata": {},
     "output_type": "execute_result"
    }
   ],
   "source": [
    "bbl.build_text('https://t.co/7RZX6PP2Xc')"
   ]
  },
  {
   "cell_type": "code",
   "execution_count": 25,
   "metadata": {
    "collapsed": false
   },
   "outputs": [
    {
     "data": {
      "text/plain": [
       "unicode"
      ]
     },
     "execution_count": 25,
     "metadata": {},
     "output_type": "execute_result"
    }
   ],
   "source": [
    "type(a.title)"
   ]
  },
  {
   "cell_type": "code",
   "execution_count": 1,
   "metadata": {
    "collapsed": true
   },
   "outputs": [],
   "source": [
    "from goose import Goose"
   ]
  },
  {
   "cell_type": "code",
   "execution_count": 2,
   "metadata": {
    "collapsed": true
   },
   "outputs": [],
   "source": [
    "g=Goose()"
   ]
  },
  {
   "cell_type": "code",
   "execution_count": 8,
   "metadata": {
    "collapsed": false
   },
   "outputs": [],
   "source": [
    "def test():\n",
    "    article = g.extract('http://t3n.de/news/weihnachtsgeschenke-gesucht-30-661568/3/')\n",
    "    return article.title, article.cleaned_text\n"
   ]
  },
  {
   "cell_type": "code",
   "execution_count": 10,
   "metadata": {
    "collapsed": false
   },
   "outputs": [
    {
     "ename": "timeout",
     "evalue": "timed out",
     "output_type": "error",
     "traceback": [
      "\u001b[0;31m---------------------------------------------------------------------------\u001b[0m",
      "\u001b[0;31mtimeout\u001b[0m                                   Traceback (most recent call last)",
      "\u001b[0;32m<ipython-input-10-a6845884a0c6>\u001b[0m in \u001b[0;36m<module>\u001b[0;34m()\u001b[0m\n\u001b[1;32m      1\u001b[0m \u001b[0;32mfor\u001b[0m \u001b[0mi\u001b[0m \u001b[0;32min\u001b[0m \u001b[0mxrange\u001b[0m\u001b[0;34m(\u001b[0m\u001b[0;36m10000\u001b[0m\u001b[0;34m)\u001b[0m\u001b[0;34m:\u001b[0m\u001b[0;34m\u001b[0m\u001b[0m\n\u001b[0;32m----> 2\u001b[0;31m     \u001b[0ma\u001b[0m\u001b[0;34m,\u001b[0m \u001b[0mb\u001b[0m \u001b[0;34m=\u001b[0m \u001b[0mtest\u001b[0m\u001b[0;34m(\u001b[0m\u001b[0;34m)\u001b[0m\u001b[0;34m\u001b[0m\u001b[0m\n\u001b[0m",
      "\u001b[0;32m<ipython-input-8-36a0c3f16c1c>\u001b[0m in \u001b[0;36mtest\u001b[0;34m()\u001b[0m\n\u001b[1;32m      1\u001b[0m \u001b[0;32mdef\u001b[0m \u001b[0mtest\u001b[0m\u001b[0;34m(\u001b[0m\u001b[0;34m)\u001b[0m\u001b[0;34m:\u001b[0m\u001b[0;34m\u001b[0m\u001b[0m\n\u001b[0;32m----> 2\u001b[0;31m     \u001b[0marticle\u001b[0m \u001b[0;34m=\u001b[0m \u001b[0mg\u001b[0m\u001b[0;34m.\u001b[0m\u001b[0mextract\u001b[0m\u001b[0;34m(\u001b[0m\u001b[0;34m'http://t3n.de/news/weihnachtsgeschenke-gesucht-30-661568/3/'\u001b[0m\u001b[0;34m)\u001b[0m\u001b[0;34m\u001b[0m\u001b[0m\n\u001b[0m\u001b[1;32m      3\u001b[0m     \u001b[0;32mreturn\u001b[0m \u001b[0marticle\u001b[0m\u001b[0;34m.\u001b[0m\u001b[0mtitle\u001b[0m\u001b[0;34m,\u001b[0m \u001b[0marticle\u001b[0m\u001b[0;34m.\u001b[0m\u001b[0mcleaned_text\u001b[0m\u001b[0;34m\u001b[0m\u001b[0m\n",
      "\u001b[0;32m/Users/alex/.virtualenvs/vr/lib/python2.7/site-packages/goose/__init__.pyc\u001b[0m in \u001b[0;36mextract\u001b[0;34m(self, url, raw_html)\u001b[0m\n\u001b[1;32m     54\u001b[0m         \"\"\"\n\u001b[1;32m     55\u001b[0m         \u001b[0mcc\u001b[0m \u001b[0;34m=\u001b[0m \u001b[0mCrawlCandidate\u001b[0m\u001b[0;34m(\u001b[0m\u001b[0mself\u001b[0m\u001b[0;34m.\u001b[0m\u001b[0mconfig\u001b[0m\u001b[0;34m,\u001b[0m \u001b[0murl\u001b[0m\u001b[0;34m,\u001b[0m \u001b[0mraw_html\u001b[0m\u001b[0;34m)\u001b[0m\u001b[0;34m\u001b[0m\u001b[0m\n\u001b[0;32m---> 56\u001b[0;31m         \u001b[0;32mreturn\u001b[0m \u001b[0mself\u001b[0m\u001b[0;34m.\u001b[0m\u001b[0mcrawl\u001b[0m\u001b[0;34m(\u001b[0m\u001b[0mcc\u001b[0m\u001b[0;34m)\u001b[0m\u001b[0;34m\u001b[0m\u001b[0m\n\u001b[0m\u001b[1;32m     57\u001b[0m \u001b[0;34m\u001b[0m\u001b[0m\n\u001b[1;32m     58\u001b[0m     \u001b[0;32mdef\u001b[0m \u001b[0mshutdown_network\u001b[0m\u001b[0;34m(\u001b[0m\u001b[0mself\u001b[0m\u001b[0;34m)\u001b[0m\u001b[0;34m:\u001b[0m\u001b[0;34m\u001b[0m\u001b[0m\n",
      "\u001b[0;32m/Users/alex/.virtualenvs/vr/lib/python2.7/site-packages/goose/__init__.pyc\u001b[0m in \u001b[0;36mcrawl\u001b[0;34m(self, crawl_candiate)\u001b[0m\n\u001b[1;32m     64\u001b[0m         \u001b[0;32mtry\u001b[0m\u001b[0;34m:\u001b[0m\u001b[0;34m\u001b[0m\u001b[0m\n\u001b[1;32m     65\u001b[0m             \u001b[0mcrawler\u001b[0m \u001b[0;34m=\u001b[0m \u001b[0mCrawler\u001b[0m\u001b[0;34m(\u001b[0m\u001b[0mself\u001b[0m\u001b[0;34m.\u001b[0m\u001b[0mconfig\u001b[0m\u001b[0;34m)\u001b[0m\u001b[0;34m\u001b[0m\u001b[0m\n\u001b[0;32m---> 66\u001b[0;31m             \u001b[0marticle\u001b[0m \u001b[0;34m=\u001b[0m \u001b[0mcrawler\u001b[0m\u001b[0;34m.\u001b[0m\u001b[0mcrawl\u001b[0m\u001b[0;34m(\u001b[0m\u001b[0mcrawl_candiate\u001b[0m\u001b[0;34m)\u001b[0m\u001b[0;34m\u001b[0m\u001b[0m\n\u001b[0m\u001b[1;32m     67\u001b[0m         \u001b[0;32mexcept\u001b[0m \u001b[0;34m(\u001b[0m\u001b[0mUnicodeDecodeError\u001b[0m\u001b[0;34m,\u001b[0m \u001b[0mValueError\u001b[0m\u001b[0;34m)\u001b[0m\u001b[0;34m:\u001b[0m\u001b[0;34m\u001b[0m\u001b[0m\n\u001b[1;32m     68\u001b[0m             \u001b[0mself\u001b[0m\u001b[0;34m.\u001b[0m\u001b[0mconfig\u001b[0m\u001b[0;34m.\u001b[0m\u001b[0mparser_class\u001b[0m \u001b[0;34m=\u001b[0m \u001b[0mparsers\u001b[0m\u001b[0;34m[\u001b[0m\u001b[0;36m0\u001b[0m\u001b[0;34m]\u001b[0m\u001b[0;34m\u001b[0m\u001b[0m\n",
      "\u001b[0;32m/Users/alex/.virtualenvs/vr/lib/python2.7/site-packages/goose/crawler.pyc\u001b[0m in \u001b[0;36mcrawl\u001b[0;34m(self, crawl_candidate)\u001b[0m\n\u001b[1;32m    115\u001b[0m \u001b[0;34m\u001b[0m\u001b[0m\n\u001b[1;32m    116\u001b[0m         \u001b[0;31m# raw html\u001b[0m\u001b[0;34m\u001b[0m\u001b[0;34m\u001b[0m\u001b[0m\n\u001b[0;32m--> 117\u001b[0;31m         \u001b[0mraw_html\u001b[0m \u001b[0;34m=\u001b[0m \u001b[0mself\u001b[0m\u001b[0;34m.\u001b[0m\u001b[0mget_html\u001b[0m\u001b[0;34m(\u001b[0m\u001b[0mcrawl_candidate\u001b[0m\u001b[0;34m,\u001b[0m \u001b[0mparse_candidate\u001b[0m\u001b[0;34m)\u001b[0m\u001b[0;34m\u001b[0m\u001b[0m\n\u001b[0m\u001b[1;32m    118\u001b[0m \u001b[0;34m\u001b[0m\u001b[0m\n\u001b[1;32m    119\u001b[0m         \u001b[0;32mif\u001b[0m \u001b[0mraw_html\u001b[0m \u001b[0;32mis\u001b[0m \u001b[0mNone\u001b[0m\u001b[0;34m:\u001b[0m\u001b[0;34m\u001b[0m\u001b[0m\n",
      "\u001b[0;32m/Users/alex/.virtualenvs/vr/lib/python2.7/site-packages/goose/crawler.pyc\u001b[0m in \u001b[0;36mget_html\u001b[0;34m(self, crawl_candidate, parsing_candidate)\u001b[0m\n\u001b[1;32m    213\u001b[0m \u001b[0;34m\u001b[0m\u001b[0m\n\u001b[1;32m    214\u001b[0m         \u001b[0;31m# fetch HTML\u001b[0m\u001b[0;34m\u001b[0m\u001b[0;34m\u001b[0m\u001b[0m\n\u001b[0;32m--> 215\u001b[0;31m         \u001b[0mhtml\u001b[0m \u001b[0;34m=\u001b[0m \u001b[0mself\u001b[0m\u001b[0;34m.\u001b[0m\u001b[0mhtmlfetcher\u001b[0m\u001b[0;34m.\u001b[0m\u001b[0mget_html\u001b[0m\u001b[0;34m(\u001b[0m\u001b[0mparsing_candidate\u001b[0m\u001b[0;34m.\u001b[0m\u001b[0murl\u001b[0m\u001b[0;34m)\u001b[0m\u001b[0;34m\u001b[0m\u001b[0m\n\u001b[0m\u001b[1;32m    216\u001b[0m         self.article.additional_data.update({\n\u001b[1;32m    217\u001b[0m             \u001b[0;34m'request'\u001b[0m\u001b[0;34m:\u001b[0m \u001b[0mself\u001b[0m\u001b[0;34m.\u001b[0m\u001b[0mhtmlfetcher\u001b[0m\u001b[0;34m.\u001b[0m\u001b[0mrequest\u001b[0m\u001b[0;34m,\u001b[0m\u001b[0;34m\u001b[0m\u001b[0m\n",
      "\u001b[0;32m/Users/alex/.virtualenvs/vr/lib/python2.7/site-packages/goose/network.pyc\u001b[0m in \u001b[0;36mget_html\u001b[0;34m(self, url)\u001b[0m\n\u001b[1;32m     57\u001b[0m         \u001b[0;31m# read the result content\u001b[0m\u001b[0;34m\u001b[0m\u001b[0;34m\u001b[0m\u001b[0m\n\u001b[1;32m     58\u001b[0m         \u001b[0;32mif\u001b[0m \u001b[0mself\u001b[0m\u001b[0;34m.\u001b[0m\u001b[0mresult\u001b[0m \u001b[0;32mis\u001b[0m \u001b[0;32mnot\u001b[0m \u001b[0mNone\u001b[0m\u001b[0;34m:\u001b[0m\u001b[0;34m\u001b[0m\u001b[0m\n\u001b[0;32m---> 59\u001b[0;31m             \u001b[0;32mreturn\u001b[0m \u001b[0mself\u001b[0m\u001b[0;34m.\u001b[0m\u001b[0mresult\u001b[0m\u001b[0;34m.\u001b[0m\u001b[0mread\u001b[0m\u001b[0;34m(\u001b[0m\u001b[0;34m)\u001b[0m\u001b[0;34m\u001b[0m\u001b[0m\n\u001b[0m\u001b[1;32m     60\u001b[0m         \u001b[0;32mreturn\u001b[0m \u001b[0mNone\u001b[0m\u001b[0;34m\u001b[0m\u001b[0m\n",
      "\u001b[0;32m/usr/local/Cellar/python/2.7.9/Frameworks/Python.framework/Versions/2.7/lib/python2.7/socket.pyc\u001b[0m in \u001b[0;36mread\u001b[0;34m(self, size)\u001b[0m\n\u001b[1;32m    349\u001b[0m             \u001b[0;32mwhile\u001b[0m \u001b[0mTrue\u001b[0m\u001b[0;34m:\u001b[0m\u001b[0;34m\u001b[0m\u001b[0m\n\u001b[1;32m    350\u001b[0m                 \u001b[0;32mtry\u001b[0m\u001b[0;34m:\u001b[0m\u001b[0;34m\u001b[0m\u001b[0m\n\u001b[0;32m--> 351\u001b[0;31m                     \u001b[0mdata\u001b[0m \u001b[0;34m=\u001b[0m \u001b[0mself\u001b[0m\u001b[0;34m.\u001b[0m\u001b[0m_sock\u001b[0m\u001b[0;34m.\u001b[0m\u001b[0mrecv\u001b[0m\u001b[0;34m(\u001b[0m\u001b[0mrbufsize\u001b[0m\u001b[0;34m)\u001b[0m\u001b[0;34m\u001b[0m\u001b[0m\n\u001b[0m\u001b[1;32m    352\u001b[0m                 \u001b[0;32mexcept\u001b[0m \u001b[0merror\u001b[0m\u001b[0;34m,\u001b[0m \u001b[0me\u001b[0m\u001b[0;34m:\u001b[0m\u001b[0;34m\u001b[0m\u001b[0m\n\u001b[1;32m    353\u001b[0m                     \u001b[0;32mif\u001b[0m \u001b[0me\u001b[0m\u001b[0;34m.\u001b[0m\u001b[0margs\u001b[0m\u001b[0;34m[\u001b[0m\u001b[0;36m0\u001b[0m\u001b[0;34m]\u001b[0m \u001b[0;34m==\u001b[0m \u001b[0mEINTR\u001b[0m\u001b[0;34m:\u001b[0m\u001b[0;34m\u001b[0m\u001b[0m\n",
      "\u001b[0;32m/usr/local/Cellar/python/2.7.9/Frameworks/Python.framework/Versions/2.7/lib/python2.7/httplib.pyc\u001b[0m in \u001b[0;36mread\u001b[0;34m(self, amt)\u001b[0m\n\u001b[1;32m    571\u001b[0m         \u001b[0;31m# connection, and the user is reading more bytes than will be provided\u001b[0m\u001b[0;34m\u001b[0m\u001b[0;34m\u001b[0m\u001b[0m\n\u001b[1;32m    572\u001b[0m         \u001b[0;31m# (for example, reading in 1k chunks)\u001b[0m\u001b[0;34m\u001b[0m\u001b[0;34m\u001b[0m\u001b[0m\n\u001b[0;32m--> 573\u001b[0;31m         \u001b[0ms\u001b[0m \u001b[0;34m=\u001b[0m \u001b[0mself\u001b[0m\u001b[0;34m.\u001b[0m\u001b[0mfp\u001b[0m\u001b[0;34m.\u001b[0m\u001b[0mread\u001b[0m\u001b[0;34m(\u001b[0m\u001b[0mamt\u001b[0m\u001b[0;34m)\u001b[0m\u001b[0;34m\u001b[0m\u001b[0m\n\u001b[0m\u001b[1;32m    574\u001b[0m         \u001b[0;32mif\u001b[0m \u001b[0;32mnot\u001b[0m \u001b[0ms\u001b[0m \u001b[0;32mand\u001b[0m \u001b[0mamt\u001b[0m\u001b[0;34m:\u001b[0m\u001b[0;34m\u001b[0m\u001b[0m\n\u001b[1;32m    575\u001b[0m             \u001b[0;31m# Ideally, we would raise IncompleteRead if the content-length\u001b[0m\u001b[0;34m\u001b[0m\u001b[0;34m\u001b[0m\u001b[0m\n",
      "\u001b[0;32m/usr/local/Cellar/python/2.7.9/Frameworks/Python.framework/Versions/2.7/lib/python2.7/socket.pyc\u001b[0m in \u001b[0;36mread\u001b[0;34m(self, size)\u001b[0m\n\u001b[1;32m    378\u001b[0m                 \u001b[0;31m# fragmentation issues on many platforms.\u001b[0m\u001b[0;34m\u001b[0m\u001b[0;34m\u001b[0m\u001b[0m\n\u001b[1;32m    379\u001b[0m                 \u001b[0;32mtry\u001b[0m\u001b[0;34m:\u001b[0m\u001b[0;34m\u001b[0m\u001b[0m\n\u001b[0;32m--> 380\u001b[0;31m                     \u001b[0mdata\u001b[0m \u001b[0;34m=\u001b[0m \u001b[0mself\u001b[0m\u001b[0;34m.\u001b[0m\u001b[0m_sock\u001b[0m\u001b[0;34m.\u001b[0m\u001b[0mrecv\u001b[0m\u001b[0;34m(\u001b[0m\u001b[0mleft\u001b[0m\u001b[0;34m)\u001b[0m\u001b[0;34m\u001b[0m\u001b[0m\n\u001b[0m\u001b[1;32m    381\u001b[0m                 \u001b[0;32mexcept\u001b[0m \u001b[0merror\u001b[0m\u001b[0;34m,\u001b[0m \u001b[0me\u001b[0m\u001b[0;34m:\u001b[0m\u001b[0;34m\u001b[0m\u001b[0m\n\u001b[1;32m    382\u001b[0m                     \u001b[0;32mif\u001b[0m \u001b[0me\u001b[0m\u001b[0;34m.\u001b[0m\u001b[0margs\u001b[0m\u001b[0;34m[\u001b[0m\u001b[0;36m0\u001b[0m\u001b[0;34m]\u001b[0m \u001b[0;34m==\u001b[0m \u001b[0mEINTR\u001b[0m\u001b[0;34m:\u001b[0m\u001b[0;34m\u001b[0m\u001b[0m\n",
      "\u001b[0;31mtimeout\u001b[0m: timed out"
     ]
    }
   ],
   "source": [
    "for i in xrange(10000):\n",
    "    a, b = test()"
   ]
  },
  {
   "cell_type": "code",
   "execution_count": 7,
   "metadata": {
    "collapsed": false
   },
   "outputs": [
    {
     "data": {
      "text/plain": [
       "u'Genug Saft kann man nie haben. Bei der TopGum Powerbank handelt es sich um einen portablen Hochleistungsakku mit 6.000 mAh und Fast-Charge-Technologie f\\xfcr Smartphones, Tablets und andere Ger\\xe4te, die sich \\xfcber USB laden lassen. Das Geh\\xe4use ist aus Aluminium gefertigt und verf\\xfcgt \\xfcber ein integriertes Lightning-Kabel. TopGum hat gleich zwei Anschl\\xfcsse und kann beispielsweise zeitgleich ein iPad und ein iPhone laden. Dieses Weihnachtsgeschenk eignet sich nicht nur f\\xfcr Geeks und ist f\\xfcr rund 80 Euro erh\\xe4ltlich.\\n\\nBeim aktuellen Hype um Fallout 4 d\\xfcrftet ihr mit diesem Weihnachtsgeschenk goldrichtig liegen, denn wer kann schon Sneaker im ikonischen Look von Vault 111 sein Eigen nennen? Die Treter sind eigentlich fast schon zu schade, um sie wirklich auszuf\\xfchren, aber egal ob ihr sie einem Sneaker-Head oder einem Fallout-Fan schenkt \\u2013 die betreffende Person wird wahrscheinlich sowieso niemals auf diese Idee kommen. Normalerweise kostet der Schuh 85 US-Dollar, aber aktuell bekommt ihr ihn f\\xfcr rund 60 US-Dollar.\\n\\nNa? Schon mal einen Gutschein zu Weihnachten verschenkt? Das ist oftmals das Mittel der Wahl, wenn man sich nicht fr\\xfch genug gek\\xfcmmert hat. In diesem Fall g\\xe4be es allerdings einen anderen Grund, denn Sense von F-Secure ist einfach noch nicht erh\\xe4ltlich. Dennoch ist das Security-Gadget unter Umst\\xe4nden eine gute Wahl, denn aktuell erhalten Vorbesteller das Produkt inklusive einem Zw\\xf6lfmonats-Abo zum halben Preis (rund 100 Euro). Bei Sense handelt es sich um ein Gadget, das alle mit dem Internet verbundene Hardware sicher machen soll \\u2013 vom Tablet \\xfcber Spielkonsolen und Smart-TVs bis hin zu vernetzten Gl\\xfchbirnen oder internetf\\xe4higen Waschmaschinen.\\n\\nLego, Videospiele, Herr der Ringe, Scooby Doo, Portal, Batman, Zur\\xfcck in die Zukunft, Ghostbusters, Dr. Who und die Simpsons auf einmal? Klingt verr\\xfcckt, gibt es aber. Das Ganze nennt sich Lego Dimensions und ist eine Mischung aus klassischen Lego-Sets und einem zugeh\\xf6rigen Videospiel. Die Lego-Figuren werden mittels an eine Konsole angeschlossenem Portal zusammen mit dem Videospiel genutzt. Das Konzept nennt sich Toys-to-Life und ist auch von anderen Herstellern verf\\xfcgbar. Allerdings versteht es Lego grandios, die unterschiedlichsten Brands zu vermischen, so dass man (die entsprechenden Erweiterungen vorausgesetzt) ohne Probleme als Homer Simpson auf dem Batmobil die Welt von Portal unsicher machen kann. Das Starterset kostet rund 90 Euro und eignet sich sowohl f\\xfcr Kinder ab sieben Jahren als auch f\\xfcr Sammler oder Fans eines der Brands.\\n\\nSamsung hat erst k\\xfcrzlich eine deutlich verbesserte, leichtere und g\\xfcnstigere Version seines Virtual-Reality-Headsets Gear VR auf den Markt gebracht. Die Brille erm\\xf6glicht euch, entsprechende Filme und Spiele in der virtuellen Realit\\xe4t zu erleben. Die neue Version ist mit dem Samsung Galaxy S6, dem S6 edge und dem S6 edge+ kompatibel. Das Smartphone l\\xe4sst sich mittels flexiblen Arretiermechanismus in die Brille einsetzen. Die Samsung Gear VR kostet knapp 100 Euro.\\n\\nIhr wollt\\xa0jemanden beschenken, der eigentlich gar nicht von seiner Tastatur zu l\\xf6sen ist? Vielleicht ist er ja mit diesem Waffeleisen zumindest zum Fr\\xfchst\\xfcck zu einem AFK zu bewegen. Das hochwertige Gadget fabriziert n\\xe4mlich Waffeln, die wie eine Tastatur aussehen. Das Ganze ist mit rund 90 US-Dollar zwar nicht ganz g\\xfcnstig, aber f\\xfcr Keyboard-Junkies genau das richtige. Alternativ k\\xf6nnt ihr euch online nat\\xfcrlich auch nach dem \\xfcberaus beliebten Todesstern-Waffeleisen umsehen.\\n\\nTouch-Steuerung sch\\xf6n und gut, aber manche Spiele sollten mit einem richtigen Controller gespielt werden. Eine M\\xf6glichkeit, wie ihr aus eurem iPhone, iPad oder Apple TV eine amtliche Zockmaschine machen k\\xf6nnt, ist der Nimbus von Steel Series. Der gut verabeitete Controller verbindet sich via Bluetooth mit eurem iDevice und unterst\\xfctzt schon\\xa0ziemlich viele Games aus dem App Store. Der Nimbus kostet rund 60 Euro.\\n\\nWenn ihr jemandem ein Weihnachtsgeschenk machen wollt, der gerne mit einem Raspberry Pi bastelt, dann entscheidet euch doch f\\xfcr das Display f\\xfcr den Kleinstrechner. Die offizielle Hardware ist noch recht frisch und kostet euch rund 60 Euro.\\n\\nDer LapDesk von iSkelterProducts besteht aus Bambus, Neopren und Gummi. Das Gadget eignet sich f\\xfcr alle, die mit ihrem Laptop gerne auf der Couch ruml\\xfcmmeln und dennoch eine Maus nutzen wollen. Neben einem Mauspad nimmt der LapDesk einen Laptop und ein Smartphone auf, so dass es sich auf dem Sofa fast so anf\\xfchlt, als s\\xe4\\xdfe man am Schreibtisch. Diese Version kostet rund 80 Euro.\\n\\nWeiter auf Seite 4: \\u201eWeihnachtsgeschenke unter 50 Euro\\u201c \\xbb'"
      ]
     },
     "execution_count": 7,
     "metadata": {},
     "output_type": "execute_result"
    }
   ],
   "source": [
    "article.cleaned_text"
   ]
  },
  {
   "cell_type": "code",
   "execution_count": 15,
   "metadata": {
    "collapsed": true
   },
   "outputs": [],
   "source": [
    "import requests\n",
    "from lxml import html"
   ]
  },
  {
   "cell_type": "code",
   "execution_count": 13,
   "metadata": {
    "collapsed": false
   },
   "outputs": [],
   "source": [
    "a = requests.get('http://t3n.de/news/weihnachtsgeschenke-gesucht-30-661568/3/')"
   ]
  },
  {
   "cell_type": "code",
   "execution_count": 16,
   "metadata": {
    "collapsed": false
   },
   "outputs": [],
   "source": [
    "tree = html.fromstring(a.content)\n"
   ]
  },
  {
   "cell_type": "code",
   "execution_count": 17,
   "metadata": {
    "collapsed": false
   },
   "outputs": [
    {
     "data": {
      "text/plain": [
       "<Element html at 0x1099a82b8>"
      ]
     },
     "execution_count": 17,
     "metadata": {},
     "output_type": "execute_result"
    }
   ],
   "source": [
    "tree"
   ]
  },
  {
   "cell_type": "code",
   "execution_count": 30,
   "metadata": {
    "collapsed": true
   },
   "outputs": [],
   "source": [
    "title = tree.xpath('//title')"
   ]
  },
  {
   "cell_type": "code",
   "execution_count": 34,
   "metadata": {
    "collapsed": false
   },
   "outputs": [],
   "source": [
    "title_cand = title[0].text"
   ]
  },
  {
   "cell_type": "code",
   "execution_count": 35,
   "metadata": {
    "collapsed": true
   },
   "outputs": [],
   "source": [
    "title = title_cand.replace('|', '')"
   ]
  },
  {
   "cell_type": "code",
   "execution_count": 36,
   "metadata": {
    "collapsed": false
   },
   "outputs": [
    {
     "data": {
      "text/plain": [
       "u'IT-News im \\xdcberblick  Weihnachtsgeschenke gesucht? 30 tolle Gadgets f\\xfcr jeden Geldbeutel  Seite 3  t3n'"
      ]
     },
     "execution_count": 36,
     "metadata": {},
     "output_type": "execute_result"
    }
   ],
   "source": [
    "title"
   ]
  },
  {
   "cell_type": "code",
   "execution_count": 43,
   "metadata": {
    "collapsed": false
   },
   "outputs": [
    {
     "data": {
      "text/plain": [
       "'<!DOCTYPE html>\\n<html lang=\"de\" class=\"no-js\">\\n<head>\\n\\t<meta charset=\"utf-8\">\\n\\n<title>IT-News im \\xc3\\x9cberblick | Weihnachtsgeschenke gesucht? 30 tolle Gadgets f\\xc3\\xbcr jeden Geldbeutel | Seite 3 | t3n</title>\\n<meta name=\"description\" content=\"Weihnachtsgeschenke von 50 bis 100 Euro TopGum: Powerbank mit Lightning-Kabel von hardwrk Genug Saft kann man nie haben.\" />\\n<meta name=\"robots\" content=\"noodp\" />\\n<link rel=\"canonical\" href=\"http://t3n.de/news/weihnachtsgeschenke-gesucht-30-661568/3/\" />\\n\\n\\t<link href=\\'http://guruads.de\\' rel=\\'preconnect\\' crossorigin>\\n\\t<link href=\\'http://widgets.outbrain.com\\' rel=\\'preconnect\\' crossorigin>\\n\\t<link href=\\'https://fonts.gstatic.com\\' rel=\\'preconnect\\' crossorigin>\\n\\t<link href=\"//fonts.googleapis.com/css?family=Droid+Sans:400,700|Droid+Sans+Mono\" rel=\"stylesheet\" type=\"text/css\">\\n\\t<link href=\\'//fonts.googleapis.com/css?family=Shadows+Into+Light\\' rel=\\'stylesheet\\' type=\\'text/css\\'>\\t        \\t<link rel=\"stylesheet\" type=\"text/css\" media=\"screen,projection\" href=\"//t3n.sc/core/compressed/desktop.css?v=93d6f2da\">\\n\\t        <link rel=\"stylesheet\" type=\"text/css\" media=\"screen,projection\" href=\"//t3n.sc/core/css/desktop/sites/news.css?v=93d6f2da\">            <!--[if lt IE 9]>\\n\\t<script src=\"http://html5shiv.googlecode.com/svn/trunk/html5.js\"></script>\\n\\t<![endif]-->\\n\\n\\t<script type=\"text/javascript\">document.documentElement.className = document.documentElement.className.replace(\\'no-js\\', \\'js\\');</script>\\n\\t\\n\\t<meta name=\"news_keywords\" content=\"gadgets, tipps, entwicklung, hardware\">\\n\\t<script type=\"text/javascript\">\\n\\t\\tvar npc = npc || [];\\n\\t\\tnpc.push([\\'_setSections\\', \\'gadgets,tipps,entwicklung,hardware\\']);\\n\\t\\tnpc.push([\\'_setAuthors\\', \\'S\\xc3\\xa9bastien Bonset\\']);\\n\\t\\tnpc.push([\\'_setId\\', \\'news_661568\\']);\\n\\t</script>\\n\\n\\t<script type=\\'text/javascript\\'>\\n\\t\\t(function(){\\n\\t\\t\\tvar loc = window.location.href;\\n\\t\\t\\tvar dd = document.createElement(\\'script\\');\\n\\t\\t\\tdd.type = \\'text/javascript\\';\\n\\t\\t\\tdd.src = \\'//static.digidip.net/t3n.js?loc=\\' + loc;\\n\\t\\t\\tvar s = document.getElementsByTagName(\\'script\\')[0];\\n\\t\\t\\ts.parentNode.insertBefore(dd, s);\\n\\t\\t})();\\n\\t</script>\\n\\n\\t\\t<script type=\"text/javascript\">\\n\\t\\tvar Ads_BA_ADIDsite    = \\'t3n.de\\';\\n\\t\\tvar Ads_BA_ADIDsection = \\'hardware\\';\\n\\t\\tvar Ads_BA_keyword     = \\'gadgets,tipps,entwicklung,hardware,ba_artikel\\';\\n\\t\\tvar Ads_BA_Mobile \\t\\t =  false \\t</script>\\n\\t<script type=\"text/javascript\" src=\"//t3n.sc/core/js/libs/adlib.js?v=fab8bdaa\"></script>\\n\\n\\t<link rel=\"alternate\" type=\"application/rss+xml\" title=\"t3n RSS Feed\" href=\"http://t3n.de/news/feed/\" />\\n\\t<link rel=\"alternate\" type=\"application/atom+xml\" title=\"t3n Atom Feed\" href=\"http://t3n.de/news/feed/atom/\" />\\n\\t<link rel=\"pingback\" href=\"http://t3n.de/news/xmlrpc.php\" />\\n\\t<meta name=\"verify-v1\" content=\"v1bczer2TUqAQRGCBs+fpOp91t6WPdbBBWSotI21QYY=\" />\\n\\t\\n<link rel=\"alternate\" type=\"application/rss+xml\" title=\"t3n &raquo; Weihnachtsgeschenke gesucht? 30 tolle Gadgets f\\xc3\\xbcr jeden Geldbeutel Kommentar-Feed\" href=\"http://t3n.de/news/weihnachtsgeschenke-gesucht-30-661568/feed/\" />\\n\\t\\t<script type=\"text/javascript\">\\n\\t\\t\\twindow._wpemojiSettings = {\"baseUrl\":\"http:\\\\/\\\\/s.w.org\\\\/images\\\\/core\\\\/emoji\\\\/72x72\\\\/\",\"ext\":\".png\",\"source\":{\"concatemoji\":\"http:\\\\/\\\\/t3n.de\\\\/news\\\\/wp-includes\\\\/js\\\\/wp-emoji-release.min.js?ver=4.2.4\"}};\\n\\t\\t\\t!function(a,b,c){function d(a){var c=b.createElement(\"canvas\"),d=c.getContext&&c.getContext(\"2d\");return d&&d.fillText?(d.textBaseline=\"top\",d.font=\"600 32px Arial\",\"flag\"===a?(d.fillText(String.fromCharCode(55356,56812,55356,56807),0,0),c.toDataURL().length>3e3):(d.fillText(String.fromCharCode(55357,56835),0,0),0!==d.getImageData(16,16,1,1).data[0])):!1}function e(a){var c=b.createElement(\"script\");c.src=a,c.type=\"text/javascript\",b.getElementsByTagName(\"head\")[0].appendChild(c)}var f,g;c.supports={simple:d(\"simple\"),flag:d(\"flag\")},c.DOMReady=!1,c.readyCallback=function(){c.DOMReady=!0},c.supports.simple&&c.supports.flag||(g=function(){c.readyCallback()},b.addEventListener?(b.addEventListener(\"DOMContentLoaded\",g,!1),a.addEventListener(\"load\",g,!1)):(a.attachEvent(\"onload\",g),b.attachEvent(\"onreadystatechange\",function(){\"complete\"===b.readyState&&c.readyCallback()})),f=c.source||{},f.concatemoji?e(f.concatemoji):f.wpemoji&&f.twemoji&&(e(f.twemoji),e(f.wpemoji)))}(window,document,window._wpemojiSettings);\\n\\t\\t</script>\\n\\t\\t<style type=\"text/css\">\\nimg.wp-smiley,\\nimg.emoji {\\n\\tdisplay: inline !important;\\n\\tborder: none !important;\\n\\tbox-shadow: none !important;\\n\\theight: 1em !important;\\n\\twidth: 1em !important;\\n\\tmargin: 0 .07em !important;\\n\\tvertical-align: -0.1em !important;\\n\\tbackground: none !important;\\n\\tpadding: 0 !important;\\n}\\n</style>\\n<link rel=\\'stylesheet\\' id=\\'wpappbox-css\\'  href=\\'http://t3n.de/news/wp-content/plugins/wp-appbox/css/styles.min.css?ver=2.4.12\\' type=\\'text/css\\' media=\\'screen\\' />\\n<link rel=\"EditURI\" type=\"application/rsd+xml\" title=\"RSD\" href=\"http://t3n.de/news/xmlrpc.php?rsd\" />\\n<link rel=\"wlwmanifest\" type=\"application/wlwmanifest+xml\" href=\"http://t3n.de/news/wp-includes/wlwmanifest.xml\" /> \\n<link rel=\\'shortlink\\' href=\\'http://t3n.de/news/?p=661568\\' />\\n\\n<!--Plugin WP Missed Schedule 2013.0730.7777 Active - Tag d76ca983e4e0b1146b8511f40cd66015-->\\n\\n\\n\\n\\t<meta property=\"og:title\" content=\"Weihnachtsgeschenke gesucht? 30 tolle Gadgets f\\xc3\\xbcr jeden Geldbeutel\">\\n\\t<meta property=\"og:type\" content=\"article\">\\n\\t<meta property=\"og:url\" content=\"http://t3n.de/news/weihnachtsgeschenke-gesucht-30-661568/\">\\n\\t<meta property=\"og:site_name\" content=\"t3n Magazin\">\\n\\t<meta property=\"og:description\" content=\"Weihnachtsgeschenke zu finden, muss nicht schwer sein. Von Gadgets f\\xc3\\xbcr Designer und Entwickler \\xc3\\xbcber Gimmicks rund um Star Wars und Pr\\xc3\\xa4sente f\\xc3\\xbcr Foto-Freaks oder Gamer bis hin zu Ideen f\\xc3\\xbcr Hardware-Bastler bieten unsere Geschenke-Tipps\\xc2\\xa0f\\xc3\\xbcr jeden Geek und jeden Geldbeutel etwas.\">\\n\\t<link rel=\"image_src\" href=\"http://t3n.de/news/wp-content/uploads/2015/12/weihnachtsgeschenke-geeks-palette-gear-800x418.jpg\">\\n<meta property=\"og:image\" content=\"http://t3n.de/news/wp-content/uploads/2015/12/weihnachtsgeschenke-geeks-palette-gear-800x418.jpg\">\\n\\t<meta property=\"og:image:width\" content=\"800\">\\n\\t<meta property=\"og:image:height\" content=\"418\">\\n\\t<meta property=\"og:image\" content=\"http://t3n.de/news/wp-content/uploads/2015/12/weihnachtsgeschenke-geeks-palette-gear.jpg\">\\n\\t<meta property=\"og:image:width\" content=\"1200\">\\n\\t<meta property=\"og:image:height\" content=\"670\">\\n\\t<meta name=\"twitter:site\" content=\"@t3n\">\\n\\t<meta name=\"twitter:site:id\" content=\"11060982\">\\n\\t<meta name=\"twitter:description\" content=\"Weihnachtsgeschenke zu finden, muss nicht schwer sein. Von Gadgets f\\xc3\\xbcr Designer und Entwickler \\xc3\\xbcber Gimmicks rund um Star Wars und Pr\\xc3\\xa4sente f\\xc3\\xbcr Foto-Freaks oder Gamer bis hin zu Ideen f\\xc3\\xbcr Hardware-Bastler bieten unsere Geschenke-Tipps\\xc2\\xa0f\\xc3\\xbcr jeden Geek und jeden Geldbeutel etwas.\">\\n\\t<meta name=\"twitter:card\" content=\"summary_large_image\">\\n\\t<meta name=\"twitter:title\" content=\"Weihnachtsgeschenke gesucht? 30 tolle Gadgets f\\xc3\\xbcr jeden Geldbeutel\">\\n\\t<meta name=\"twitter:creator\" content=\"@Sebisebsn\">\\n\\t<meta name=\"twitter:image\" content=\"http://t3n.de/news/wp-content/uploads/2015/12/weihnachtsgeschenke-geeks-palette-gear-800x418.jpg\">\\n\\t<meta property=\"article:publisher\" content=\"https://www.facebook.com/t3nMagazin\">\\n\\t<meta property=\"vr:published_time\" content=\"2015-12-02T08:28:15+01:00\">\\n<meta property=\"vr:author\" content=\"S\\xc3\\xa9bastien Bonset\">\\n<meta property=\"vr:type\" content=\"gallery\">\\n<meta property=\"vr:category\" content=\"Hardware\">\\n\\n\\n\\t\\n\\t\\n\\n\\t<script src=\"https://script.ioam.de/iam.js\"></script>\\n\\n\\t\\n\\t\\n\\t\\n\\t<link rel=\"icon\" href=\"//t3n.sc/favicon.ico\" type=\"image/x-icon\">\\n\\t<link rel=\"shortcut icon\" href=\"//t3n.sc/favicon.ico\" type=\"image/x-icon\">\\n\\t<link rel=\"apple-touch-icon\" href=\"//t3n.sc/core/images/mobile/AppIcon152.png?v=93d6f2da\">\\n\\t<link rel=\"apple-touch-icon\" href=\"//t3n.sc/core/images/mobile/AppIcon57.png?v=93d6f2da\" sizes=\"57x57\">\\n\\t<link rel=\"apple-touch-icon\" href=\"//t3n.sc/core/images/mobile/AppIcon72.png?v=93d6f2da\" sizes=\"72x72\">\\n\\t<link rel=\"apple-touch-icon\" href=\"//t3n.sc/core/images/mobile/AppIcon76.png?v=93d6f2da\" sizes=\"76x76\">\\n\\t<link rel=\"apple-touch-icon\" href=\"//t3n.sc/core/images/mobile/AppIcon114.png?v=93d6f2da\" sizes=\"114x114\">\\n\\t<link rel=\"apple-touch-icon\" href=\"//t3n.sc/core/images/mobile/AppIcon120.png?v=93d6f2da\" sizes=\"120x120\">\\n\\t<link rel=\"apple-touch-icon\" href=\"//t3n.sc/core/images/mobile/AppIcon144.png?v=93d6f2da\" sizes=\"144x144\">\\n\\t<link rel=\"apple-touch-icon\" href=\"//t3n.sc/core/images/mobile/AppIcon152.png?v=93d6f2da\" sizes=\"152x152\">\\n\\n\\t<meta property=\"fb:page_id\" content=\"100942084485\">\\n\\t<link href=\"https://plus.google.com/101559871572415719072\" rel=\"publisher\">\\n\\n\\t<script type=\"text/javascript\">\\n\\t\\t(function() {\\n\\t\\t\\tvar projectId = \\'1841250180\\';\\n\\t\\t\\tvar protocol = (\\'https:\\' == document.location.protocol ? \\'https://\\' : \\'http://\\');\\n\\t\\t\\tvar scriptTag = document.createElement(\\'script\\');\\n\\t\\t\\tscriptTag.type = \\'text/javascript\\';\\n\\t\\t\\tscriptTag.async = true;\\n\\t\\t\\tscriptTag.src = protocol + \\'cdn.optimizely.com/js/\\' + projectId + \\'.js\\';\\n\\t\\t\\tvar s = document.getElementsByTagName(\\'script\\')[0];\\n\\t\\t\\ts.parentNode.insertBefore(scriptTag, s);\\n\\t\\t})();\\n\\t\\tfunction optimizelyTimeout() {\\n\\t\\t\\twindow.optimizely = window.optimizely|| [];\\n\\t\\t\\tif (!window.optimizely.data) {\\n\\t\\t\\t\\twindow.optimizely.push(\"timeout\");\\n\\t\\t\\t}\\n\\t\\t}\\n\\t\\tsetTimeout(optimizelyTimeout, 1000);\\n\\t</script>\\n\\n\\t\\t\\t<!--Visual Revenue Reader Response Tracking Script (v6) -->\\n\\t\\t<script type=\"text/javascript\">\\n\\t\\t\\tvar _vrq = _vrq || [];\\n\\t\\t\\t_vrq.push([\\'id\\', 488]);\\n\\t\\t\\t_vrq.push([\\'automate\\', false]);\\n\\t\\t\\t_vrq.push([\\'track\\', function(){}]);\\n\\t\\t\\t(function(d, a){\\n\\t\\t\\t\\tvar s = d.createElement(a),\\n\\t\\t\\t\\t\\tx = d.getElementsByTagName(a)[0];\\n\\t\\t\\t\\ts.async = true;\\n\\t\\t\\t\\ts.src = \\'http://a.visualrevenue.com/vrs.js\\';\\n\\t\\t\\t\\tx.parentNode.insertBefore(s, x);\\n\\t\\t\\t})(document, \\'script\\');\\n\\t\\t</script>\\n\\t\\t<!-- End of VR RR Tracking Script - All rights reserved -->\\n\\t\\n\\t<script type=\"application/ld+json\">\\n\\t{\\n\\t\\t\"@context\": \"http://schema.org\",\\n\\t\\t\"@type\": \"WebSite\",\\n\\t\\t\"name\": \"t3n\",\\n\\t\\t\"sameAs\" : [\\n\\t\\t\\t\"https://www.facebook.com/t3nMagazin\",\\n\\t\\t\\t\"https://twitter.com/t3n\",\\n\\t\\t\\t\"https://www.xing.com/news/pages/t3n-magazin-67\",\\n\\t\\t\\t\"https://plus.google.com/+t3nMagazin/\",\\n\\t\\t\\t\"https://instagram.com/t3n_magazin/\"\\n\\t\\t],\\n\\t\\t\"url\": \"http://t3n.de/\",\\n\\t\\t\"potentialAction\": {\\n\\t\\t\\t\"@type\": \"SearchAction\",\\n\\t\\t\\t\"target\": \"http://t3n.de/search?q={search_term_string}\",\\n\\t\\t\\t\"query-input\": \"required name=search_term_string\"\\n\\t\\t}\\n\\t}\\n\\t</script>\\n\\n\\t<script type=\"text/javascript\">\\n        window.cookieconsent_options = {\"message\":\"Cookies erleichtern die Bereitstellung unserer Dienste. Mit der Nutzung unserer Dienste erkl\\xc3\\xa4rst du dich damit einverstanden, dass wir Cookies verwenden\",\"dismiss\":\"Verstanden\",\"learnMore\":\"Mehr Infos\",\"link\":\"https://t3n.de/store/page/datenschutz\",\"theme\":\"dark-bottom\"};\\n    </script>\\n    <script type=\"text/javascript\" src=\"//cdnjs.cloudflare.com/ajax/libs/cookieconsent2/1.0.9/cookieconsent.min.js\"></script>\\n\\n</head>\\n\\n<body>\\n\\n<!-- Google Tag Manager -->\\n<noscript><iframe src=\"//www.googletagmanager.com/ns.html?id=GTM-MJGTHP\"\\nheight=\"0\" width=\"0\" style=\"display:none;visibility:hidden\"></iframe></noscript>\\n<script>var dataLayer = dataLayer || []; dataLayer.push({\\n  \\'t3nLayoutType\\': \\'desktop\\' //t3nLayoutType \\'desktop\\', \\'mobile\\'\\n});\\n(function(w,d,s,l,i){w[l]=w[l]||[];w[l].push({\\'gtm.start\\':\\nnew Date().getTime(),event:\\'gtm.js\\'});var f=d.getElementsByTagName(s)[0],\\nj=d.createElement(s),dl=l!=\\'dataLayer\\'?\\'&l=\\'+l:\\'\\';j.async=true;j.src=\\n\\'//www.googletagmanager.com/gtm.js?id=\\'+i+dl;f.parentNode.insertBefore(j,f);\\n})(window,document,\\'script\\',\\'dataLayer\\',\\'GTM-MJGTHP\\');</script>\\n<!-- End Google Tag Manager -->\\n\\n\\n\\n\\t<div id=\"szm\">\\n\\t\\t<script>\\n\\t\\t\\tvar iam_data = {\\n\\t\\t\\t\\t\"st\":\"t3n\",\\n\\t\\t\\t\\t\"cp\":\"t3nNews\",\\n\\t\\t\\t\\t\"sv\":\"in\"\\n\\t\\t\\t};\\n\\t\\t\\tiom.c(iam_data,1);\\n\\t\\t</script>\\n\\t</div>\\n\\n\\n\\n<div id=\"pageWrapper\" class=\"hidePrev\">\\n<div id=\"Ads_BA_TakeOver\">\\n<div id=\"Ads_BA_BS\" class=\"adbLeaderboard\">\\n\\t<script type=\"text/javascript\">Ads_BA_AD(\\'BS\\');</script>\\n</div>\\n<div id=\"ContentWrapper\">\\n\\n<div id=\"head\">\\n<div id=\"headMain\" class=\"clearfix\">\\n<nav class=\"tmbNav cf\">\\n\\t<ul>\\n\\t\\t<li id=\"tmBadge\">\\n\\t\\t\\t<a href=\"/\">t3n</a>\\n\\t\\t</li>\\n\\t\\t\\t\\t<li><a href=\"https://t3n.de/store/mediadaten\" class=\"tmbl\">Werben</a></li>\\n\\t\\t<li><a href=\"/news/sponsored-post-info/\" class=\"tmbl\">Sponsored Post</a></li>\\n\\t\\t\\t\\t\\t<li class=\"tmbNavAccount\">\\n\\t\\t\\t\\t\\t\\t<a href=\"https://t3n.de/signin\" class=\"tmbl \">\\n\\t\\t\\t\\tAnmelden<i class=\"icon-angle-down\"></i>\\n\\t\\t\\t</a>\\n\\n\\t\\t\\t<ul class=\"flnav\">\\n\\t\\t\\t\\t\\t\\t\\t\\t\\t<li class=\"flnav flnavInner\">\\n\\t\\t\\t\\t\\t\\t<section>\\n\\t\\t\\t\\t\\t\\t\\t<div class=\"flnav-headline\">Anmeldung</div>\\n\\t\\t\\t\\t\\t\\t\\t<form action=\"https://t3n.de/signin?redirect=http%3A%2F%2Ft3n.de%2Fnews%2Fweihnachtsgeschenke-gesucht-30-661568%2F3%2F\" id=\"signInForm\" method=\"post\">\\n\\t\\t\\t\\t\\t\\t\\t\\t<div>\\n\\t\\t\\t\\t\\t\\t\\t\\t\\t<div>\\n\\t\\t\\t\\t\\t\\t\\t\\t\\t\\t<input type=\"email\" name=\"signin[username]\" id=\"loginBoxUser\" value=\"\" placeholder=\"E-Mail-Adresse\" class=\"flnavForm colFull\" aria-required=\"true\" required>\\n\\t\\t\\t\\t\\t\\t\\t\\t\\t\\t<input type=\"password\" name=\"signin[password]\" id=\"loginBoxPass\" value=\"\" placeholder=\"Passwort\" class=\"flnavForm colFull\" aria-required=\"true\" required>\\n\\t\\t\\t\\t\\t\\t\\t\\t\\t</div>\\n\\t\\t\\t\\t\\t\\t\\t\\t\\t<div class=\"cf\">\\n\\t\\t\\t\\t\\t\\t\\t\\t\\t\\t<p class=\"col60\">\\n\\t\\t\\t\\t\\t\\t\\t\\t\\t\\t\\t<input type=\"checkbox\" name=\"signin[remember]\" id=\"signin_remember\">\\n\\t\\t\\t\\t\\t\\t\\t\\t\\t\\t\\t<label for=\"signin_remember\" class=\"text-small inline\"> Angemeldet bleiben</label>\\n\\t\\t\\t\\t\\t\\t\\t\\t\\t\\t</p>\\n\\t\\t\\t\\t\\t\\t\\t\\t\\t\\t<div class=\"col40r r\">\\n\\t\\t\\t\\t\\t\\t\\t\\t\\t\\t\\t<button type=\"submit\" class=\"tbutton primary\">Anmelden</button>\\n\\t\\t\\t\\t\\t\\t\\t\\t\\t\\t</div>\\n\\t\\t\\t\\t\\t\\t\\t\\t\\t</div>\\n\\t\\t\\t\\t\\t\\t\\t\\t</div>\\n\\t\\t\\t\\t\\t\\t\\t</form>\\n\\t\\t\\t\\t\\t\\t</section>\\n\\t\\t\\t\\t\\t</li>\\n\\t\\t\\t\\t\\t<li class=\"flnav flnavInner\">\\n\\t\\t\\t\\t\\t\\t<div class=\"line-through\"><span>oder anmelden mit:</span></div>\\n\\t\\t\\t\\t\\t\\t<div class=\"tmbNavSocialLogin\">\\n\\t\\t\\t\\t\\t\\t\\t<a href=\"https://t3n.de/connect/facebook\" rel=\"nofollow\" class=\"color-facebook\">\\n\\t\\t\\t\\t\\t\\t\\t\\t<i class=\"icon-facebook icon-large\"></i> Facebook\\n\\t\\t\\t\\t\\t\\t\\t</a>\\n\\t\\t\\t\\t\\t\\t\\t<a href=\"https://t3n.de/connect/twitter\" rel=\"nofollow\" class=\"color-twitter\">\\n\\t\\t\\t\\t\\t\\t\\t\\t<i class=\"icon-twitter icon-large\"></i> Twitter\\n\\t\\t\\t\\t\\t\\t\\t</a>\\n\\t\\t\\t\\t\\t\\t\\t<a href=\"https://t3n.de/connect/google\" rel=\"nofollow\" class=\"color-google\">\\n\\t\\t\\t\\t\\t\\t\\t\\t<i class=\"icon-google-plus icon-large\"></i> Google\\n\\t\\t\\t\\t\\t\\t\\t</a>\\n\\t\\t\\t\\t\\t\\t</div>\\n\\t\\t\\t\\t\\t</li>\\n\\t\\t\\t\\t\\t<li class=\"flnav flnavBreak\">\\n\\t\\t\\t\\t\\t\\t<a href=\"https://t3n.de/signup?redirect=http%3A%2F%2Ft3n.de%2Fnews%2Fweihnachtsgeschenke-gesucht-30-661568%2F3%2F\" rel=\"nofollow\">Jetzt registrieren</a>\\n\\t\\t\\t\\t\\t</li>\\n\\t\\t\\t\\t\\t<li class=\"flnav\"><a href=\"https://t3n.de/account/password\" rel=\"nofollow\">Passwort vergessen?</a></li>\\n\\t\\t\\t\\t\\t\\t\\t\\t<li class=\"flnav flnavBreak\"><a href=\"http://yeebase.com/kontakt/\">Support (Technik/Abo)</a></li>\\n\\t\\t\\t\\t<li class=\"flnav\"><a href=\"mailto:redaktion@t3n.de\">Support (Redaktion)</a></li>\\n\\t\\t\\t</ul>\\n\\t\\t</li>\\n\\t</ul>\\n</nav>\\n<div id=\"headTitle\" >\\n\\t<a href=\"/\">\\n\\t\\t\\t\\t\\tt3n Magazin<span>digital pioneers</span>\\n\\t\\t\\t</a>\\n</div>\\n\\n\\t<div id=\"headCampaign\">\\n\\t\\t<a href=\"http://t3n.de/magazin/t3n-nr-42-pimp-my-arbeit/?utm_source=t3n.de&utm_medium=Banner&utm_campaign=t3n-Headerkampagne\" class=\"tg-headcampaign\"><span class=\"headCampaignText\">4 Ausgaben + Shirt nur 35 \\xe2\\x82\\xac</span></a>\\n\\t</div>\\n\\n\\t<div id=\"headMainActions\">\\n\\t\\t<div id=\"headTitleSmall\"><a href=\"http://t3n.de/\">t3n Startseite</a></div>\\n\\t\\t<nav id=\"headNav\">\\n\\t\\t\\t<ul>\\n\\t\\t\\t\\t<li class=\"newsItem active\">\\n\\t\\t\\t\\t\\t<a href=\"/news/\">\\n\\t\\t\\t\\t\\t\\tNewsticker <i class=\"icon-angle-down\"></i>\\n\\t\\t\\t\\t\\t</a>\\n\\t\\t\\t\\t</li>\\n\\t\\t\\t\\t<li>\\n\\t\\t\\t\\t\\t<a href=\"/magazin/\">Magazin</a>\\n\\t\\t\\t\\t</li>\\n\\t\\t\\t\\t<li>\\n\\t\\t\\t\\t\\t<a href=\"/fragen/\">Fragen & Antworten</a>\\n\\t\\t\\t\\t</li>\\n\\t\\t\\t\\t<li>\\n\\t\\t\\t\\t\\t<a href=\"/jobs/\">Jobb\\xc3\\xb6rse</a>\\n\\t\\t\\t\\t</li>\\n\\t\\t\\t\\t<li>\\n\\t\\t\\t\\t\\t<a href=\"https://t3n.de/store/\">Shop</a>\\n\\t\\t\\t\\t</li>\\n\\t\\t\\t\\t<li>\\n\\t\\t\\t\\t\\t<a href=\"/marktplatz/\">Marktplatz</a>\\n\\t\\t\\t\\t</li>\\n\\t\\t\\t</ul>\\n\\t\\t</nav>\\n\\n\\t\\t\\t\\t\\t<div class=\"headSocial\">\\n\\t\\t\\t\\t<ul>\\n\\t\\t\\t\\t\\t<li>\\n\\t\\t\\t\\t\\t\\t<a href=\"http://t3n.de/news/feed/\" class=\"tg-socialfeed-header feed\" rel=\"external nofollow\" title=\"RSS-Feed\">\\n\\t\\t\\t\\t\\t\\t\\t<i class=\"icon-rss\"></i><span>RSS</span>\\n\\t\\t\\t\\t\\t\\t</a>\\n\\t\\t\\t\\t\\t</li>\\n\\t\\t\\t\\t\\t<li>\\n\\t\\t\\t\\t\\t\\t<a href=\"https://www.facebook.com/t3nMagazin\" class=\"tg-socialfacebook-header facebook\" rel=\"external nofollow\" title=\"Facebook\">\\n\\t\\t\\t\\t\\t\\t\\t<i class=\"icon-facebook\"></i><span>Facebook</span>\\n\\t\\t\\t\\t\\t\\t</a>\\n\\t\\t\\t\\t\\t</li>\\n\\t\\t\\t\\t\\t<li>\\n\\t\\t\\t\\t\\t\\t<a href=\"https://twitter.com/t3n\" class=\"tg-socialtwitter-header twitter\" rel=\"external nofollow\" title=\"Twitter\">\\n\\t\\t\\t\\t\\t\\t\\t<i class=\"icon-twitter\"></i><span>Twitter</span>\\n\\t\\t\\t\\t\\t\\t</a>\\n\\t\\t\\t\\t\\t</li>\\n\\t\\t\\t\\t\\t<li>\\n\\t\\t\\t\\t\\t\\t<a href=\"https://www.xing.com/news/pages/67\" class=\"tg-socialxing-header xing\" rel=\"external nofollow\" title=\"XING\">\\n\\t\\t\\t\\t\\t\\t\\t<i class=\"icon-xing\"></i><span>XING</span>\\n\\t\\t\\t\\t\\t\\t</a>\\n\\t\\t\\t\\t\\t</li>\\n\\t\\t\\t\\t\\t<li>\\n\\t\\t\\t\\t\\t\\t<a href=\"https://plus.google.com/+t3nMagazin/posts\" class=\"tg-socialgoogle-header google\" rel=\"external nofollow\" title=\"Google+\">\\n\\t\\t\\t\\t\\t\\t\\t<i class=\"icon-google-plus\"></i><span>Google+</span>\\n\\t\\t\\t\\t\\t\\t</a>\\n\\t\\t\\t\\t\\t</li>\\n\\t\\t\\t\\t\\t<li>\\n\\t\\t\\t\\t\\t\\t<a href=\"https://instagram.com/t3n_magazin/\" class=\"tg-socialinstagram-header instagram\" rel=\"external nofollow\" title=\"Instagram\">\\n\\t\\t\\t\\t\\t\\t\\t<i class=\"icon-instagram\"></i><span>Instagram</span>\\n\\t\\t\\t\\t\\t\\t</a>\\n\\t\\t\\t\\t\\t</li>\\n\\t\\t\\t\\t</ul>\\n\\t\\t\\t</div>\\n\\t\\t\\n\\t\\t\\t\\t\\t<div class=\"headSearch\">\\n\\t\\t\\t\\t<form action=\"http://t3n.de/search\" method=\"get\">\\n\\t\\t\\t\\t\\t<label for=\"s\">t3n.de durchsuchen</label>\\n\\t\\t\\t\\t\\t<input type=\"text\" name=\"q\" id=\"s\" value=\"\" placeholder=\"Suche\">\\n\\t\\t\\t\\t\\t<button type=\"submit\"><i class=\"icon-search\"></i> <span>Suchen</span></button>\\n\\t\\t\\t\\t\\t<span class=\"submitButton\"><i class=\"icon-search\"></i></span>\\n\\t\\t\\t\\t</form>\\n\\t\\t\\t</div>\\n\\t\\t\\n\\t</div>\\n\\n\\n\\t<div id=\"headTopics\">\\n\\t\\t\\t\\t\\t<ul class=\"headTopics clearfix\">\\n\\t\\t\\t\\t\\t\\t\\t\\t\\t<li>\\n\\t\\t\\t\\t\\t\\t<a class=\"openDropdown tg-ressortnavi-header\" href=\"http://t3n.de/tag/entwicklung\">Entwicklung<i class=\"icon-angle-down\"></i></a>\\n\\t\\t\\t\\t\\t\\t<div class=\\'headTopicsDropdown\\'>\\n\\t\\t\\t\\t\\t\\t\\t<!-- show last 4 articles -->\\n\\t\\t\\t\\t\\t\\t\\t<div class=\\'headTopicsDropdownInner\\'>\\n\\t\\t\\t\\t\\t\\t\\t\\t\\t\\t\\t\\t\\t\\t\\t\\t\\t<article class=\\'DropdownItem\\'>\\n\\t\\t\\t\\t\\t\\t\\t\\t\\t\\t<header>\\n\\t\\t\\t\\t\\t\\t\\t\\t\\t\\t\\t<a class=\"tg-ressortnavi-article\" href=\"http://t3n.de/news/eigene-wordpress-theme-erstellen-seite-404-template-662322/\">\\n\\t\\t\\t\\t\\t\\t\\t\\t\\t\\t\\t\\t<img class=\"js-lazyload-img\" data-original=\"http://t3n.sc/uploads/t3n-news-post-662322_wordpress_serie_small.jpg\" alt=\"Das eigene WordPress-Theme erstellen \\xe2\\x80\\x93 #14: Einzelansicht einer Seite und das 404-Template\" width=\"205\" height=\"105\">\\n\\t\\t\\t\\t\\t\\t\\t\\t\\t\\t\\t\\t<strong>Das eigene WordPress-Theme erstellen \\xe2\\x80\\x93 #14: Einzelansicht einer Seite und das 404-Template</strong>\\n\\t\\t\\t\\t\\t\\t\\t\\t\\t\\t\\t</a>\\n\\t\\t\\t\\t\\t\\t\\t\\t\\t\\t</header>\\n\\t\\t\\t\\t\\t\\t\\t\\t\\t</article>\\n\\t\\t\\t\\t\\t\\t\\t\\t\\t\\t\\t\\t\\t\\t\\t\\t\\t<article class=\\'DropdownItem\\'>\\n\\t\\t\\t\\t\\t\\t\\t\\t\\t\\t<header>\\n\\t\\t\\t\\t\\t\\t\\t\\t\\t\\t\\t<a class=\"tg-ressortnavi-article\" href=\"http://t3n.de/news/swift-apples-programmiersprache-662504/\">\\n\\t\\t\\t\\t\\t\\t\\t\\t\\t\\t\\t\\t<img class=\"js-lazyload-img\" data-original=\"http://t3n.sc/uploads/t3n-news-post-662504_Swift_Apple_small.jpg\" alt=\"Swift: Apples Programmiersprache ist jetzt Open Source\" width=\"205\" height=\"105\">\\n\\t\\t\\t\\t\\t\\t\\t\\t\\t\\t\\t\\t<strong>Swift: Apples Programmiersprache ist jetzt Open Source</strong>\\n\\t\\t\\t\\t\\t\\t\\t\\t\\t\\t\\t</a>\\n\\t\\t\\t\\t\\t\\t\\t\\t\\t\\t</header>\\n\\t\\t\\t\\t\\t\\t\\t\\t\\t</article>\\n\\t\\t\\t\\t\\t\\t\\t\\t\\t\\t\\t\\t\\t\\t\\t\\t\\t<article class=\\'DropdownItem\\'>\\n\\t\\t\\t\\t\\t\\t\\t\\t\\t\\t<header>\\n\\t\\t\\t\\t\\t\\t\\t\\t\\t\\t\\t<a class=\"tg-ressortnavi-article\" href=\"http://t3n.de/news/php-7-0-updaten-662328/\">\\n\\t\\t\\t\\t\\t\\t\\t\\t\\t\\t\\t\\t<img class=\"js-lazyload-img\" data-original=\"http://t3n.sc/uploads/t3n-news-post-662328_phpcode_76393_small.jpg\" alt=\"PHP 7.0 ist da: Warum du jetzt updaten solltest\" width=\"205\" height=\"105\">\\n\\t\\t\\t\\t\\t\\t\\t\\t\\t\\t\\t\\t<strong>PHP 7.0 ist da: Warum du jetzt updaten solltest</strong>\\n\\t\\t\\t\\t\\t\\t\\t\\t\\t\\t\\t</a>\\n\\t\\t\\t\\t\\t\\t\\t\\t\\t\\t</header>\\n\\t\\t\\t\\t\\t\\t\\t\\t\\t</article>\\n\\t\\t\\t\\t\\t\\t\\t\\t\\t\\t\\t\\t\\t\\t\\t\\t\\t<article class=\\'DropdownItem\\'>\\n\\t\\t\\t\\t\\t\\t\\t\\t\\t\\t<header>\\n\\t\\t\\t\\t\\t\\t\\t\\t\\t\\t\\t<a class=\"tg-ressortnavi-article\" href=\"http://t3n.de/news/recycling-epson-paperlab-662279/\">\\n\\t\\t\\t\\t\\t\\t\\t\\t\\t\\t\\t\\t<img class=\"js-lazyload-img\" data-original=\"http://t3n.sc/uploads/t3n-news-post-662279_Paperlab_VS_small.jpg\" alt=\"Recycling f\\xc3\\xbcrs B\\xc3\\xbcro: Epson PaperLab macht aus Altpapier wieder wei\\xc3\\x9fe Seiten\" width=\"205\" height=\"105\">\\n\\t\\t\\t\\t\\t\\t\\t\\t\\t\\t\\t\\t<strong>Recycling f\\xc3\\xbcrs B\\xc3\\xbcro: Epson PaperLab macht aus Altpapier wieder wei\\xc3\\x9fe Seiten</strong>\\n\\t\\t\\t\\t\\t\\t\\t\\t\\t\\t\\t</a>\\n\\t\\t\\t\\t\\t\\t\\t\\t\\t\\t</header>\\n\\t\\t\\t\\t\\t\\t\\t\\t\\t</article>\\n\\t\\t\\t\\t\\t\\t\\t\\t\\t\\t\\t\\t\\t\\t\\t</div>\\n\\t\\t\\t\\t\\t\\t\\t<!-- link to ressort -->\\n\\t\\t\\t\\t\\t\\t\\t<div class=\"headTopicsLink\"><a class=\"button button--red tg-ressortnavi-button\" href=\"http://t3n.de/tag/entwicklung\">Alle News zu Entwicklung</a></div>\\n\\t\\t\\t\\t\\t\\t</div>\\n\\t\\t\\t\\t\\t</li>\\n\\t\\t\\t\\t\\t\\t\\t\\t\\t<li>\\n\\t\\t\\t\\t\\t\\t<a class=\"openDropdown tg-ressortnavi-header\" href=\"http://t3n.de/tag/design\">Design<i class=\"icon-angle-down\"></i></a>\\n\\t\\t\\t\\t\\t\\t<div class=\\'headTopicsDropdown\\'>\\n\\t\\t\\t\\t\\t\\t\\t<!-- show last 4 articles -->\\n\\t\\t\\t\\t\\t\\t\\t<div class=\\'headTopicsDropdownInner\\'>\\n\\t\\t\\t\\t\\t\\t\\t\\t\\t\\t\\t\\t\\t\\t\\t\\t\\t<article class=\\'DropdownItem\\'>\\n\\t\\t\\t\\t\\t\\t\\t\\t\\t\\t<header>\\n\\t\\t\\t\\t\\t\\t\\t\\t\\t\\t\\t<a class=\"tg-ressortnavi-article\" href=\"http://t3n.de/news/design-team-erster-blick-662572/\">\\n\\t\\t\\t\\t\\t\\t\\t\\t\\t\\t\\t\\t<img class=\"js-lazyload-img\" data-original=\"http://t3n.sc/uploads/t3n-news-post-662572_design-kollaboration-figma-5_small.jpg\" alt=\"Wie ein browserbasiertes Photoshop: 23-J\\xc3\\xa4hriger will mit kollaborativem Design-Tool und 18 Millionen Dollar Adobe angreifen\" width=\"205\" height=\"105\">\\n\\t\\t\\t\\t\\t\\t\\t\\t\\t\\t\\t\\t<strong>Wie ein browserbasiertes Photoshop: 23-J\\xc3\\xa4hriger will mit kollaborativem Design-Tool und 18 Millionen Dollar Adobe angreifen</strong>\\n\\t\\t\\t\\t\\t\\t\\t\\t\\t\\t\\t</a>\\n\\t\\t\\t\\t\\t\\t\\t\\t\\t\\t</header>\\n\\t\\t\\t\\t\\t\\t\\t\\t\\t</article>\\n\\t\\t\\t\\t\\t\\t\\t\\t\\t\\t\\t\\t\\t\\t\\t\\t\\t<article class=\\'DropdownItem\\'>\\n\\t\\t\\t\\t\\t\\t\\t\\t\\t\\t<header>\\n\\t\\t\\t\\t\\t\\t\\t\\t\\t\\t\\t<a class=\"tg-ressortnavi-article\" href=\"http://t3n.de/news/wordpress-themes-plugins-weihnachten-661445/\">\\n\\t\\t\\t\\t\\t\\t\\t\\t\\t\\t\\t\\t<img class=\"js-lazyload-img\" data-original=\"http://t3n.sc/uploads/t3n-news-post-661445_wordpress-weihnachten_small.jpg\" alt=\"Kling, Bl\\xc3\\xb6gchen, klingelingeling: Weihnachtliche Plugins und Themes f\\xc3\\xbcr eure WordPress-Seite\" width=\"205\" height=\"105\">\\n\\t\\t\\t\\t\\t\\t\\t\\t\\t\\t\\t\\t<strong>Kling, Bl\\xc3\\xb6gchen, klingelingeling: Weihnachtliche Plugins und Themes f\\xc3\\xbcr eure WordPress-Seite</strong>\\n\\t\\t\\t\\t\\t\\t\\t\\t\\t\\t\\t</a>\\n\\t\\t\\t\\t\\t\\t\\t\\t\\t\\t</header>\\n\\t\\t\\t\\t\\t\\t\\t\\t\\t</article>\\n\\t\\t\\t\\t\\t\\t\\t\\t\\t\\t\\t\\t\\t\\t\\t\\t\\t<article class=\\'DropdownItem\\'>\\n\\t\\t\\t\\t\\t\\t\\t\\t\\t\\t<header>\\n\\t\\t\\t\\t\\t\\t\\t\\t\\t\\t\\t<a class=\"tg-ressortnavi-article\" href=\"http://t3n.de/news/virtual-reality-fuer-designer-661611/\">\\n\\t\\t\\t\\t\\t\\t\\t\\t\\t\\t\\t\\t<img class=\"js-lazyload-img\" data-original=\"http://t3n.sc/uploads/t3n-news-post-661611_Virtual_Reality_Design_small.jpg\" alt=\"Hologramm statt Bildschirm: Wie Autodesk und Microsoft Designer in die Virtual-Reality-Welt entf\\xc3\\xbchren\" width=\"205\" height=\"105\">\\n\\t\\t\\t\\t\\t\\t\\t\\t\\t\\t\\t\\t<strong>Hologramm statt Bildschirm: Wie Autodesk und Microsoft Designer in die Virtual-Reality-Welt entf\\xc3\\xbchren</strong>\\n\\t\\t\\t\\t\\t\\t\\t\\t\\t\\t\\t</a>\\n\\t\\t\\t\\t\\t\\t\\t\\t\\t\\t</header>\\n\\t\\t\\t\\t\\t\\t\\t\\t\\t</article>\\n\\t\\t\\t\\t\\t\\t\\t\\t\\t\\t\\t\\t\\t\\t\\t\\t\\t<article class=\\'DropdownItem\\'>\\n\\t\\t\\t\\t\\t\\t\\t\\t\\t\\t<header>\\n\\t\\t\\t\\t\\t\\t\\t\\t\\t\\t\\t<a class=\"tg-ressortnavi-article\" href=\"http://t3n.de/news/adobe-photoshop-cc-update-661594/\">\\n\\t\\t\\t\\t\\t\\t\\t\\t\\t\\t\\t\\t<img class=\"js-lazyload-img\" data-original=\"http://t3n.sc/uploads/t3n-news-post-661594_adobe-photoshop-cc_update_1_small.jpg\" alt=\"Photoshop-Update: Neue Version bringt individuelle Toolbars und verbesserte Artboards\" width=\"205\" height=\"105\">\\n\\t\\t\\t\\t\\t\\t\\t\\t\\t\\t\\t\\t<strong>Photoshop-Update: Neue Version bringt individuelle Toolbars und verbesserte Artboards</strong>\\n\\t\\t\\t\\t\\t\\t\\t\\t\\t\\t\\t</a>\\n\\t\\t\\t\\t\\t\\t\\t\\t\\t\\t</header>\\n\\t\\t\\t\\t\\t\\t\\t\\t\\t</article>\\n\\t\\t\\t\\t\\t\\t\\t\\t\\t\\t\\t\\t\\t\\t\\t</div>\\n\\t\\t\\t\\t\\t\\t\\t<!-- link to ressort -->\\n\\t\\t\\t\\t\\t\\t\\t<div class=\"headTopicsLink\"><a class=\"button button--red tg-ressortnavi-button\" href=\"http://t3n.de/tag/design\">Alle News zu Design</a></div>\\n\\t\\t\\t\\t\\t\\t</div>\\n\\t\\t\\t\\t\\t</li>\\n\\t\\t\\t\\t\\t\\t\\t\\t\\t<li>\\n\\t\\t\\t\\t\\t\\t<a class=\"openDropdown tg-ressortnavi-header\" href=\"http://t3n.de/tag/marketing\">Marketing<i class=\"icon-angle-down\"></i></a>\\n\\t\\t\\t\\t\\t\\t<div class=\\'headTopicsDropdown\\'>\\n\\t\\t\\t\\t\\t\\t\\t<!-- show last 4 articles -->\\n\\t\\t\\t\\t\\t\\t\\t<div class=\\'headTopicsDropdownInner\\'>\\n\\t\\t\\t\\t\\t\\t\\t\\t\\t\\t\\t\\t\\t\\t\\t\\t\\t<article class=\\'DropdownItem\\'>\\n\\t\\t\\t\\t\\t\\t\\t\\t\\t\\t<header>\\n\\t\\t\\t\\t\\t\\t\\t\\t\\t\\t\\t<a class=\"tg-ressortnavi-article\" href=\"http://t3n.de/news/kostenlose-marketingtools-663029/\">\\n\\t\\t\\t\\t\\t\\t\\t\\t\\t\\t\\t\\t<img class=\"js-lazyload-img\" data-original=\"http://t3n.sc/uploads/t3n-news-post-663029_kostenlose-marketingtools-featured_small.jpg\" alt=\"13 kostenlose Marketingtools f\\xc3\\xbcr Pfennigfuchser\" width=\"205\" height=\"105\">\\n\\t\\t\\t\\t\\t\\t\\t\\t\\t\\t\\t\\t<strong>13 kostenlose Marketingtools f\\xc3\\xbcr Pfennigfuchser</strong>\\n\\t\\t\\t\\t\\t\\t\\t\\t\\t\\t\\t</a>\\n\\t\\t\\t\\t\\t\\t\\t\\t\\t\\t</header>\\n\\t\\t\\t\\t\\t\\t\\t\\t\\t</article>\\n\\t\\t\\t\\t\\t\\t\\t\\t\\t\\t\\t\\t\\t\\t\\t\\t\\t<article class=\\'DropdownItem\\'>\\n\\t\\t\\t\\t\\t\\t\\t\\t\\t\\t<header>\\n\\t\\t\\t\\t\\t\\t\\t\\t\\t\\t\\t<a class=\"tg-ressortnavi-article\" href=\"http://t3n.de/news/fyuse-3d-fotografie-662960/\">\\n\\t\\t\\t\\t\\t\\t\\t\\t\\t\\t\\t\\t<img class=\"js-lazyload-img\" data-original=\"http://t3n.sc/uploads/t3n-news-post-662960_Fyuse_Katy_Perry_3D_small.jpg\" alt=\"Fyuse: Neuer Stern am Social-Media-Himmel will mit 3D-Fotografie begeistern\" width=\"205\" height=\"105\">\\n\\t\\t\\t\\t\\t\\t\\t\\t\\t\\t\\t\\t<strong>Fyuse: Neuer Stern am Social-Media-Himmel will mit 3D-Fotografie begeistern</strong>\\n\\t\\t\\t\\t\\t\\t\\t\\t\\t\\t\\t</a>\\n\\t\\t\\t\\t\\t\\t\\t\\t\\t\\t</header>\\n\\t\\t\\t\\t\\t\\t\\t\\t\\t</article>\\n\\t\\t\\t\\t\\t\\t\\t\\t\\t\\t\\t\\t\\t\\t\\t\\t\\t<article class=\\'DropdownItem\\'>\\n\\t\\t\\t\\t\\t\\t\\t\\t\\t\\t<header>\\n\\t\\t\\t\\t\\t\\t\\t\\t\\t\\t\\t<a class=\"tg-ressortnavi-article\" href=\"http://t3n.de/news/wtf-schlechtesten-werbeclips-2015-662440/\">\\n\\t\\t\\t\\t\\t\\t\\t\\t\\t\\t\\t\\t<img class=\"js-lazyload-img\" data-original=\"http://t3n.sc/uploads/t3n-news-post-662440_schlechte-werbeclips-2015_small.jpg\" alt=\"WTF? Die schlechtesten Werbeclips des Jahres 2015\" width=\"205\" height=\"105\">\\n\\t\\t\\t\\t\\t\\t\\t\\t\\t\\t\\t\\t<strong>WTF? Die schlechtesten Werbeclips des Jahres 2015</strong>\\n\\t\\t\\t\\t\\t\\t\\t\\t\\t\\t\\t</a>\\n\\t\\t\\t\\t\\t\\t\\t\\t\\t\\t</header>\\n\\t\\t\\t\\t\\t\\t\\t\\t\\t</article>\\n\\t\\t\\t\\t\\t\\t\\t\\t\\t\\t\\t\\t\\t\\t\\t\\t\\t<article class=\\'DropdownItem\\'>\\n\\t\\t\\t\\t\\t\\t\\t\\t\\t\\t<header>\\n\\t\\t\\t\\t\\t\\t\\t\\t\\t\\t\\t<a class=\"tg-ressortnavi-article\" href=\"http://t3n.de/news/pfennigfuchser-statt-millionaer-662376/\">\\n\\t\\t\\t\\t\\t\\t\\t\\t\\t\\t\\t\\t<img class=\"js-lazyload-img\" data-original=\"http://t3n.sc/uploads/t3n-news-post-662376_mobile-seo-fehler1_small.jpg\" alt=\"Von Top-Charts und Downloadzahlen: Ist das App-\\xc3\\x96kosystem kaputt?\" width=\"205\" height=\"105\">\\n\\t\\t\\t\\t\\t\\t\\t\\t\\t\\t\\t\\t<strong>Von Top-Charts und Downloadzahlen: Ist das App-\\xc3\\x96kosystem kaputt?</strong>\\n\\t\\t\\t\\t\\t\\t\\t\\t\\t\\t\\t</a>\\n\\t\\t\\t\\t\\t\\t\\t\\t\\t\\t</header>\\n\\t\\t\\t\\t\\t\\t\\t\\t\\t</article>\\n\\t\\t\\t\\t\\t\\t\\t\\t\\t\\t\\t\\t\\t\\t\\t</div>\\n\\t\\t\\t\\t\\t\\t\\t<!-- link to ressort -->\\n\\t\\t\\t\\t\\t\\t\\t<div class=\"headTopicsLink\"><a class=\"button button--red tg-ressortnavi-button\" href=\"http://t3n.de/tag/marketing\">Alle News zu Marketing</a></div>\\n\\t\\t\\t\\t\\t\\t</div>\\n\\t\\t\\t\\t\\t</li>\\n\\t\\t\\t\\t\\t\\t\\t\\t\\t<li>\\n\\t\\t\\t\\t\\t\\t<a class=\"openDropdown tg-ressortnavi-header\" href=\"http://t3n.de/tag/e-commerce\">E-Commerce<i class=\"icon-angle-down\"></i></a>\\n\\t\\t\\t\\t\\t\\t<div class=\\'headTopicsDropdown\\'>\\n\\t\\t\\t\\t\\t\\t\\t<!-- show last 4 articles -->\\n\\t\\t\\t\\t\\t\\t\\t<div class=\\'headTopicsDropdownInner\\'>\\n\\t\\t\\t\\t\\t\\t\\t\\t\\t\\t\\t\\t\\t\\t\\t\\t\\t<article class=\\'DropdownItem\\'>\\n\\t\\t\\t\\t\\t\\t\\t\\t\\t\\t<header>\\n\\t\\t\\t\\t\\t\\t\\t\\t\\t\\t\\t<a class=\"tg-ressortnavi-article\" href=\"http://t3n.de/news/amazon-buchladen-berlin-662856/\">\\n\\t\\t\\t\\t\\t\\t\\t\\t\\t\\t\\t\\t<img class=\"js-lazyload-img\" data-original=\"http://t3n.sc/uploads/t3n-news-post-662856_Amazon-erster-Buchladen-Geekwire-2015-11-03-um-10.29.26_small.jpg\" alt=\"Amazon: Station\\xc3\\xa4rer Buchladen in Berlin denkbar\" width=\"205\" height=\"105\">\\n\\t\\t\\t\\t\\t\\t\\t\\t\\t\\t\\t\\t<strong>Amazon: Station\\xc3\\xa4rer Buchladen in Berlin denkbar</strong>\\n\\t\\t\\t\\t\\t\\t\\t\\t\\t\\t\\t</a>\\n\\t\\t\\t\\t\\t\\t\\t\\t\\t\\t</header>\\n\\t\\t\\t\\t\\t\\t\\t\\t\\t</article>\\n\\t\\t\\t\\t\\t\\t\\t\\t\\t\\t\\t\\t\\t\\t\\t\\t\\t<article class=\\'DropdownItem\\'>\\n\\t\\t\\t\\t\\t\\t\\t\\t\\t\\t<header>\\n\\t\\t\\t\\t\\t\\t\\t\\t\\t\\t\\t<a class=\"tg-ressortnavi-article\" href=\"http://t3n.de/news/kundenbindungssysteme-lieblingstasche-kryd-660168/\">\\n\\t\\t\\t\\t\\t\\t\\t\\t\\t\\t\\t\\t<img class=\"js-lazyload-img\" data-original=\"http://t3n.sc/uploads/t3n-news-post-660168_Kundenbindungssysteme-E-Commerce-Lieblingstasche-FI_small.jpg\" alt=\"Und es geht doch: Der Shop \\xe2\\x80\\x9eLieblingstasche\\xe2\\x80\\x9c erkl\\xc3\\xa4rt, wieso sich Kundenbindungssysteme auch f\\xc3\\xbcr kleine H\\xc3\\xa4ndler lohnen\" width=\"205\" height=\"105\">\\n\\t\\t\\t\\t\\t\\t\\t\\t\\t\\t\\t\\t<strong>Und es geht doch: Der Shop \\xe2\\x80\\x9eLieblingstasche\\xe2\\x80\\x9c erkl\\xc3\\xa4rt, wieso sich Kundenbindungssysteme auch f\\xc3\\xbcr kleine H\\xc3\\xa4ndler lohnen</strong>\\n\\t\\t\\t\\t\\t\\t\\t\\t\\t\\t\\t</a>\\n\\t\\t\\t\\t\\t\\t\\t\\t\\t\\t</header>\\n\\t\\t\\t\\t\\t\\t\\t\\t\\t</article>\\n\\t\\t\\t\\t\\t\\t\\t\\t\\t\\t\\t\\t\\t\\t\\t\\t\\t<article class=\\'DropdownItem\\'>\\n\\t\\t\\t\\t\\t\\t\\t\\t\\t\\t<header>\\n\\t\\t\\t\\t\\t\\t\\t\\t\\t\\t\\t<a class=\"tg-ressortnavi-article\" href=\"http://t3n.de/news/haendlerkonten-gefahr-ebay-662586/\">\\n\\t\\t\\t\\t\\t\\t\\t\\t\\t\\t\\t\\t<img class=\"js-lazyload-img\" data-original=\"http://t3n.sc/uploads/t3n-news-post-662586_t3n__E-Commerce-News_B_Featured-Image_small.jpg\" alt=\"H\\xc3\\xa4ndlerkonten in Gefahr: eBay k\\xc3\\xa4mpft mit Sicherheitsproblemen [E-Commerce-News]\" width=\"205\" height=\"105\">\\n\\t\\t\\t\\t\\t\\t\\t\\t\\t\\t\\t\\t<strong>H\\xc3\\xa4ndlerkonten in Gefahr: eBay k\\xc3\\xa4mpft mit Sicherheitsproblemen [E-Commerce-News]</strong>\\n\\t\\t\\t\\t\\t\\t\\t\\t\\t\\t\\t</a>\\n\\t\\t\\t\\t\\t\\t\\t\\t\\t\\t</header>\\n\\t\\t\\t\\t\\t\\t\\t\\t\\t</article>\\n\\t\\t\\t\\t\\t\\t\\t\\t\\t\\t\\t\\t\\t\\t\\t\\t\\t<article class=\\'DropdownItem\\'>\\n\\t\\t\\t\\t\\t\\t\\t\\t\\t\\t<header>\\n\\t\\t\\t\\t\\t\\t\\t\\t\\t\\t\\t<a class=\"tg-ressortnavi-article\" href=\"http://t3n.de/news/schlag-zu-sicher-dir-eins-20-661814/\">\\n\\t\\t\\t\\t\\t\\t\\t\\t\\t\\t\\t\\t<img class=\"js-lazyload-img\" data-original=\"http://t3n.sc/uploads/t3n-news-post-661814_handbuch_online_shop_fe_small.jpg\" alt=\"Schlag zu: Sicher dir eins von 20 E-Commerce-B\\xc3\\xbcchern! [t3n-Aktion]\" width=\"205\" height=\"105\">\\n\\t\\t\\t\\t\\t\\t\\t\\t\\t\\t\\t\\t<strong>Schlag zu: Sicher dir eins von 20 E-Commerce-B\\xc3\\xbcchern! [t3n-Aktion]</strong>\\n\\t\\t\\t\\t\\t\\t\\t\\t\\t\\t\\t</a>\\n\\t\\t\\t\\t\\t\\t\\t\\t\\t\\t</header>\\n\\t\\t\\t\\t\\t\\t\\t\\t\\t</article>\\n\\t\\t\\t\\t\\t\\t\\t\\t\\t\\t\\t\\t\\t\\t\\t</div>\\n\\t\\t\\t\\t\\t\\t\\t<!-- link to ressort -->\\n\\t\\t\\t\\t\\t\\t\\t<div class=\"headTopicsLink\"><a class=\"button button--red tg-ressortnavi-button\" href=\"http://t3n.de/tag/e-commerce\">Alle News zu E-Commerce</a></div>\\n\\t\\t\\t\\t\\t\\t</div>\\n\\t\\t\\t\\t\\t</li>\\n\\t\\t\\t\\t\\t\\t\\t\\t\\t<li>\\n\\t\\t\\t\\t\\t\\t<a class=\"openDropdown tg-ressortnavi-header\" href=\"http://t3n.de/tag/startups\">Startups<i class=\"icon-angle-down\"></i></a>\\n\\t\\t\\t\\t\\t\\t<div class=\\'headTopicsDropdown\\'>\\n\\t\\t\\t\\t\\t\\t\\t<!-- show last 4 articles -->\\n\\t\\t\\t\\t\\t\\t\\t<div class=\\'headTopicsDropdownInner\\'>\\n\\t\\t\\t\\t\\t\\t\\t\\t\\t\\t\\t\\t\\t\\t\\t\\t\\t<article class=\\'DropdownItem\\'>\\n\\t\\t\\t\\t\\t\\t\\t\\t\\t\\t<header>\\n\\t\\t\\t\\t\\t\\t\\t\\t\\t\\t\\t<a class=\"tg-ressortnavi-article\" href=\"http://t3n.de/news/startup-news-62-663030/\">\\n\\t\\t\\t\\t\\t\\t\\t\\t\\t\\t\\t\\t<img class=\"js-lazyload-img\" data-original=\"http://t3n.sc/uploads/t3n-news-post-663030_startup-news-google-ventures_small.jpg\" alt=\"Google will weniger in junge Startups investieren [Startup-News]\" width=\"205\" height=\"105\">\\n\\t\\t\\t\\t\\t\\t\\t\\t\\t\\t\\t\\t<strong>Google will weniger in junge Startups investieren [Startup-News]</strong>\\n\\t\\t\\t\\t\\t\\t\\t\\t\\t\\t\\t</a>\\n\\t\\t\\t\\t\\t\\t\\t\\t\\t\\t</header>\\n\\t\\t\\t\\t\\t\\t\\t\\t\\t</article>\\n\\t\\t\\t\\t\\t\\t\\t\\t\\t\\t\\t\\t\\t\\t\\t\\t\\t<article class=\\'DropdownItem\\'>\\n\\t\\t\\t\\t\\t\\t\\t\\t\\t\\t<header>\\n\\t\\t\\t\\t\\t\\t\\t\\t\\t\\t\\t<a class=\"tg-ressortnavi-article\" href=\"http://t3n.de/news/startup-news-catawiki-gobutler-662818/\">\\n\\t\\t\\t\\t\\t\\t\\t\\t\\t\\t\\t\\t<img class=\"js-lazyload-img\" data-original=\"http://t3n.sc/uploads/t3n-news-post-662818_startup-news-catawiki_small.jpg\" alt=\"Dieses Startup aus den Niederlanden w\\xc3\\xa4chst am schnellsten von allen [Startup-News]\" width=\"205\" height=\"105\">\\n\\t\\t\\t\\t\\t\\t\\t\\t\\t\\t\\t\\t<strong>Dieses Startup aus den Niederlanden w\\xc3\\xa4chst am schnellsten von allen [Startup-News]</strong>\\n\\t\\t\\t\\t\\t\\t\\t\\t\\t\\t\\t</a>\\n\\t\\t\\t\\t\\t\\t\\t\\t\\t\\t</header>\\n\\t\\t\\t\\t\\t\\t\\t\\t\\t</article>\\n\\t\\t\\t\\t\\t\\t\\t\\t\\t\\t\\t\\t\\t\\t\\t\\t\\t<article class=\\'DropdownItem\\'>\\n\\t\\t\\t\\t\\t\\t\\t\\t\\t\\t<header>\\n\\t\\t\\t\\t\\t\\t\\t\\t\\t\\t\\t<a class=\"tg-ressortnavi-article\" href=\"http://t3n.de/news/startup-news-lendico-state-of-startups-662518/\">\\n\\t\\t\\t\\t\\t\\t\\t\\t\\t\\t\\t\\t<img class=\"js-lazyload-img\" data-original=\"http://t3n.sc/uploads/t3n-news-post-662518_startup_fail_sorgen_small.jpg\" alt=\"Lendico: Wenn FinTech-Startups hei\\xc3\\x9fe Luft anpreisen [Startup-News]\" width=\"205\" height=\"105\">\\n\\t\\t\\t\\t\\t\\t\\t\\t\\t\\t\\t\\t<strong>Lendico: Wenn FinTech-Startups hei\\xc3\\x9fe Luft anpreisen [Startup-News]</strong>\\n\\t\\t\\t\\t\\t\\t\\t\\t\\t\\t\\t</a>\\n\\t\\t\\t\\t\\t\\t\\t\\t\\t\\t</header>\\n\\t\\t\\t\\t\\t\\t\\t\\t\\t</article>\\n\\t\\t\\t\\t\\t\\t\\t\\t\\t\\t\\t\\t\\t\\t\\t\\t\\t<article class=\\'DropdownItem\\'>\\n\\t\\t\\t\\t\\t\\t\\t\\t\\t\\t<header>\\n\\t\\t\\t\\t\\t\\t\\t\\t\\t\\t\\t<a class=\"tg-ressortnavi-article\" href=\"http://t3n.de/news/startup-news-simscale-deskbookers-yahoo-662225/\">\\n\\t\\t\\t\\t\\t\\t\\t\\t\\t\\t\\t\\t<img class=\"js-lazyload-img\" data-original=\"http://t3n.sc/uploads/t3n-news-post-662225_marissamayer_58138_small.jpg\" alt=\"Falscher Alarm? Yahoo-Vorstand stellt sich hinter Marissa Mayer [Startup-News]\" width=\"205\" height=\"105\">\\n\\t\\t\\t\\t\\t\\t\\t\\t\\t\\t\\t\\t<strong>Falscher Alarm? Yahoo-Vorstand stellt sich hinter Marissa Mayer [Startup-News]</strong>\\n\\t\\t\\t\\t\\t\\t\\t\\t\\t\\t\\t</a>\\n\\t\\t\\t\\t\\t\\t\\t\\t\\t\\t</header>\\n\\t\\t\\t\\t\\t\\t\\t\\t\\t</article>\\n\\t\\t\\t\\t\\t\\t\\t\\t\\t\\t\\t\\t\\t\\t\\t</div>\\n\\t\\t\\t\\t\\t\\t\\t<!-- link to ressort -->\\n\\t\\t\\t\\t\\t\\t\\t<div class=\"headTopicsLink\"><a class=\"button button--red tg-ressortnavi-button\" href=\"http://t3n.de/tag/startups\">Alle News zu Startups</a></div>\\n\\t\\t\\t\\t\\t\\t</div>\\n\\t\\t\\t\\t\\t</li>\\n\\t\\t\\t\\t\\t\\t\\t\\t\\t<li>\\n\\t\\t\\t\\t\\t\\t<a class=\"openDropdown tg-ressortnavi-header\" href=\"http://t3n.de/tag/software\">Software<i class=\"icon-angle-down\"></i></a>\\n\\t\\t\\t\\t\\t\\t<div class=\\'headTopicsDropdown\\'>\\n\\t\\t\\t\\t\\t\\t\\t<!-- show last 4 articles -->\\n\\t\\t\\t\\t\\t\\t\\t<div class=\\'headTopicsDropdownInner\\'>\\n\\t\\t\\t\\t\\t\\t\\t\\t\\t\\t\\t\\t\\t\\t\\t\\t\\t<article class=\\'DropdownItem\\'>\\n\\t\\t\\t\\t\\t\\t\\t\\t\\t\\t<header>\\n\\t\\t\\t\\t\\t\\t\\t\\t\\t\\t\\t<a class=\"tg-ressortnavi-article\" href=\"http://t3n.de/news/whatsapp-whatsbot-662915/\">\\n\\t\\t\\t\\t\\t\\t\\t\\t\\t\\t\\t\\t<img class=\"js-lazyload-img\" data-original=\"http://t3n.sc/uploads/t3n-news-post-662915_messaging_whatsapp_messenger_marketing_small.jpg\" alt=\"Virtueller WhatsApp-Assistent: WhatsBot macht Siri und Cortana Konkurrenz\" width=\"205\" height=\"105\">\\n\\t\\t\\t\\t\\t\\t\\t\\t\\t\\t\\t\\t<strong>Virtueller WhatsApp-Assistent: WhatsBot macht Siri und Cortana Konkurrenz</strong>\\n\\t\\t\\t\\t\\t\\t\\t\\t\\t\\t\\t</a>\\n\\t\\t\\t\\t\\t\\t\\t\\t\\t\\t</header>\\n\\t\\t\\t\\t\\t\\t\\t\\t\\t</article>\\n\\t\\t\\t\\t\\t\\t\\t\\t\\t\\t\\t\\t\\t\\t\\t\\t\\t<article class=\\'DropdownItem\\'>\\n\\t\\t\\t\\t\\t\\t\\t\\t\\t\\t<header>\\n\\t\\t\\t\\t\\t\\t\\t\\t\\t\\t\\t<a class=\"tg-ressortnavi-article\" href=\"http://t3n.de/news/microsoft-chakra-open-source-2-662861/\">\\n\\t\\t\\t\\t\\t\\t\\t\\t\\t\\t\\t\\t<img class=\"js-lazyload-img\" data-original=\"http://t3n.sc/uploads/t3n-news-post-662861_microsoft-chakracore_small.jpg\" alt=\"Browser Edge: Microsoft stellt JavaScript-Engine Chakra 2016 unter Open-Source-Lizenz\" width=\"205\" height=\"105\">\\n\\t\\t\\t\\t\\t\\t\\t\\t\\t\\t\\t\\t<strong>Browser Edge: Microsoft stellt JavaScript-Engine Chakra 2016 unter Open-Source-Lizenz</strong>\\n\\t\\t\\t\\t\\t\\t\\t\\t\\t\\t\\t</a>\\n\\t\\t\\t\\t\\t\\t\\t\\t\\t\\t</header>\\n\\t\\t\\t\\t\\t\\t\\t\\t\\t</article>\\n\\t\\t\\t\\t\\t\\t\\t\\t\\t\\t\\t\\t\\t\\t\\t\\t\\t<article class=\\'DropdownItem\\'>\\n\\t\\t\\t\\t\\t\\t\\t\\t\\t\\t<header>\\n\\t\\t\\t\\t\\t\\t\\t\\t\\t\\t\\t<a class=\"tg-ressortnavi-article\" href=\"http://t3n.de/news/eigene-social-intranet-hosten-661661/\">\\n\\t\\t\\t\\t\\t\\t\\t\\t\\t\\t\\t\\t<img class=\"js-lazyload-img\" data-original=\"http://t3n.sc/uploads/t3n-news-post-661661_humhub-social-intranet-featured_small.jpg\" alt=\"Das eigene Social Intranet hosten: Open-Source-Projekt \\xe2\\x80\\x9eHumHub\\xe2\\x80\\x9c bekommt viele neue Funktionen\" width=\"205\" height=\"105\">\\n\\t\\t\\t\\t\\t\\t\\t\\t\\t\\t\\t\\t<strong>Das eigene Social Intranet hosten: Open-Source-Projekt \\xe2\\x80\\x9eHumHub\\xe2\\x80\\x9c bekommt viele neue Funktionen</strong>\\n\\t\\t\\t\\t\\t\\t\\t\\t\\t\\t\\t</a>\\n\\t\\t\\t\\t\\t\\t\\t\\t\\t\\t</header>\\n\\t\\t\\t\\t\\t\\t\\t\\t\\t</article>\\n\\t\\t\\t\\t\\t\\t\\t\\t\\t\\t\\t\\t\\t\\t\\t\\t\\t<article class=\\'DropdownItem\\'>\\n\\t\\t\\t\\t\\t\\t\\t\\t\\t\\t<header>\\n\\t\\t\\t\\t\\t\\t\\t\\t\\t\\t\\t<a class=\"tg-ressortnavi-article\" href=\"http://t3n.de/news/android-6-0-marshmallow-update-emoji-662362/\">\\n\\t\\t\\t\\t\\t\\t\\t\\t\\t\\t\\t\\t<img class=\"js-lazyload-img\" data-original=\"http://t3n.sc/uploads/t3n-news-post-662362_nexus-6p-test-8766_small.jpg\" alt=\"Android 6.0 Marshmallow: Update bringt n\\xc3\\xa4chste Woche viele neue Emojis\" width=\"205\" height=\"105\">\\n\\t\\t\\t\\t\\t\\t\\t\\t\\t\\t\\t\\t<strong>Android 6.0 Marshmallow: Update bringt n\\xc3\\xa4chste Woche viele neue Emojis</strong>\\n\\t\\t\\t\\t\\t\\t\\t\\t\\t\\t\\t</a>\\n\\t\\t\\t\\t\\t\\t\\t\\t\\t\\t</header>\\n\\t\\t\\t\\t\\t\\t\\t\\t\\t</article>\\n\\t\\t\\t\\t\\t\\t\\t\\t\\t\\t\\t\\t\\t\\t\\t</div>\\n\\t\\t\\t\\t\\t\\t\\t<!-- link to ressort -->\\n\\t\\t\\t\\t\\t\\t\\t<div class=\"headTopicsLink\"><a class=\"button button--red tg-ressortnavi-button\" href=\"http://t3n.de/tag/software\">Alle News zu Software</a></div>\\n\\t\\t\\t\\t\\t\\t</div>\\n\\t\\t\\t\\t\\t</li>\\n\\t\\t\\t\\t\\t\\t\\t\\t\\t<li>\\n\\t\\t\\t\\t\\t\\t<a class=\"openDropdown tg-ressortnavi-header\" href=\"http://t3n.de/tag/infrastruktur\">Infrastruktur<i class=\"icon-angle-down\"></i></a>\\n\\t\\t\\t\\t\\t\\t<div class=\\'headTopicsDropdown\\'>\\n\\t\\t\\t\\t\\t\\t\\t<!-- show last 4 articles -->\\n\\t\\t\\t\\t\\t\\t\\t<div class=\\'headTopicsDropdownInner\\'>\\n\\t\\t\\t\\t\\t\\t\\t\\t\\t\\t\\t\\t\\t\\t\\t\\t\\t<article class=\\'DropdownItem\\'>\\n\\t\\t\\t\\t\\t\\t\\t\\t\\t\\t<header>\\n\\t\\t\\t\\t\\t\\t\\t\\t\\t\\t\\t<a class=\"tg-ressortnavi-article\" href=\"http://t3n.de/news/slack-20-tipps-tricks-fuer-661440/\">\\n\\t\\t\\t\\t\\t\\t\\t\\t\\t\\t\\t\\t<img class=\"js-lazyload-img\" data-original=\"http://t3n.sc/uploads/t3n-news-post-661440_slack_office12_small.jpg\" alt=\"Slack: 20 Tipps und Tricks f\\xc3\\xbcr den m\\xc3\\xa4chtigen Messenger\" width=\"205\" height=\"105\">\\n\\t\\t\\t\\t\\t\\t\\t\\t\\t\\t\\t\\t<strong>Slack: 20 Tipps und Tricks f\\xc3\\xbcr den m\\xc3\\xa4chtigen Messenger</strong>\\n\\t\\t\\t\\t\\t\\t\\t\\t\\t\\t\\t</a>\\n\\t\\t\\t\\t\\t\\t\\t\\t\\t\\t</header>\\n\\t\\t\\t\\t\\t\\t\\t\\t\\t</article>\\n\\t\\t\\t\\t\\t\\t\\t\\t\\t\\t\\t\\t\\t\\t\\t\\t\\t<article class=\\'DropdownItem\\'>\\n\\t\\t\\t\\t\\t\\t\\t\\t\\t\\t<header>\\n\\t\\t\\t\\t\\t\\t\\t\\t\\t\\t\\t<a class=\"tg-ressortnavi-article\" href=\"http://t3n.de/news/cybersecurity-sicherheit-bedrohungen-2016-662661/\">\\n\\t\\t\\t\\t\\t\\t\\t\\t\\t\\t\\t\\t<img class=\"js-lazyload-img\" data-original=\"http://t3n.sc/uploads/t3n-news-post-662661_cybersecurity_hosting_small.jpg\" alt=\"Cybersecurity: 5 Bedrohungen, auf die ihr euch 2016 einstellen m\\xc3\\xbcsst\" width=\"205\" height=\"105\">\\n\\t\\t\\t\\t\\t\\t\\t\\t\\t\\t\\t\\t<strong>Cybersecurity: 5 Bedrohungen, auf die ihr euch 2016 einstellen m\\xc3\\xbcsst</strong>\\n\\t\\t\\t\\t\\t\\t\\t\\t\\t\\t\\t</a>\\n\\t\\t\\t\\t\\t\\t\\t\\t\\t\\t</header>\\n\\t\\t\\t\\t\\t\\t\\t\\t\\t</article>\\n\\t\\t\\t\\t\\t\\t\\t\\t\\t\\t\\t\\t\\t\\t\\t\\t\\t<article class=\\'DropdownItem\\'>\\n\\t\\t\\t\\t\\t\\t\\t\\t\\t\\t<header>\\n\\t\\t\\t\\t\\t\\t\\t\\t\\t\\t\\t<a class=\"tg-ressortnavi-article\" href=\"http://t3n.de/news/kostenlose-https-zertifikate-649779/\">\\n\\t\\t\\t\\t\\t\\t\\t\\t\\t\\t\\t\\t<img class=\"js-lazyload-img\" data-original=\"http://t3n.sc/uploads/t3n-news-post-649779_lets-encrypt_small.jpg\" alt=\"Kostenlose HTTPS-Zertifikate f\\xc3\\xbcr alle: \\xe2\\x80\\x9eLet\\'s Encrypt\\xe2\\x80\\x9c startet in die offene Beta-Phase\" width=\"205\" height=\"105\">\\n\\t\\t\\t\\t\\t\\t\\t\\t\\t\\t\\t\\t<strong>Kostenlose HTTPS-Zertifikate f\\xc3\\xbcr alle: \\xe2\\x80\\x9eLet\\'s Encrypt\\xe2\\x80\\x9c startet in die offene Beta-Phase</strong>\\n\\t\\t\\t\\t\\t\\t\\t\\t\\t\\t\\t</a>\\n\\t\\t\\t\\t\\t\\t\\t\\t\\t\\t</header>\\n\\t\\t\\t\\t\\t\\t\\t\\t\\t</article>\\n\\t\\t\\t\\t\\t\\t\\t\\t\\t\\t\\t\\t\\t\\t\\t\\t\\t<article class=\\'DropdownItem\\'>\\n\\t\\t\\t\\t\\t\\t\\t\\t\\t\\t<header>\\n\\t\\t\\t\\t\\t\\t\\t\\t\\t\\t\\t<a class=\"tg-ressortnavi-article\" href=\"http://t3n.de/news/google-suche-zukunft-661552/\">\\n\\t\\t\\t\\t\\t\\t\\t\\t\\t\\t\\t\\t<img class=\"js-lazyload-img\" data-original=\"http://t3n.sc/uploads/t3n-news-post-661552_google_small.jpg\" alt=\"Diese 4 Elemente machen laut Google die Suche der Zukunft aus\" width=\"205\" height=\"105\">\\n\\t\\t\\t\\t\\t\\t\\t\\t\\t\\t\\t\\t<strong>Diese 4 Elemente machen laut Google die Suche der Zukunft aus</strong>\\n\\t\\t\\t\\t\\t\\t\\t\\t\\t\\t\\t</a>\\n\\t\\t\\t\\t\\t\\t\\t\\t\\t\\t</header>\\n\\t\\t\\t\\t\\t\\t\\t\\t\\t</article>\\n\\t\\t\\t\\t\\t\\t\\t\\t\\t\\t\\t\\t\\t\\t\\t</div>\\n\\t\\t\\t\\t\\t\\t\\t<!-- link to ressort -->\\n\\t\\t\\t\\t\\t\\t\\t<div class=\"headTopicsLink\"><a class=\"button button--red tg-ressortnavi-button\" href=\"http://t3n.de/tag/infrastruktur\">Alle News zu Infrastruktur</a></div>\\n\\t\\t\\t\\t\\t\\t</div>\\n\\t\\t\\t\\t\\t</li>\\n\\t\\t\\t\\t\\t\\t\\t\\t\\t<li>\\n\\t\\t\\t\\t\\t\\t<a class=\"openDropdown tg-ressortnavi-header\" href=\"http://t3n.de/tag/karriere\">Karriere<i class=\"icon-angle-down\"></i></a>\\n\\t\\t\\t\\t\\t\\t<div class=\\'headTopicsDropdown\\'>\\n\\t\\t\\t\\t\\t\\t\\t<!-- show last 4 articles -->\\n\\t\\t\\t\\t\\t\\t\\t<div class=\\'headTopicsDropdownInner\\'>\\n\\t\\t\\t\\t\\t\\t\\t\\t\\t\\t\\t\\t\\t\\t\\t\\t\\t<article class=\\'DropdownItem\\'>\\n\\t\\t\\t\\t\\t\\t\\t\\t\\t\\t<header>\\n\\t\\t\\t\\t\\t\\t\\t\\t\\t\\t\\t<a class=\"tg-ressortnavi-article\" href=\"http://t3n.de/news/fehler-generation-y-arbeitsplatz-663056/\">\\n\\t\\t\\t\\t\\t\\t\\t\\t\\t\\t\\t\\t<img class=\"js-lazyload-img\" data-original=\"http://t3n.sc/uploads/t3n-news-post-663056_generation-y_small.jpg\" alt=\"5 schlechte Angewohnheiten, auf die ihr bei der Arbeit verzichten solltet\" width=\"205\" height=\"105\">\\n\\t\\t\\t\\t\\t\\t\\t\\t\\t\\t\\t\\t<strong>5 schlechte Angewohnheiten, auf die ihr bei der Arbeit verzichten solltet</strong>\\n\\t\\t\\t\\t\\t\\t\\t\\t\\t\\t\\t</a>\\n\\t\\t\\t\\t\\t\\t\\t\\t\\t\\t</header>\\n\\t\\t\\t\\t\\t\\t\\t\\t\\t</article>\\n\\t\\t\\t\\t\\t\\t\\t\\t\\t\\t\\t\\t\\t\\t\\t\\t\\t<article class=\\'DropdownItem\\'>\\n\\t\\t\\t\\t\\t\\t\\t\\t\\t\\t<header>\\n\\t\\t\\t\\t\\t\\t\\t\\t\\t\\t\\t<a class=\"tg-ressortnavi-article\" href=\"http://t3n.de/news/studie-virtuelle-teamarbeit-deutsche-662686/\">\\n\\t\\t\\t\\t\\t\\t\\t\\t\\t\\t\\t\\t<img class=\"js-lazyload-img\" data-original=\"http://t3n.sc/uploads/t3n-news-post-662686_virtuelle-teamarbeit-hero_small.jpg\" alt=\"Studie: Virtuelle Teamarbeit klappt nicht\" width=\"205\" height=\"105\">\\n\\t\\t\\t\\t\\t\\t\\t\\t\\t\\t\\t\\t<strong>Studie: Virtuelle Teamarbeit klappt nicht</strong>\\n\\t\\t\\t\\t\\t\\t\\t\\t\\t\\t\\t</a>\\n\\t\\t\\t\\t\\t\\t\\t\\t\\t\\t</header>\\n\\t\\t\\t\\t\\t\\t\\t\\t\\t</article>\\n\\t\\t\\t\\t\\t\\t\\t\\t\\t\\t\\t\\t\\t\\t\\t\\t\\t<article class=\\'DropdownItem\\'>\\n\\t\\t\\t\\t\\t\\t\\t\\t\\t\\t<header>\\n\\t\\t\\t\\t\\t\\t\\t\\t\\t\\t\\t<a class=\"tg-ressortnavi-article\" href=\"http://t3n.de/news/kreative-bewerbung-661757/\">\\n\\t\\t\\t\\t\\t\\t\\t\\t\\t\\t\\t\\t<img class=\"js-lazyload-img\" data-original=\"http://t3n.sc/uploads/t3n-news-post-661757_kreative_bewerbung_aufmacher2_small.jpg\" alt=\"Kreative Bewerbung: 6 kleine Tricks, die jeden Personaler verbl\\xc3\\xbcffen\" width=\"205\" height=\"105\">\\n\\t\\t\\t\\t\\t\\t\\t\\t\\t\\t\\t\\t<strong>Kreative Bewerbung: 6 kleine Tricks, die jeden Personaler verbl\\xc3\\xbcffen</strong>\\n\\t\\t\\t\\t\\t\\t\\t\\t\\t\\t\\t</a>\\n\\t\\t\\t\\t\\t\\t\\t\\t\\t\\t</header>\\n\\t\\t\\t\\t\\t\\t\\t\\t\\t</article>\\n\\t\\t\\t\\t\\t\\t\\t\\t\\t\\t\\t\\t\\t\\t\\t\\t\\t<article class=\\'DropdownItem\\'>\\n\\t\\t\\t\\t\\t\\t\\t\\t\\t\\t<header>\\n\\t\\t\\t\\t\\t\\t\\t\\t\\t\\t\\t<a class=\"tg-ressortnavi-article\" href=\"http://t3n.de/news/20-freie-plaetze-cognizant-otto-661564/\">\\n\\t\\t\\t\\t\\t\\t\\t\\t\\t\\t\\t\\t<img class=\"js-lazyload-img\" data-original=\"http://t3n.sc/uploads/t3n-news-post-661564_t3n_FeaturedImage_JobsderWoche_01_Africa_Studio_small.jpg\" alt=\"20 freie Pl\\xc3\\xa4tze bei COGNIZANT, Otto, CEWE, StayFriends, Runners Point und vielen mehr\" width=\"205\" height=\"105\">\\n\\t\\t\\t\\t\\t\\t\\t\\t\\t\\t\\t\\t<strong>20 freie Pl\\xc3\\xa4tze bei COGNIZANT, Otto, CEWE, StayFriends, Runners Point und vielen mehr</strong>\\n\\t\\t\\t\\t\\t\\t\\t\\t\\t\\t\\t</a>\\n\\t\\t\\t\\t\\t\\t\\t\\t\\t\\t</header>\\n\\t\\t\\t\\t\\t\\t\\t\\t\\t</article>\\n\\t\\t\\t\\t\\t\\t\\t\\t\\t\\t\\t\\t\\t\\t\\t</div>\\n\\t\\t\\t\\t\\t\\t\\t<!-- link to ressort -->\\n\\t\\t\\t\\t\\t\\t\\t<div class=\"headTopicsLink\"><a class=\"button button--red tg-ressortnavi-button\" href=\"http://t3n.de/tag/karriere\">Alle News zu Karriere</a></div>\\n\\t\\t\\t\\t\\t\\t</div>\\n\\t\\t\\t\\t\\t</li>\\n\\t\\t\\t\\t\\t\\t\\t\\t\\t<li>\\n\\t\\t\\t\\t\\t\\t<a class=\"openDropdown tg-ressortnavi-header\" href=\"http://t3n.de/tag/hardware\">Hardware<i class=\"icon-angle-down\"></i></a>\\n\\t\\t\\t\\t\\t\\t<div class=\\'headTopicsDropdown\\'>\\n\\t\\t\\t\\t\\t\\t\\t<!-- show last 4 articles -->\\n\\t\\t\\t\\t\\t\\t\\t<div class=\\'headTopicsDropdownInner\\'>\\n\\t\\t\\t\\t\\t\\t\\t\\t\\t\\t\\t\\t\\t\\t\\t\\t\\t<article class=\\'DropdownItem\\'>\\n\\t\\t\\t\\t\\t\\t\\t\\t\\t\\t<header>\\n\\t\\t\\t\\t\\t\\t\\t\\t\\t\\t\\t<a class=\"tg-ressortnavi-article\" href=\"http://t3n.de/news/iphone-logo-leuchten-662911/\">\\n\\t\\t\\t\\t\\t\\t\\t\\t\\t\\t\\t\\t<img class=\"js-lazyload-img\" data-original=\"http://t3n.sc/uploads/t3n-news-post-662911_iphone_logo_leuchten_small.jpg\" alt=\"Bringt euer iPhone-Logo zum Leuchten \\xe2\\x80\\x93 mit diesem Bastelkit\" width=\"205\" height=\"105\">\\n\\t\\t\\t\\t\\t\\t\\t\\t\\t\\t\\t\\t<strong>Bringt euer iPhone-Logo zum Leuchten \\xe2\\x80\\x93 mit diesem Bastelkit</strong>\\n\\t\\t\\t\\t\\t\\t\\t\\t\\t\\t\\t</a>\\n\\t\\t\\t\\t\\t\\t\\t\\t\\t\\t</header>\\n\\t\\t\\t\\t\\t\\t\\t\\t\\t</article>\\n\\t\\t\\t\\t\\t\\t\\t\\t\\t\\t\\t\\t\\t\\t\\t\\t\\t<article class=\\'DropdownItem\\'>\\n\\t\\t\\t\\t\\t\\t\\t\\t\\t\\t<header>\\n\\t\\t\\t\\t\\t\\t\\t\\t\\t\\t\\t<a class=\"tg-ressortnavi-article\" href=\"http://t3n.de/news/lattepanda-bastelcomputer-662884/\">\\n\\t\\t\\t\\t\\t\\t\\t\\t\\t\\t\\t\\t<img class=\"js-lazyload-img\" data-original=\"http://t3n.sc/uploads/t3n-news-post-662884_LattePanda_small.jpg\" alt=\"LattePanda: Windows-10-Bastelcomputer soll dem Raspberry Pi Konkurrenz machen\" width=\"205\" height=\"105\">\\n\\t\\t\\t\\t\\t\\t\\t\\t\\t\\t\\t\\t<strong>LattePanda: Windows-10-Bastelcomputer soll dem Raspberry Pi Konkurrenz machen</strong>\\n\\t\\t\\t\\t\\t\\t\\t\\t\\t\\t\\t</a>\\n\\t\\t\\t\\t\\t\\t\\t\\t\\t\\t</header>\\n\\t\\t\\t\\t\\t\\t\\t\\t\\t</article>\\n\\t\\t\\t\\t\\t\\t\\t\\t\\t\\t\\t\\t\\t\\t\\t\\t\\t<article class=\\'DropdownItem\\'>\\n\\t\\t\\t\\t\\t\\t\\t\\t\\t\\t<header>\\n\\t\\t\\t\\t\\t\\t\\t\\t\\t\\t\\t<a class=\"tg-ressortnavi-article\" href=\"http://t3n.de/news/google-pixel-c-android-tablet-release-644251/\">\\n\\t\\t\\t\\t\\t\\t\\t\\t\\t\\t\\t\\t<img class=\"js-lazyload-img\" data-original=\"http://t3n.sc/uploads/t3n-news-post-644251_Google_Pixel_C_1_small.jpg\" alt=\"Pixel C: Googles Android-Tablet mit Keyboard soll am 8. Dezember erh\\xc3\\xa4ltlich sein\" width=\"205\" height=\"105\">\\n\\t\\t\\t\\t\\t\\t\\t\\t\\t\\t\\t\\t<strong>Pixel C: Googles Android-Tablet mit Keyboard soll am 8. Dezember erh\\xc3\\xa4ltlich sein</strong>\\n\\t\\t\\t\\t\\t\\t\\t\\t\\t\\t\\t</a>\\n\\t\\t\\t\\t\\t\\t\\t\\t\\t\\t</header>\\n\\t\\t\\t\\t\\t\\t\\t\\t\\t</article>\\n\\t\\t\\t\\t\\t\\t\\t\\t\\t\\t\\t\\t\\t\\t\\t\\t\\t<article class=\\'DropdownItem\\'>\\n\\t\\t\\t\\t\\t\\t\\t\\t\\t\\t<header>\\n\\t\\t\\t\\t\\t\\t\\t\\t\\t\\t\\t<a class=\"tg-ressortnavi-article\" href=\"http://t3n.de/news/iphone-6c-februar-2016-662393/\">\\n\\t\\t\\t\\t\\t\\t\\t\\t\\t\\t\\t\\t<img class=\"js-lazyload-img\" data-original=\"http://t3n.sc/uploads/t3n-news-post-662393_apple-iphone-5c-6c-hero_small.jpg\" alt=\"Neues iPhone schon im Februar? 4-Zoll-Smartphone f\\xc3\\xbcr Preisbewusste k\\xc3\\xb6nnte schon bald erscheinen\" width=\"205\" height=\"105\">\\n\\t\\t\\t\\t\\t\\t\\t\\t\\t\\t\\t\\t<strong>Neues iPhone schon im Februar? 4-Zoll-Smartphone f\\xc3\\xbcr Preisbewusste k\\xc3\\xb6nnte schon bald erscheinen</strong>\\n\\t\\t\\t\\t\\t\\t\\t\\t\\t\\t\\t</a>\\n\\t\\t\\t\\t\\t\\t\\t\\t\\t\\t</header>\\n\\t\\t\\t\\t\\t\\t\\t\\t\\t</article>\\n\\t\\t\\t\\t\\t\\t\\t\\t\\t\\t\\t\\t\\t\\t\\t</div>\\n\\t\\t\\t\\t\\t\\t\\t<!-- link to ressort -->\\n\\t\\t\\t\\t\\t\\t\\t<div class=\"headTopicsLink\"><a class=\"button button--red tg-ressortnavi-button\" href=\"http://t3n.de/tag/hardware\">Alle News zu Hardware</a></div>\\n\\t\\t\\t\\t\\t\\t</div>\\n\\t\\t\\t\\t\\t</li>\\n\\t\\t\\t\\t\\t\\t\\t\\t\\t<li>\\n\\t\\t\\t\\t\\t\\t<a class=\"openDropdown tg-ressortnavi-header\" href=\"http://t3n.de/tag/digitales-leben\">Digitales Leben<i class=\"icon-angle-down\"></i></a>\\n\\t\\t\\t\\t\\t\\t<div class=\\'headTopicsDropdown\\'>\\n\\t\\t\\t\\t\\t\\t\\t<!-- show last 4 articles -->\\n\\t\\t\\t\\t\\t\\t\\t<div class=\\'headTopicsDropdownInner\\'>\\n\\t\\t\\t\\t\\t\\t\\t\\t\\t\\t\\t\\t\\t\\t\\t\\t\\t<article class=\\'DropdownItem\\'>\\n\\t\\t\\t\\t\\t\\t\\t\\t\\t\\t<header>\\n\\t\\t\\t\\t\\t\\t\\t\\t\\t\\t\\t<a class=\"tg-ressortnavi-article\" href=\"http://t3n.de/news/yondr-case-smartphones-663002/\">\\n\\t\\t\\t\\t\\t\\t\\t\\t\\t\\t\\t\\t<img class=\"js-lazyload-img\" data-original=\"http://t3n.sc/uploads/t3n-news-post-663002_yondr_case_small.jpg\" alt=\"Yondr: Mit diesem Case wollen Veranstalter nervige Smartphones bei Konzerten ausschalten\" width=\"205\" height=\"105\">\\n\\t\\t\\t\\t\\t\\t\\t\\t\\t\\t\\t\\t<strong>Yondr: Mit diesem Case wollen Veranstalter nervige Smartphones bei Konzerten ausschalten</strong>\\n\\t\\t\\t\\t\\t\\t\\t\\t\\t\\t\\t</a>\\n\\t\\t\\t\\t\\t\\t\\t\\t\\t\\t</header>\\n\\t\\t\\t\\t\\t\\t\\t\\t\\t</article>\\n\\t\\t\\t\\t\\t\\t\\t\\t\\t\\t\\t\\t\\t\\t\\t\\t\\t<article class=\\'DropdownItem\\'>\\n\\t\\t\\t\\t\\t\\t\\t\\t\\t\\t<header>\\n\\t\\t\\t\\t\\t\\t\\t\\t\\t\\t\\t<a class=\"tg-ressortnavi-article\" href=\"http://t3n.de/news/youtuber-dissen-boehmermann-662885/\">\\n\\t\\t\\t\\t\\t\\t\\t\\t\\t\\t\\t\\t<img class=\"js-lazyload-img\" data-original=\"http://t3n.sc/uploads/t3n-news-post-662885_wir-ham-internet-parodie-ich-hab-polizei-teaser_small.jpg\" alt=\"YouTuber dissen B\\xc3\\xb6hmermann: &quot;Du hast ZDF. Wir haben Internet. Du hast GEZ. Wir haben Internet.&quot;\" width=\"205\" height=\"105\">\\n\\t\\t\\t\\t\\t\\t\\t\\t\\t\\t\\t\\t<strong>YouTuber dissen B\\xc3\\xb6hmermann: &quot;Du hast ZDF. Wir haben Internet. Du hast GEZ. Wir haben Internet.&quot;</strong>\\n\\t\\t\\t\\t\\t\\t\\t\\t\\t\\t\\t</a>\\n\\t\\t\\t\\t\\t\\t\\t\\t\\t\\t</header>\\n\\t\\t\\t\\t\\t\\t\\t\\t\\t</article>\\n\\t\\t\\t\\t\\t\\t\\t\\t\\t\\t\\t\\t\\t\\t\\t\\t\\t<article class=\\'DropdownItem\\'>\\n\\t\\t\\t\\t\\t\\t\\t\\t\\t\\t<header>\\n\\t\\t\\t\\t\\t\\t\\t\\t\\t\\t\\t<a class=\"tg-ressortnavi-article\" href=\"http://t3n.de/news/native-advertising-jeff-jarvis-interview-662489/\">\\n\\t\\t\\t\\t\\t\\t\\t\\t\\t\\t\\t\\t<img class=\"js-lazyload-img\" data-original=\"http://t3n.sc/uploads/t3n-news-post-662489_jeffjarvis_72791_small.jpg\" alt=\"\\xe2\\x80\\x9eNative Advertising ist auch kein Heilmittel\\xe2\\x80\\x9c: Digital-Vordenker Jeff Jarvis im Interview\" width=\"205\" height=\"105\">\\n\\t\\t\\t\\t\\t\\t\\t\\t\\t\\t\\t\\t<strong>\\xe2\\x80\\x9eNative Advertising ist auch kein Heilmittel\\xe2\\x80\\x9c: Digital-Vordenker Jeff Jarvis im Interview</strong>\\n\\t\\t\\t\\t\\t\\t\\t\\t\\t\\t\\t</a>\\n\\t\\t\\t\\t\\t\\t\\t\\t\\t\\t</header>\\n\\t\\t\\t\\t\\t\\t\\t\\t\\t</article>\\n\\t\\t\\t\\t\\t\\t\\t\\t\\t\\t\\t\\t\\t\\t\\t\\t\\t<article class=\\'DropdownItem\\'>\\n\\t\\t\\t\\t\\t\\t\\t\\t\\t\\t<header>\\n\\t\\t\\t\\t\\t\\t\\t\\t\\t\\t\\t<a class=\"tg-ressortnavi-article\" href=\"http://t3n.de/news/steueroptimierung-mark-zuckerberg-662550/\">\\n\\t\\t\\t\\t\\t\\t\\t\\t\\t\\t\\t\\t<img class=\"js-lazyload-img\" data-original=\"http://t3n.sc/uploads/t3n-news-post-662550_forbes-liste-reichste-tech-unternehmer-mark-zuckerberg_small.jpg\" alt=\"Alles nur Steueroptimierung? Mark Zuckerberg erkl\\xc3\\xa4rt, warum er sein Verm\\xc3\\xb6gen nicht in eine Non-Profit steckt\" width=\"205\" height=\"105\">\\n\\t\\t\\t\\t\\t\\t\\t\\t\\t\\t\\t\\t<strong>Alles nur Steueroptimierung? Mark Zuckerberg erkl\\xc3\\xa4rt, warum er sein Verm\\xc3\\xb6gen nicht in eine Non-Profit steckt</strong>\\n\\t\\t\\t\\t\\t\\t\\t\\t\\t\\t\\t</a>\\n\\t\\t\\t\\t\\t\\t\\t\\t\\t\\t</header>\\n\\t\\t\\t\\t\\t\\t\\t\\t\\t</article>\\n\\t\\t\\t\\t\\t\\t\\t\\t\\t\\t\\t\\t\\t\\t\\t</div>\\n\\t\\t\\t\\t\\t\\t\\t<!-- link to ressort -->\\n\\t\\t\\t\\t\\t\\t\\t<div class=\"headTopicsLink\"><a class=\"button button--red tg-ressortnavi-button\" href=\"http://t3n.de/tag/digitales-leben\">Alle News zu Digitales Leben</a></div>\\n\\t\\t\\t\\t\\t\\t</div>\\n\\t\\t\\t\\t\\t</li>\\n\\t\\t\\t\\t\\t\\t\\t</ul>\\n\\t\\t\\t</div>\\n</div>\\n\\n</div>\\n\\n\\n        <div id=\"adbContentFlashWrapper\">\\n        </div>\\n\\n\\n<div id=\"stage\" class=\"wide\">\\n\\n<script src=\"http://guruads.de/api/view/525fcfb74979593d6b0000b2;525fcfe7497959e768000117;525fcfe7497959e768000117\"></script>\\n<script>if (!document.getElementById(\"guruads_zone_525fcfb74979593d6b0000b2\") && !document.getElementById(\"guruads_zone_525fcfe7497959e768000117\") && !document.getElementById(\"guruads_zone_525fcfe7497959e768000117\")) { document.write(unescape(\"%3Cdiv%20id%3D%22Ads_BA_FLB%22%20class%3D%22adbContentFlash%20abContent%22%3E%3Cscript%20type%3D%22text/javascript%22%3Edocument.getElementById%28%27adbContentFlashWrapper%27%29.appendChild%28document.getElementById%28%27Ads_BA_FLB%27%29%29%3BAds_BA_AD%28%27FLB%27%29%3B%3C/script%3E%3C/div%3E\"));}</script>\\n\\n\\t\\t<div class=\"articleWrapper hasSeoHeadline cf hasCategoryAd\">\\n\\t\\n\\t<div id=\"main-content\" class=\"js-topnews-compare content\">\\n\\t\\t<article class=\"contentInnerClean post-661568 post type-post status-publish format-standard has-post-thumbnail hentry category-stream category-technologie\" id=\"post-661568\" itemscope itemtype=\"http://schema.org/Article\">\\n\\t\\n\\t\\t<header class=\"postHead cf\">\\n\\n\\t\\t\\t\\t\\n\\t\\t\\t<div class=\"seo-headline\">\\n\\t\\t\\t\\t<a class=\"seo-headline__item\" href=\"http://t3n.de/\">t3n News</a>\\n\\t\\t\\t\\t\\t\\t\\t\\t<i class=\"icon-angle-right\"></i>\\n\\t\\t\\t\\t<a class=\"seo-headline__item\" href=\"http://t3n.de/tag/hardware\">Hardware</a>\\n\\t\\t\\t\\t\\t\\t\\t\\t<i class=\"icon-angle-right\"></i>\\n\\t\\t\\t\\t<h1 class=\"seo-headline__item seo-headline__item--headline\">Weihnachtsgeschenke gesucht? 30 tolle Gadgets f\\xc3\\xbcr jeden Geldbeutel</h1>\\n\\t\\t\\t</div>\\n\\n\\t\\t\\t\\t\\t\\t\\t<p class=\"socialicons__bar socialicons__bar--header\">\\n\\t\\t\\t\\t\\t<a href=\"http://www.facebook.com/sharer.php?u=http%3A%2F%2Ft3n.de%2Fnews%2Fweihnachtsgeschenke-gesucht-30-661568%2F%3Futm_source%3Dfacebook.com%26utm_medium%3Dsocial%26utm_campaign%3Dsocial-buttons&amp;p[images][0]=http%3A%2F%2Ft3n.de%2Fnews%2Fwp-content%2Fuploads%2F2015%2F12%2Fweihnachtsgeschenke-geeks-palette-gear-800x418.jpg\" class=\"button button--icon button--blue tg-socialfacebook-singleviewtop\" title=\"like me!\" rel=\"popup\">\\n\\t\\t\\t\\t\\t\\t<i class=\"icon-facebook button__icon button__icon--blue\"></i>\\n\\t\\t\\t\\t\\t\\t\\t\\t\\t\\t\\t\\t\\t157\\t\\t\\t\\t\\t\\t\\tlikes\\t\\t\\t\\t\\t\\t\\t\\t\\t\\t\\t</a>\\n\\t\\t\\t\\t\\t<a href=\"http://twitter.com/intent/tweet?related=t3n&text=Weihnachtsgeschenke+gesucht%3F+30+tolle+Gadgets+f%C3%BCr+jeden+Geldbeutel&url=http%3A%2F%2Ft3n.de%2Fnews%2Fweihnachtsgeschenke-gesucht-30-661568%2F%3Futm_source%3Dtwitter.com%26utm_medium%3Dsocial%26utm_campaign%3Dsocial-buttons&via=t3n&lang=de\" class=\"button button--icon button--cyan tg-socialtwitter-singleviewtop\" title=\"tweet me!\" rel=\"popup\">\\n\\t\\t\\t\\t\\t\\t<i class=\"icon-twitter button__icon button__icon--cyan\"></i>\\n\\t\\t\\t\\t\\t\\t\\t\\t\\t\\t\\t\\t\\ttweet me!\\n\\t\\t\\t\\t\\t\\t\\t\\t\\t\\t\\t</a>\\n\\t\\t\\t\\t\\t<a href=\"https://www.xing.com/spi/shares/new?url=http%3A%2F%2Ft3n.de%2Fnews%2Fweihnachtsgeschenke-gesucht-30-661568%2F&utm_source=xing.com&utm_medium=social&utm_campaign=social-buttons&button_style=rectangle-right_counter&follow_url=https%3A%2F%2Fwww.xing.com%2Fnews%2Fpages%2Ft3n-magazin-67\" class=\"button button--icon button--turquoise tg-socialxing-singleviewtop\" title=\"share me!\" rel=\"popup\">\\n\\t\\t\\t\\t\\t\\t\\t\\t\\t\\t\\t\\t<i class=\"icon-xing button__icon button__icon--turquoise\"></i>\\n\\t\\t\\t\\t\\t\\t\\t\\t\\t\\t\\t\\t\\t\\t\\t\\t\\t\\t\\t3\\t\\t\\t\\t\\t\\t\\tshares\\t\\t\\t\\t\\t\\t\\t\\t\\t\\t\\t\\t\\t\\t\\t\\t</a>\\n\\t\\t\\t\\t\\t<a class=\"button button--icon button--gray tg-socialemail-singleviewtop\" href=\"mailto:?subject=Weihnachtsgeschenke gesucht? 30 tolle Gadgets f\\xc3\\xbcr jeden Geldbeutel&amp;body=Sehr empfehlenswerter Artikel: http%3A%2F%2Ft3n.de%2Fnews%2Fweihnachtsgeschenke-gesucht-30-661568%2F%3Futm_source%3DE-Mail%26utm_medium%3Dreferral%26utm_campaign%3Dsocial-buttons%0A%0A%0AAbonniere unseren Newsletter unter http://t3n.de/nletter/ und erhalte einen exklusiven Artikel aus dem aktuellen t3n Magazin.\" title=\"Per E-Mail weiterleiten\"><i class=\"icon-envelope button__icon button__icon--gray\"></i>weiterleiten</a>\\n\\t\\t\\t\\t</p>\\n\\t\\t\\t\\n\\t\\t\\t<h2 class=\"entry-title\" itemprop=\"name\">Weihnachtsgeschenke gesucht? 30 tolle Gadgets f\\xc3\\xbcr jeden Geldbeutel</h2>\\n\\n\\t\\t\\t\\n\\t\\t\\t\\t\\t\\t\\n\\t\\t\\t<div class=\"postHeadMeta\" data-post-older=\"http://t3n.de/news/google-bildersuche-bookmarks-662038/\" data-post-newer=\"http://t3n.de/news/yahoo-aus-verkauf-662011/\">\\n\\t\\t\\t\\t\\t\\t\\t\\t\\t<div class=\"article__author cf\">\\n\\t\\t\\t\\t\\t\\t\\n\\t\\t\\t\\t\\t\\t\\t\\t\\t\\t\\t\\t\\t<p class=\"postMetaBlock cf updated\"><strong>Autor:</strong><a href=\"/profile/sbonset\" title=\"Profil von S\\xc3\\xa9bastien Bonset anzeigen\" rel=\"author\"><img class=\"author__author_image\" src=\"http://t3n.de/data/images/profiles/sbonset_mid.jpg\" width=\"50\" height=\"50\" alt=\"\"></a> <a href=\"/profile/sbonset\" rel=\"author\" itemprop=\"author\"><span class=\"vcard author article__info\"><span class=\"fn\">S\\xc3\\xa9bastien Bonset</span></span></a>\\t\\t\\t\\t\\t\\t\\t\\t\\t\\t\\t\\t\\t\\t\\t\\t\\t\\t\\t<p class=\"postMetaBlock cf updated\"><strong>Kontakt: </strong><a rel=\"me\" href=\"https://www.twitter.com/Sebisebsn\" title=\"Autorenprofil bei Twitter\" class=\"button button--light\" target=\"_blank\"><i class=\"icon-twitter\"></i></a><a rel=\"me\" href=\"https://plus.google.com/115987973627214010044\" title=\"Autorenprofil bei Google+\" class=\"button button--light\" target=\"_blank\"><i class=\"icon-google-plus\"></i></a><a rel=\"me\" href=\"https://www.xing.com/profile/Sebastien_Bonset\" title=\"Autorenprofil bei XING\" class=\"button button--light\" target=\"_blank\"><i class=\"icon-xing\"></i></a><a rel=\"me\" href=\"http://www.flickr.com/photos/est0al\" title=\"Pers\\xc3\\xb6nliche Webseite des Autors\" class=\"button button--light\" target=\"_blank\"><i class=\"icon-home\"></i></a></p>\\t\\t\\t\\t\\t\\t\\t\\t\\t\\t\\t\\t\\t\\t\\t\\t\\t\\t\\t<p class=\"postMetaBlock cf updated\"><strong>Datum:</strong> <time datetime=\"2015-12-02T14:04:24+00:00\" pubdate itemprop=\"datePublished\">02.12.2015, 08:28 Uhr</time></p>\\t\\t\\t\\t\\t\\t\\n\\t\\t\\t\\t\\t\\t\\t\\t\\t\\t\\t</div>\\n\\t\\t\\t\\t\\t\\t\\t</div>\\n\\n\\t\\t\\t\\t\\t\\t\\n\\t\\t\\t\\n\\t\\t\\t\\t\\t\\t\\t<div class=\"postHeadImage\"><figure><img src=\"http://t3n.de/news/wp-content/uploads/2015/12/weihnachtsgeschenke-geeks-palette-gear-290x163.jpg\" alt=\"Weihnachtsgeschenke gesucht? 30 tolle Gadgets f\\xc3\\xbcr jeden Geldbeutel\" title=\"weihnachtsgeschenke\" itemprop=\"thumbnailUrl\"><figcaption><p>(Foto: Palette)</p></figcaption></figure></div>\\n\\t\\t\\t\\n\\n\\n\\t\\t</header>\\n\\n\\t\\n<div class=\"digidip\"><script>if (!document.getElementById(\"guruads_zone_525fcfb74979593d6b0000b2\") && !document.getElementById(\"guruads_zone_525fcfe7497959e768000117\") && !document.getElementById(\"guruads_zone_525fcfe7497959e768000117\")) { document.write(unescape(\"%3Cdiv%20id%3D%22label-for-Ads_BA_CAD2%22%20class%3D%22ad-label%22%3EAnzeige%3C/div%3E%3Cdiv%20id%3D%22Ads_BA_CAD2%22%3E%3Cscript%20type%3D%22text/javascript%22%3EAds_BA_AD%28%27CAD2%27%29%3B%3C/script%3E%3C/div%3E\"));}</script></div>\\n\\n\\t<div class=\"narando-player\" data-canonical=\"http://t3n.de/news/weihnachtsgeschenke-gesucht-30-661568/\" data-fg-color=\"c00\" data-bg-color=\"\" data-txt-color=\"\" data-fr-color=\"\" data-hide-element=\".narando-text-container\"></div>\\n\\n\\n\\t<div class=\"entry cf\" itemprop=\"articleBody\">\\n\\t\\t\\n\\t\\t\\n\\t\\t<h2>Weihnachtsgeschenke von 50 bis 100 Euro</h2>\\n<h3><a href=\"https://hardwrk.com/topgum-usb-powerbank-akku.html\">TopGum: Powerbank mit Lightning-Kabel von hardwrk</a></h3>\\n\\n<figure id=\"attachment_661672\" class=\"caption alignnone\">\\n\\t<img class=\"size-large wp-image-661672\" src=\"http://t3n.de/news/wp-content/uploads/2015/12/TopGum_v1-595x397.jpg\" alt=\"Da freut sich jeder: der mobile Akku TopGum von hardwrk. (Foto: hardwrk)\" width=\"595\" height=\"397\" />\\n\\t<figcaption>Da freut sich jeder: der mobile Akku TopGum von hardwrk. (Foto: hardwrk)</figcaption>\\n</figure>\\n\\n<p>Genug Saft kann man nie haben. Bei der <a href=\"https://hardwrk.com/topgum-usb-powerbank-akku.html\">TopGum Powerbank</a> handelt es sich um einen portablen Hochleistungsakku mit 6.000 mAh und Fast-Charge-Technologie f\\xc3\\xbcr Smartphones, Tablets und andere Ger\\xc3\\xa4te, die sich \\xc3\\xbcber USB laden lassen. Das Geh\\xc3\\xa4use ist aus Aluminium gefertigt und verf\\xc3\\xbcgt \\xc3\\xbcber ein integriertes Lightning-Kabel. TopGum hat gleich zwei Anschl\\xc3\\xbcsse und kann beispielsweise zeitgleich ein iPad und ein iPhone laden. Dieses Weihnachtsgeschenk eignet sich nicht nur f\\xc3\\xbcr Geeks und ist f\\xc3\\xbcr rund 80 Euro erh\\xc3\\xa4ltlich.</p>\\n<h3><a href=\"http://store.bethsoft.com/vault-111-sneaker.html\">Sneaker im Fallout-Look</a></h3>\\n\\n<figure id=\"attachment_661932\" class=\"caption alignnone\">\\n\\t<img class=\"size-large wp-image-661932\" src=\"http://t3n.de/news/wp-content/uploads/2015/12/weihnachtsgeschenke-geeks-fallout-sneakre-bethesda-595x387.jpg\" alt=\"(Screenshot: Bethesda)\" width=\"595\" height=\"387\" />\\n\\t<figcaption>(Screenshot: Bethesda)</figcaption>\\n</figure>\\n\\n<p>Beim aktuellen Hype um Fallout 4 d\\xc3\\xbcrftet ihr mit diesem Weihnachtsgeschenk goldrichtig liegen, denn wer kann schon Sneaker im ikonischen Look von Vault 111 sein Eigen nennen? Die Treter sind eigentlich fast schon zu schade, um sie wirklich auszuf\\xc3\\xbchren, aber egal ob ihr sie einem Sneaker-Head oder einem Fallout-Fan schenkt \\xe2\\x80\\x93 die betreffende Person wird wahrscheinlich sowieso niemals auf diese Idee kommen. Normalerweise kostet der Schuh 85 US-Dollar, aber aktuell bekommt ihr ihn f\\xc3\\xbcr rund 60 US-Dollar.</p>\\n<h3><a href=\"https://sense.f-secure.com\">Sicherheit f\\xc3\\xbcr das Smart Home</a></h3>\\n\\n<figure id=\"attachment_655148\" class=\"caption alignnone\">\\n\\t<img class=\"size-large wp-image-655148\" src=\"http://t3n.de/news/wp-content/uploads/2015/11/F-Secure-Sense_1-595x335.jpg\" alt=\"(Foto: F-Secure)\" width=\"595\" height=\"335\" />\\n\\t<figcaption>(Foto: F-Secure)</figcaption>\\n</figure>\\n\\n<p>Na? Schon mal einen Gutschein zu Weihnachten verschenkt? Das ist oftmals das Mittel der Wahl, wenn man sich nicht fr\\xc3\\xbch genug gek\\xc3\\xbcmmert hat. In diesem Fall g\\xc3\\xa4be es allerdings einen anderen Grund, denn <a href=\"http://t3n.de/news/f-secure-sense-smart-security-gadget-smart-home-655128/\">Sense von F-Secure</a> ist einfach noch nicht erh\\xc3\\xa4ltlich. Dennoch ist das Security-Gadget unter Umst\\xc3\\xa4nden eine gute Wahl, denn aktuell erhalten Vorbesteller das Produkt inklusive einem Zw\\xc3\\xb6lfmonats-Abo zum halben Preis (rund 100 Euro). Bei Sense handelt es sich um ein <a class=\"contentTagLink\" title=\"Weitere News zu Gadgets\" href=\"http://t3n.de/tag/gadgets\">Gadget</a>, das alle mit dem Internet verbundene <a class=\"contentTagLink\" title=\"Weitere News zu Hardware\" href=\"http://t3n.de/tag/hardware\">Hardware</a> sicher machen soll \\xe2\\x80\\x93 vom Tablet \\xc3\\xbcber Spielkonsolen und Smart-TVs bis hin zu vernetzten Gl\\xc3\\xbchbirnen oder internetf\\xc3\\xa4higen Waschmaschinen.</p>\\n<h3><a href=\"http://www.lego.com/de-de/dimensions/\">Lego Dimensions: Wo Nerd-Tr\\xc3\\xa4ume wahr werden</a></h3>\\n<div class=\"videoEmbed\"><iframe src=\"http://www.youtube.com/embed/7L4ztpQ-e-Y?fs=1\" width=\"595\" height=\"365\" seamless allowfullscreen></iframe></div>\\n<p>Lego, Videospiele, Herr der Ringe, Scooby Doo, Portal, Batman, Zur\\xc3\\xbcck in die Zukunft, Ghostbusters, Dr. Who und die Simpsons auf einmal? Klingt verr\\xc3\\xbcckt, gibt es aber. Das Ganze nennt sich Lego Dimensions und ist eine Mischung aus klassischen Lego-Sets und einem zugeh\\xc3\\xb6rigen Videospiel. Die Lego-Figuren werden mittels an eine Konsole angeschlossenem Portal zusammen mit dem Videospiel genutzt. Das Konzept nennt sich Toys-to-Life und ist auch von anderen Herstellern verf\\xc3\\xbcgbar. Allerdings versteht es Lego grandios, die unterschiedlichsten Brands zu vermischen, so dass man (die entsprechenden Erweiterungen vorausgesetzt) ohne Probleme als Homer Simpson auf dem Batmobil die Welt von Portal unsicher machen kann. Das Starterset kostet rund 90 Euro und eignet sich sowohl f\\xc3\\xbcr Kinder ab sieben Jahren als auch f\\xc3\\xbcr Sammler oder Fans eines der Brands.</p>\\n<h3><a href=\"http://www.samsung.com/global/galaxy/wearables/gear-vr/\">Virtuelle Realit\\xc3\\xa4t f\\xc3\\xbcrs Smartphone</a></h3>\\n\\n<figure id=\"attachment_661859\" class=\"caption alignnone\">\\n\\t<img class=\"size-large wp-image-661859\" src=\"http://t3n.de/news/wp-content/uploads/2015/12/weihnachtsgeschenke-geeks-samsung-gear-vr-595x356.jpg\" alt=\"(Screenshot: Samsung)\" width=\"595\" height=\"356\" />\\n\\t<figcaption>(Screenshot: Samsung)</figcaption>\\n</figure>\\n\\n<p>Samsung hat erst k\\xc3\\xbcrzlich eine deutlich verbesserte, leichtere und g\\xc3\\xbcnstigere Version seines Virtual-Reality-Headsets Gear VR auf den Markt gebracht. Die Brille erm\\xc3\\xb6glicht euch, entsprechende Filme und Spiele in der virtuellen Realit\\xc3\\xa4t zu erleben. Die neue Version ist mit dem Samsung Galaxy S6, dem S6 edge und dem S6 edge+ kompatibel. Das Smartphone l\\xc3\\xa4sst sich mittels flexiblen Arretiermechanismus in die Brille einsetzen. Die Samsung Gear VR kostet knapp 100 Euro.</p>\\n<h3><a href=\"http://www.thekeyboardwaffleiron.com/#about-marquee\">Waffeleisen f\\xc3\\xbcr Keyboard-Fetischisten</a></h3>\\n\\n<figure id=\"attachment_661770\" class=\"caption alignnone\">\\n\\t<img class=\"size-large wp-image-661770\" src=\"http://t3n.de/news/wp-content/uploads/2015/12/weihnachtsgeschenke-geeks-keyboard-waffle-iron-595x398.jpg\" alt=\"(Foto: thewaffleiron.com)\" width=\"595\" height=\"398\" />\\n\\t<figcaption>(Foto: thekeyboardwaffleiron.com)</figcaption>\\n</figure>\\n\\n<p>Ihr wollt\\xc2\\xa0jemanden beschenken, der eigentlich gar nicht von seiner Tastatur zu l\\xc3\\xb6sen ist? Vielleicht ist er ja mit diesem Waffeleisen zumindest zum Fr\\xc3\\xbchst\\xc3\\xbcck zu einem AFK zu bewegen. Das hochwertige Gadget fabriziert n\\xc3\\xa4mlich Waffeln, die wie eine Tastatur aussehen. Das Ganze ist mit rund 90 US-Dollar zwar nicht ganz g\\xc3\\xbcnstig, aber f\\xc3\\xbcr Keyboard-Junkies genau das richtige. Alternativ k\\xc3\\xb6nnt ihr euch online nat\\xc3\\xbcrlich auch nach dem \\xc3\\xbcberaus beliebten Todesstern-Waffeleisen umsehen.</p>\\n<h3><a href=\"https://steelseries.com/gaming-controllers/nimbus\">Controller f\\xc3\\xbcr iPhone, iPad und Apple TV</a></h3>\\n\\n<figure id=\"attachment_661862\" class=\"caption alignnone\">\\n\\t<img class=\"size-large wp-image-661862\" src=\"http://t3n.de/news/wp-content/uploads/2015/12/weihnachtsgeschenke-geeks-nimbus-steel-series-595x382.jpg\" alt=\"(Screenshot: Steel Series)\" width=\"595\" height=\"382\" />\\n\\t<figcaption>(Screenshot: Steel Series)</figcaption>\\n</figure>\\n\\n<p>Touch-Steuerung sch\\xc3\\xb6n und gut, aber manche Spiele sollten mit einem richtigen Controller gespielt werden. Eine M\\xc3\\xb6glichkeit, wie ihr aus eurem iPhone, iPad oder Apple TV eine amtliche Zockmaschine machen k\\xc3\\xb6nnt, ist der Nimbus von Steel Series. Der gut verabeitete Controller verbindet sich via Bluetooth mit eurem iDevice und unterst\\xc3\\xbctzt schon\\xc2\\xa0ziemlich viele Games aus dem App Store. Der Nimbus kostet rund 60 Euro.</p>\\n<h3><a href=\"http://swag.raspberrypi.org/products/raspberry-pi-7-inch-touchscreen-display\">Raspberry Pi Display</a></h3>\\n\\n<figure id=\"attachment_661868\" class=\"caption alignnone\">\\n\\t<img class=\"size-full wp-image-661868\" src=\"http://t3n.de/news/wp-content/uploads/2015/12/weihnachtsgeschenke-geeks-raspberry-pi-display.jpg\" alt=\"(Screenshot: Raspberry Pi)\" width=\"468\" height=\"364\" />\\n\\t<figcaption>(Screenshot: Raspberry Pi)</figcaption>\\n</figure>\\n\\n<p>Wenn ihr jemandem ein Weihnachtsgeschenk machen wollt, der gerne mit einem Raspberry Pi bastelt, dann entscheidet euch doch f\\xc3\\xbcr das <a href=\"http://t3n.de/news/raspberry-pi-display-minirechner-638100/\">Display f\\xc3\\xbcr den Kleinstrechner</a>. Die offizielle Hardware ist noch recht frisch und kostet euch rund 60 Euro.</p>\\n<h3><a href=\"https://www.etsy.com/de/listing/172958380/lapdesk-verkauf-schiefer-mobile-lapdesk\">Ein \\x08Schreibtisch f\\xc3\\xbcr den Scho\\xc3\\x9f</a></h3>\\n\\n<figure id=\"attachment_661876\" class=\"caption alignnone\">\\n\\t<img class=\"size-full wp-image-661876\" src=\"http://t3n.de/news/wp-content/uploads/2015/12/weihnachtsgeschenke-geeks-lapdesk-iskelterproducts.jpg\" alt=\"(Screenshot: iSkelterProducts)\" width=\"570\" height=\"428\" />\\n\\t<figcaption>(Screenshot: iSkelterProducts)</figcaption>\\n</figure>\\n\\n<p>Der LapDesk von iSkelterProducts besteht aus Bambus, Neopren und Gummi. Das Gadget eignet sich f\\xc3\\xbcr alle, die mit ihrem Laptop gerne auf der Couch ruml\\xc3\\xbcmmeln und dennoch eine Maus nutzen wollen. Neben einem Mauspad nimmt der LapDesk einen Laptop und ein Smartphone auf, so dass es sich auf dem Sofa fast so anf\\xc3\\xbchlt, als s\\xc3\\xa4\\xc3\\x9fe man am Schreibtisch. Diese Version kostet rund 80 Euro.\\n<div id=\"vgWortPixel\" style=\"height:1px;overflow:hidden\"><img class=\"vgWortPixel\" src=\"http://vg04.met.vgwort.de/na/a288e56f7c6147ce9c7b8a09a055bc6b\" width=\"1\" height=\"1\" alt=\"\" /></div>\\n\\t\\t\\n\\n\\t\\t\\n\\t\\t\\t<p><a href=\"http://t3n.de/news/weihnachtsgeschenke-gesucht-30-661568/4/\" rel=\"next\">Weiter auf Seite 4: \\xe2\\x80\\x9eWeihnachtsgeschenke unter 50 Euro\\xe2\\x80\\x9c &raquo;</a></p>\\t\\t\\t<section class=\"pager\"><ul><li><a href=\"http://t3n.de/news/weihnachtsgeschenke-gesucht-30-661568/2/\" class=\"button\" rel=\"prev\"><i class=\"icon-arrow-left\"></i></a></li><li><a href=\"http://t3n.de/news/weihnachtsgeschenke-gesucht-30-661568/\" class=\"button\">1</a></li><li><a href=\"http://t3n.de/news/weihnachtsgeschenke-gesucht-30-661568/2/\" class=\"button\" rel=\"prev\">2</a></li><li><a href=\"http://t3n.de/news/weihnachtsgeschenke-gesucht-30-661568/3/\" class=\"button button--red\">3</a></li><li><a href=\"http://t3n.de/news/weihnachtsgeschenke-gesucht-30-661568/4/\" class=\"button\" rel=\"next\">4</a></li><li><a href=\"http://t3n.de/news/weihnachtsgeschenke-gesucht-30-661568/4/\" class=\"button\" rel=\"next\"><i class=\"icon-arrow-right\"></i></a></li></ul></section>\\t\\t\\n\\n\\t</div>\\n\\n\\t\\t\\n\\t\\t\\n\\t\\t<div class=\"digidip js-textadplus-container\"><script src=\"http://guruads.de/api/view/5385c6cf497959216a00003a\"></script></div>\\n\\t\\t\\t\\t<div class=\"js-textadplus-hide\">\\n\\n\\t\\t\\t\\t\\t\\t\\t\\n\\t\\t\\t\\t\\t\\t\\t\\t<!-- newsletter -->\\n\\t\\t\\t\\t <section class=\"newsletterbox\">\\n\\t\\t\\t\\t\\t<div class=\"newsletterbox__title\">\\n\\t\\t\\t\\t\\t\\tNewsletter\\n\\t\\t\\t\\t\\t</div>\\n\\t\\t\\t\\t\\t<p class=\"newsletterbox__text\">Bleibe immer up-to-date. Sichere dir deinen Wissensvorsprung!</p>\\n\\t\\t\\t\\t\\t<form action=\"http://t3n.us1.list-manage.com/subscribe/post?u=367517f69d61ffa782ba141be&amp;id=faba600569\" method=\"post\" target=\"_blank\" class=\"tg-newslettersubmit-singleview\">\\n\\t\\t\\t\\t\\t\\t<input type=\"hidden\" name=\"SOURCE\" value=\"Formular\">\\n\\t\\t\\t\\t\\t\\t<input id=\"newsletterMailSidebar\" type=\"text\" name=\"EMAIL\" placeholder=\"E-Mail-Adresse\" class=\"newsletterbox__input\" required>\\n\\t\\t\\t\\t\\t\\t<button type=\"submit\" class=\"newsletterbox__submit\">Abonnieren</button>\\n\\t\\t\\t\\t\\t</form>\\n\\t\\t\\t\\t</section>\\n\\t\\t\\t\\t\\t\\t\\t\\t\\t</div>\\n\\t\\t\\t\\t\\n\\n\\t\\t\\n\\t\\t\\t\\t\\t\\t\\t\\t\\t\\t\\t\\t\\t\\t<div class=\"socialicons__bar\">\\n\\t\\t\\t\\t\\t\\t<div class=\"section-headline section-headline-small noMarginTop\">176 Shares bis jetzt &ndash; Dankesch\\xc3\\xb6n!</div>\\n\\t\\t\\t\\t\\t\\t<a href=\"http://www.facebook.com/sharer.php?u=http%3A%2F%2Ft3n.de%2Fnews%2Fweihnachtsgeschenke-gesucht-30-661568%2F%3Futm_source%3Dfacebook.com%26utm_medium%3Dsocial%26utm_campaign%3Dsocial-buttons&amp;p[images][0]=http%3A%2F%2Ft3n.de%2Fnews%2Fwp-content%2Fuploads%2F2015%2F12%2Fweihnachtsgeschenke-geeks-palette-gear-800x418.jpg\" class=\"button button--icon button--blue tg-socialfacebook-singleviewbottom\" title=\"like me!\" rel=\"popup\">\\n\\t\\t\\t\\t\\t\\t\\t<i class=\"icon-facebook button__icon button__icon--blue\"></i>\\n\\t\\t\\t\\t\\t\\t\\t\\t\\t\\t\\t\\t\\t\\t\\t157\\t\\t\\t\\t\\t\\t\\t\\tlikes\\t\\t\\t\\t\\t\\t\\t\\t\\t\\t\\t\\t\\t</a>\\n\\t\\t\\t\\t\\t\\t<a href=\"http://twitter.com/intent/tweet?related=t3n&text=Weihnachtsgeschenke+gesucht%3F+30+tolle+Gadgets+f%C3%BCr+jeden+Geldbeutel&url=http%3A%2F%2Ft3n.de%2Fnews%2Fweihnachtsgeschenke-gesucht-30-661568%2F%3Futm_source%3Dtwitter.com%26utm_medium%3Dsocial%26utm_campaign%3Dsocial-buttons&via=t3n&lang=de\" class=\"button button--icon button--cyan tg-socialtwitter-singleviewbottom\" title=\"tweet me!\" rel=\"popup\">\\n\\t\\t\\t\\t\\t\\t\\t<i class=\"icon-twitter button__icon button__icon--cyan\"></i>\\n\\t\\t\\t\\t\\t\\t\\t\\t\\t\\t\\t\\t\\t\\t\\ttweet me!\\n\\t\\t\\t\\t\\t\\t\\t\\t\\t\\t\\t\\t\\t</a>\\n\\t\\t\\t\\t\\t\\t<a href=\"https://www.xing.com/spi/shares/new?url=http%3A%2F%2Ft3n.de%2Fnews%2Fweihnachtsgeschenke-gesucht-30-661568%2F&utm_source=xing.com&utm_medium=social&utm_campaign=social-buttons&button_style=rectangle-right_counter&follow_url=https%3A%2F%2Fwww.xing.com%2Fnews%2Fpages%2Ft3n-magazin-67\" class=\"button button--icon button--turquoise tg-socialxing-singleviewbottom\" title=\"share me!\" rel=\"popup\">\\n\\t\\t\\t\\t\\t\\t\\t\\t\\t\\t\\t\\t\\t<i class=\"icon-xing button__icon button__icon--turquoise\"></i>\\n\\t\\t\\t\\t\\t\\t\\t\\t\\t\\t\\t\\t\\t\\t\\t\\t\\t\\t\\t\\t\\t\\t\\t\\t\\t\\t\\t\\t3\\t\\t\\t\\t\\t\\t\\t\\t\\t\\t\\t\\t\\t\\t\\tshares\\t\\t\\t\\t\\t\\t\\t\\t\\t\\t\\t\\t\\t\\t\\t\\t\\t\\t\\t\\t\\t\\t\\t\\t\\t</a>\\n\\t\\t\\t\\t\\t\\t<a class=\"button button--icon button--gray tg-socialemail-singleviewbottom\" href=\"mailto:?subject=Weihnachtsgeschenke gesucht? 30 tolle Gadgets f\\xc3\\xbcr jeden Geldbeutel&amp;body=Sehr empfehlenswerter Artikel: http%3A%2F%2Ft3n.de%2Fnews%2Fweihnachtsgeschenke-gesucht-30-661568%2F%3Futm_source%3DE-Mail%26utm_medium%3Dreferral%26utm_campaign%3Dsocial-buttons%0A%0A%0AAbonniere unseren Newsletter unter http://t3n.de/nletter/ und erhalte einen exklusiven Artikel aus dem aktuellen t3n Magazin.\" title=\"Per E-Mail weiterleiten\"><i class=\"icon-envelope button__icon button__icon--gray\"></i>weiterleiten</a>\\n\\t\\t\\t\\t\\t</div>\\n\\t\\t\\t\\t\\t\\t\\t\\t<!-- newer older post and back to home -->\\n\\t\\t\\t\\t\\t\\t\\t\\t\\t\\t\\t\\t\\t\\t\\t<div class=\"switch-article__navigation switch-article__navigation--footer\">\\n\\t\\t\\t\\t\\t\\t\\t\\t\\t\\t\\t\\t\\t\\t\\t<a href=\"http://t3n.de/news/google-bildersuche-bookmarks-662038/\" class=\"switch-article__prev tg-navigationprevious-bottom\"><i class=\"icon-arrow-left switch-article__icon\"></i>Vorheriger Artikel</a>\\n\\t\\t\\t\\t\\t\\t\\t\\n\\t\\t\\t\\t\\t\\t\\t<a href=\"http://t3n.de/\" class=\"switch-article__home tg-navigationhome-bottom\"> <i class=\"icon-home switch-article__icon tg-navigationhome-bottom\"></i> Zur\\xc3\\xbcck zur Startseite</a>\\n\\n\\t\\t\\t\\t\\t\\t\\t\\t\\t\\t\\t\\t\\t\\t\\t<a href=\"http://t3n.de/news/yahoo-aus-verkauf-662011/\" class=\"switch-article__next tg-navigationnext-bottom\">N\\xc3\\xa4chster Artikel<i class=\"icon-arrow-right switch-article__icon\"></i></a>\\n\\t\\t\\t\\t\\t\\t\\t\\t\\t\\t\\t\\t\\t</div>\\n\\t\\t\\t\\t\\t\\t\\t\\t\\t\\n\\n\\t</article>\\n\\n\\n\\n\\t\\t</div>\\n\\t\\t\\t<aside class=\"sidebar js-topnews-container\">\\n\\t\\t\\t<p class=\"postMetaBlockTheme cf\"><strong>Themen:</strong><span class=\"article__info\"> \\n<a href=\"/tag/gadgets/\">Gadgets</a><a href=\"/tag/tipps/\">Tipps</a><a href=\"/tag/entwicklung/\">Entwicklung</a><a href=\"/tag/hardware/\">Hardware</a></span></p>\\n\\n    <div id=\"Ads_BA_CAD\" class=\"adbRectangleSidebar abContent\">\\n        <div id=\"label-for-Ads_BA_CAD\" class=\"ad-label\">Anzeige</div><script type=\"text/javascript\">Ads_BA_AD(\\'CAD\\');</script>\\n    </div>\\n\\n\\n\\n\\n\\n\\n\\t<section class=\"newsletterbox -SIDEBAR\">\\n\\t\\t<div class=\"newsletterbox__title\">\\n\\t\\t\\tNewsletter\\n\\t\\t</div>\\n        <p class=\"newsletterbox__text\">Bleibe immer up-to-date. Sichere dir deinen Wissensvorsprung!</p>\\n\\n\\t\\t<form action=\"http://t3n.us1.list-manage.com/subscribe/post?u=367517f69d61ffa782ba141be&amp;id=faba600569\" method=\"post\" target=\"_blank\" class=\"tg-newslettersubmit-sidebar\">\\n            <input type=\"hidden\" name=\"SOURCE\" value=\"Formular\">\\n            <input id=\"newsletterMailSidebar\" type=\"text\" name=\"EMAIL\" placeholder=\"E-Mail-Adresse\" class=\"newsletterbox__input -SIDEBAR\" required>\\n            <button type=\"submit\" class=\"newsletterbox__submit -SIDEBAR\">Abonnieren</button>\\n\\t\\t</form>\\n\\t</section>\\n\\n\\n   <div id=\"Ads_BA_BUT\" class=\"abContent\"><div id=\"label-for-Ads_BA_BUT\" class=\"ad-label\">Anzeige</div><script>Ads_BA_AD(\\'BUT\\');</script></div>\\n\\n\\n\\n\\t<div class=\"adb sidebarInner clearfix\">\\n\\t\\t\\n                <script src=\"http://guruads.de/api/view/525fd13f497959ed6e0000fb\"></script>\\n\\n                <script type=\\'text/javascript\\'>\\n                var googletag = googletag || {};\\n                googletag.cmd = googletag.cmd || [];\\n                (function() {\\n                var gads = document.createElement(\\'script\\');\\n                gads.async = true;\\n                gads.type = \\'text/javascript\\';\\n                var useSSL = \\'https:\\' == document.location.protocol;\\n                gads.src = (useSSL ? \\'https:\\' : \\'http:\\') +\\n                \\'//www.googletagservices.com/tag/js/gpt.js\\';\\n                var node = document.getElementsByTagName(\\'script\\')[0];\\n                node.parentNode.insertBefore(gads, node);\\n                })();\\n                </script>\\n\\n                <script type=\\'text/javascript\\'>\\n                googletag.cmd.push(function() {\\n                googletag.defineSlot(\"/1040011/rt_ressort_hardware\", [300, 250], \"div-gpt-ad-1411471602700-0\").setCollapseEmptyDiv(true, true).addService(googletag.pubads());                googletag.pubads().enableSingleRequest();\\n                googletag.enableServices();\\n                });\\n                </script>\\n\\n                <div id=\\'div-gpt-ad-1411471602700-0\\'><script type=\\'text/javascript\\'>googletag.cmd.push(function() { googletag.display(\\'div-gpt-ad-1411471602700-0\\'); });</script></div>\\n\\n\\n\\n\\t\\t<script src=\"http://guruads.de/api/view/506427d349795973020000ac,4dac0ed12834570d3d000001,4dac0f1b283457103d000002,4dac0f30283457133d000000,4dac0f432834570c3d000003,4dac0f5e2834570f3d000001,4dac0f6d283457123d000000,4dac0f822834570b3d000003,4dac0f942834570e3d000002\"></script>\\n\\n\\t</div>\\n\\n\\t\\t\\t\\t<script type=\\'text/javascript\\' src=\\'http://partner.googleadservices.com/gampad/google_service.js\\'>\\n\\t\\t</script>\\n\\t\\t<script type=\\'text/javascript\\'>\\n\\t\\t\\tGS_googleAddAdSenseService(\"ca-pub-9099290824123989\");\\n\\t\\t\\tGS_googleEnableAllServices();\\n\\t\\t</script>\\n\\t\\t<script type=\\'text/javascript\\'>\\n\\t\\t\\tGA_googleAddSlot(\"ca-pub-9099290824123989\", \"InfoboxMesse\");\\n\\t\\t</script>\\n\\t\\t<script type=\\'text/javascript\\'>\\n\\t\\t\\tGA_googleFetchAds();\\n\\t\\t</script>\\n\\t\\t<!-- InfoboxMesse -->\\n\\t\\t<script type=\\'text/javascript\\'>\\n\\t\\t\\tGA_googleFillSlot(\"InfoboxMesse\");\\n\\t\\t</script>\\n\\t\\n\\t\\n\\t\\t\\t<div class=\"adb sidebarInner clearfix\" >\\n\\t\\t\\t\\t\\t<p class=\"clear\" ><a href = \"https://t3n.de/store/mediadaten\" class=\"btn largeButton tg-werbenbutton-sidebar\" > Banner jetzt buchen</a ></p >\\n\\t\\t\\t</div >\\n\\n\\t\\n\\n\\n<div class=\"section-headline\"><a href=\"/marktplatz/\">Marktplatz</a></div><ul class=\"thumbList\"><li><a href=\"http://t3n.de/marktplatz/entry/connecta-ag/\" class=\"tg-marktplatz-singleview\"><img src=\"http://t3n.de/marktplatz/logos/_178_808c27b6_thumb.png\" width=\"50\" height=\"50\" alt=\"\"><strong>Connecta AG</strong>TYPO3 Beratung, TYPO3 Entw...<span>65185 Wiesbaden, Deutschla...</span></a></li><li><a href=\"http://t3n.de/marktplatz/entry/iwelt-ag/\" class=\"tg-marktplatz-singleview\"><img src=\"http://t3n.de/marktplatz/logos/_182_c13accb9_thumb.png\" width=\"50\" height=\"50\" alt=\"\"><strong>iWelt AG</strong>Providing &Domain Service,...<span>97246 Eibelstadt, Deutschl...</span></a></li><li class=\"noImage\"><a href=\"http://t3n.de/marktplatz/choose/\" class=\"btn largeButton tg-marktplatzchoosebutton-singleview\">Eigenen Marktplatzeintrag schalten</a></li></ul>\\t\\t\\t<div class=\"js-topnews-widget ranking-container\">\\n\\t\\t\\t\\t<div class=\"columnMeta section-headline -HIGHLIGHT\">Meistgelesen</div>\\n\\n\\t\\t\\t\\t<div class=\"ranking\">\\n\\t\\t\\t\\t\\t\\t\\t\\t\\t\\t\\t\\t<a class=\"ranking__item tg-beliebtestenews-widget\" href=\"http://t3n.de/news/samsung-galaxy-s7-aehnlich-s6-662079/\">\\n\\t\\t\\t\\t\\t\\t\\t\\t<div class=\"ranking__award -FIRST\"></div>\\n\\t\\t\\t\\t\\t\\t\\t\\t<div class=\"ranking__text\">\\n\\t\\t\\t\\t\\t\\t\\t\\t\\tSamsung Galaxy S7: \\xc3\\x84hnliches Design wie S6, aber g\\xc3\\xbcnstiger\\t\\t\\t\\t\\t\\t\\t\\t</div>\\n\\t\\t\\t\\t\\t\\t\\t</a>\\n\\t\\t\\t\\t\\t\\t\\t\\t\\t\\t\\t\\t\\t\\t<a class=\"ranking__item tg-beliebtestenews-widget\" href=\"http://t3n.de/news/steueroptimierung-mark-zuckerberg-662550/\">\\n\\t\\t\\t\\t\\t\\t\\t\\t<div class=\"ranking__award -SECOND\"></div>\\n\\t\\t\\t\\t\\t\\t\\t\\t<div class=\"ranking__text\">\\n\\t\\t\\t\\t\\t\\t\\t\\t\\tAlles nur Steueroptimierung? Mark Zuckerberg erkl\\xc3\\xa4rt, warum er sein Verm\\xc3\\xb6gen nicht in ein\\xe2\\x80\\xa6\\t\\t\\t\\t\\t\\t\\t\\t</div>\\n\\t\\t\\t\\t\\t\\t\\t</a>\\n\\t\\t\\t\\t\\t\\t\\t\\t\\t\\t\\t\\t\\t\\t<a class=\"ranking__item tg-beliebtestenews-widget\" href=\"http://t3n.de/news/swift-apples-programmiersprache-662504/\">\\n\\t\\t\\t\\t\\t\\t\\t\\t<div class=\"ranking__award -THIRD\"></div>\\n\\t\\t\\t\\t\\t\\t\\t\\t<div class=\"ranking__text\">\\n\\t\\t\\t\\t\\t\\t\\t\\t\\tSwift: Apples Programmiersprache ist jetzt Open Source\\t\\t\\t\\t\\t\\t\\t\\t</div>\\n\\t\\t\\t\\t\\t\\t\\t</a>\\n\\t\\t\\t\\t\\t\\t\\t\\t\\t\\t\\t\\t\\t\\t<a class=\"ranking__item tg-beliebtestenews-widget\" href=\"http://t3n.de/news/zuckerberg-spendet-45-milliarden-661994/\">\\n\\t\\t\\t\\t\\t\\t\\t\\t<div class=\"ranking__award -FOURTH\"></div>\\n\\t\\t\\t\\t\\t\\t\\t\\t<div class=\"ranking__text\">\\n\\t\\t\\t\\t\\t\\t\\t\\t\\t45 Milliarden Dollar: Facebook-Gr\\xc3\\xbcnder Mark Zuckerberg spendet 99 Prozent seines Verm\\xc3\\xb6gens\\t\\t\\t\\t\\t\\t\\t\\t</div>\\n\\t\\t\\t\\t\\t\\t\\t</a>\\n\\t\\t\\t\\t\\t\\t\\t\\t\\t\\t\\t\\t\\t\\t<a class=\"ranking__item tg-beliebtestenews-widget\" href=\"http://t3n.de/news/kreative-bewerbung-661757/\">\\n\\t\\t\\t\\t\\t\\t\\t\\t<div class=\"ranking__award -FIFTH\"></div>\\n\\t\\t\\t\\t\\t\\t\\t\\t<div class=\"ranking__text\">\\n\\t\\t\\t\\t\\t\\t\\t\\t\\tKreative Bewerbung: 6 kleine Tricks, die jeden Personaler verbl\\xc3\\xbcffen\\t\\t\\t\\t\\t\\t\\t\\t</div>\\n\\t\\t\\t\\t\\t\\t\\t</a>\\n\\t\\t\\t\\t\\t\\t\\t\\t\\t\\t\\t</div>\\n\\t\\t\\t</div>\\n        \\n\\t\\t</aside>\\n\\t\\n\\t</div>\\n\\n\\n\\n\\n\\t\\t\\t<div class=\"contentInner contentDivider\">\\n\\t\\t\\t<div class=\"OUTBRAIN\" data-src=\"http://t3n.de/news/weihnachtsgeschenke-gesucht-30-661568/\" data-widget-id=\"AR_1\" data-ob-template=\"t3nde\"></div>\\n\\t\\t\\t<script type=\"text/javascript\" async=\"async\" src=\"http://widgets.outbrain.com/outbrain.js\"></script>\\n\\t\\t</div>\\n\\t\\n<aside class=\"contentInnerGray noPaddingBottom cf\" role=\"complementary\"><div class=\"columnMeta\"><a href=\"/jobs/\">Passende Jobangebote zu Gadgets und Tipps</a> <span class=\"meta\"><a href=\"/jobs/choose/\" class=\"btn tg-jobschoosebutton-singleview\">Job schalten: 30 Tage / 149 \\xe2\\x82\\xac</a></span></div><ul class=\"thumbList columnSet3\"><li><a href=\"http://t3n.de/jobs/job/web-entwickler-mw-125/\" class=\"tg-jobs-singleview\"><img src=\"http://t3n.de/jobs/logos/_13315_c1e3c793_thumb.png\" width=\"50\" height=\"50\" alt=\"\"><strong>Web-Entwickler (m/w)</strong><span>78628 Rottweil</span></a></li><li><a href=\"http://t3n.de/jobs/job/software-entwickler-net-mw-1/\" class=\"tg-jobs-singleview\"><img src=\"http://t3n.de/jobs/logos/_13194_d2f3ad23_thumb.jpg\" width=\"50\" height=\"50\" alt=\"\"><strong>Software-Entwickler .NET (m/w)</strong><span>20099 Hamburg</span></a></li><li><a href=\"http://t3n.de/jobs/job/experte-mw-mobile-anwendungen-iosandroid-2/\" class=\"tg-jobs-singleview\"><img src=\"http://t3n.de/jobs/logos/_13569_55a9c56f_thumb.jpg\" width=\"50\" height=\"50\" alt=\"\"><strong>Experte (m/w) Mobile Anwendungen (iOS/An...</strong><span>61476 Frankfurt, D\\xc3\\xbcsseldo...</span></a></li></ul><p><b>Weitere Jobangebote</b> der t3n-Jobb\\xc3\\xb6rse findest du in den Kategorien <a href=\"http://t3n.de/jobs/thema/typo3/\">TYPO3 Jobs</a>, <a href=\"http://t3n.de/jobs/thema/javascript/\">JavaScript Jobs</a>, <a href=\"http://t3n.de/jobs/thema/java/\">Java Jobs</a> und <a href=\"http://t3n.de/jobs/thema/webentwickler/\">Webentwickler Jobs</a>.</p></aside><div id=\"Ads_BA_FOOT\" class=\"contentDivider\"><script>Ads_BA_AD(\\'FOOT\\');</script></div>\\n\\n\\t<div class=\"contentDivider cf\">\\n\\t\\t<div class=\"contentCentered\">\\n\\t\\t\\t\\n\\n<div id=\"comments\">\\n\\t\\t\\t<div class=\"contentInnerClean\">\\n                        \\t\\t\\t<div class=\"section-headline section-headline-large noMarginTop\">4 Antworten</div>\\n                        <ol class=\"citList\" id=\"commentList\">\\n                            <li class=\"comment even thread-even depth-1 cit clearfix\" id=\"li-comment-191629\">\\n\\t<div id=\"comment-191629\">\\n\\t\\t<div class=\"citImage comment-author vcard\">\\n\\t\\t\\t<a href=\"http://www.escooter-test.net/self-balance-boards/\" rel=\"external nofollow\"><img alt=\\'\\' src=\\'http://1.gravatar.com/avatar/46d173dc8ad7e5755aedba1757916e6a?s=60&#038;d=http%3A%2F%2Ft3n.de%2Fdata%2Fimages%2Fprofiles%2Fot3b_small.jpg&#038;r=g\\' srcset=\\'http://1.gravatar.com/avatar/46d173dc8ad7e5755aedba1757916e6a?s=120&amp;d=http%3A%2F%2Ft3n.de%2Fdata%2Fimages%2Fprofiles%2Fot3b_small.jpg&amp;r=g 2x\\' class=\\'avatar avatar-60 photo\\' height=\\'60\\' width=\\'60\\' /></a>\\t\\t</div>\\n\\t\\t<div class=\"citContent\">\\n\\t\\t\\t<div class=\"citContentInner\">\\n\\t\\t\\t\\t<p class=\"citA\">von <strong><a href=\"http://www.escooter-test.net/self-balance-boards/\" rel=\"external nofollow\">Rene</a></strong>\\n\\t\\t\\t\\t\\t\\t\\t\\t\\t\\t<span>am <a href=\"#comment-191629\">02.12.2015 (11:53 Uhr)</a></span></p>\\n\\n\\t\\t\\t\\t\\t<p>Und f\\xc3\\xbcr den Weg zur Arbeit, damit man genug Zeit hat um auf seine neue Smartwatch zu schauen, w\\xc3\\xa4re ein Self Balance Board doch noch die Idee :D<br />\\r\\nVielleicht l\\xc3\\xa4sst es sich auch mit einem RaspBerry und einem Echolot oder so verbinden um Hindernissen auszuweichen :D<br />\\r\\n<a href=\"http://www.escooter-test.net/self-balance-boards/\" rel=\"nofollow\">http://www.escooter-test.net/self-balance-boards/</a><br />\\r\\n<br />\\r\\nLG und sch\\xc3\\xb6ne Feiertage!</p>\\n\\n\\t\\t\\t\\t<!--Reply link-->\\n\\t\\t\\t\\t<span class=\"comment-reply icon-reply\"><a class=\\'comment-reply-link\\' href=\\'/news/weihnachtsgeschenke-gesucht-30-661568/3/?replytocom=191629#respond\\' onclick=\\'return addComment.moveForm( \"comment-191629\", \"191629\", \"respond\", \"661568\" )\\' aria-label=\\'Antworte auf Rene\\'>Antworten</a></span>\\n\\t\\t\\t\\t<!--Edit link-->\\n\\t\\t\\t\\t\\n\\t\\t\\t\\t<!--Social Shares-->\\n\\t\\t\\t\\t<span class=\"comment-share\">\\n\\t\\t\\t\\t\\tTeilen\\n\\t\\t\\t\\t\\t<a href=\"https://www.facebook.com/sharer/sharer.php?u=http%3A%2F%2Ft3n.de%2Fnews%2Fweihnachtsgeschenke-gesucht-30-661568%2F%23comment-191629\" class=\"button button--light button--xs tg-socialfacebook-comments\" title=\"like me!\" rel=\"popup\" >\\n\\t\\t\\t\\t\\t\\t<i class=\"icon-facebook\"></i>\\n\\t\\t\\t\\t\\t</a>\\n\\n\\t\\t\\t\\t\\t<a href=\"https://twitter.com/intent/tweet?related=t3n&via=t3n&lang=de&url=http%3A%2F%2Ft3n.de%2Fnews%2Fweihnachtsgeschenke-gesucht-30-661568%2F%23comment-191629&text=Weihnachtsgeschenke+gesucht%3F+30+tolle+Gadgets+f%C3%BCr+jeden+Geldbeutel\" class=\"button button--light button--xs  tg-socialtwitter-comments\" title=\"tweet me!\" rel=\"popup\">\\n\\t\\t\\t\\t\\t\\t<i class=\"icon-twitter\"></i>\\n\\t\\t\\t\\t\\t</a>\\n\\n\\t\\t\\t\\t\\t\\t<a href=\"https://www.xing.com/social_plugins/share/new?sc_p=xing-share&url=http%3A%2F%2Ft3n.de%2Fnews%2Fweihnachtsgeschenke-gesucht-30-661568%2F%23comment-191629&text=Weihnachtsgeschenke+gesucht%3F+30+tolle+Gadgets+f%C3%BCr+jeden+Geldbeutel\" class=\"button button--light button--xs tg-socialxing-comments\" title=\"share me!\" rel=\"popup\">\\n\\t\\t\\t\\t\\t\\t\\t<i class=\"icon-xing\"></i>\\n\\t\\t\\t\\t\\t\\t</a>\\n\\t\\t\\t\\t</span>\\n\\t\\t\\t</div>\\n\\t\\t</div>\\n\\t</div>\\n</li><!-- #comment-## -->\\n<li class=\"comment odd alt thread-odd thread-alt depth-1 cit clearfix\" id=\"li-comment-191642\">\\n\\t<div id=\"comment-191642\">\\n\\t\\t<div class=\"citImage comment-author vcard\">\\n\\t\\t\\t<a href=\"http://www.manugoo.de\" rel=\"external nofollow\"><img alt=\\'\\' src=\\'http://2.gravatar.com/avatar/e374f5c709e652bec81b17c2764979cc?s=60&#038;d=http%3A%2F%2Ft3n.de%2Fdata%2Fimages%2Fprofiles%2Fot3b_small.jpg&#038;r=g\\' srcset=\\'http://2.gravatar.com/avatar/e374f5c709e652bec81b17c2764979cc?s=120&amp;d=http%3A%2F%2Ft3n.de%2Fdata%2Fimages%2Fprofiles%2Fot3b_small.jpg&amp;r=g 2x\\' class=\\'avatar avatar-60 photo\\' height=\\'60\\' width=\\'60\\' /></a>\\t\\t</div>\\n\\t\\t<div class=\"citContent\">\\n\\t\\t\\t<div class=\"citContentInner\">\\n\\t\\t\\t\\t<p class=\"citA\">von <strong><a href=\"http://www.manugoo.de\" rel=\"external nofollow\">Janosch</a></strong>\\n\\t\\t\\t\\t\\t\\t\\t\\t\\t\\t<span>am <a href=\"#comment-191642\">02.12.2015 (14:10 Uhr)</a></span></p>\\n\\n\\t\\t\\t\\t\\t<p>Unsere RollMeUp - magnetische Kopfh\\xc3\\xb6reraufwicklung auf Leder f\\xc3\\xbcr 9,95 zzgl. Versand, k\\xc3\\xb6nnte auch ein tolles g\\xc3\\xbcnstiges Weihnachtsgeschenk/Gadget f\\xc3\\xbcr den ein oder anderen sein :)</p>\\n\\n\\t\\t\\t\\t<!--Reply link-->\\n\\t\\t\\t\\t<span class=\"comment-reply icon-reply\"><a class=\\'comment-reply-link\\' href=\\'/news/weihnachtsgeschenke-gesucht-30-661568/3/?replytocom=191642#respond\\' onclick=\\'return addComment.moveForm( \"comment-191642\", \"191642\", \"respond\", \"661568\" )\\' aria-label=\\'Antworte auf Janosch\\'>Antworten</a></span>\\n\\t\\t\\t\\t<!--Edit link-->\\n\\t\\t\\t\\t\\n\\t\\t\\t\\t<!--Social Shares-->\\n\\t\\t\\t\\t<span class=\"comment-share\">\\n\\t\\t\\t\\t\\tTeilen\\n\\t\\t\\t\\t\\t<a href=\"https://www.facebook.com/sharer/sharer.php?u=http%3A%2F%2Ft3n.de%2Fnews%2Fweihnachtsgeschenke-gesucht-30-661568%2F%23comment-191642\" class=\"button button--light button--xs tg-socialfacebook-comments\" title=\"like me!\" rel=\"popup\" >\\n\\t\\t\\t\\t\\t\\t<i class=\"icon-facebook\"></i>\\n\\t\\t\\t\\t\\t</a>\\n\\n\\t\\t\\t\\t\\t<a href=\"https://twitter.com/intent/tweet?related=t3n&via=t3n&lang=de&url=http%3A%2F%2Ft3n.de%2Fnews%2Fweihnachtsgeschenke-gesucht-30-661568%2F%23comment-191642&text=Weihnachtsgeschenke+gesucht%3F+30+tolle+Gadgets+f%C3%BCr+jeden+Geldbeutel\" class=\"button button--light button--xs  tg-socialtwitter-comments\" title=\"tweet me!\" rel=\"popup\">\\n\\t\\t\\t\\t\\t\\t<i class=\"icon-twitter\"></i>\\n\\t\\t\\t\\t\\t</a>\\n\\n\\t\\t\\t\\t\\t\\t<a href=\"https://www.xing.com/social_plugins/share/new?sc_p=xing-share&url=http%3A%2F%2Ft3n.de%2Fnews%2Fweihnachtsgeschenke-gesucht-30-661568%2F%23comment-191642&text=Weihnachtsgeschenke+gesucht%3F+30+tolle+Gadgets+f%C3%BCr+jeden+Geldbeutel\" class=\"button button--light button--xs tg-socialxing-comments\" title=\"share me!\" rel=\"popup\">\\n\\t\\t\\t\\t\\t\\t\\t<i class=\"icon-xing\"></i>\\n\\t\\t\\t\\t\\t\\t</a>\\n\\t\\t\\t\\t</span>\\n\\t\\t\\t</div>\\n\\t\\t</div>\\n\\t</div>\\n<ul class=\"children\">\\n<li class=\"comment even depth-2 cit clearfix\" id=\"li-comment-191643\">\\n\\t<div id=\"comment-191643\">\\n\\t\\t<div class=\"citImage comment-author vcard\">\\n\\t\\t\\t<a href=\"http://www.manugoo.de\" rel=\"external nofollow\"><img alt=\\'\\' src=\\'http://2.gravatar.com/avatar/e374f5c709e652bec81b17c2764979cc?s=60&#038;d=http%3A%2F%2Ft3n.de%2Fdata%2Fimages%2Fprofiles%2Fot3b_small.jpg&#038;r=g\\' srcset=\\'http://2.gravatar.com/avatar/e374f5c709e652bec81b17c2764979cc?s=120&amp;d=http%3A%2F%2Ft3n.de%2Fdata%2Fimages%2Fprofiles%2Fot3b_small.jpg&amp;r=g 2x\\' class=\\'avatar avatar-60 photo\\' height=\\'60\\' width=\\'60\\' /></a>\\t\\t</div>\\n\\t\\t<div class=\"citContent\">\\n\\t\\t\\t<div class=\"citContentInner\">\\n\\t\\t\\t\\t<p class=\"citA\">von <strong><a href=\"http://www.manugoo.de\" rel=\"external nofollow\">Janosch</a></strong>\\n\\t\\t\\t\\t\\t\\t\\t\\t\\t\\t<span>am <a href=\"#comment-191643\">02.12.2015 (14:11 Uhr)</a></span></p>\\n\\n\\t\\t\\t\\t\\t<p>Hier nat\\xc3\\xbcrlich noch der Link: <a href=\"http://www.manugoo.de/RollMeUp\" rel=\"nofollow\">http://www.manugoo.de/RollMeUp</a></p>\\n\\n\\t\\t\\t\\t<!--Reply link-->\\n\\t\\t\\t\\t<span class=\"comment-reply icon-reply\"><a class=\\'comment-reply-link\\' href=\\'/news/weihnachtsgeschenke-gesucht-30-661568/3/?replytocom=191643#respond\\' onclick=\\'return addComment.moveForm( \"comment-191643\", \"191643\", \"respond\", \"661568\" )\\' aria-label=\\'Antworte auf Janosch\\'>Antworten</a></span>\\n\\t\\t\\t\\t<!--Edit link-->\\n\\t\\t\\t\\t\\n\\t\\t\\t\\t<!--Social Shares-->\\n\\t\\t\\t\\t<span class=\"comment-share\">\\n\\t\\t\\t\\t\\tTeilen\\n\\t\\t\\t\\t\\t<a href=\"https://www.facebook.com/sharer/sharer.php?u=http%3A%2F%2Ft3n.de%2Fnews%2Fweihnachtsgeschenke-gesucht-30-661568%2F%23comment-191643\" class=\"button button--light button--xs tg-socialfacebook-comments\" title=\"like me!\" rel=\"popup\" >\\n\\t\\t\\t\\t\\t\\t<i class=\"icon-facebook\"></i>\\n\\t\\t\\t\\t\\t</a>\\n\\n\\t\\t\\t\\t\\t<a href=\"https://twitter.com/intent/tweet?related=t3n&via=t3n&lang=de&url=http%3A%2F%2Ft3n.de%2Fnews%2Fweihnachtsgeschenke-gesucht-30-661568%2F%23comment-191643&text=Weihnachtsgeschenke+gesucht%3F+30+tolle+Gadgets+f%C3%BCr+jeden+Geldbeutel\" class=\"button button--light button--xs  tg-socialtwitter-comments\" title=\"tweet me!\" rel=\"popup\">\\n\\t\\t\\t\\t\\t\\t<i class=\"icon-twitter\"></i>\\n\\t\\t\\t\\t\\t</a>\\n\\n\\t\\t\\t\\t\\t\\t<a href=\"https://www.xing.com/social_plugins/share/new?sc_p=xing-share&url=http%3A%2F%2Ft3n.de%2Fnews%2Fweihnachtsgeschenke-gesucht-30-661568%2F%23comment-191643&text=Weihnachtsgeschenke+gesucht%3F+30+tolle+Gadgets+f%C3%BCr+jeden+Geldbeutel\" class=\"button button--light button--xs tg-socialxing-comments\" title=\"share me!\" rel=\"popup\">\\n\\t\\t\\t\\t\\t\\t\\t<i class=\"icon-xing\"></i>\\n\\t\\t\\t\\t\\t\\t</a>\\n\\t\\t\\t\\t</span>\\n\\t\\t\\t</div>\\n\\t\\t</div>\\n\\t</div>\\n</li><!-- #comment-## -->\\n</ul><!-- .children -->\\n</li><!-- #comment-## -->\\n<li class=\"comment odd alt thread-even depth-1 cit clearfix\" id=\"li-comment-191649\">\\n\\t<div id=\"comment-191649\">\\n\\t\\t<div class=\"citImage comment-author vcard\">\\n\\t\\t\\t<img alt=\\'\\' src=\\'http://1.gravatar.com/avatar/704fdd6301a45021c80f5982859dd0bb?s=60&#038;d=http%3A%2F%2Ft3n.de%2Fdata%2Fimages%2Fprofiles%2Fot3b_small.jpg&#038;r=g\\' srcset=\\'http://1.gravatar.com/avatar/704fdd6301a45021c80f5982859dd0bb?s=120&amp;d=http%3A%2F%2Ft3n.de%2Fdata%2Fimages%2Fprofiles%2Fot3b_small.jpg&amp;r=g 2x\\' class=\\'avatar avatar-60 photo\\' height=\\'60\\' width=\\'60\\' />\\t\\t</div>\\n\\t\\t<div class=\"citContent\">\\n\\t\\t\\t<div class=\"citContentInner\">\\n\\t\\t\\t\\t<p class=\"citA\">von <strong>Coin</strong>\\n\\t\\t\\t\\t\\t\\t\\t\\t\\t\\t<span>am <a href=\"#comment-191649\">02.12.2015 (15:12 Uhr)</a></span></p>\\n\\n\\t\\t\\t\\t\\t<p>Und nat\\xc3\\xbcrlich die perfekte Idee f\\xc3\\xbcr alle Webworker und Social Media Nerds. Kissen braucht das Land!<br />\\r\\n<br />\\r\\nde.dawanda.com/shop/Socialmediakissen</p>\\n\\n\\t\\t\\t\\t<!--Reply link-->\\n\\t\\t\\t\\t<span class=\"comment-reply icon-reply\"><a class=\\'comment-reply-link\\' href=\\'/news/weihnachtsgeschenke-gesucht-30-661568/3/?replytocom=191649#respond\\' onclick=\\'return addComment.moveForm( \"comment-191649\", \"191649\", \"respond\", \"661568\" )\\' aria-label=\\'Antworte auf Coin\\'>Antworten</a></span>\\n\\t\\t\\t\\t<!--Edit link-->\\n\\t\\t\\t\\t\\n\\t\\t\\t\\t<!--Social Shares-->\\n\\t\\t\\t\\t<span class=\"comment-share\">\\n\\t\\t\\t\\t\\tTeilen\\n\\t\\t\\t\\t\\t<a href=\"https://www.facebook.com/sharer/sharer.php?u=http%3A%2F%2Ft3n.de%2Fnews%2Fweihnachtsgeschenke-gesucht-30-661568%2F%23comment-191649\" class=\"button button--light button--xs tg-socialfacebook-comments\" title=\"like me!\" rel=\"popup\" >\\n\\t\\t\\t\\t\\t\\t<i class=\"icon-facebook\"></i>\\n\\t\\t\\t\\t\\t</a>\\n\\n\\t\\t\\t\\t\\t<a href=\"https://twitter.com/intent/tweet?related=t3n&via=t3n&lang=de&url=http%3A%2F%2Ft3n.de%2Fnews%2Fweihnachtsgeschenke-gesucht-30-661568%2F%23comment-191649&text=Weihnachtsgeschenke+gesucht%3F+30+tolle+Gadgets+f%C3%BCr+jeden+Geldbeutel\" class=\"button button--light button--xs  tg-socialtwitter-comments\" title=\"tweet me!\" rel=\"popup\">\\n\\t\\t\\t\\t\\t\\t<i class=\"icon-twitter\"></i>\\n\\t\\t\\t\\t\\t</a>\\n\\n\\t\\t\\t\\t\\t\\t<a href=\"https://www.xing.com/social_plugins/share/new?sc_p=xing-share&url=http%3A%2F%2Ft3n.de%2Fnews%2Fweihnachtsgeschenke-gesucht-30-661568%2F%23comment-191649&text=Weihnachtsgeschenke+gesucht%3F+30+tolle+Gadgets+f%C3%BCr+jeden+Geldbeutel\" class=\"button button--light button--xs tg-socialxing-comments\" title=\"share me!\" rel=\"popup\">\\n\\t\\t\\t\\t\\t\\t\\t<i class=\"icon-xing\"></i>\\n\\t\\t\\t\\t\\t\\t</a>\\n\\t\\t\\t\\t</span>\\n\\t\\t\\t</div>\\n\\t\\t</div>\\n\\t</div>\\n</li><!-- #comment-## -->\\n                        </ol>\\n\\t\\t</div>\\n\\t</div>\\n\\n\\t<div id=\"respond\" class=\"contentInnerClean\">\\n\\t\\t<div class=\"section-headline section-headline-large noMarginTop\" id=\"reply-title\">Deine Meinung</div>\\n\\n\\t\\t\\t\\t\\t<form action=\"http://t3n.de/news/wp-comments-post.php\" method=\"post\" class=\"commentForm\" id=\"commentform\">\\n\\t\\t\\t\\t<div>\\n\\t\\t\\t\\t\\t<input type=\"hidden\" name=\"comment_post_ID\" id=\"comment_post_ID\" value=\"661568\">\\n\\t\\t\\t\\t\\t<input type=\"hidden\" name=\"comment_parent\" id=\"comment_parent\" value=\"0\">\\n\\t\\t\\t\\t</div>\\n\\n\\t\\t\\t\\t\\t\\t\\t\\t\\t\\t\\t\\t\\t<p>Melde dich mit deinem <a href=\"https://t3n.de/signin?redirect=http%3A%2F%2Ft3n.de%2Fnews%2Fweihnachtsgeschenke-gesucht-30-661568%2F\">t3n-Account</a> an oder f\\xc3\\xbclle die unteren Felder aus.</p>\\n\\t\\t\\t\\t\\n\\t\\t\\t\\t\\t\\t\\t\\t\\t<p>\\n\\t\\t\\t\\t\\t\\t<label for=\"author\" class=\"hidden\">Name *:</label>\\n\\t\\t\\t\\t\\t\\t<input type=\"text\" name=\"author\" id=\"author\" placeholder=\"Name *\" value=\"\" size=\"22\" aria-required=\\'true\\'required=\\'required\\' class=\"form\">\\n\\t\\t\\t\\t\\t</p>\\n\\n\\t\\t\\t\\t\\t<p>\\n\\t\\t\\t\\t\\t\\t<label for=\"email\" class=\"hidden\">E-Mail-Adresse *:</label>\\n\\t\\t\\t\\t\\t\\t<input type=\"email\" name=\"email\" id=\"email\" placeholder=\"E-Mail *\" value=\"\" size=\"22\" aria-required=\\'true\\'required=\\'required\\' class=\"form\">\\n\\t\\t\\t\\t\\t\\t<span class=\"gray\">(wird nicht ver\\xc3\\xb6ffentlicht)</span>\\n\\t\\t\\t\\t\\t</p>\\n\\n\\t\\t\\t\\t\\t<p>\\n\\t\\t\\t\\t\\t\\t<label for=\"url\" class=\"hidden\">Webseite:</label>\\n\\t\\t\\t\\t\\t\\t<input type=\"url\" name=\"url\" id=\"url\" placeholder=\"Webseite\" value=\"\" size=\"22\" class=\"form\">\\n\\t\\t\\t\\t\\t</p>\\n\\t\\t\\t\\t\\t\\t\\t\\t<p>\\n\\t\\t\\t\\t\\t<label for=\"comment\" class=\"hidden\">Kommentar:</label>\\n\\t\\t\\t\\t\\t<textarea name=\"12fd5-comment\" id=\"comment\" cols=\"100\" rows=\"10\" class=\"form colFull\" placeholder=\"Dein Kommentar *\" required></textarea><textarea name=\"comment\" style=\"display:none\" rows=\"1\" cols=\"1\"></textarea>\\n\\t\\t\\t\\t</p>\\n\\t\\t\\t\\t\\r\\n\\r\\n    <p class=\"subscribe-to-comments\">\\r\\n    <input type=\"checkbox\" name=\"subscribe\" id=\"subscribe\" value=\"subscribe\" style=\"width: auto;\" />\\r\\n    <label for=\"subscribe\" class=\"inline\">Benachrichtigung bei weiteren Kommentaren per E-Mail senden.</label>\\r\\n    </p>\\r\\n\\r\\n\\r\\n<p class=\"subscribe-to-newsletter\">\\n<input type=\"checkbox\" name=\"subscribeToNewsletter\" id=\"subscribeToNewsletter\" value=\"subscribe\" style=\"width: auto;\" />\\n<label for=\"subscribeToNewsletter\" class=\"inline\">Ich m\\xc3\\xb6chte den t3n.de-Newsletter erhalten</label><br>\\n<span class=\"small\">(zweimal pro Woche, redaktionell bearbeitet.\\nJetzt lesen: <a href=\"http://eepurl.com/bIyFcL\" class=\"iframe\" rel=\"nofollow\">t3n Newsletter Nr. 599</a>\\n)</span>\\n</p>\\n        \\t\\t\\t\\t<p>\\n\\t\\t\\t\\t\\t<button type=\"submit\" class=\"button button--red tg-comment-submit\">Kommentar senden</button>\\n\\t\\t\\t\\t\\t<a class=\"button\" rel=\"nofollow\" id=\"cancel-comment-reply-link\" href=\"/news/weihnachtsgeschenke-gesucht-30-661568/3/#respond\" style=\"display:none;\">Abbrechen</a>\\t\\t\\t\\t</p>\\n\\t\\t\\t</form>\\n\\t\\t\\t</div>\\n\\n<div id=\"trackbacks\">\\n\\t\\t\\t<div class=\"contentInnerClean noPaddingTop\">\\n\\t\\t\\t<ol class=\"citList\" id=\"trackbackList\">\\n\\t\\t\\t\\t\\t\\t\\t</ol>\\n\\t\\t</div>\\n\\t</div>\\t\\t</div>\\n\\t</div>\\n\\t<div class=\"contentDivider cf\">\\n\\t\\t\\t\\t<div class=\"contentInnerClean\">\\n\\t\\t\\t<div class=\"section section-headline section-headline-large noMarginTop\"> Tweets</div><ul id=\"tweetbacks\" class=\"cf  limitReached\"><li class=\"first\">\\n\\t<span class=\"sQuote\">easyPEP (@easyPEPapp): #Weihnachtsgeschenke gesucht? 30 tolle #Gadgets f\\xc3\\xbcr jeden #Geldbeutel https://t.co/ks8rOM4prp</span>\\n\\t<a href=\"https://twitter.com/easyPEPapp/status/673891239884947457\" rel=\"nofollow\" target=\"_blank\"><img src=\"http://pbs.twimg.com/profile_images/472309726684774401/-BLl18U0_normal.png\" width=\"48\" height=\"48\" alt=\"\" /></a>\\n</li>\\n<li>\\n\\t<span class=\"sQuote\">Trip Tagger BRD (@TripTagger_DE): Weihnachtsgeschenke zu finden, muss nicht schwer sein. Von Gadgets f\\xc3\\xbcr Designer und Entwickler \\xc3\\xbcber Gimmicks rund... https://t.co/JgaE8xeMMN</span>\\n\\t<a href=\"https://twitter.com/TripTagger_DE/status/673890395944693760\" rel=\"nofollow\" target=\"_blank\"><img src=\"http://pbs.twimg.com/profile_images/657003118442315776/wILcEjbC_normal.jpg\" width=\"48\" height=\"48\" alt=\"\" /></a>\\n</li>\\n<li>\\n\\t<span class=\"sQuote\">EBERTLANG (@EBERTLANG): #Weihnachtsgeschenke gesucht? 30 tolle #Gadgets f\\xc3\\xbcr jeden Geldbeutel - https://t.co/PadkzDvFfI</span>\\n\\t<a href=\"https://twitter.com/EBERTLANG/status/673889233128595457\" rel=\"nofollow\" target=\"_blank\"><img src=\"http://pbs.twimg.com/profile_images/572425214135259136/7hRyGbz9_normal.png\" width=\"48\" height=\"48\" alt=\"\" /></a>\\n</li>\\n<li>\\n\\t<span class=\"sQuote\">InLoox GmbH (@inloox_gmbh): Weihnachtsgeschenke f\\xc3\\xbcr die Geeks und Nerds in Ihrem Freundeskreis: https://t.co/pdu1IT4M3t #christmascountdown</span>\\n\\t<a href=\"https://twitter.com/inloox_gmbh/status/673804173763354628\" rel=\"nofollow\" target=\"_blank\"><img src=\"http://pbs.twimg.com/profile_images/1969256655/InLoox-Logo_normal.png\" width=\"48\" height=\"48\" alt=\"\" /></a>\\n</li>\\n<li>\\n\\t<span class=\"sQuote\">Oberholzer (@oberholzerkb): Weihnachtsgeschenke gesucht? 30 tolle Gadgets f\\xc3\\xbcr jeden Geldbeutel https://t.co/Ryrdv6qFfx</span>\\n\\t<a href=\"https://twitter.com/oberholzerkb/status/673065598474170368\" rel=\"nofollow\" target=\"_blank\"><img src=\"http://pbs.twimg.com/profile_images/591958411765485568/eeqzXzh__normal.jpg\" width=\"48\" height=\"48\" alt=\"\" /></a>\\n</li>\\n<li>\\n\\t<span class=\"sQuote\">EBERTLANG (@EBERTLANG): Noch auf der Suche nach einem #Weihnachtsgeschenk? 30 Gadgets f\\xc3\\xbcr jeden Geldbeutel via https://t.co/PHFK5mzhJR</span>\\n\\t<a href=\"https://twitter.com/EBERTLANG/status/672715745676029952\" rel=\"nofollow\" target=\"_blank\"><img src=\"http://pbs.twimg.com/profile_images/572425214135259136/7hRyGbz9_normal.png\" width=\"48\" height=\"48\" alt=\"\" /></a>\\n</li>\\n<li>\\n\\t<span class=\"sQuote\">GadgetXL (@GadgetXL): RT @t3n: Geschenkideen f\\xc3\\xbcr Geeks: 30 tolle Ideen f\\xc3\\xbcr jeden Geldbeutel (von @Sebisebsn) https://t.co/nAV7Lar9hN https://t.co/JyfMnWhZvT</span>\\n\\t<a href=\"https://twitter.com/GadgetXL/status/672711388750565376\" rel=\"nofollow\" target=\"_blank\"><img src=\"http://pbs.twimg.com/profile_images/673022923473616896/7Wbdnw2T_normal.jpg\" width=\"48\" height=\"48\" alt=\"\" /></a>\\n</li>\\n<li>\\n\\t<span class=\"sQuote\">Dr. Haffa & Partner (@haffapartner): Weihnachtsgeschenke gesucht? 30 tolle Gadgets f\\xc3\\xbcr jeden Geldbeutel | t3n https://t.co/23TWwvE96c https://t.co/znCCS9i9sA</span>\\n\\t<a href=\"https://twitter.com/haffapartner/status/672708174638669824\" rel=\"nofollow\" target=\"_blank\"><img src=\"http://pbs.twimg.com/profile_images/672990040/rot_dhp_normal.png\" width=\"48\" height=\"48\" alt=\"\" /></a>\\n</li>\\n<li>\\n\\t<span class=\"sQuote\">Horst H\\xc3\\xb6fflin (@hoefflin): Weihnachtsgeschenke gesucht? 30 tolle Gadgets f\\xc3\\xbcr jeden Geldbeutel | t3n https://t.co/MHmcfosile https://t.co/BqX7mADqWp</span>\\n\\t<a href=\"https://twitter.com/hoefflin/status/672708172377927680\" rel=\"nofollow\" target=\"_blank\"><img src=\"http://pbs.twimg.com/profile_images/86933824/twitter-wappen_normal.jpg\" width=\"48\" height=\"48\" alt=\"\" /></a>\\n</li>\\n<li>\\n\\t<span class=\"sQuote\">EBERTLANG (@EBERTLANG): #Weihnachtsgeschenke gesucht? 30 tolle #Gadgets f\\xc3\\xbcr jeden Geldbeutel - https://t.co/PadkzDvFfI</span>\\n\\t<a href=\"https://twitter.com/EBERTLANG/status/672339393189945344\" rel=\"nofollow\" target=\"_blank\"><img src=\"http://pbs.twimg.com/profile_images/572425214135259136/7hRyGbz9_normal.png\" width=\"48\" height=\"48\" alt=\"\" /></a>\\n</li>\\n<li>\\n\\t<span class=\"sQuote\">Agentur06 (@agentur06): Weihnachtsgeschenke gesucht? 30 tolle Gadgets f\\xc3\\xbcr jeden Geldbeutel https://t.co/lsRcmhyz7M</span>\\n\\t<a href=\"https://twitter.com/agentur06/status/672334609602977792\" rel=\"nofollow\" target=\"_blank\"><img src=\"http://pbs.twimg.com/profile_images/2683835420/be4ccced7aa6c22460d4869a6db3e7d8_normal.png\" width=\"48\" height=\"48\" alt=\"\" /></a>\\n</li>\\n<li>\\n\\t<span class=\"sQuote\">B&B. Markenagentur (@BundB_de): #Weihnachtsgeschenke gesucht? 30 tolle #Gadgets f\\xc3\\xbcr jeden Geldbeutel https://t.co/lk46R2AtaA</span>\\n\\t<a href=\"https://twitter.com/BundB_de/status/672321612583186432\" rel=\"nofollow\" target=\"_blank\"><img src=\"http://pbs.twimg.com/profile_images/513979907672522752/kXPs642X_normal.png\" width=\"48\" height=\"48\" alt=\"\" /></a>\\n</li>\\n<li>\\n\\t<span class=\"sQuote\">Johannes B. (@Tschoujoe): Weihnachtsgeschenke gesucht? 30 tolle Gadgets f\\xc3\\xbcr jeden Geldbeutel https://t.co/Cn5xEoYfgf</span>\\n\\t<a href=\"https://twitter.com/Tschoujoe/status/672133194943176704\" rel=\"nofollow\" target=\"_blank\"><img src=\"http://pbs.twimg.com/profile_images/634072333695762434/K7xKF5Tr_normal.jpg\" width=\"48\" height=\"48\" alt=\"\" /></a>\\n</li>\\n<li>\\n\\t<span class=\"sQuote\">Bettina Werren (@Frau_W): RT @t3n: Geschenkideen f\\xc3\\xbcr Geeks: 30 tolle Ideen f\\xc3\\xbcr jeden Geldbeutel (von @Sebisebsn) https://t.co/nAV7Lar9hN https://t.co/JyfMnWhZvT</span>\\n\\t<a href=\"https://twitter.com/Frau_W/status/672064949259214848\" rel=\"nofollow\" target=\"_blank\"><img src=\"http://pbs.twimg.com/profile_images/669640014708477952/ZKJ8hnH9_normal.jpg\" width=\"48\" height=\"48\" alt=\"\" /></a>\\n</li>\\n<li>\\n\\t<span class=\"sQuote\">Andrey Lover (@100_zhez): RT @t3n: Geschenkideen f\\xc3\\xbcr Geeks: 30 tolle Ideen f\\xc3\\xbcr jeden Geldbeutel (von @Sebisebsn) https://t.co/nAV7Lar9hN https://t.co/JyfMnWhZvT</span>\\n\\t<a href=\"https://twitter.com/100_zhez/status/672059618537918465\" rel=\"nofollow\" target=\"_blank\"><img src=\"http://pbs.twimg.com/profile_images/470323271833903104/uGRsWVXc_normal.jpeg\" width=\"48\" height=\"48\" alt=\"\" /></a>\\n</li>\\n<li>\\n\\t<span class=\"sQuote\">KMNVHS (@The_Woco): RT @t3n: Geschenkideen f\\xc3\\xbcr Geeks: 30 tolle Ideen f\\xc3\\xbcr jeden Geldbeutel (von @Sebisebsn) https://t.co/nAV7Lar9hN https://t.co/JyfMnWhZvT</span>\\n\\t<a href=\"https://twitter.com/The_Woco/status/672059559549272064\" rel=\"nofollow\" target=\"_blank\"><img src=\"http://pbs.twimg.com/profile_images/664128933340848128/wm9NQGhK_normal.jpg\" width=\"48\" height=\"48\" alt=\"\" /></a>\\n</li>\\n<li>\\n\\t<span class=\"sQuote\">Christian H\\xc3\\xa4ussler (@ChrisHaeusslerC): RT @t3n: Geschenkideen f\\xc3\\xbcr Geeks: 30 tolle Ideen f\\xc3\\xbcr jeden Geldbeutel (von @Sebisebsn) https://t.co/nAV7Lar9hN https://t.co/JyfMnWhZvT</span>\\n\\t<a href=\"https://twitter.com/ChrisHaeusslerC/status/672049732647321601\" rel=\"nofollow\" target=\"_blank\"><img src=\"http://pbs.twimg.com/profile_images/466613775442132992/am2Ace3Z_normal.jpeg\" width=\"48\" height=\"48\" alt=\"\" /></a>\\n</li>\\n<li>\\n\\t<span class=\"sQuote\">SocialGuru (@SocialGuruDE): Geschenkideen f\\xc3\\xbcr Geeks: 30 tolle Ideen f\\xc3\\xbcr jeden Geldbeutel (von Sebisebsn) https://t.co/LguVdKOc2K https://t.co/MKMDDXoGnC</span>\\n\\t<a href=\"https://twitter.com/SocialGuruDE/status/672047821701439488\" rel=\"nofollow\" target=\"_blank\"><img src=\"http://pbs.twimg.com/profile_images/602317639659171841/CNJy0FBp_normal.jpg\" width=\"48\" height=\"48\" alt=\"\" /></a>\\n</li>\\n<li>\\n\\t<span class=\"sQuote\">Weiterbildung Anhalt (@WZAnhalt): RT @t3n: Geschenkideen f\\xc3\\xbcr Geeks: 30 tolle Ideen f\\xc3\\xbcr jeden Geldbeutel (von @Sebisebsn) https://t.co/nAV7Lar9hN https://t.co/JyfMnWhZvT</span>\\n\\t<a href=\"https://twitter.com/WZAnhalt/status/672047439814270976\" rel=\"nofollow\" target=\"_blank\"><img src=\"http://pbs.twimg.com/profile_images/368014137/09-08-07_TZ-Logo2009-wei_erHintergrund_normal.jpg\" width=\"48\" height=\"48\" alt=\"\" /></a>\\n</li>\\n<li>\\n\\t<span class=\"sQuote\">t3n Magazin (@t3n): Geschenkideen f\\xc3\\xbcr Geeks: 30 tolle Ideen f\\xc3\\xbcr jeden Geldbeutel (von @Sebisebsn) https://t.co/nAV7Lar9hN https://t.co/JyfMnWhZvT</span>\\n\\t<a href=\"https://twitter.com/t3n/status/672045206561300481\" rel=\"nofollow\" target=\"_blank\"><img src=\"http://pbs.twimg.com/profile_images/664789564230365184/5qdU5vul_normal.png\" width=\"48\" height=\"48\" alt=\"\" /></a>\\n</li>\\n<li>\\n\\t<span class=\"sQuote\">\\xc3\\x96c\\xc3\\xbc (@Dortmundlu08): Weihnachtsgeschenke gesucht? 30 tolle Gadgets f\\xc3\\xbcr jeden Geldbeutel\\n\\nWeihnachtsgeschenke zu finden, muss nicht schw\\xe2\\x80\\xa6 https://t.co/49V8YvbeGP</span>\\n\\t<a href=\"https://twitter.com/Dortmundlu08/status/672008582196535296\" rel=\"nofollow\" target=\"_blank\"><img src=\"http://pbs.twimg.com/profile_images/1567657251/Dortmundlu08_normal.jpg\" width=\"48\" height=\"48\" alt=\"\" /></a>\\n</li>\\n<li>\\n\\t<span class=\"sQuote\">VD (@vrenita81): https://t.co/8V47qzB3GC Weihnachtsgeschenke gesucht? 30 tolle Gadgets f\\xc3\\xbcr jeden Geldbeutel https://t.co/OcVgWJDysY</span>\\n\\t<a href=\"https://twitter.com/vrenita81/status/671984966545367040\" rel=\"nofollow\" target=\"_blank\"><img src=\"http://abs.twimg.com/sticky/default_profile_images/default_profile_0_normal.png\" width=\"48\" height=\"48\" alt=\"\" /></a>\\n</li>\\n<li>\\n\\t<span class=\"sQuote\">Karo (@starkestimme9): RT @MilenaDroste: #t3n: Weihnachtsgeschenke gesucht? 30 tolle Gadgets f\\xc3\\xbcr jeden Geldbeutel https://t.co/cDAvG8YAYk</span>\\n\\t<a href=\"https://twitter.com/starkestimme9/status/671982580552609792\" rel=\"nofollow\" target=\"_blank\"><img src=\"http://pbs.twimg.com/profile_images/597386025992888320/KHneJSf2_normal.jpg\" width=\"48\" height=\"48\" alt=\"\" /></a>\\n</li>\\n<li>\\n\\t<span class=\"sQuote\">filtr.de (@filtr_de): Weihnachtsgeschenke gesucht? 30 tolle Gadgets f\\xc3\\xbcr jeden Geldbeutel / t3n https://t.co/s3xY5PGcKJ via https://t.co/oRoW6sdR84</span>\\n\\t<a href=\"https://twitter.com/filtr_de/status/671981638826500096\" rel=\"nofollow\" target=\"_blank\"><img src=\"http://pbs.twimg.com/profile_images/3165319036/57e93fc605d39fec044a5fa85e905fcb_normal.jpeg\" width=\"48\" height=\"48\" alt=\"\" /></a>\\n</li>\\n<li>\\n\\t<span class=\"sQuote\">PIABO (@PIABO): Weihnachtsgeschenke gesucht? @t3n zeigt 30 tolle Gadgets f\\xc3\\xbcr jeden Geldbeutel https://t.co/BnWAhEIS5g</span>\\n\\t<a href=\"https://twitter.com/PIABO/status/671981334785585152\" rel=\"nofollow\" target=\"_blank\"><img src=\"http://pbs.twimg.com/profile_images/637244785594646528/JI0T8tyS_normal.png\" width=\"48\" height=\"48\" alt=\"\" /></a>\\n</li>\\n<li>\\n\\t<span class=\"sQuote\">Wof\\xc3\\xbcr brennst Du? (@MilenaDroste): #t3n: Weihnachtsgeschenke gesucht? 30 tolle Gadgets f\\xc3\\xbcr jeden Geldbeutel https://t.co/cDAvG8YAYk</span>\\n\\t<a href=\"https://twitter.com/MilenaDroste/status/671981124374175744\" rel=\"nofollow\" target=\"_blank\"><img src=\"http://pbs.twimg.com/profile_images/551136929689767936/YmTmzQBP_normal.jpeg\" width=\"48\" height=\"48\" alt=\"\" /></a>\\n</li>\\n<li>\\n\\t<span class=\"sQuote\">Ruth Hecker (@RuthHecker): https://t.co/UjeV3AcAqt Weihnachtsgeschenke gesucht? 30 tolle Gadgets f\\xc3\\xbcr jeden Geldbeutel https://t.co/PSJGZY6Mud</span>\\n\\t<a href=\"https://twitter.com/RuthHecker/status/671981086314991616\" rel=\"nofollow\" target=\"_blank\"><img src=\"http://pbs.twimg.com/profile_images/457177568647475200/ECSqsvIa_normal.jpeg\" width=\"48\" height=\"48\" alt=\"\" /></a>\\n</li>\\n<li>\\n\\t<span class=\"sQuote\">Carina Maier (@CarinaMaier75): https://t.co/IdUAW7hFaZ Weihnachtsgeschenke gesucht? 30 tolle Gadgets f\\xc3\\xbcr jeden Geldbeutel https://t.co/8KE45mgvPl</span>\\n\\t<a href=\"https://twitter.com/CarinaMaier75/status/671977340487016448\" rel=\"nofollow\" target=\"_blank\"><img src=\"http://abs.twimg.com/sticky/default_profile_images/default_profile_0_normal.png\" width=\"48\" height=\"48\" alt=\"\" /></a>\\n</li>\\n<li>\\n\\t<span class=\"sQuote\">Luca Caracciolo (@papierjunge): Kollege @Sebisebsn hat Weihnachtsgeschenke f\\xc3\\xbcr Nerds gesammelt. Mein Favorit: der AT-ST. https://t.co/sRlZLRVF0B https://t.co/m4UhzhnJWw</span>\\n\\t<a href=\"https://twitter.com/papierjunge/status/671976656098213888\" rel=\"nofollow\" target=\"_blank\"><img src=\"http://pbs.twimg.com/profile_images/446590794305007616/GMsX8DUP_normal.jpeg\" width=\"48\" height=\"48\" alt=\"\" /></a>\\n</li>\\n<li>\\n\\t<span class=\"sQuote\">Patrick Bloem (@daroqz): Weihnachtsgeschenke gesucht? 30 tolle Gadgets f\\xc3\\xbcr jeden Geldbeutel https://t.co/5LM9kRD3MC</span>\\n\\t<a href=\"https://twitter.com/daroqz/status/671974324920786945\" rel=\"nofollow\" target=\"_blank\"><img src=\"http://pbs.twimg.com/profile_images/451226583056269312/wFIqPKnS_normal.jpeg\" width=\"48\" height=\"48\" alt=\"\" /></a>\\n</li>\\n<li>\\n\\t<span class=\"sQuote\">nadine grotzki (@NGrotzki): Weihnachtsgeschenke gesucht? 30 tolle Gadgets f\\xc3\\xbcr jeden Geldbeutel https://t.co/bYFivCnwAD</span>\\n\\t<a href=\"https://twitter.com/NGrotzki/status/671973760015187968\" rel=\"nofollow\" target=\"_blank\"><img src=\"http://pbs.twimg.com/profile_images/441564826129551360/T3rvN73u_normal.jpeg\" width=\"48\" height=\"48\" alt=\"\" /></a>\\n</li>\\n<li>\\n\\t<span class=\"sQuote\">Tanja Avignon (@TanjaAvignon): https://t.co/f4uKYhxQhl Weihnachtsgeschenke gesucht? 30 tolle Gadgets f\\xc3\\xbcr jeden Geldbeutel https://t.co/JVTN2j2U07</span>\\n\\t<a href=\"https://twitter.com/TanjaAvignon/status/671973564044730368\" rel=\"nofollow\" target=\"_blank\"><img src=\"http://pbs.twimg.com/profile_images/442033993257451520/OKNeBz0w_normal.jpeg\" width=\"48\" height=\"48\" alt=\"\" /></a>\\n</li>\\n<li>\\n\\t<span class=\"sQuote\">Blog erstellen (@Blog_erstellen): https://t.co/gLMy8YRner Weihnachtsgeschenke gesucht? 30 tolle Gadgets f\\xc3\\xbcr jeden Geldbeutel https://t.co/3DWGCIkR1o</span>\\n\\t<a href=\"https://twitter.com/Blog_erstellen/status/671970449417441280\" rel=\"nofollow\" target=\"_blank\"><img src=\"http://abs.twimg.com/sticky/default_profile_images/default_profile_2_normal.png\" width=\"48\" height=\"48\" alt=\"\" /></a>\\n</li>\\n<li>\\n\\t<span class=\"sQuote\">Rubi Gold (@RubisGold): https://t.co/cyhiOpw8ph Weihnachtsgeschenke gesucht? 30 tolle Gadgets f\\xc3\\xbcr jeden Geldbeutel https://t.co/plreD6L9Mh</span>\\n\\t<a href=\"https://twitter.com/RubisGold/status/671970319352143872\" rel=\"nofollow\" target=\"_blank\"><img src=\"http://abs.twimg.com/sticky/default_profile_images/default_profile_3_normal.png\" width=\"48\" height=\"48\" alt=\"\" /></a>\\n</li>\\n<li>\\n\\t<span class=\"sQuote\">Rittler & Co (@Rittler_Co): Weihnachtsgeschenke gesucht? 30 tolle Gadgets f\\xc3\\xbcr jeden Geldbeutel https://t.co/EHHjq2NzCa</span>\\n\\t<a href=\"https://twitter.com/Rittler_Co/status/671970309092859904\" rel=\"nofollow\" target=\"_blank\"><img src=\"http://pbs.twimg.com/profile_images/1566262140/logo_normal.png\" width=\"48\" height=\"48\" alt=\"\" /></a>\\n</li>\\n<li>\\n\\t<span class=\"sQuote\">Stefan Blum Weingart (@StefanBlum2): https://t.co/Tzuv9zohUK Weihnachtsgeschenke gesucht? 30 tolle Gadgets f\\xc3\\xbcr jeden Geldbeutel https://t.co/L6gCzsthUb</span>\\n\\t<a href=\"https://twitter.com/StefanBlum2/status/671970205225103360\" rel=\"nofollow\" target=\"_blank\"><img src=\"http://pbs.twimg.com/profile_images/2906262232/e1429192de0521653eace34c1a745d00_normal.jpeg\" width=\"48\" height=\"48\" alt=\"\" /></a>\\n</li>\\n<li>\\n\\t<span class=\"sQuote\">sonja strahler (@Manufaktur48): https://t.co/Pb4aTQ893E Weihnachtsgeschenke gesucht? 30 tolle Gadgets f\\xc3\\xbcr jeden Geldbeutel https://t.co/6cQ10RNkRo</span>\\n\\t<a href=\"https://twitter.com/Manufaktur48/status/671970195901128705\" rel=\"nofollow\" target=\"_blank\"><img src=\"http://pbs.twimg.com/profile_images/596202446474616833/HDthWu3z_normal.jpg\" width=\"48\" height=\"48\" alt=\"\" /></a>\\n</li>\\n<li>\\n\\t<span class=\"sQuote\">Sabrina Fluxus (@SabrinaFluxus): https://t.co/C7ByeAPIYB Weihnachtsgeschenke gesucht? 30 tolle Gadgets f\\xc3\\xbcr jeden Geldbeutel https://t.co/igMDFEm47j</span>\\n\\t<a href=\"https://twitter.com/SabrinaFluxus/status/671970180562591744\" rel=\"nofollow\" target=\"_blank\"><img src=\"http://pbs.twimg.com/profile_images/561076947766104065/FfWEQgtU_normal.jpeg\" width=\"48\" height=\"48\" alt=\"\" /></a>\\n</li>\\n<li>\\n\\t<span class=\"sQuote\">Balligo annouti (@Annouti): https://t.co/iyq3ZXQIU6 Weihnachtsgeschenke gesucht? 30 tolle Gadgets f\\xc3\\xbcr jeden Geldbeutel https://t.co/KjUhbjvz5i</span>\\n\\t<a href=\"https://twitter.com/Annouti/status/671970142805499904\" rel=\"nofollow\" target=\"_blank\"><img src=\"http://abs.twimg.com/sticky/default_profile_images/default_profile_5_normal.png\" width=\"48\" height=\"48\" alt=\"\" /></a>\\n</li>\\n<li>\\n\\t<span class=\"sQuote\">Ida Mariotti (@IdaMariotti): RT @t3n Weihnachtsgeschenke gesucht? 30 tolle Gadgets f\\xc3\\xbcr jeden Geldbeutel https://t.co/r5TlVprmOZ</span>\\n\\t<a href=\"https://twitter.com/IdaMariotti/status/671970081065275392\" rel=\"nofollow\" target=\"_blank\"><img src=\"http://pbs.twimg.com/profile_images/2629686604/de9ba516f3933c5ae2a54f91bfe89713_normal.jpeg\" width=\"48\" height=\"48\" alt=\"\" /></a>\\n</li>\\n<li>\\n\\t<span class=\"sQuote\">Aurelia Semmler (@AureliaSemmler): Weihnachtsgeschenke gesucht? 30 tolle Gadgets f\\xc3\\xbcr jeden Geldbeutel https://t.co/GnmHDS5dw0</span>\\n\\t<a href=\"https://twitter.com/AureliaSemmler/status/671970025943756800\" rel=\"nofollow\" target=\"_blank\"><img src=\"http://pbs.twimg.com/profile_images/605620552578027520/zkJmh35k_normal.jpg\" width=\"48\" height=\"48\" alt=\"\" /></a>\\n</li>\\n<li>\\n\\t<span class=\"sQuote\">Martin Kollman (@MartinKollman1): https://t.co/DasC9TJVAY Weihnachtsgeschenke gesucht? 30 tolle Gadgets f\\xc3\\xbcr jeden Geldbeutel https://t.co/iW19VMT7zb</span>\\n\\t<a href=\"https://twitter.com/MartinKollman1/status/671970007635595264\" rel=\"nofollow\" target=\"_blank\"><img src=\"http://abs.twimg.com/sticky/default_profile_images/default_profile_1_normal.png\" width=\"48\" height=\"48\" alt=\"\" /></a>\\n</li>\\n<li>\\n\\t<span class=\"sQuote\">Bianca Bielemeyer (@bielemeyer): RT @t3N: Weihnachtsgeschenke gesucht? 30 tolle Gadgets f\\xc3\\xbcr jeden Geldbeutel https://t.co/Gd2HpKCMpF</span>\\n\\t<a href=\"https://twitter.com/bielemeyer/status/671969907505000452\" rel=\"nofollow\" target=\"_blank\"><img src=\"http://pbs.twimg.com/profile_images/2307339726/kuajv1ity6vczth7sour_normal.jpeg\" width=\"48\" height=\"48\" alt=\"\" /></a>\\n</li>\\n<li>\\n\\t<span class=\"sQuote\">Christoph K\\xc3\\xa4mmerer (@ChristophKae): https://t.co/tC4EBdVQbL : Weihnachtsgeschenke gesucht? 30 tolle Gadgets f\\xc3\\xbcr jeden Geldbeutel https://t.co/Pw4mcbCKR3</span>\\n\\t<a href=\"https://twitter.com/ChristophKae/status/671969839280427008\" rel=\"nofollow\" target=\"_blank\"><img src=\"http://pbs.twimg.com/profile_images/2649601559/851d8abec9bd16ce74bbb14dbc763b8d_normal.png\" width=\"48\" height=\"48\" alt=\"\" /></a>\\n</li>\\n<li>\\n\\t<span class=\"sQuote\">Oliver Taranczewski (@OTaranczewski): Weihnachtsgeschenke gesucht? 30 tolle Gadgets f\\xc3\\xbcr jeden Geldbeutel https://t.co/lxdbRegtxX</span>\\n\\t<a href=\"https://twitter.com/OTaranczewski/status/671966790088564736\" rel=\"nofollow\" target=\"_blank\"><img src=\"http://pbs.twimg.com/profile_images/378800000020145622/641eaca73a8f62ce814ea5c78f2d8952_normal.jpeg\" width=\"48\" height=\"48\" alt=\"\" /></a>\\n</li>\\n<li>\\n\\t<span class=\"sQuote\">Barbara Mei\\xc3\\x9fner (@bar_media): https://t.co/iyPWu3xwIS Weihnachtsgeschenke gesucht? 30 tolle Gadgets f\\xc3\\xbcr jeden Geldbeutel https://t.co/V5oMUbtItI</span>\\n\\t<a href=\"https://twitter.com/bar_media/status/671966420276797441\" rel=\"nofollow\" target=\"_blank\"><img src=\"http://pbs.twimg.com/profile_images/2906470458/9680749e972a5152eb0eb0bfd97832af_normal.png\" width=\"48\" height=\"48\" alt=\"\" /></a>\\n</li>\\n<li>\\n\\t<span class=\"sQuote\">Mick (@BMickMack): https://t.co/oNjYZqlAT3 Weihnachtsgeschenke gesucht? 30 tolle Gadgets f\\xc3\\xbcr jeden Geldbeutel https://t.co/9OLdJPDVVr</span>\\n\\t<a href=\"https://twitter.com/BMickMack/status/671966400819408896\" rel=\"nofollow\" target=\"_blank\"><img src=\"http://pbs.twimg.com/profile_images/511497869094690817/ma85Ujc2_normal.png\" width=\"48\" height=\"48\" alt=\"\" /></a>\\n</li>\\n<li>\\n\\t<span class=\"sQuote\">Alexandra Bleeker (@AllgaeuAlex2014): https://t.co/hlGWzdvyt5 Weihnachtsgeschenke gesucht? 30 tolle Gadgets f\\xc3\\xbcr jeden Geldbeutel https://t.co/K5cyAUjZ4j</span>\\n\\t<a href=\"https://twitter.com/AllgaeuAlex2014/status/671966343512633344\" rel=\"nofollow\" target=\"_blank\"><img src=\"http://pbs.twimg.com/profile_images/378800000832187498/5198391ed40fcee3ae90bf009701ebd2_normal.jpeg\" width=\"48\" height=\"48\" alt=\"\" /></a>\\n</li>\\n<li>\\n\\t<span class=\"sQuote\">Claude Stapel (@ClaudeStapel): https://t.co/DDwxSZgQkJ Weihnachtsgeschenke gesucht? 30 tolle Gadgets f\\xc3\\xbcr jeden Geldbeutel https://t.co/HDj6wV82nv</span>\\n\\t<a href=\"https://twitter.com/ClaudeStapel/status/671966154081046528\" rel=\"nofollow\" target=\"_blank\"><img src=\"http://abs.twimg.com/sticky/default_profile_images/default_profile_5_normal.png\" width=\"48\" height=\"48\" alt=\"\" /></a>\\n</li>\\n<li>\\n\\t<span class=\"sQuote\">Andreas Moustakas (@Moustakas_A): https://t.co/gMPFrLNFD5 Weihnachtsgeschenke gesucht? 30 tolle Gadgets f\\xc3\\xbcr jeden Geldbeutel https://t.co/3cnzzCJ3nB</span>\\n\\t<a href=\"https://twitter.com/Moustakas_A/status/671966108052779008\" rel=\"nofollow\" target=\"_blank\"><img src=\"http://pbs.twimg.com/profile_images/3215344401/6c90f268cff7650dc2cb7eb994dd8838_normal.jpeg\" width=\"48\" height=\"48\" alt=\"\" /></a>\\n</li>\\n<li>\\n\\t<span class=\"sQuote\">Christian Br\\xc3\\xb6mer (@docbroemer): RT @t3n: Weihnachtsgeschenke gesucht? 30 tolle Gadgets f\\xc3\\xbcr jeden Geldbeutel (von @Sebisebsn) https://t.co/OaueY7Ygv1 https://t.co/0tisVeuB49</span>\\n\\t<a href=\"https://twitter.com/docbroemer/status/671965649275629569\" rel=\"nofollow\" target=\"_blank\"><img src=\"http://pbs.twimg.com/profile_images/659313711710994432/MhoVyL8j_normal.jpg\" width=\"48\" height=\"48\" alt=\"\" /></a>\\n</li>\\n<li>\\n\\t<span class=\"sQuote\">Birgit Murmann (@MurBirgit): https://t.co/E7oWlLxCdY Weihnachtsgeschenke gesucht? 30 tolle Gadgets f\\xc3\\xbcr jeden Geldbeutel https://t.co/yDOBzuGgIU</span>\\n\\t<a href=\"https://twitter.com/MurBirgit/status/671962312878727168\" rel=\"nofollow\" target=\"_blank\"><img src=\"http://pbs.twimg.com/profile_images/515429570028113920/8sBcGRZV_normal.jpeg\" width=\"48\" height=\"48\" alt=\"\" /></a>\\n</li>\\n<li>\\n\\t<span class=\"sQuote\">Manja Kessler (@manjakessler): via@t3n.de Weihnachtsgeschenke gesucht? 30 tolle Gadgets f\\xc3\\xbcr jeden Geldbeutel https://t.co/uTCoMo6VEI</span>\\n\\t<a href=\"https://twitter.com/manjakessler/status/671962224978731008\" rel=\"nofollow\" target=\"_blank\"><img src=\"http://pbs.twimg.com/profile_images/1241225410/Manja_Foto_003_-_Kopie_normal.JPG\" width=\"48\" height=\"48\" alt=\"\" /></a>\\n</li>\\n<li>\\n\\t<span class=\"sQuote\">Florian Blaschke (@trotzendorff): RT @Sebisebsn: Ihr sucht noch ein Weihnachtsgeschenk? Ich hab mal 30 sau coole Ideen gesammelt: https://t.co/YqJcVf9AaL #gadgets https://t.\\xe2\\x80\\xa6</span>\\n\\t<a href=\"https://twitter.com/trotzendorff/status/671960474506895361\" rel=\"nofollow\" target=\"_blank\"><img src=\"http://pbs.twimg.com/profile_images/623746647638605824/cZ-butB6_normal.png\" width=\"48\" height=\"48\" alt=\"\" /></a>\\n</li>\\n<li>\\n\\t<span class=\"sQuote\">S\\xc3\\xa9bastien Bonset (@Sebisebsn): Ihr sucht noch ein Weihnachtsgeschenk? Ich hab mal 30 sau coole Ideen gesammelt: https://t.co/YqJcVf9AaL #gadgets https://t.co/W5TewfgQfD</span>\\n\\t<a href=\"https://twitter.com/Sebisebsn/status/671960423760048129\" rel=\"nofollow\" target=\"_blank\"><img src=\"http://pbs.twimg.com/profile_images/474520938914934784/1oVBFUYa_normal.png\" width=\"48\" height=\"48\" alt=\"\" /></a>\\n</li>\\n<li>\\n\\t<span class=\"sQuote\">Marie Lanfermann (@datadriver1): \"Weihnachtsgeschenke gesucht? 30 tolle Gadgets f\\xc3\\xbcr jeden Geldbeutel\" #socialmedia https://t.co/XXZAl7JFZP #SocialMedia</span>\\n\\t<a href=\"https://twitter.com/datadriver1/status/671960233338642432\" rel=\"nofollow\" target=\"_blank\"><img src=\"http://pbs.twimg.com/profile_images/653905793553727488/HY7v2rpO_normal.png\" width=\"48\" height=\"48\" alt=\"\" /></a>\\n</li>\\n<li>\\n\\t<span class=\"sQuote\">cy-man.de (@cyman_de): RT @t3n: Weihnachtsgeschenke gesucht? 30 tolle Gadgets f\\xc3\\xbcr jeden Geldbeutel (von @Sebisebsn) https://t.co/OaueY7Ygv1 https://t.co/0tisVeuB49</span>\\n\\t<a href=\"https://twitter.com/cyman_de/status/671958795673800704\" rel=\"nofollow\" target=\"_blank\"><img src=\"http://pbs.twimg.com/profile_images/797627937/Recent_1_normal.jpg\" width=\"48\" height=\"48\" alt=\"\" /></a>\\n</li>\\n<li>\\n\\t<span class=\"sQuote\">Tech-News Handy (@news_handy): Weihnachtsgeschenke gesucht? 30 tolle Gadgets f\\xc3\\xbcr jeden Geldbeutel https://t.co/wDUpCW43Mr #news</span>\\n\\t<a href=\"https://twitter.com/news_handy/status/671958586117984256\" rel=\"nofollow\" target=\"_blank\"><img src=\"http://pbs.twimg.com/profile_images/434276853977587712/OTLEj6ym_normal.jpeg\" width=\"48\" height=\"48\" alt=\"\" /></a>\\n</li>\\n<li>\\n\\t<span class=\"sQuote\">WordPress Hints (@Wordpress_Hints): Weihnachtsgeschenke gesucht? 30 tolle Gadgets f\\xc3\\xbcr jeden Geldbeutel https://t.co/dGoGQJX0Nu</span>\\n\\t<a href=\"https://twitter.com/Wordpress_Hints/status/671958585505677312\" rel=\"nofollow\" target=\"_blank\"><img src=\"http://pbs.twimg.com/profile_images/378800000636721686/95b33a1e59a3efd2d0e87108ae9e83f9_normal.jpeg\" width=\"48\" height=\"48\" alt=\"\" /></a>\\n</li>\\n<li>\\n\\t<span class=\"sQuote\">miriam hanna mesfin (@MesfinHanna): Weihnachtsgeschenke gesucht? 30 tolle Gadgets f\\xc3\\xbcr jeden Geldbeutel https://t.co/l0CwvgrvuW</span>\\n\\t<a href=\"https://twitter.com/MesfinHanna/status/671958475577106432\" rel=\"nofollow\" target=\"_blank\"><img src=\"http://pbs.twimg.com/profile_images/460337998995800064/M-aL2pb1_normal.jpeg\" width=\"48\" height=\"48\" alt=\"\" /></a>\\n</li>\\n<li>\\n\\t<span class=\"sQuote\">Angela M\\xc3\\xbcller (@adwords91): https://t.co/UEjzk8NF1t Weihnachtsgeschenke gesucht? 30 tolle Gadgets f\\xc3\\xbcr jeden Geldbeutel https://t.co/vHECcYBDJT</span>\\n\\t<a href=\"https://twitter.com/adwords91/status/671958439757799424\" rel=\"nofollow\" target=\"_blank\"><img src=\"http://abs.twimg.com/sticky/default_profile_images/default_profile_0_normal.png\" width=\"48\" height=\"48\" alt=\"\" /></a>\\n</li>\\n<li>\\n\\t<span class=\"sQuote\">Christoph (@ckerfurt): Weihnachtsgeschenke gesucht? 30 tolle Gadgets f\\xc3\\xbcr jeden Geldbeutel https://t.co/kQK6fXQa5Q</span>\\n\\t<a href=\"https://twitter.com/ckerfurt/status/671957186604593152\" rel=\"nofollow\" target=\"_blank\"><img src=\"http://pbs.twimg.com/profile_images/647334556190818304/pZG5YekB_normal.jpg\" width=\"48\" height=\"48\" alt=\"\" /></a>\\n</li>\\n<li>\\n\\t<span class=\"sQuote\">SocialGuru (@SocialGuruDE): Weihnachtsgeschenke gesucht? 30 tolle Gadgets f\\xc3\\xbcr jeden Geldbeutel (von Sebisebsn) https://t.co/uONfDD4llJ https://t.co/fmIoCo4RxE</span>\\n\\t<a href=\"https://twitter.com/SocialGuruDE/status/671956662660505600\" rel=\"nofollow\" target=\"_blank\"><img src=\"http://pbs.twimg.com/profile_images/602317639659171841/CNJy0FBp_normal.jpg\" width=\"48\" height=\"48\" alt=\"\" /></a>\\n</li>\\n<li>\\n\\t<span class=\"sQuote\">Affiliate Trickser (@affiliatetrick): Weihnachtsgeschenke gesucht? 30 tolle Gadgets f\\xc3\\xbcr jeden Geldbeutel https://t.co/6IrouRX9oS #seo #affiliatemarketing #affiliate</span>\\n\\t<a href=\"https://twitter.com/affiliatetrick/status/671956554824998912\" rel=\"nofollow\" target=\"_blank\"><img src=\"http://pbs.twimg.com/profile_images/453586987954343936/gil0avX5_normal.jpeg\" width=\"48\" height=\"48\" alt=\"\" /></a>\\n</li>\\n<li>\\n\\t<span class=\"sQuote\">t3n Magazin (@t3n): Weihnachtsgeschenke gesucht? 30 tolle Gadgets f\\xc3\\xbcr jeden Geldbeutel (von @Sebisebsn) https://t.co/OaueY7Ygv1 https://t.co/0tisVeuB49</span>\\n\\t<a href=\"https://twitter.com/t3n/status/671956340479275009\" rel=\"nofollow\" target=\"_blank\"><img src=\"http://pbs.twimg.com/profile_images/664789564230365184/5qdU5vul_normal.png\" width=\"48\" height=\"48\" alt=\"\" /></a>\\n</li>\\n<li>\\n\\t<span class=\"sQuote\">Deutsche Online News (@OnlineNewsDE): Weihnachtsgeschenke gesucht? 30 tolle Gadgets f\\xc3\\xbcr jeden Geldbeutel https://t.co/db4BvHg1kO</span>\\n\\t<a href=\"https://twitter.com/OnlineNewsDE/status/671956023473762304\" rel=\"nofollow\" target=\"_blank\"><img src=\"http://pbs.twimg.com/profile_images/3608104102/89431151f9c1a017dd587643c594db10_normal.png\" width=\"48\" height=\"48\" alt=\"\" /></a>\\n</li>\\n<li>\\n\\t<span class=\"sQuote\">kopffinder UG (@kopffinder): Lesenswert: Weihnachtsgeschenke gesucht? 30 tolle Gadgets f\\xc3\\xbcr jeden Geldbeutel https://t.co/J3PIHouzgA #Design</span>\\n\\t<a href=\"https://twitter.com/kopffinder/status/671955967505006593\" rel=\"nofollow\" target=\"_blank\"><img src=\"http://pbs.twimg.com/profile_images/754087632/Avatar_normal.jpg\" width=\"48\" height=\"48\" alt=\"\" /></a>\\n</li>\\n<li>\\n\\t<span class=\"sQuote\">Jens Lehmann (@Anoxade): Weihnachtsgeschenke gesucht? 30 tolle Gadgets f\\xc3\\xbcr jeden Geldbeutel https://t.co/nen9W62KOT t3n</span>\\n\\t<a href=\"https://twitter.com/Anoxade/status/671955917529829376\" rel=\"nofollow\" target=\"_blank\"><img src=\"http://pbs.twimg.com/profile_images/648449199948886016/5RT5HGUO_normal.jpg\" width=\"48\" height=\"48\" alt=\"\" /></a>\\n</li>\\n<li>\\n\\t<span class=\"sQuote\">MaKo Store - Technik (@mkcomputer): Weihnachtsgeschenke gesucht? 30 tolle Gadgets f\\xc3\\xbcr jeden Geldbeutel https://t.co/Dct5TRVByD</span>\\n\\t<a href=\"https://twitter.com/mkcomputer/status/671955908126199808\" rel=\"nofollow\" target=\"_blank\"><img src=\"http://pbs.twimg.com/profile_images/514880654249836544/x0zy-9a9_normal.jpeg\" width=\"48\" height=\"48\" alt=\"\" /></a>\\n</li>\\n<li>\\n\\t<span class=\"sQuote\">Bernhard (@Urli82): Weihnachtsgeschenke gesucht? 30 tolle Gadgets f\\xc3\\xbcr jeden Geldbeutel https://t.co/o5oFzyJgir</span>\\n\\t<a href=\"https://twitter.com/Urli82/status/671955591590473728\" rel=\"nofollow\" target=\"_blank\"><img src=\"http://pbs.twimg.com/profile_images/1220772935/Bild057_normal.jpg\" width=\"48\" height=\"48\" alt=\"\" /></a>\\n</li>\\n<li>\\n\\t<span class=\"sQuote\">Jens Kruppenbacher (@J_Kruppenbacher): https://t.co/rRsiMwPm3U Weihnachtsgeschenke gesucht? 30 tolle Gadgets f\\xc3\\xbcr jeden Geldbeutel https://t.co/4stojARscq</span>\\n\\t<a href=\"https://twitter.com/J_Kruppenbacher/status/671954943004274688\" rel=\"nofollow\" target=\"_blank\"><img src=\"http://abs.twimg.com/sticky/default_profile_images/default_profile_6_normal.png\" width=\"48\" height=\"48\" alt=\"\" /></a>\\n</li>\\n<li class=\"retweettext\"><a href=\"http://twitter.com/intent/tweet?related=t3n&text=Weihnachtsgeschenke+gesucht%3F+30+tolle+Gadgets+f%C3%BCr+jeden+Geldbeutel&url=http%3A%2F%2Ft3n.de%2Fnews%2Fweihnachtsgeschenke-gesucht-30-661568%2F%3Futm_source%3Dtwitter.com%26utm_medium%3Dsocial%26utm_campaign%3Dsocial-buttons&via=t3n&lang=de\" rel=\"external popup\" class=\"button button--icon button--cyan\"><i class=\"icon-twitter button__icon button__icon--cyan\"></i> Jetzt retweeten</a> um auch hier zu erscheinen!</li></ul>\\t\\t</div>\\n\\t\\t</div>\\n\\n<section class=\"columnSet3 fullColumn contentDivider2 cf\"><span class=\"headline\">Mehr zum Thema Gadgets</span><div class=\"column \"><header><a href=\"http://t3n.de/news/f-secure-sense-smart-security-gadget-smart-home-655128/\" class=\"tg-relatednews-singleview\"><img src=\"http://t3n.de/uploads/t3n-news-post-655128_Lifestyle_4_medium.jpg\" width=\"283\" height=\"159\" alt=\"F-Secure Sense: Smartes Security-Gadget aus Finnland\"><div class=\"headline\">F-Secure Sense: Smartes Security-Gadget aus Finnland</div></a></header><p>Das finnische Sicherheitsunternehmen F-Secure hat mit Sense im Vorfeld der Slush-Konferenz in Helsinki ein Security-Gadget f\\xc3\\xbcr Privatanwender vorgestellt, das nicht nur Rechner und Smartphones, \\xe2\\x80\\xa6 <a href=\"http://t3n.de/news/f-secure-sense-smart-security-gadget-smart-home-655128/\" class=\"tg-relatednews-singleview\">\\xc2\\xbb weiterlesen</a></p></div><div class=\"column alt\"><header><a href=\"http://t3n.de/news/acer-cloud-professor-internet-of-things-arduino-637421/\" class=\"tg-relatednews-singleview\"><img src=\"http://t3n.de/uploads/t3n-news-post-637421_cloud-professor-internet-of-things-arduino_1_medium.jpg\" width=\"283\" height=\"159\" alt=\"Ein Bastelkoffer f\\xc3\\xbcr das Internet of Things: Acer stellt Arduino-basiertes Kinderprojekt vor\"><div class=\"headline\">Ein Bastelkoffer f\\xc3\\xbcr das Internet of Things: Acer stellt Arduino-basiertes Kinderprojekt vor</div></a></header><p>Acer will die junge Generation f\\xc3\\xbcr das Internet der Dinge begeistern und hat dazu einen Arduino-basierten Bastelkoffer vorgestellt. Wir verraten euch, was der \\xe2\\x80\\x9eCloud Professor\\xe2\\x80\\x9c getaufte Koffer \\xe2\\x80\\xa6 <a href=\"http://t3n.de/news/acer-cloud-professor-internet-of-things-arduino-637421/\" class=\"tg-relatednews-singleview\">\\xc2\\xbb weiterlesen</a></p></div><div class=\"column \"><header><a href=\"http://t3n.de/news/hardware-fundstuecke-coole-2-654911/\" class=\"tg-relatednews-singleview\"><img src=\"http://t3n.de/uploads/t3n-news-post-654911_hardware-fundst\\xc3\\xbccke-treemate-schwan_medium.jpg\" width=\"283\" height=\"159\" alt=\"Hardware-Fundst\\xc3\\xbccke: Coole Gadgets f\\xc3\\xbcr Gamer, Geeks und Gutmenschen\"><div class=\"headline\">Hardware-Fundst\\xc3\\xbccke: Coole Gadgets f\\xc3\\xbcr Gamer, Geeks und Gutmenschen</div></a></header><p>Freunde des t3n Magazins kennen unsere\\xc2\\xa0Hardware-Fundst\\xc3\\xbccke. Auch f\\xc3\\xbcr die neueste\\xc2\\xa0Ausgabe unseres Printmagazins haben wir einige spannende Gadgets und Ger\\xc3\\xa4te gesammelt, die es zwar nicht ins Heft \\xe2\\x80\\xa6 <a href=\"http://t3n.de/news/hardware-fundstuecke-coole-2-654911/\" class=\"tg-relatednews-singleview\">\\xc2\\xbb weiterlesen</a></p></div></section>\\n\\t<script>\\n\\t\\t\\t\\t\\t\\t\\tdataLayer.push({\\n\\t\\t\\t\\t\\t\\t\\t\\'event\\': \\'gaTriggerEvent\\',\\n\\t\\t\\t\\t\\t\\t\\t\\'gaEventCategory\\': \\'RessortPageviews\\',\\n\\t\\t\\t\\t\\t\\t\\t\\'gaEventAction\\': \\'Hardware\\',\\n\\t\\t\\t\\t\\t\\t\\t\\'gaEventLabel\\': \\'\\',\\n\\t\\t\\t\\t\\t\\t\\t\\'gaEventValue\\': 100\\t\\t\\t\\t\\t});\\n\\t\\t\\t</script>\\n\\t<script>\\n\\t\\t\\t\\t\\t\\t\\tdataLayer.push({\\n\\t\\t\\t\\t\\t\\t\\t\\'event\\': \\'gaTriggerEvent\\',\\n\\t\\t\\t\\t\\t\\t\\t\\'gaEventCategory\\': \\'TagPageviews\\',\\n\\t\\t\\t\\t\\t\\t\\t\\'gaEventAction\\': \\'gadgets\\',\\n\\t\\t\\t\\t\\t\\t\\t\\'gaEventLabel\\': \\'\\',\\n\\t\\t\\t\\t\\t\\t\\t\\'gaEventValue\\': 25\\t\\t\\t\\t\\t});\\n\\t\\t\\t\\t\\t\\t\\tdataLayer.push({\\n\\t\\t\\t\\t\\t\\t\\t\\'event\\': \\'gaTriggerEvent\\',\\n\\t\\t\\t\\t\\t\\t\\t\\'gaEventCategory\\': \\'TagPageviews\\',\\n\\t\\t\\t\\t\\t\\t\\t\\'gaEventAction\\': \\'tipps\\',\\n\\t\\t\\t\\t\\t\\t\\t\\'gaEventLabel\\': \\'\\',\\n\\t\\t\\t\\t\\t\\t\\t\\'gaEventValue\\': 25\\t\\t\\t\\t\\t});\\n\\t\\t\\t\\t\\t\\t\\tdataLayer.push({\\n\\t\\t\\t\\t\\t\\t\\t\\'event\\': \\'gaTriggerEvent\\',\\n\\t\\t\\t\\t\\t\\t\\t\\'gaEventCategory\\': \\'TagPageviews\\',\\n\\t\\t\\t\\t\\t\\t\\t\\'gaEventAction\\': \\'entwicklung\\',\\n\\t\\t\\t\\t\\t\\t\\t\\'gaEventLabel\\': \\'\\',\\n\\t\\t\\t\\t\\t\\t\\t\\'gaEventValue\\': 25\\t\\t\\t\\t\\t});\\n\\t\\t\\t\\t\\t\\t\\tdataLayer.push({\\n\\t\\t\\t\\t\\t\\t\\t\\'event\\': \\'gaTriggerEvent\\',\\n\\t\\t\\t\\t\\t\\t\\t\\'gaEventCategory\\': \\'TagPageviews\\',\\n\\t\\t\\t\\t\\t\\t\\t\\'gaEventAction\\': \\'hardware\\',\\n\\t\\t\\t\\t\\t\\t\\t\\'gaEventLabel\\': \\'\\',\\n\\t\\t\\t\\t\\t\\t\\t\\'gaEventValue\\': 25\\t\\t\\t\\t\\t});\\n\\t\\t\\t</script>\\n</div>\\n\\t\\t\\t\\t<section class=\"stageIssues\">\\n\\t\\t<p class=\"R\">\\n  \\t\\t\\t<a href=\"http://t3n.de/magazin/ausgaben/\" class=\"button\">Alle Hefte</a>\\n  \\t\\t\\t<a href=\"https://t3n.de/store/order/t3nmagazinaboprint\" class=\"button button--red\">Jetzt abonnieren \\xe2\\x80\\x93 f\\xc3\\xbcr nur 35 \\xe2\\x82\\xac</a>\\n\\t\\t</p>\\n\\t\\t<p class=\"stageIssues-headline\">Kennst Du schon unser t3n Magazin?</p>\\n\\n\\t\\t<ul class=\"teaerIssues cf\">\\n\\t\\t\\t\\t\\t\\t\\t<li class=\"cf\">\\n\\t\\t\\t\\t\\t<a href=\"http://t3n.de/magazin/t3n-nr-42-pimp-my-arbeit/\" class=\"tg-magazineissues-footer\">\\n\\t\\t\\t\\t\\t\\t<p><img src=\"http://t3n.sc/magazin/wp-content/uploads/covers/t3n_cover_42_web_small.jpg\" width=\"140\" height=\"197\" alt=\"t3n Nr. 42 - Pimp my Arbeit\" title=\"t3n Nr. 42 - Pimp my Arbeit\"></p>\\n\\t\\t\\t\\t\\t\\tt3n Nr. 42 - Pimp my Arbeit\\t\\t\\t\\t\\t</a>\\n\\t\\t\\t\\t</li>\\n\\t\\t\\t\\t\\t\\t\\t<li class=\"cf\">\\n\\t\\t\\t\\t\\t<a href=\"http://t3n.de/magazin/t3n-nr-41-bargeld-nervt/\" class=\"tg-magazineissues-footer\">\\n\\t\\t\\t\\t\\t\\t<p><img src=\"http://t3n.sc/magazin/wp-content/uploads/covers/t3n_cover_41_web_small.jpg\" width=\"140\" height=\"197\" alt=\"t3n Nr. 41 - Bargeld nervt\" title=\"t3n Nr. 41 - Bargeld nervt\"></p>\\n\\t\\t\\t\\t\\t\\tt3n Nr. 41 - Bargeld nervt\\t\\t\\t\\t\\t</a>\\n\\t\\t\\t\\t</li>\\n\\t\\t\\t\\t\\t\\t\\t<li class=\"cf\">\\n\\t\\t\\t\\t\\t<a href=\"http://t3n.de/magazin/t3n-nr-40-wachstum-mit-werten/\" class=\"tg-magazineissues-footer\">\\n\\t\\t\\t\\t\\t\\t<p><img src=\"http://t3n.sc/magazin/wp-content/uploads/covers/t3n_cover_40_web_small.jpg\" width=\"140\" height=\"197\" alt=\"t3n Nr. 40 - Wachstum mit Werten\" title=\"t3n Nr. 40 - Wachstum mit Werten\"></p>\\n\\t\\t\\t\\t\\t\\tt3n Nr. 40 - Wachstum mit Werten\\t\\t\\t\\t\\t</a>\\n\\t\\t\\t\\t</li>\\n\\t\\t\\t\\t\\t\\t\\t<li class=\"cf\">\\n\\t\\t\\t\\t\\t<a href=\"http://t3n.de/magazin/t3n-nr-39-neuen-chefs/\" class=\"tg-magazineissues-footer\">\\n\\t\\t\\t\\t\\t\\t<p><img src=\"http://t3n.sc/magazin/wp-content/uploads/covers/t3n_cover_39_web_small.jpg\" width=\"140\" height=\"197\" alt=\"t3n Nr. 39 - Die neuen Chefs\" title=\"t3n Nr. 39 - Die neuen Chefs\"></p>\\n\\t\\t\\t\\t\\t\\tt3n Nr. 39 - Die neuen Chefs\\t\\t\\t\\t\\t</a>\\n\\t\\t\\t\\t</li>\\n\\t\\t\\t\\t\\t\\t\\t<li class=\"cf last\">\\n\\t\\t\\t\\t\\t<a href=\"http://t3n.de/magazin/t3n-nr-38-jetzt-bloss-nicht-durchdrehen/\" class=\"tg-magazineissues-footer\">\\n\\t\\t\\t\\t\\t\\t<p><img src=\"http://t3n.sc/magazin/wp-content/uploads/covers/t3n_cover_38_web_small.jpg\" width=\"140\" height=\"197\" alt=\"t3n Nr. 38 - Jetzt blo\\xc3\\x9f nicht durchdrehen\" title=\"t3n Nr. 38 - Jetzt blo\\xc3\\x9f nicht durchdrehen\"></p>\\n\\t\\t\\t\\t\\t\\tt3n Nr. 38 - Jetzt blo\\xc3\\x9f nicht durchdrehen\\t\\t\\t\\t\\t</a>\\n\\t\\t\\t\\t</li>\\n\\t\\t\\t\\t\\t</ul>\\n\\t</section>\\n\\n\\t\\t\\t<div id=\"foot\">\\n\\t\\t\\t\\t<div id=\"footInner\" class=\"cf\">\\n\\t\\t\\t\\t\\t<ul class=\"footTopics\">\\n\\t\\t\\t\\t\\t\\t<li><a href=\"/tag\">Themen:</a></li>\\n\\t\\t\\t\\t\\t\\t<li><a href=\"/tag/a\">A</a></li>\\n\\t\\t\\t\\t\\t\\t<li><a href=\"/tag/b\">B</a></li>\\n\\t\\t\\t\\t\\t\\t<li><a href=\"/tag/c\">C</a></li>\\n\\t\\t\\t\\t\\t\\t<li><a href=\"/tag/d\">D</a></li>\\n\\t\\t\\t\\t\\t\\t<li><a href=\"/tag/e\">E</a></li>\\n\\t\\t\\t\\t\\t\\t<li><a href=\"/tag/f\">F</a></li>\\n\\t\\t\\t\\t\\t\\t<li><a href=\"/tag/g\">G</a></li>\\n\\t\\t\\t\\t\\t\\t<li><a href=\"/tag/h\">H</a></li>\\n\\t\\t\\t\\t\\t\\t<li><a href=\"/tag/i\">I</a></li>\\n\\t\\t\\t\\t\\t\\t<li><a href=\"/tag/j\">J</a></li>\\n\\t\\t\\t\\t\\t\\t<li><a href=\"/tag/k\">K</a></li>\\n\\t\\t\\t\\t\\t\\t<li><a href=\"/tag/l\">L</a></li>\\n\\t\\t\\t\\t\\t\\t<li><a href=\"/tag/m\">M</a></li>\\n\\t\\t\\t\\t\\t\\t<li><a href=\"/tag/n\">N</a></li>\\n\\t\\t\\t\\t\\t\\t<li><a href=\"/tag/o\">O</a></li>\\n\\t\\t\\t\\t\\t\\t<li><a href=\"/tag/p\">P</a></li>\\n\\t\\t\\t\\t\\t\\t<li><a href=\"/tag/q\">Q</a></li>\\n\\t\\t\\t\\t\\t\\t<li><a href=\"/tag/r\">R</a></li>\\n\\t\\t\\t\\t\\t\\t<li><a href=\"/tag/s\">S</a></li>\\n\\t\\t\\t\\t\\t\\t<li><a href=\"/tag/t\">T</a></li>\\n\\t\\t\\t\\t\\t\\t<li><a href=\"/tag/u\">U</a></li>\\n\\t\\t\\t\\t\\t\\t<li><a href=\"/tag/v\">V</a></li>\\n\\t\\t\\t\\t\\t\\t<li><a href=\"/tag/w\">W</a></li>\\n\\t\\t\\t\\t\\t\\t<li><a href=\"/tag/x\">X</a></li>\\n\\t\\t\\t\\t\\t\\t<li><a href=\"/tag/y\">Y</a></li>\\n\\t\\t\\t\\t\\t\\t<li><a href=\"/tag/z\">Z</a></li>\\n\\t\\t\\t\\t\\t\\t<li><a href=\"/tag/0-9\">#</a></li>\\n\\t\\t\\t\\t\\t</ul>\\n\\t\\t\\t\\t\\t<div id=\"footCol1\">\\n\\t\\t\\t\\t\\t\\t<form action=\"http://t3n.us1.list-manage.com/subscribe/post?u=367517f69d61ffa782ba141be&amp;id=faba600569\" method=\"post\" target=\"_blank\" class=\"tg-newslettersubmit-footer\">\\n\\t\\t\\t\\t\\t\\t\\t<div class=\"foot-headline\">t3n-Newsletter</div>\\n\\t\\t\\t\\t\\t\\t\\t<p>\\n\\t\\t\\t\\t\\t\\t\\t\\t<strong>Top-Themen der Woche auf einen Blick!</strong>\\n\\t\\t\\t\\t\\t\\t\\t\\t<br/>\\n\\t\\t\\t\\t\\t\\t\\t\\tKostenfreier Branchen-Newsletter, redaktionell \\xc3\\xbcberarbeitet, 2x w\\xc3\\xb6chentlich direkt per E-Mail.\\n\\t\\t\\t\\t\\t\\t\\t</p>\\n\\t\\t\\t\\t\\t\\t\\t<p>\\n\\t\\t\\t\\t\\t\\t\\t\\t<input type=\"email\" name=\"EMAIL\" placeholder=\"E-Mail-Adresse\" required>\\n\\t\\t\\t\\t\\t\\t\\t\\t<button type=\"submit\" class=\"button\">eintragen</button>\\n\\t\\t\\t\\t\\t\\t\\t</p>\\n\\t\\t\\t\\t\\t\\t</form>\\n\\n\\t\\t\\t\\t\\t\\t<div class=\"award\">\\n                            <p class=\"award-images\">\\n                                <a href=\"http://www.agof.de/\" id=\"footAgof\" rel=\"nofollow\" target=\"_blank\">AGOF</a>\\n                                <a href=\"http://www.ivw.de/\" id=\"footIvw\" rel=\"nofollow\" target=\"_blank\">IVW</a>\\n                            </p>\\n\\t\\t\\t\\t\\t\\t\\t<p>AGOF- und IVW-gepr\\xc3\\xbcft</p>\\n\\t\\t\\t\\t\\t\\t</div>\\n\\t\\t\\t\\t\\t\\t<div class=\"award\">\\n\\t\\t\\t\\t\\t\\t<p class=\"award-images\">\\n\\t\\t\\t\\t\\t\\t\\t<a href=\"http://www.kununu.com/de/ni/hannover/in/yeebase-media-solutions/a/Tk1uVVh9\" rel=\"nofollow\" target=\"_blank\"><img class=\"grayscale\" src=\"//t3n.sc/core/images/kununu-top-company.png\" alt=\"kununu Top Company\" width=\"65\"></a>\\n\\t\\t\\t\\t\\t\\t\\t<a href=\"http://www.kununu.com/de/ni/hannover/in/yeebase-media-solutions/a/Tk1uVVh9\" rel=\"nofollow\" target=\"_blank\"><img class=\"grayscale\" src=\"//t3n.sc/core/images/kununu-open-company.png\" alt=\"kununu Open Company\" width=\"65\"></a>\\n                        </p>\\n\\t\\t\\t\\t\\t\\t\\t<p>Ausgezeichnet von kununu</p>\\n\\t\\t\\t\\t\\t\\t</div>\\n\\n\\t\\t\\t\\t\\t</div>\\n\\n\\t\\t\\t\\t\\t<div id=\"footCol2\">\\n\\t\\t\\t\\t\\t\\t<div class=\"foot-headline\">yeebase media</div>\\n\\t\\t\\t\\t\\t\\t<ul>\\n\\t\\t\\t\\t\\t\\t\\t<li><a href=\"http://yeebase.com/\">Unternehmen &amp; Blog</a></li>\\n\\t\\t\\t\\t\\t\\t\\t<li><a href=\"http://yeebase.com/team\">Das Team</a></li>\\n\\t\\t\\t\\t\\t\\t\\t<li><a href=\"https://t3n.de/store/mediadaten\">Werben mit yeebase media</a></li>\\n\\t\\t\\t\\t\\t\\t\\t<li><a href=\"http://yeebase.com/jobs/\">Jobs bei yeebase</a></li>\\n\\t\\t\\t\\t\\t\\t\\t<li><a href=\"/news/t3nsitemap/\">Sitemap</a></li>\\n\\t\\t\\t\\t\\t\\t</ul>\\n\\t\\t\\t\\t\\t\\t<ul>\\n\\t\\t\\t\\t\\t\\t\\t<li><a href=\"https://t3n.de/store/page/impressum\">Impressum</a></li>\\n\\t\\t\\t\\t\\t\\t\\t<li><a href=\"https://t3n.de/store/page/nutzungsbedingungen\">Nutzungsbedingungen</a></li>\\n\\t\\t\\t\\t\\t\\t\\t<li><a href=\"https://t3n.de/store/page/agb\">AGB</a></li>\\n\\t\\t\\t\\t\\t\\t\\t<li><a href=\"https://t3n.de/store/page/datenschutz\">Datenschutz</a></li>\\n\\t\\t\\t\\t\\t\\t</ul>\\n\\t\\t\\t\\t\\t</div>\\n\\n\\t\\t\\t\\t\\t<div id=\"footCol3\">\\n\\t\\t\\t\\t\\t\\t<div class=\"foot-headline\">t3n-Portale</div>\\n\\t\\t\\t\\t\\t\\t<ul>\\n\\t\\t\\t\\t\\t\\t\\t<li><a href=\"/\">Startseite</a></li>\\n\\t\\t\\t\\t\\t\\t\\t<li><a href=\"/news/\">Newsticker</a></li>\\n\\t\\t\\t\\t\\t\\t\\t<li><a href=\"/magazin/\">Heftartikel</a></li>\\n\\t\\t\\t\\t\\t\\t\\t<li><a href=\"/fragen/\">Fragen-Portal</a></li>\\n\\t\\t\\t\\t\\t\\t\\t<li><a href=\"/marktplatz/\">Marktplatz</a></li>\\n\\t\\t\\t\\t\\t\\t\\t<li><a href=\"/jobs/\">Jobb\\xc3\\xb6rse</a></li>\\n\\t\\t\\t\\t\\t\\t\\t<li><a href=\"https://t3n.de/store/\">Shop</a></li>\\n\\t\\t\\t\\t\\t\\t\\t<li><a href=\"/archive/\">Newsarchiv</a></li>\\n\\t\\t\\t\\t\\t\\t</ul>\\n\\t\\t\\t\\t\\t</div>\\n\\n\\t\\t\\t\\t\\t<div id=\"footCol4\">\\n\\t\\t\\t\\t\\t\\t<div class=\"foot-headline\">RSS-Feeds</div>\\n\\t\\t\\t\\t\\t\\t<ul>\\n\\t\\t\\t\\t\\t\\t\\t<li><a href=\"/news/feed/\">Aktuelle News</a></li>\\n\\t\\t\\t\\t\\t\\t\\t<li><a href=\"/magazin/feed/\">Die neuesten Artikel</a></li>\\n\\t\\t\\t\\t\\t\\t\\t<li><a href=\"/fragen/latest.atom\">Die neuesten Fragen</a></li>\\n\\t\\t\\t\\t\\t\\t\\t<li><a href=\"/marktplatz/rss/all/\">Die neuesten Marktplatzeintr\\xc3\\xa4ge</a></li>\\n\\t\\t\\t\\t\\t\\t\\t<li><a href=\"/jobs/rss/all/\">Aktuelle Jobangebote</a></li>\\n\\t\\t\\t\\t\\t\\t\\t<li><a href=\"/news/feeds/\">weitere Feeds &#187;</a></li>\\n\\t\\t\\t\\t\\t\\t</ul>\\n\\t\\t\\t\\t\\t</div>\\n\\n\\t\\t\\t\\t\\t<div id=\"footCol5\">\\n\\t\\t\\t\\t\\t\\t<div class=\"foot-headline\">Kontakt</div>\\n\\t\\t\\t\\t\\t\\t<ul>\\n\\t\\t\\t\\t\\t\\t\\t<li><a href=\"https://plus.google.com/101559871572415719072\" rel=\"nofollow\">Google+</a></li>\\n\\t\\t\\t\\t\\t\\t\\t<li><a href=\"http://twitter.com/t3n\" rel=\"nofollow\">Twitter</a></li>\\n\\t\\t\\t\\t\\t\\t\\t<li><a href=\"https://www.facebook.com/t3nMagazin\" rel=\"nofollow\">Facebook</a></li>\\n\\t\\t\\t\\t\\t\\t\\t<li><a href=\"mailto:support@yeebase.com\">E-Mail</a></li>\\n\\t\\t\\t\\t\\t\\t\\t<li><a href=\"http://t3n.de/news/presseinformationen-656222/\">Pressebereich</a></li>\\n\\t\\t\\t\\t\\t\\t</ul>\\n\\n\\t\\t\\t\\t\\t\\t<div itemscope itemtype=\"http://schema.org/Organization\">\\n\\t\\t\\t\\t\\t\\t\\t<a href=\"http://t3n.de\" itemprop=\"url\"><img src=\"//t3n.sc/core/images/t3n-logo-180.png\" width=\"80\" height=\"80\" alt=\"t3n Magazin\" itemprop=\"logo\"></a>\\n\\t\\t\\t\\t\\t\\t\\t<meta itemprop=\"name\" content=\"t3n Magazin\">\\n\\t\\t\\t\\t\\t\\t</div>\\n\\t\\t\\t\\t\\t</div>\\n\\n\\t\\t\\t\\t\\t<div class=\"footSearch\">\\n\\t\\t\\t\\t\\t\\t<form action=\"http://t3n.de/search\" method=\"get\">\\n\\t\\t\\t\\t\\t\\t\\t<div class=\"cf\">\\n\\t\\t\\t\\t\\t\\t\\t\\t<label class=\"hidden\" for=\"sfoot\">Suche nach:</label>\\n\\t\\t\\t\\t\\t\\t\\t\\t<input type=\"text\" name=\"q\" id=\"sfoot\" value=\"\" placeholder=\"Jetzt t3n.de durchsuchen\">\\n\\t\\t\\t\\t\\t\\t\\t\\t<button type=\"submit\"><i class=\"fa fa-search icon-search\"></i> <span>Suchen</span></button>\\n\\t\\t\\t\\t\\t\\t\\t</div>\\n\\t\\t\\t\\t\\t\\t</form>\\n\\t\\t\\t\\t\\t</div>\\n\\n\\t\\t\\t\\t\\t<div class=\"clear\">\\n\\t\\t\\t\\t\\t\\t<p id=\"footMeta\">\\n\\t\\t\\t\\t\\t\\t\\t<a href=\"/\" id=\"switchToMobile\"><strong>Mobile Seite</strong></a> &nbsp;\\xe2\\x80\\xa2&nbsp; &#169; <a href=\"http://yeebase.com\">yeebase media GmbH</a> 2005 - 2015 &nbsp;\\xe2\\x80\\xa2&nbsp; hosted by <a href=\"http://www.unbelievable-machine.com/\" rel=\"nofollow\" target=\"_blank\">unbelievable machine</a>\\n\\t\\t\\t\\t\\t\\t</p>\\n\\t\\t\\t\\t\\t</div>\\n\\t\\t\\t\\t</div>\\n\\t\\t\\t</div>\\n\\n\\t\\t\\t\\t\\t\\t\\t\\t<div id=\"SkyWrapper\">\\n\\t\\t\\t\\t\\t\\t<div id=\"Ads_BA_SKY\" class=\"adbSky\"><script type=\"text/javascript\">Ads_BA_AD(\\'SKY\\');</script></div>\\n\\t\\t\\t\\t\\t</div>\\n\\t\\t\\t\\t</div> <!--Ads_BA_TakeOver-->\\n\\t\\t\\t\\t\\t</div>\\n\\t\\t</div>\\n\\n\\n\\t\\t\\t\\n\\t\\t\\t<script type=\"text/javascript\" src=\"//t3n.sc/core/compressed/desktop.js?v=fab8bdaa\"></script>\\n\\t\\n\\t<script type=\\'text/javascript\\' async src=\\'https://s3.amazonaws.com/newsify/static/narando.player.min.js\\'></script>\\n\\t<div class=\"hide\">\\n\\t\\t\\t</div>\\n\\n<script type=\"text/javascript\">\\nvar npc = npc || [];\\nnpc.push([\\'_customerId\\', \\'9e3e14fdddccfeb4690b\\']);\\n(function() { if (\\'https:\\' != document.location.protocol) { var nc = document.createElement(\\'script\\'); nc.type = \\'text/javascript\\'; nc.async = true; nc.src = \\'http://t.neodatagroup.com/npc.js\\'; var s = document.getElementsByTagName(\\'script\\')[0]; s.parentNode.insertBefore(nc, s); } })();\\n</script>\\n\\n<script src=\"//my.hellobar.com/bcf25daa185f1ff193f7bbc0934bc739248f9669.js\" type=\"text/javascript\" async=\"async\"></script>\\n\\n\\n<!--Plugin WP Missed Schedule 2013.0730.7777 Active - Tag d76ca983e4e0b1146b8511f40cd66015-->\\n\\n<script type=\\'text/javascript\\' src=\\'http://t3n.de/news/wp-includes/js/comment-reply.min.js?ver=4.2.4\\'></script>\\n</body>\\n</html>'"
      ]
     },
     "execution_count": 43,
     "metadata": {},
     "output_type": "execute_result"
    }
   ],
   "source": [
    "a.content"
   ]
  },
  {
   "cell_type": "code",
   "execution_count": 2,
   "metadata": {
    "collapsed": false
   },
   "outputs": [],
   "source": [
    "t = \"\"\"New Video!!\n",
    "\n",
    "Go Watch the New Video of @taylorcaniff\n",
    "\n",
    "Ice cube challenge\n",
    "https://t.co/9fmNgjgatl\n",
    "\n",
    "Don't forget the  &amp; subs\"\"\""
   ]
  },
  {
   "cell_type": "code",
   "execution_count": 4,
   "metadata": {
    "collapsed": false
   },
   "outputs": [
    {
     "data": {
      "text/plain": [
       "\"New Video!!  Go Watch the New Video of @taylorcaniff  Ice cube challenge https://t.co/9fmNgjgatl  Don't forget the  &amp; subs\""
      ]
     },
     "execution_count": 4,
     "metadata": {},
     "output_type": "execute_result"
    }
   ],
   "source": [
    "t.replace('\\n', ' ')"
   ]
  },
  {
   "cell_type": "code",
   "execution_count": null,
   "metadata": {
    "collapsed": true
   },
   "outputs": [],
   "source": []
  }
 ],
 "metadata": {
  "kernelspec": {
   "display_name": "Python 2",
   "language": "python",
   "name": "python2"
  },
  "language_info": {
   "codemirror_mode": {
    "name": "ipython",
    "version": 2
   },
   "file_extension": ".py",
   "mimetype": "text/x-python",
   "name": "python",
   "nbconvert_exporter": "python",
   "pygments_lexer": "ipython2",
   "version": "2.7.9"
  }
 },
 "nbformat": 4,
 "nbformat_minor": 0
}
