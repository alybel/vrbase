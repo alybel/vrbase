{
 "cells": [
  {
   "cell_type": "code",
   "execution_count": 12,
   "metadata": {
    "collapsed": false
   },
   "outputs": [
    {
     "name": "stdout",
     "output_type": "stream",
     "text": [
      "The autoreload extension is already loaded. To reload it, use:\n",
      "  %reload_ext autoreload\n"
     ]
    }
   ],
   "source": [
    "%load_ext autoreload\n",
    "%autoreload 2"
   ]
  },
  {
   "cell_type": "code",
   "execution_count": 14,
   "metadata": {
    "collapsed": false
   },
   "outputs": [
    {
     "name": "stdout",
     "output_type": "stream",
     "text": [
      "20\n",
      "loaded config from database\n",
      "{'alipay': 7, 'samsungpay': 7, 'ecommerce': 7, 'randomforest': 12, 'analytics': 7, 'businessanalytics': 12, 'churn': 7, 'technology': 5, 'predictiveanalytics': 12, 'datascientist': 12, 'visualization': 7, 'applepay': 7, 'fintech': 7, 'machinelearning': 12, 'saas': 12, 'dataanalytics': 12, 'creditcard': 7, 'onlinepayment': 12, 'innovation': 5, 'artificialintelligence': 12, 'datamining': 7, 'python': 5, 'scikit': 12, 'leadership': 7, 'bayes': 12, 'neuralnetwork': 12, 'prescriptiveanalytics': 12, 'deeplearning': 12, 'datascience': 12}\n",
      "{'shop': 7, 'cheap': 12, 'francisco': 12, 'sas': 12, 'sap': 12, 'guarantee': 12, 'hiriing': 12, 'big data': 12, 'only': 12, 'music': 12, 'local': 12, 'buy': 12, 'jobs': 12, 'adverstising': 7, 'offer': 12, 'marketing': 12, 'price': 7, 'free': 12, 'discount': 12, 'job': 12, 'birthday': 12, 'opportunity': 12, 'rapidminer': 12, 'hire': 12, 'knime': 12, 'off': 12, 'ibm': 12, 'ebay': 12, 'oracle': 12, 'spss': 12}\n"
     ]
    },
    {
     "data": {
      "text/plain": [
       "'2.3.0'"
      ]
     },
     "execution_count": 14,
     "metadata": {},
     "output_type": "execute_result"
    }
   ],
   "source": [
    "account = \"AlexanderD_Beck\"\n",
    "import sys\n",
    "sys.path.append(\"bluebird/\")\n",
    "import bblib as bbl\n",
    "import bbanalytics as bba\n",
    "\n",
    "import load_config\n",
    "\n",
    "cfg = load_config.load_config(account)\n",
    "\n",
    "\n",
    "\n",
    "bbl.set_cfg(cfg)\n",
    "bba.set_cfg(cfg)\n",
    "bba.initialize()\n",
    "bbl.tweepy.__version__\n",
    "#TextBuilder = bbl.BuildText(preambles=cfg.preambles, hashtags=cfg.hashtags)"
   ]
  },
  {
   "cell_type": "markdown",
   "metadata": {},
   "source": [
    "##Check Score of Tweets"
   ]
  },
  {
   "cell_type": "code",
   "execution_count": 10,
   "metadata": {
    "collapsed": true
   },
   "outputs": [],
   "source": [
    "t = 'Tree-based #MachineLearning Pipeline Optimization Python Tool: https://t.co/XWATXSX8XB #BigData #DataScience https://t.co/PPYLF'"
   ]
  },
  {
   "cell_type": "code",
   "execution_count": 11,
   "metadata": {
    "collapsed": false
   },
   "outputs": [
    {
     "name": "stdout",
     "output_type": "stream",
     "text": [
      "29\n",
      "Tree-based #MachineLearning Pipeline Optimization Python Tool: https://t.co/XWATXSX8XB #BigData #DataScience https://t.co/PPYLF\n",
      "['treebased', 'machinelearning', 'pipeline', 'optimization', 'python', 'tool:', 'https://t', 'co/xwatxsx8xb', 'bigdata', 'datascience', 'https://t', 'co/ppylf']\n"
     ]
    },
    {
     "data": {
      "text/plain": [
       "29"
      ]
     },
     "execution_count": 11,
     "metadata": {},
     "output_type": "execute_result"
    }
   ],
   "source": [
    "bba.score_tweets(t = t, verbose = True)"
   ]
  },
  {
   "cell_type": "code",
   "execution_count": 64,
   "metadata": {
    "collapsed": false
   },
   "outputs": [
    {
     "data": {
      "text/plain": [
       "(None, 0)"
      ]
     },
     "execution_count": 64,
     "metadata": {},
     "output_type": "execute_result"
    }
   ],
   "source": [
    "TextBuilder.build_text(url = 'http://shmental.com/finance-minister-arun-jaitley-calls-for-prudent-expenditure-management/')"
   ]
  },
  {
   "cell_type": "code",
   "execution_count": 7,
   "metadata": {
    "collapsed": false
   },
   "outputs": [],
   "source": [
    "auth, api = bblib.connect_app_to_twitter()"
   ]
  },
  {
   "cell_type": "code",
   "execution_count": 8,
   "metadata": {
    "collapsed": false
   },
   "outputs": [],
   "source": [
    "tl = api.user_timeline(screen_name = account, count = 200)"
   ]
  },
  {
   "cell_type": "code",
   "execution_count": 11,
   "metadata": {
    "collapsed": true
   },
   "outputs": [],
   "source": [
    "import json"
   ]
  },
  {
   "cell_type": "code",
   "execution_count": 27,
   "metadata": {
    "collapsed": false
   },
   "outputs": [
    {
     "data": {
      "text/plain": [
       "3600"
      ]
     },
     "execution_count": 27,
     "metadata": {},
     "output_type": "execute_result"
    }
   ],
   "source": [
    "User = bblib.get_info_from_account_id(api, 'valureach')\n",
    "User.followers_count"
   ]
  },
  {
   "cell_type": "code",
   "execution_count": 18,
   "metadata": {
    "collapsed": false
   },
   "outputs": [
    {
     "data": {
      "text/plain": [
       "561471163785023489"
      ]
     },
     "execution_count": 18,
     "metadata": {},
     "output_type": "execute_result"
    }
   ],
   "source": [
    "tl[-1].id"
   ]
  },
  {
   "cell_type": "code",
   "execution_count": 19,
   "metadata": {
    "collapsed": false
   },
   "outputs": [],
   "source": [
    "tl2 = api.user_timeline(screen_name = account, count = 200, max_id =561471163785023489 )"
   ]
  },
  {
   "cell_type": "code",
   "execution_count": 20,
   "metadata": {
    "collapsed": false
   },
   "outputs": [
    {
     "data": {
      "text/plain": [
       "59"
      ]
     },
     "execution_count": 20,
     "metadata": {},
     "output_type": "execute_result"
    }
   ],
   "source": [
    "len(tl2)"
   ]
  },
  {
   "cell_type": "code",
   "execution_count": 29,
   "metadata": {
    "collapsed": false
   },
   "outputs": [
    {
     "data": {
      "text/plain": [
       "[<tweepy.models.Status at 0x104d312d0>]"
      ]
     },
     "execution_count": 29,
     "metadata": {},
     "output_type": "execute_result"
    }
   ],
   "source": [
    "api.retweets_of_me()"
   ]
  },
  {
   "cell_type": "code",
   "execution_count": 25,
   "metadata": {
    "collapsed": false
   },
   "outputs": [
    {
     "data": {
      "text/plain": [
       "1"
      ]
     },
     "execution_count": 25,
     "metadata": {},
     "output_type": "execute_result"
    }
   ],
   "source": [
    "len(q)"
   ]
  },
  {
   "cell_type": "code",
   "execution_count": 31,
   "metadata": {
    "collapsed": false
   },
   "outputs": [],
   "source": []
  },
  {
   "cell_type": "code",
   "execution_count": 32,
   "metadata": {
    "collapsed": false
   },
   "outputs": [
    {
     "data": {
      "text/plain": [
       "'2.1'"
      ]
     },
     "execution_count": 32,
     "metadata": {},
     "output_type": "execute_result"
    }
   ],
   "source": []
  },
  {
   "cell_type": "code",
   "execution_count": 36,
   "metadata": {
    "collapsed": false
   },
   "outputs": [],
   "source": [
    "me = api.me()"
   ]
  },
  {
   "cell_type": "code",
   "execution_count": 37,
   "metadata": {
    "collapsed": false
   },
   "outputs": [
    {
     "data": {
      "text/plain": [
       "318"
      ]
     },
     "execution_count": 37,
     "metadata": {},
     "output_type": "execute_result"
    }
   ],
   "source": [
    "me.statuses_count"
   ]
  },
  {
   "cell_type": "markdown",
   "metadata": {
    "collapsed": false
   },
   "source": [
    "### Debug Build Tweet"
   ]
  },
  {
   "cell_type": "code",
   "execution_count": 15,
   "metadata": {
    "collapsed": true
   },
   "outputs": [],
   "source": [
    "url = \"https://t.co/guY49zxC8x\""
   ]
  },
  {
   "cell_type": "code",
   "execution_count": 16,
   "metadata": {
    "collapsed": false
   },
   "outputs": [],
   "source": [
    "BT = bbl.BuildText([], [])"
   ]
  },
  {
   "cell_type": "code",
   "execution_count": 14,
   "metadata": {
    "collapsed": false
   },
   "outputs": [],
   "source": [
    "html = BT.get_ws_html(url)"
   ]
  },
  {
   "cell_type": "code",
   "execution_count": 17,
   "metadata": {
    "collapsed": false
   },
   "outputs": [
    {
     "name": "stderr",
     "output_type": "stream",
     "text": [
      "ERROR:logger:in get_title_from_website, lxml.html fails\n"
     ]
    }
   ],
   "source": [
    "text, score = BT.build_text(url, debug=True)"
   ]
  },
  {
   "cell_type": "code",
   "execution_count": 30,
   "metadata": {
    "collapsed": false
   },
   "outputs": [
    {
     "data": {
      "text/plain": [
       "(None, 0)"
      ]
     },
     "execution_count": 30,
     "metadata": {},
     "output_type": "execute_result"
    }
   ],
   "source": [
    "text, score"
   ]
  },
  {
   "cell_type": "code",
   "execution_count": 42,
   "metadata": {
    "collapsed": false
   },
   "outputs": [],
   "source": [
    "import pickle"
   ]
  },
  {
   "cell_type": "code",
   "execution_count": 44,
   "metadata": {
    "collapsed": false
   },
   "outputs": [],
   "source": [
    "with open('pickle.sav', 'w') as f: \n",
    "    pickle.dump(html, f)"
   ]
  },
  {
   "cell_type": "code",
   "execution_count": 9,
   "metadata": {
    "collapsed": false
   },
   "outputs": [],
   "source": [
    "from bs4 import UnicodeDammit"
   ]
  },
  {
   "cell_type": "code",
   "execution_count": null,
   "metadata": {
    "collapsed": true
   },
   "outputs": [],
   "source": [
    "UnicodeDammit."
   ]
  },
  {
   "cell_type": "code",
   "execution_count": 4,
   "metadata": {
    "collapsed": false
   },
   "outputs": [
    {
     "data": {
      "text/plain": [
       "(None, 0)"
      ]
     },
     "execution_count": 4,
     "metadata": {},
     "output_type": "execute_result"
    }
   ],
   "source": [
    "BT.build_text(url)"
   ]
  },
  {
   "cell_type": "code",
   "execution_count": 19,
   "metadata": {
    "collapsed": false
   },
   "outputs": [
    {
     "data": {
      "text/plain": [
       "<lxml.etree._ElementTree at 0x1080d1320>"
      ]
     },
     "execution_count": 19,
     "metadata": {},
     "output_type": "execute_result"
    }
   ],
   "source": [
    "ws"
   ]
  },
  {
   "cell_type": "code",
   "execution_count": 20,
   "metadata": {
    "collapsed": false
   },
   "outputs": [
    {
     "name": "stdout",
     "output_type": "stream",
     "text": [
      "<lxml.etree._ElementTree object at 0x1080d1320>\n"
     ]
    }
   ],
   "source": [
    "print ws"
   ]
  },
  {
   "cell_type": "code",
   "execution_count": 22,
   "metadata": {
    "collapsed": true
   },
   "outputs": [],
   "source": [
    "from lxml import etree"
   ]
  },
  {
   "cell_type": "code",
   "execution_count": null,
   "metadata": {
    "collapsed": false
   },
   "outputs": [],
   "source": [
    "result = etree.tostring(ws.getroot(), pretty_print=False, method=\"html\")\n",
    "print(result)"
   ]
  },
  {
   "cell_type": "code",
   "execution_count": 2,
   "metadata": {
    "collapsed": false
   },
   "outputs": [],
   "source": [
    "import nltk\n",
    "from nltk import bigrams\n",
    "from nltk.util import ngrams\n"
   ]
  },
  {
   "cell_type": "code",
   "execution_count": 3,
   "metadata": {
    "collapsed": false
   },
   "outputs": [
    {
     "name": "stdout",
     "output_type": "stream",
     "text": [
      "<generator object bigrams at 0x11190b4b0>\n"
     ]
    }
   ],
   "source": [
    "string = \"I really like python, it's pretty awesome.\"\n",
    "string_bigrams = bigrams(string)\n",
    "print string_bigrams"
   ]
  },
  {
   "cell_type": "code",
   "execution_count": 4,
   "metadata": {
    "collapsed": true
   },
   "outputs": [],
   "source": [
    "token = nltk.word_tokenize(string)\n",
    "sb = ngrams(token,2)"
   ]
  },
  {
   "cell_type": "code",
   "execution_count": 5,
   "metadata": {
    "collapsed": false
   },
   "outputs": [
    {
     "name": "stdout",
     "output_type": "stream",
     "text": [
      "Ireally\n",
      "reallylike\n",
      "likepython\n",
      "python,\n",
      ",it\n",
      "it's\n",
      "'spretty\n",
      "prettyawesome\n",
      "awesome.\n"
     ]
    }
   ],
   "source": [
    "for w1, w2 in ngrams(token,2):\n",
    "        print w1+w2"
   ]
  },
  {
   "cell_type": "code",
   "execution_count": 9,
   "metadata": {
    "collapsed": false
   },
   "outputs": [
    {
     "data": {
      "text/plain": [
       "('I', 'really')"
      ]
     },
     "execution_count": 9,
     "metadata": {},
     "output_type": "execute_result"
    }
   ],
   "source": [
    "sb.next()"
   ]
  },
  {
   "cell_type": "code",
   "execution_count": 12,
   "metadata": {
    "collapsed": false
   },
   "outputs": [
    {
     "name": "stdout",
     "output_type": "stream",
     "text": [
      "<generator object ngrams at 0x10c4e5280>\n"
     ]
    }
   ],
   "source": [
    "print sb"
   ]
  },
  {
   "cell_type": "code",
   "execution_count": 1,
   "metadata": {
    "collapsed": true
   },
   "outputs": [],
   "source": [
    "import requests"
   ]
  },
  {
   "cell_type": "code",
   "execution_count": 8,
   "metadata": {
    "collapsed": false
   },
   "outputs": [],
   "source": [
    "r = requests.get('http://www.analyticbridge.com/profiles/blogs/why-analytics-needs-the-human-element', timeout = 1)"
   ]
  },
  {
   "cell_type": "code",
   "execution_count": 6,
   "metadata": {
    "collapsed": false
   },
   "outputs": [
    {
     "data": {
      "text/plain": [
       "u'<!DOCTYPE html>\\n<html lang=\"en\" xmlns:og=\"http://ogp.me/ns#\" xmlns:fb=\"http://www.facebook.com/2008/fbml\">\\n<head data-layout-view=\"default\" class=\"xj_layout_head\">    <meta http-equiv=\"Content-Type\" content=\"text/html; charset=utf-8\" />\\n    <title>Why Analytics Needs The Human Element - AnalyticBridge</title>\\n    <link rel=\"icon\" href=\"/favicon.ico\" type=\"image/x-icon\" />\\n    <link rel=\"SHORTCUT ICON\" href=\"/favicon.ico\" type=\"image/x-icon\" />\\n    <meta name=\"description\" content=\"Big data is now, more or less, an accepted fact of business, and all companies are collecting it to some degree. Collection is, however, the easy part. Analyzi\\u2026\" />\\n<meta name=\"title\" content=\"Why Analytics Needs The Human Element\" />\\n<meta property=\"og:type\" content=\"website\" />\\n<meta property=\"og:url\" content=\"http://www.analyticbridge.com/profiles/blogs/why-analytics-needs-the-human-element\" />\\n<meta property=\"og:title\" content=\"Why Analytics Needs The Human Element\" />\\n<link rel=\"image_src\" href=\"http://api.ning.com/icons/appatar/2004291?default=2004291&amp;width=64&amp;height=64\" />\\n<script type=\"text/javascript\">\\n    djConfig = { baseScriptUri: \\'http://www.analyticbridge.com/xn/static-6.11.8.1/js/dojo-0.3.1-ning/\\', isDebug: false }\\nning = {\"CurrentApp\":{\"premium\":true,\"iconUrl\":\"http:\\\\/\\\\/api.ning.com\\\\/icons\\\\/appatar\\\\/2004291?default=2004291&width=64&height=64\",\"url\":\"http:\\\\/\\\\/datashaping.ning.com\",\"domains\":[\"analyticbridge.com\"],\"online\":true,\"privateSource\":true,\"id\":\"datashaping\",\"appId\":\"2004291\",\"description\":\"Data Science Central Channel for Business Analytics, Data Intelligence, Predictive Modeling, Operations Research, Data Mining.\",\"name\":\"AnalyticBridge\",\"owner\":\"vi0zmqyuk8ci\",\"createdDate\":\"2008-02-16T00:47:51.275Z\",\"runOwnAds\":false,\"category\":{\"big data\":null,\"data science\":null,\"business analytics\":null,\"predictive modeling\":null,\"data visualization\":null,\"analytics\":null,\"data mining\":null,\"machine learning\":null},\"tags\":[\"big data\",\"data science\",\"business analytics\",\"predictive modeling\",\"data visualization\",\"analytics\",\"data mining\",\"machine learning\"]},\"CurrentProfile\":null,\"maxFileUploadSize\":7};\\n        (function(){\\n            if (!window.ning) { return; }\\n\\n            var age, gender, rand, obfuscated, combined;\\n\\n            obfuscated = document.cookie.match(/xgdi=([^;]+)/);\\n            if (obfuscated) {\\n                var offset = 100000;\\n                obfuscated = parseInt(obfuscated[1]);\\n                rand = obfuscated / offset;\\n                combined = (obfuscated % offset) ^ rand;\\n                age = combined % 1000;\\n                gender = (combined / 1000) & 3;\\n                gender = (gender == 1 ? \\'m\\' : gender == 2 ? \\'f\\' : 0);\\n                ning.viewer = {\"age\":age,\"gender\":gender};\\n            }\\n        })();\\n\\n        if (window.location.hash.indexOf(\\'#!/\\') == 0) {\\n        window.location.replace(window.location.hash.substr(2));\\n    }\\n    window.xg = window.xg || {};\\nxg.addOnRequire = function(f) { xg.addOnRequire.functions.push(f); };\\nxg.addOnRequire.functions = [];\\nxg.addOnFacebookLoad = function (f) { xg.addOnFacebookLoad.functions.push(f); };\\nxg.addOnFacebookLoad.functions = [];\\nxg._loader = {\\n    p: 0,\\n    loading: function(set) { this.p++; },\\n    onLoad: function(set) {\\n        this.p--;\\n        if (this.p == 0 && typeof(xg._loader.onDone) == \\'function\\') {\\n            xg._loader.onDone();\\n        }\\n    }\\n};\\nxg._loader.loading(\\'xnloader\\');\\nif (window.bzplcm) {\\n    window.bzplcm._profileCount = 0;\\n    window.bzplcm._profileSend = function() { if (window.bzplcm._profileCount++ == 1) window.bzplcm.send(); };\\n}\\nxg._loader.onDone = function() {\\n        if(window.bzplcm)window.bzplcm.start(\\'ni\\');\\n        xg.shared.util.parseWidgets();    var addOnRequireFunctions = xg.addOnRequire.functions;\\n    xg.addOnRequire = function(f) { f(); };\\n    try {\\n        if (addOnRequireFunctions) { dojo.lang.forEach(addOnRequireFunctions, function(onRequire) { onRequire.apply(); }); }\\n    } catch (e) {\\n        if(window.bzplcm)window.bzplcm.ts(\\'nx\\').send();\\n        throw e;\\n    }\\n    if(window.bzplcm) { window.bzplcm.stop(\\'ni\\'); window.bzplcm._profileSend(); }\\n};\\nwindow.xn = { track: { _globals: { screen_name: null, subdomain: \"datashaping\", is_owner: false, is_admin: false, is_member: false, join_date: 0, request_method: \"GET\", trace: \"d2edc642-0877-4994-858e-d4db591f01b6\"}, event: function() {}, pageView: function() {}, registerCompletedFlow: function() {}, registerError: function() {}, timer: function() { return { lapTime: function() {} }; }, _trackingHost: \"coll.ning.com\", _jsDebug: false } };</script>\\n<meta name=\"medium\" content=\"blog\" /><link rel=\"alternate\" type=\"application/atom+xml\" title=\"Sam Button&#039;s Posts - AnalyticBridge\" href=\"http://www.analyticbridge.com/profiles/blog/feed?user=1ks85i4wgushp&amp;xn_auth=no\" /><link rel=\"alternate\" type=\"application/atom+xml\" title=\"Comments - Why Analytics Needs The Human Element - AnalyticBridge\" href=\"http://www.analyticbridge.com/profiles/comment/feed?attachedTo=2004291%3ABlogPost%3A336968&amp;xn_auth=no\" /><link rel=\"alternate\" type=\"application/rss+xml\" title=\"On Hadoop - AnalyticBridge\" href=\"http://www.hadoop360.com/blog/list/featured\" />\\n<style type=\"text/css\" media=\"screen,projection\">\\n@import url(http://static.ning.com/socialnetworkmain/widgets/index/css/common-982.min.css?xn_version=2665753446);\\n@import url(http://static.ning.com/socialnetworkmain/widgets/profiles/css/component.min.css?xn_version=2871767745);\\n\\n</style>\\n\\n<style type=\"text/css\" media=\"screen,projection\">\\n@import url(http://api.ning.com:80/files/FbzLmqb7FY4BMNfZ-2i9Bc59tXS3cKMJGS*oAtPrhaQ-S0lO6x-Gmd346tpOhavN5LVxHR5bgus2XcIQnOgWzRRklLs-C6yN/1154092854.css?xn_version=201511092056);\\n\\n</style>\\n\\n<style type=\"text/css\" media=\"screen,projection\">\\n@import url(http://api.ning.com:80/files/HIUOh5bCM1g9P0gdeHWANmQlNbOxovdvIssgBbnM5X6lKfPuWxFTW4z7obuGAGe7hyx3Ukp55oJPT76X8xzqweXJEBDfFLrT/1154122501.css?xn_version=201511092056);\\n\\n</style>\\n\\n<!--[if IE 6]>\\n    <link rel=\"stylesheet\" type=\"text/css\" href=\"http://static.ning.com/socialnetworkmain/widgets/index/css/common-ie6.min.css?xn_version=1394342931\" />\\n<![endif]-->\\n<!--[if IE 7]>\\n<link rel=\"stylesheet\" type=\"text/css\" href=\"http://static.ning.com/socialnetworkmain/widgets/index/css/common-ie7.css?xn_version=2712659298\" />\\n<![endif]-->\\n<link rel=\"EditURI\" type=\"application/rsd+xml\" title=\"RSD\" href=\"http://www.analyticbridge.com/profiles/blog/rsd\" />\\n<script type=\"text/javascript\">(function(a,b){if(/(android|bb\\\\d+|meego).+mobile|avantgo|bada\\\\/|blackberry|blazer|compal|elaine|fennec|hiptop|iemobile|ip(hone|od)|iris|kindle|lge |maemo|midp|mmp|netfront|opera m(ob|in)i|palm( os)?|phone|p(ixi|re)\\\\/|plucker|pocket|psp|series(4|6)0|symbian|treo|up\\\\.(browser|link)|vodafone|wap|windows (ce|phone)|xda|xiino/i.test(a)||/1207|6310|6590|3gso|4thp|50[1-6]i|770s|802s|a wa|abac|ac(er|oo|s\\\\-)|ai(ko|rn)|al(av|ca|co)|amoi|an(ex|ny|yw)|aptu|ar(ch|go)|as(te|us)|attw|au(di|\\\\-m|r |s )|avan|be(ck|ll|nq)|bi(lb|rd)|bl(ac|az)|br(e|v)w|bumb|bw\\\\-(n|u)|c55\\\\/|capi|ccwa|cdm\\\\-|cell|chtm|cldc|cmd\\\\-|co(mp|nd)|craw|da(it|ll|ng)|dbte|dc\\\\-s|devi|dica|dmob|do(c|p)o|ds(12|\\\\-d)|el(49|ai)|em(l2|ul)|er(ic|k0)|esl8|ez([4-7]0|os|wa|ze)|fetc|fly(\\\\-|_)|g1 u|g560|gene|gf\\\\-5|g\\\\-mo|go(\\\\.w|od)|gr(ad|un)|haie|hcit|hd\\\\-(m|p|t)|hei\\\\-|hi(pt|ta)|hp( i|ip)|hs\\\\-c|ht(c(\\\\-| |_|a|g|p|s|t)|tp)|hu(aw|tc)|i\\\\-(20|go|ma)|i230|iac( |\\\\-|\\\\/)|ibro|idea|ig01|ikom|im1k|inno|ipaq|iris|ja(t|v)a|jbro|jemu|jigs|kddi|keji|kgt( |\\\\/)|klon|kpt |kwc\\\\-|kyo(c|k)|le(no|xi)|lg( g|\\\\/(k|l|u)|50|54|\\\\-[a-w])|libw|lynx|m1\\\\-w|m3ga|m50\\\\/|ma(te|ui|xo)|mc(01|21|ca)|m\\\\-cr|me(rc|ri)|mi(o8|oa|ts)|mmef|mo(01|02|bi|de|do|t(\\\\-| |o|v)|zz)|mt(50|p1|v )|mwbp|mywa|n10[0-2]|n20[2-3]|n30(0|2)|n50(0|2|5)|n7(0(0|1)|10)|ne((c|m)\\\\-|on|tf|wf|wg|wt)|nok(6|i)|nzph|o2im|op(ti|wv)|oran|owg1|p800|pan(a|d|t)|pdxg|pg(13|\\\\-([1-8]|c))|phil|pire|pl(ay|uc)|pn\\\\-2|po(ck|rt|se)|prox|psio|pt\\\\-g|qa\\\\-a|qc(07|12|21|32|60|\\\\-[2-7]|i\\\\-)|qtek|r380|r600|raks|rim9|ro(ve|zo)|s55\\\\/|sa(ge|ma|mm|ms|ny|va)|sc(01|h\\\\-|oo|p\\\\-)|sdk\\\\/|se(c(\\\\-|0|1)|47|mc|nd|ri)|sgh\\\\-|shar|sie(\\\\-|m)|sk\\\\-0|sl(45|id)|sm(al|ar|b3|it|t5)|so(ft|ny)|sp(01|h\\\\-|v\\\\-|v )|sy(01|mb)|t2(18|50)|t6(00|10|18)|ta(gt|lk)|tcl\\\\-|tdg\\\\-|tel(i|m)|tim\\\\-|t\\\\-mo|to(pl|sh)|ts(70|m\\\\-|m3|m5)|tx\\\\-9|up(\\\\.b|g1|si)|utst|v400|v750|veri|vi(rg|te)|vk(40|5[0-3]|\\\\-v)|vm40|voda|vulc|vx(52|53|60|61|70|80|81|83|85|98)|w3c(\\\\-| )|webc|whit|wi(g |nc|nw)|wmlb|wonu|x700|yas\\\\-|your|zeto|zte\\\\-/i.test(a.substr(0,4)))window.location=b})(navigator.userAgent||navigator.vendor||window.opera,\\'http://www.analyticbridge.com/m/blogpost?id=2004291%3ABlogPost%3A336968\\');</script></head>\\n<body>\\n    <div class=\"xj_before_content\"><div id=\\'fb-root\\'></div>\\n<script>\\n  window.fbAsyncInit = function () {\\n    FB.init({\\n      appId      : null, \\n      status     : true,   \\n      cookie     : true,   \\n      xfbml      : true, \\n      version    : \\'v2.3\\'  \\n    });\\n    var n = xg.addOnFacebookLoad.functions.length;\\n    for (var i = 0; i < n; i++) {\\n      xg.addOnFacebookLoad.functions[i]();\\n    }\\n    xg.addOnFacebookLoad = function (f) { f(); };\\n    xg.addOnFacebookLoad.functions = [];\\n  };\\n  (function() {\\n    var e = document.createElement(\\'script\\');\\n    e.src = document.location.protocol + \\'//connect.facebook.net/en_US/sdk.js\\';\\n    e.async = true;\\n    document.getElementById(\\'fb-root\\').appendChild(e);\\n  })();\\n</script>        <div id=\"xn_bar\">\\n            <div id=\"xn_bar_menu\">\\n                <div id=\"xn_bar_menu_branding\" >\\n                                    </div>\\n\\n                <div id=\"xn_bar_menu_more\">\\n                    <form id=\"xn_bar_menu_search\" method=\"GET\" action=\"http://www.analyticbridge.com/main/search/search\">\\n                        <fieldset>\\n                            <input type=\"text\" name=\"q\" id=\"xn_bar_menu_search_query\" value=\"Search AnalyticBridge\" _hint=\"Search AnalyticBridge\" accesskey=\"4\" class=\"text xj_search_hint\" />\\n                            <a id=\"xn_bar_menu_search_submit\" href=\"#\" onclick=\"document.getElementById(\\'xn_bar_menu_search\\').submit();return false\">Search</a>\\n                        </fieldset>\\n                    </form>\\n                </div>\\n\\n                            <ul id=\"xn_bar_menu_tabs\">\\n                                            <li><a href=\"http://www.analyticbridge.com/main/authorization/signUp?target=http%3A%2F%2Fwww.analyticbridge.com%2Fprofiles%2Fblogs%2Fwhy-analytics-needs-the-human-element\">Sign Up</a></li>\\n                                                <li><a href=\"http://www.analyticbridge.com/main/authorization/signIn?target=http%3A%2F%2Fwww.analyticbridge.com%2Fprofiles%2Fblogs%2Fwhy-analytics-needs-the-human-element\">Sign In</a></li>\\n                                    </ul>\\n                        </div>\\n        </div>\\n            <script src=\"http://www35.glam.com/gad/glamadapt_jsapi.act?afid=183770529\"></script>\\n    <script>\\n        try {\\n            GlamCreateSlot(\"183770529\", \"728x90\", \"Ning_Top_Leaderboard\");\\n            GlamSetSlotData(\"Ning_Top_Leaderboard\", \"ningid=2004291\");\\n            GlamCreateSlot(\"183770529\", \"300x250\", \"Ning_Top_Right\");\\n            GlamSetSlotData(\"Ning_Top_Right\", \"ningid=2004291\");\\n            GlamTrack(\"183770529\");\\n        } catch (e) {}\\n    </script>\\n    </div>\\n    <div class=\"xg_theme\" data-layout-pack=\"brutus\">\\n        <div id=\"xg_themebody\">\\n            <div id=\"xg_ad_above_header\" class=\"xg_ad xj_ad_above_header dy-displaynone\">\\n                    \\n                </div>        \\n            <div id=\"xg_head\">\\n                <div id=\"xg_masthead\">\\n                    <h1 id=\"xg_sitename\" class=\"xj_site_name\"><a id=\"application_name_header_link\" href=\"/\">AnalyticBridge</a></h1>\\n                    <p id=\"xg_sitedesc\" class=\"xj_site_desc\">Data Intelligence, Business Analytics</p>\\n                </div>\\n                <div id=\"xg_navigation\" class=\"xj_navigation\"><ul>\\n    <li id=\"xg_tab_xn29\" class=\"xg_subtab\"><a href=\"http://www.datasciencecentral.com/\"><span>DataScienceCentral</span></a></li><li id=\"xg_tab_main\" class=\"xg_subtab\"><a href=\"http://www.datasciencecentral.com/page/data-science-book\"><span>Book</span></a></li><li id=\"xg_tab_xn40\" class=\"xg_subtab\"><a href=\"/page/links\"><span>Links</span></a></li><li id=\"xg_tab_xn16\" class=\"xg_subtab\"><a href=\"http://www.analytictalent.com/\" target=\"_blank\"><span>Jobs</span></a></li><li id=\"xg_tab_xn36\" class=\"xg_subtab\"><a href=\"http://www.datasciencecentral.com/group/data-science-apprenticeship\" target=\"_blank\"><span>Training</span></a></li><li id=\"xg_tab_xn41\" class=\"xg_subtab\"><a href=\"http://www.datasciencecentral.com/profiles/blogs/check-out-our-dsc-newsletter\" target=\"_blank\"><span>DSC Digest</span></a></li><li id=\"xg_tab_xn43\" class=\"xg_subtab\"><a href=\"http://www.datasciencecentral.com/video/video/listFeatured\"><span>Webinars</span></a></li><li id=\"xg_tab_xn44\" class=\"xg_subtab\"><a href=\"/page/search\"><span>Search</span></a></li><li id=\"xg_tab_xn39\" class=\"xg_subtab\"><a href=\"/page/contact-us\"><span>Contact Us</span></a></li></ul>\\n</div>\\n            </div>\\n            <div id=\"xg_ad_below_header\" class=\"xg_ad xj_ad_below_header\">\\n                        <div class=\"xg_module module-plain  html_module module_text xg_reset\" data-module_name=\"text\"\\n        >\\n            <div class=\"xg_module_body xg_user_generated\">\\n            <center><script type=\\'text/javascript\\'>\\nvar googletag = googletag || {};\\ngoogletag.cmd = googletag.cmd || [];\\n(function() {\\nvar gads = document.createElement(\\'script\\');\\ngads.async = true;\\ngads.type = \\'text/javascript\\';\\nvar useSSL = \\'https:\\' == document.location.protocol;\\ngads.src = (useSSL ? \\'https:\\' : \\'http:\\') + \\n\\'//www.googletagservices.com/tag/js/gpt.js\\';\\nvar node = document.getElementsByTagName(\\'script\\')[0];\\nnode.parentNode.insertBefore(gads, node);\\n})();\\n</script> <script type=\\'text/javascript\\'>\\ngoogletag.cmd.push(function() {\\ngoogletag.defineSlot(\\'/2672641/Bottom_Leaderboard\\', [728, 90], \\'div-gpt-ad-1422803181128-0\\').addService(googletag.pubads());\\ngoogletag.defineSlot(\\'/2672641/Box_Ad\\', [300, 250], \\'div-gpt-ad-1422803181128-1\\').addService(googletag.pubads());\\ngoogletag.defineSlot(\\'/2672641/Box_Ad2\\', [300, 250], \\'div-gpt-ad-1422803181128-2\\').addService(googletag.pubads());\\ngoogletag.defineSlot(\\'/2672641/Left_Square_Box\\', [220, 220], \\'div-gpt-ad-1422803181128-3\\').addService(googletag.pubads());\\ngoogletag.defineSlot(\\'/2672641/Skyscraper\\', [160, 600], \\'div-gpt-ad-1422803181128-4\\').addService(googletag.pubads());\\ngoogletag.defineSlot(\\'/2672641/Square_Box\\', [220, 220], \\'div-gpt-ad-1422803181128-5\\').addService(googletag.pubads());\\ngoogletag.defineSlot(\\'/2672641/Top_Leaderboard\\', [728, 90], \\'div-gpt-ad-1422803181128-6\\').addService(googletag.pubads());\\ngoogletag.enableServices();\\n});\\n</script><!-- Top_Leaderboard -->\\n<div id=\\'div-gpt-ad-1422803181128-6\\' style=\\'width:728px; height:90px;\\'><script type=\\'text/javascript\\'>\\ngoogletag.cmd.push(function() { googletag.display(\\'div-gpt-ad-1422803181128-6\\'); });\\n</script></div>\\n<br /></center>\\n<center><a href=\"http://www.datasciencecentral.com/profiles/blogs/check-out-our-dsc-newsletter\">Subscribe to DSC Newsletter</a></center>\\n<br />\\n        </div>\\n            </div>\\n\\n                    </div>\\n            <div id=\"xg\" class=\"xg_widget_profiles xg_widget_profiles_blog xg_widget_profiles_blog_show\">\\n            \\t \\n                <div id=\"xg_body\">\\n                   \\n                    <div class=\"xj_notifications\"></div>\\n                    <div class=\"xg_column xg_span-16\" id=\"column1\">\\n                        <div id=\"xg_canvas\" class=\"xj_canvas\">\\n                            <ul class=\"navigation easyclear\"><li><a href=\"http://www.analyticbridge.com/profiles/blog/list\">All Blog Posts</a></li><li><a href=\"http://www.analyticbridge.com/profiles/blog/list?my=1\">My Blog</a></li><li class=\"right  xg_lightborder navbutton\"><a href=\"http://www.analyticbridge.com/profiles/blog/new\" class=\"xg_sprite xg_sprite-add\">Add</a></li></ul>\\n<div class=\"xg_module xg_blog xg_blog_detail xg_blog_mypage xg_module_with_dialog\">\\n        <div class=\"xg_headline xg_headline-img xg_headline-2l\">\\n    <div class=\"ib\"><span class=\"xg_avatar\"><a class=\"fn url\" href=\"http://www.analyticbridge.com/profile/SamButton\"  title=\"Sam Button\"><span class=\"dy-avatar dy-avatar-64 \"><img  class=\"photo photo\" src=\"http://api.ning.com/files/kcn3-uygVcj0kLCYudk*0OUp0Sz0F2j1yNF2dcwbLlgVrWFVG7rG88*flnHUF3eXTs7wGnOQWsdTvkqQdaWwkSSd35DOpoGa/analitycbridge.png?width=64&amp;height=64&amp;crop=1%3A1\" alt=\"\" /></span></a></span></div>\\n<div class=\"tb\"><h1>Why Analytics Needs The Human Element</h1>\\n        <ul class=\"navigation byline\">\\n            <li><a class=\"nolink\">Posted by </a><a href=\"/profile/SamButton\">Sam Button</a><a class=\"nolink\"> on November 19, 2015 at 5:26am</a></li>\\n            <li><a class=\"xg_sprite xg_sprite-view\" href=\"http://www.analyticbridge.com/profiles/blog/list?user=1ks85i4wgushp\">View Blog</a></li>\\n        </ul>\\n    </div>\\n</div>\\n    <div class=\"xg_module_body\">\\n        <div class=\"postbody\">\\n                    <div class=\"xg_user_generated\">\\n                <p><span style=\"font-family: georgia, palatino;\" class=\"font-size-3\">Big data is now, more or less, an accepted fact of business, and all companies are collecting it to some degree. Collection is, however, the easy part. Analyzing it to leverage insights that could actually improve company performance is the entire point of collecting data, yet many firms lack staff with the appropriate skill set to do this. It\\u2019s like a football team spending millions on training facilities and then signing exclusively farm animals to play for them.</span></p>\\n<p></p>\\n<p><span style=\"font-family: georgia, palatino;\" class=\"font-size-3\">In an EY and Forbes Insights survey of 564 executives in large global enterprises, most respondents said they still lack an effective and aligned business strategy for competing in a digital, analytics enabled world. They also continue to struggle with change management issues in getting business users to adopt analytics insights. Meanwhile, according to a recent study by Forrester Research, most companies estimate they\\'re analyzing a mere 12% of the data they have.</span></p>\\n<p></p>\\n<p><span style=\"font-family: georgia, palatino;\" class=\"font-size-3\">This inability to really embrace data analytics is often a case of not having the right people in place who understand data and where it can add value. Contrarily, many companies are also putting data on a pedestal and forgetting how important the human element is. Firms often now find themselves reliant on analytics software powered by algorithms that they have no understanding of, and look to data visualization programs to provide them with insights from this data and make decisions for them. Humans have limited capacity when it comes to making sense of large data sets, and computer driven algorithms are far better placed to deal with them, so they are largely left to their own devices and the conclusions they reach taken as gospel.</span></p>\\n<p><span style=\"font-family: georgia, palatino;\" class=\"font-size-3\">This has the potential to cause a number of problems further down the line. Buying some analytics software and treating data as the be-all and end-all of decision making is not \\u2018having a data strategy\\u2019, in the same way that buying a fast car doesn\\u2019t make you \\u2018a Formula 1 driver\\u2019. Data analytics needs people in place who have a real understanding of how the models work to establish which information is useful. They are also needed in cases that big data throws up with an ethical and moral dimension that data can\\u2019t address. Big data needs context and interpretation, and when it\\u2019s applied to scenarios such as who to give life-saving treatment to, there are often variables at play that only humans can understand. The logical conclusion of this was illustrated in the film \\u2018I, Robot\\u2019, in which a robot is forced to make a decision between saving the life of a young girl and the hero, played by Will Smith. The robot opts to save Smith because the data suggests he will be easiest to save, despite his protests.</span></p>\\n<p></p>\\n<p><span style=\"font-family: georgia, palatino;\" class=\"font-size-3\">A lack of human input around data is not necessarily all a company\\u2019s fault. There is a substantial difference between the number of data scientists available and the number needed by companies. McKinsey &amp; Co estimated that there would be a shortfall of between 140,000 and 190,000 people with analytical expertise by 2018 in the United States alone, and between 1.5m managers and analysts with the skills to understand and make decisions based on the analysis of big data would be needed.</span></p>\\n<p></p>\\n<p><span style=\"font-family: georgia, palatino;\" class=\"font-size-3\">While it may be difficult to find people, it is still important that companies recognize the importance of human judgment in having the last word when it comes to decision making. The human element is needed throughout the chain, both in understanding when data analytics is needed, but also when it isn\\u2019t. \\xa0</span></p>            </div>\\n        </div>\\n        <div class=\"left-panel\">\\n                          <script>xg.addOnRequire(function () { xg.post(\\'/main/viewcount/update?xn_out=json\\', {key: \\'2004291:BlogPost:336968\\', x: \\'9a9b1a1\\'}); });</script>                <p class=\"small dy-clear view-count-container\">\\n    <span class=\"view-count-label\">Views:</span> <span class=\"view-count\">236</span></p>\\n\\n                            <p class=\"small object-detail\" id=\"tagsList\" style=\"display:none\">Tags:<br/></p>\\n            <p class=\"share-links clear\"><a class=\"xg_sprite xg_sprite-share\" href=\"http://www.analyticbridge.com/main/sharing/share?id=2004291%253ABlogPost%253A336968\">Share</a>            <script>!function(d,s,id){var js,fjs=d.getElementsByTagName(s)[0];if(!d.getElementById(id)){js=d.createElement(s);js.id=id;js.src=\"//platform.twitter.com/widgets.js\";fjs.parentNode.insertBefore(js,fjs);}}(document,\"script\",\"twitter-wjs\");</script>\\n                    <span class=\"xg_tweet\">\\n        <a href=\"https://twitter.com/share\" class=\"post_to_twitter twitter-share-button\" target=\"_blank\"\\n            data-text=\"Checking out &quot;Why Analytics Needs The Human Element&quot; on AnalyticBridge:\" data-url=\"http://www.analyticbridge.com/profiles/blogs/why-analytics-needs-the-human-element\" data-count=\"none\" data-dnt=\"true\">Tweet</a>\\n        </span>\\n        <span class=\"google-plusone\" data-content-type=\"BlogPost\" data-content-id=\"2004291:BlogPost:336968\" data-page-type=\"detail\">\\n    <g:plusone callback=\"xg_index_googlePlusOne_onPlusOne\" size=\"medium\" count=\"false\" href=\"http://www.analyticbridge.com/xn/detail/2004291:BlogPost:336968\"></g:plusone>\\n</span>\\n\\n<div class=\"likebox\">\\n    <div class=\"facebook-like\" data-content-type=\"BlogPost\" data-content-id=\"2004291:BlogPost:336968\" data-page-type=\"detail\">\\n        <fb:like href=\"http://www.analyticbridge.com/xn/detail/2004291:BlogPost:336968\" layout=\"button_count\" show_faces=\"false\" width=\"450\"></fb:like>\\n    </div>\\n</div>\\n</p>        </div>\\n                    <ul class=\"pagination smallpagination\">\\n                            <li class=\"left\"><a href=\"http://www.analyticbridge.com/profiles/blogs/communicating-analytics-insight-with-data-visualization\" title=\"Communicating Analytics Insight With Data Visualization\">&lt; Previous Post</a></li>                         </ul>\\n            </div>\\n</div>\\n\\n        <div class=\"xg_module\">\\n                                        <div class=\"xg_module_body\">\\n                    <p id=\"add-comment\">Comment</p>\\n                                            <div class=\"comment-join\">\\n                            <h3>You need to be a member of AnalyticBridge to add comments!</h3>\\n                                                <p><a href=\"http://www.analyticbridge.com/main/authorization/signUp?target=http%3A%2F%2Fwww.analyticbridge.com%2Fprofiles%2Fblogs%2Fwhy-analytics-needs-the-human-element\">Join AnalyticBridge</a></p>\\n                                                </div>\\n                                                        </div>\\n                    <div class=\"xg_module_body\" id=\"comments\" style=\"display: none\" _numComments=\"0\" _scrollTo=\"\">\\n                    </div>\\n                    <div class=\"xg_module_foot\" id=\"xj_comments_footer\" style=\"display:none\">\\n                                            <p class=\"left\">\\n                            <a class=\"xg_icon xg_icon-rss\" href=\"http://www.analyticbridge.com/profiles/comment/feed?attachedTo=2004291%3ABlogPost%3A336968&amp;xn_auth=no\">RSS</a>\\n                        </p>\\n                                    </div>\\n                    </div>\\n    \\n      <input type=\"hidden\" id=\"incrementViewCountEndpoint\" value=\"http://www.analyticbridge.com/profiles/blog/incrementViewCount?id=2004291%3ABlogPost%3A336968&amp;xn_out=json\" />\\n\\n                        </div>\\n                    </div>\\n                    <div class=\"xg_column xg_span-5 xg_last\" id=\"column2\">\\n                        <div class=\"xj_user_info\">    <div class=\"xg_module\" id=\"xg_module_account\">\\n        <div class=\"xg_module_body xg_signup xg_lightborder\">\\n            <p>Welcome to<br />AnalyticBridge</p>\\n                        <p class=\"last-child\"><big><strong><a href=\"http://www.analyticbridge.com/main/authorization/signUp?target=http%3A%2F%2Fwww.analyticbridge.com%2Fprofiles%2Fblogs%2Fwhy-analytics-needs-the-human-element\">Sign Up</a></strong></big><br/>or <a href=\"http://www.analyticbridge.com/main/authorization/signIn?target=http%3A%2F%2Fwww.analyticbridge.com%2Fprofiles%2Fblogs%2Fwhy-analytics-needs-the-human-element\" style=\"white-space:nowrap\">Sign In</a></p>\\n                            <div class=\"xg_external_signup xg_lightborder xj_signup\">\\n                    <p class=\"dy-small\">Or sign in with:</p>\\n                    <ul class=\"providers\">\\n            <li><a onclick=\"window.open(\\'https://analyticbridge.networkauth.com/googleplus/start?token_url=http%3A%2F%2Fwww.analyticbridge.com%2Fmain%2Fauthorization%2FprocessExternalAuth%3Ftarget%3Dhttp%253A%252F%252Fwww.analyticbridge.com%252Fprofiles%252Fblogs%252Fwhy-analytics-needs-the-human-element%26source%3DsignUp%26close%3D1%26provider%3Dgoogle\\', null, \\'width=530,height=480,location=no,menubar=no,resizable=yes,scrollbars=yes,toolbar=no,status=no\\'); return false;\" href=\"https://analyticbridge.networkauth.com/googleplus/start?token_url=http%3A%2F%2Fwww.analyticbridge.com%2Fmain%2Fauthorization%2FprocessExternalAuth%3Ftarget%3Dhttp%253A%252F%252Fwww.analyticbridge.com%252Fprofiles%252Fblogs%252Fwhy-analytics-needs-the-human-element%26source%3DsignUp%26close%3D0%26provider%3Dgoogle\">\\n            <span class=\"mini-service mini-service-google\" title=\"Google\"></span>\\n        </a></li>\\n            <li><a onclick=\"window.open(\\'https://analyticbridge.networkauth.com/openid/start?openid_identifier=http%3A%2F%2Fme.yahoo.com%2F&token_url=http%3A%2F%2Fwww.analyticbridge.com%2Fmain%2Fauthorization%2FprocessExternalAuth%3Ftarget%3Dhttp%253A%252F%252Fwww.analyticbridge.com%252Fprofiles%252Fblogs%252Fwhy-analytics-needs-the-human-element%26source%3DsignUp%26close%3D1%26provider%3Dyahoo\\', null, \\'width=500,height=480,location=no,menubar=no,resizable=yes,scrollbars=yes,toolbar=no,status=no\\'); return false;\" href=\"https://analyticbridge.networkauth.com/openid/start?openid_identifier=http%3A%2F%2Fme.yahoo.com%2F&amp;token_url=http%3A%2F%2Fwww.analyticbridge.com%2Fmain%2Fauthorization%2FprocessExternalAuth%3Ftarget%3Dhttp%253A%252F%252Fwww.analyticbridge.com%252Fprofiles%252Fblogs%252Fwhy-analytics-needs-the-human-element%26source%3DsignUp%26close%3D0%26provider%3Dyahoo\">\\n            <span class=\"mini-service mini-service-yahoo\" title=\"Yahoo!\"></span>\\n        </a></li>\\n    </ul>\\n                </div>\\n                    </div>\\n    </div>\\n</div>\\n                        <div class=\"xj_sidebar_content\"><div class=\"xg_module html_module module_text xg_reset\" data-module_name=\"text\"\\n        >\\n            <div class=\"xg_module_body xg_user_generated\">\\n            <center><!-- Skyscraper -->\\n<div id=\\'div-gpt-ad-1422803181128-4\\' style=\\'width:160px; height:600px;\\'><script type=\\'text/javascript\\'>\\ngoogletag.cmd.push(function() { googletag.display(\\'div-gpt-ad-1422803181128-4\\'); });\\n</script></div>\\n</center>\\n        </div>\\n            </div>\\n<div class=\"xg_module html_module module_text xg_reset\" data-module_name=\"text\"\\n        >\\n            <div class=\"xg_module_body xg_user_generated\">\\n            <center><!-- Square_Box -->\\n<div id=\\'div-gpt-ad-1422803181128-5\\' style=\\'width:220px; height:220px;\\'><script type=\\'text/javascript\\'>\\ngoogletag.cmd.push(function() { googletag.display(\\'div-gpt-ad-1422803181128-5\\'); });\\n</script></div>\\n</center>\\n        </div>\\n            </div>\\n<div class=\"xg_module html_module module_text xg_reset\" data-module_name=\"text\"\\n        >\\n        <div class=\"xg_module_head\"><h2>Follow Us</h2></div>\\n        <div class=\"xg_module_body xg_user_generated\">\\n            <p><a href=\"https://twitter.com/analyticbridge\"><font color=\"#CC0000\"><b>@Analyticbridge</b></font></a><span>&#160;|&#160;</span><a href=\"http://www.datasciencecentral.com/page/news-feeds\">RSS Feeds</a></p>\\n        </div>\\n            </div>\\n<div class=\"xg_module html_module module_text xg_reset\" data-module_name=\"text\"\\n        >\\n        <div class=\"xg_module_head\"><h2>On Data Science Central</h2></div>\\n        <div class=\"xg_module_body xg_user_generated\">\\n            <script src=\"http://feeds.feedburner.com/FeaturedBlogPosts-DataScienceCentral?format=sigpro\" type=\"text/javascript\">\\n</script>\\n        </div>\\n            </div>\\n<div class=\"xg_module module_feed\" data-module_name=\"feed\">\\n    <div class=\"xg_module_head\"><h2>On DataViz</h2></div>\\n    </div>\\n<div class=\"xg_module module_feed\" data-module_name=\"feed\">\\n    <div class=\"xg_module_head\"><h2>On Hadoop</h2></div>\\n                    <div class=\"xg_module_body\">\\n            <p class=\"last-child\"><a href=\"http://www.hadoop360.com/xn/detail/6623215:BlogEntry:12265\" target=\"_blank\">Hadoop Summit notes &ndash; Part 1: Vision</a></p>\\n        </div>\\n                        <div class=\"xg_module_body\">\\n            <p class=\"last-child\"><a href=\"http://www.hadoop360.com/xn/detail/6623215:BlogEntry:12181\" target=\"_blank\">10 Free Hadoop Tutorials</a></p>\\n        </div>\\n                        <div class=\"xg_module_body\">\\n            <p class=\"last-child\"><a href=\"http://www.hadoop360.com/xn/detail/6623215:BlogEntry:12263\" target=\"_blank\">Spark Or Hadoop: Which Is The Best Big Data Framework?</a></p>\\n        </div>\\n                        <div class=\"xg_module_body\">\\n            <p class=\"last-child\"><a href=\"http://www.hadoop360.com/xn/detail/6623215:BlogEntry:12262\" target=\"_blank\">What is Hadoop - An Easy Explanation For Absolutely Anyone</a></p>\\n        </div>\\n                        <div class=\"xg_module_body\">\\n            <p class=\"last-child\"><a href=\"http://www.hadoop360.com/xn/detail/6623215:BlogEntry:12168\" target=\"_blank\">The Need for Speed: In-Memory and the Marriage of RDBMS and NoSQL</a></p>\\n        </div>\\n                        <div class=\"xg_module_body\">\\n            <p class=\"last-child\"><a href=\"http://www.hadoop360.com/xn/detail/6623215:BlogEntry:12088\" target=\"_blank\">$320,000 for a Java architect: Discussion about High Salaries</a></p>\\n        </div>\\n                        <div class=\"xg_module_body\">\\n            <p class=\"last-child\"><a href=\"http://www.hadoop360.com/xn/detail/6623215:BlogEntry:12167\" target=\"_blank\">Hadoop, What&rsquo;s on the Horizon?</a></p>\\n        </div>\\n                        <div class=\"xg_module_body\">\\n            <p class=\"last-child\"><a href=\"http://www.hadoop360.com/xn/detail/6623215:BlogEntry:12254\" target=\"_blank\">Jump over the Data Preparation Hurdle with Spark</a></p>\\n        </div>\\n                        <div class=\"xg_module_body\">\\n            <p class=\"last-child\"><a href=\"http://www.hadoop360.com/xn/detail/6623215:BlogEntry:12245\" target=\"_blank\">Book Introduction: High-Performance Data Mining and Big Data Analytics</a></p>\\n        </div>\\n                        <div class=\"xg_module_body\">\\n            <p class=\"last-child\"><a href=\"http://www.hadoop360.com/xn/detail/6623215:BlogEntry:12072\" target=\"_blank\">Big Data : How do you run capacity planning?</a></p>\\n        </div>\\n        <div class=\"xg_module_foot\">\\n    <ul>\\n            </ul>\\n</div>\\n</div>\\n</div>\\n                    </div>\\n                </div>\\n            </div>\\n            <div id=\"xg_foot\">\\n                <div id=\"xg_footcontent\">\\n                    <div class=\"xj_foot_content\"><p class=\"left\">\\n    \\xa9 2015             &nbsp; AnalyticBridge.com is a subsidiary and dedicated channel of Data Science Central LLC            &nbsp;\\n    Powered by<a href=\"http://www.ning.com/?utm_source=online&amp;utm_content=bazfooter&amp;utm_campaign=9000&amp;utm_medium=prd&amp;utm_term=datashaping\"><img width=\"87\" height=\"15\" src=\"http://static.ning.com/socialnetworkmain/widgets/index/gfx/Ning_MM_footer_wht@2x.png?xn_version=3410518215\" alt=\"Ning\" class=\"poweredbylogo\" /></a>\\n    </p>\\n    <p class=\"right xg_lightfont\">\\n                    <a href=\"http://www.analyticbridge.com/main/embeddable/list\">Badges</a> &nbsp;|&nbsp;\\n                        <a href=\"http://www.analyticbridge.com/main/authorization/signUp?target=http%3A%2F%2Fwww.analyticbridge.com%2Fmain%2Findex%2Freport\" dojoType=\"PromptToJoinLink\" _joinPromptText=\"Please sign up or sign in to complete this step.\" _hasSignUp=\"true\" _signInUrl=\"http://www.analyticbridge.com/main/authorization/signIn?target=http%3A%2F%2Fwww.analyticbridge.com%2Fmain%2Findex%2Freport\">Report an Issue</a> &nbsp;|&nbsp;\\n                        <a href=\"http://www.analyticbridge.com/main/authorization/termsOfService?previousUrl=http%3A%2F%2Fwww.analyticbridge.com%2Fprofiles%2Fblogs%2Fwhy-analytics-needs-the-human-element\">Terms of Service</a>\\n            </p>\\n</div>\\n                </div>\\n            </div>\\n\\t\\t\\t<div id=\"xg_ad_below_footer\" class=\"xg_ad xj_ad_below_footer\">\\n\\t\\t\\t\\t<div class=\"xg_module module-plain  html_module module_text xg_reset\" data-module_name=\"text\"\\n        >\\n            <div class=\"xg_module_body xg_user_generated\">\\n            <center><!-- Bottom_Leaderboard -->\\n<div id=\\'div-gpt-ad-1422803181128-0\\' style=\\'width:728px; height:90px;\\'><script type=\\'text/javascript\\'>\\ngoogletag.cmd.push(function() { googletag.display(\\'div-gpt-ad-1422803181128-0\\'); });\\n</script></div>\\n<br /></center>\\n        </div>\\n            </div>\\n\\n\\t\\t\\t</div>\\n        </div>\\n    </div>\\n    <div class=\"xj_after_content\"><div id=\"xj_baz17246\" class=\"xg_theme\"></div>\\n<div id=\"xg_overlay\" style=\"display:none;\">\\n<!--[if lte IE 6.5]><iframe></iframe><![endif]-->\\n</div>\\n<!--googleoff: all--><noscript>\\n\\t<style type=\"text/css\" media=\"screen\">\\n        #xg { position:relative;top:120px; }\\n        #xn_bar { top:120px; }\\n\\t</style>\\n\\t<div class=\"errordesc noscript\">\\n\\t\\t<div>\\n            <h3><strong>Hello, you need to enable JavaScript to use AnalyticBridge.</strong></h3>\\n            <p>Please check your browser settings or contact your system administrator.</p>\\n\\t\\t\\t<img src=\"/xn_resources/widgets/index/gfx/jstrk_off.gif\" alt=\"\" height=\"1\" width=\"1\" />\\n\\t\\t</div>\\n\\t</div>\\n</noscript><!--googleon: all-->\\n<script type=\"text/javascript\" src=\"http://static.ning.com/socialnetworkmain/widgets/lib/core.min.js?xn_version=2765273374\"></script>        <script>\\n            var sources = [\"http:\\\\/\\\\/api.ning.com:80\\\\/files\\\\/Uf5Jdma8M33SjPbusyHgc3TEFMmS1wsoSwUHdsYYQIa-Q9S4yc-D3I7sKu0ZZ7PO65aeYEIJ34JVXY-9Lf1QLcpn7nNkOEZL\\\\/set_common_min.js?r=1442248321\",\"http:\\\\/\\\\/api.ning.com:80\\\\/files\\\\/0QhDR-HWkflTALLsrZ-tRFVLbVLHrzsflspSK07RjCvQ4PYnJMJoq1LqGpgMNpzz8RMPB1x8Xf8aqnvp77qNj7Jdm6VbxBL9\\\\/set_shared_c0.min.js?r=1397587964\",\"http:\\\\/\\\\/api.ning.com:80\\\\/files\\\\/F-9RLDKjng8RBmt11oMaX0BqW-VpKLxfj8B6XuSjAnNYS3i3HcUx4Neqnidly-zRfLinlPTFCedv6II0ol*h9SX8PWWnTU3a\\\\/set_sidebar_u_min.js?r=1443889159\"];\\n            var numSources = sources.length;\\n            var heads = document.getElementsByTagName(\\'head\\');\\n            var node = heads.length > 0 ? heads[0] : document.body;\\n            var onloadFunctionsObj = {};\\n\\n            var createScriptTagFunc = function(source) {\\n                var script = document.createElement(\\'script\\');\\n                \\n                script.type = \\'text/javascript\\';\\n                                var currentOnLoad = function() {xg._loader.onLoad(source);};\\n                if (script.readyState) { //for IE (including IE9)\\n                    script.onreadystatechange = function() {\\n                        if (script.readyState == \\'complete\\' || script.readyState == \\'loaded\\') {\\n                            script.onreadystatechange = null;\\n                            currentOnLoad();\\n                        }\\n                    }\\n                } else {\\n                   script.onerror = script.onload = currentOnLoad;\\n                }\\n\\n                script.src = source;\\n                node.appendChild(script);\\n            };\\n\\n            for (var i = 0; i < numSources; i++) {\\n                xg._loader.loading(sources[i]);\\n                createScriptTagFunc(sources[i]);\\n            }\\n        </script>\\n    <script type=\"text/javascript\">\\nif (!ning._) {ning._ = {}}\\nning._.compat = { encryptedToken: \"<empty>\" }\\nning._.CurrentServerTime = \"2015-11-25T19:09:24+00:00\";\\nning._.probableScreenName = \"\";\\nning._.domains = {\\n    base: \\'ning.com\\',\\n    ports: { http: \\'80\\', ssl: \\'443\\' }\\n};\\nning.loader.version = \\'201511092056\\'; // DEP-9205:a2f6545 33\\ndjConfig.parseWidgets = false;\\n</script>\\n        <script type=\"text/javascript\">\\n          (function() {\\n            var po = document.createElement(\\'script\\'); po.type = \\'text/javascript\\'; po.async = true;\\n            po.src = \\'https://apis.google.com/js/plusone.js\\';\\n            var s = document.getElementsByTagName(\\'script\\')[0]; s.parentNode.insertBefore(po, s);\\n          })();\\n        </script>\\n        <script type=\"text/javascript\">\\n        xg.token = \\'\\';\\nxg.canTweet = false;\\nxg.cdnHost = \\'static.ning.com\\';\\nxg.version = \\'201511092056\\';\\nxg.useMultiCdn = true;\\nxg.staticRoot = \\'socialnetworkmain\\';\\nxg.xnTrackHost = \"coll.ning.com\";\\n    xg.cdnDefaultPolicyHost = \\'static\\';\\n    xg.cdnPolicy = [];\\nxg.global = xg.global || {};\\nxg.global.currentMozzle = \\'profiles\\';\\nxg.global.userCanInvite = false;\\nxg.global.requestBase = \\'\\';\\nxg.global.locale = \\'en_US\\';\\nxg.num_thousand_sep = \",\";\\nxg.num_decimal_sep = \".\";\\n(function() {\\n    dojo.addOnLoad(function() {\\n        if(window.bzplcm) { window.bzplcm.ts(\\'hr\\'); window.bzplcm._profileSend(); }\\n            });\\n            ning.loader.require(\\'xg.profiles.blog.show\\', \\'xg.index.googlePlusOne\\', \\'xg.index.facebookLike\\', function() { xg._loader.onLoad(\\'xnloader\\'); });\\n    })();    </script>\\n<script type=\"text/javascript\" src=\"http://static.ning.com/socialnetworkmain/widgets/lib/js/thrift/xn_track.min.js?xn_version=2965732102\"></script>\\n<!-- Start Quantcast tag -->\\r\\n<script type=\"text/javascript\" src=\"http://edge.quantserve.com/quant.js\"></script>\\r\\n<script type=\"text/javascript\">_qacct=\"p-0f45-7mMDyhgM\";quantserve();</script>\\r\\n<noscript>\\r\\n<a href=\"http://www.quantcast.com/p-0f45-7mMDyhgM\" target=\"_blank\"><img src=\"http://pixel.quantserve.com/pixel/p-0f45-7mMDyhgM.gif\" style=\"display: none;\" border=\"0\" height=\"1\" width=\"1\" alt=\"Quantcast\"/></a>\\r\\n</noscript>\\r\\n<!-- End Quantcast tag -->\\r\\n<link rel=stylesheet href=\"http://www.datashaping.com/template55.css?AFFID=AnalyticBridge\" type=\"text/css\">\\r\\n<script>\\r\\n  (function(i,s,o,g,r,a,m){i[\\'GoogleAnalyticsObject\\']=r;i[r]=i[r]||function(){\\r\\n  (i[r].q=i[r].q||[]).push(arguments)},i[r].l=1*new Date();a=s.createElement(o),\\r\\n  m=s.getElementsByTagName(o)[0];a.async=1;a.src=g;m.parentNode.insertBefore(a,m)\\r\\n  })(window,document,\\'script\\',\\'//www.google-analytics.com/analytics.js\\',\\'ga\\');\\r\\n\\r\\n  ga(\\'create\\', \\'UA-27452860-1\\', \\'auto\\');\\r\\n  ga(\\'create\\', \\'UA-470717-3\\', \\'auto\\', {\\'name\\': \\'ABTracker\\'});  // AB separate tracker.\\r\\n  ga(\\'send\\', \\'pageview\\');\\r\\n  ga(\\'ABTracker.send\\', \\'pageview\\'); // Send page view for AB tracker.\\r\\n\\r\\n</script>\\r\\n<script type=\"text/javascript\">\\r\\n\\r\\nxg.addOnRequire(function() {\\r\\n    document.getElementById(\\'xn_bar_menu_search\\').action = \\'http://www.analyticbridge.com/page/search\\';\\r\\n    var cx = document.createElement(\\'input\\');\\r\\n    cx.setAttribute(\\'name\\', \\'cx\\');\\r\\n    cx.setAttribute(\\'value\\', \\'007889287169707156432:04zouenp6u0\\');\\r\\n    cx.setAttribute(\\'type\\', \\'hidden\\');\\r\\n    document.getElementById(\\'xn_bar_menu_search\\').appendChild(cx);\\r\\n    var ie = document.createElement(\\'input\\');\\r\\n    ie.setAttribute(\\'name\\', \\'ie\\');\\r\\n    ie.setAttribute(\\'type\\', \\'hidden\\');\\r\\n    ie.setAttribute(\\'value\\', \\'UTF-8\\');\\r\\n    document.getElementById(\\'xn_bar_menu_search\\').appendChild(ie);\\r\\n    var cof = document.createElement(\\'input\\');\\r\\n    cof.setAttribute(\\'name\\', \\'cof\\');\\r\\n    cof.setAttribute(\\'type\\', \\'hidden\\');\\r\\n    cof.setAttribute(\\'value\\', \\'FORID:11;NB:1\\');\\r\\n    document.getElementById(\\'xn_bar_menu_search\\').appendChild(cof);\\r\\n    var sa = document.createElement(\\'input\\');\\r\\n    sa.setAttribute(\\'name\\', \\'sa\\');\\r\\n    sa.setAttribute(\\'type\\', \\'hidden\\');\\r\\n    sa.setAttribute(\\'value\\', \\'Search\\');\\r\\n    document.getElementById(\\'xn_bar_menu_search\\').appendChild(sa);\\r\\n});\\r\\n\\r\\n</script>\\r\\n<!--CUSTOM GOOGLE SEARCH BAR-->\\r\\n<script src=\\'//www.google.com/jsapi\\' type=\\'text/javascript\\'></script>\\r\\n<script type=\\'text/javascript\\'>\\r\\ngoogle.load(\\'search\\', \\'1\\', {language: \\'en\\', style: google.loader.themes.V2_DEFAULT});\\r\\ngoogle.setOnLoadCallback(function() {\\r\\n  var customSearchOptions = {};\\r\\n  var customSearchControl =   new google.search.CustomSearchControl(\\'007889287169707156432:04zouenp6u0\\', customSearchOptions);\\r\\n  customSearchControl.setLinkTarget(google.search.Search.LINK_TARGET_SELF);\\r\\n  customSearchControl.setResultSetSize(google.search.Search.FILTERED_CSE_RESULTSET);\\r\\n  var options = new google.search.DrawOptions();\\r\\n  customSearchControl.draw(\\'cse\\', options);\\r\\n  function parseParamsFromUrl() { var params = {};        \\r\\nvar parts = window.location.search.substr(1).split(\\'\\\\x26\\'); for (var i = 0; i < parts.length; i++) { var keyValuePair = parts[i].split(\\'=\\'); var key = decodeURIComponent(keyValuePair[0]); params[key] = keyValuePair[1] ?             decodeURIComponent(keyValuePair[1].replace(/\\\\+/g, \\' \\')) :             keyValuePair[1];} return params;} var urlParams = parseParamsFromUrl(); var queryParamName = \"q\"; if (urlParams[queryParamName]) {       customSearchControl.execute(urlParams[queryParamName]);}\\r\\n}, true);\\r\\n</script>\\r\\n<style type=\\'text/css\\'>\\r\\n  .gsc-control-cse {\\r\\n    font-family: Arial, sans-serif;\\r\\n    border-color: #FFFFFF;\\r\\n    background-color: #FFFFFF;\\r\\n  }\\r\\n  .gsc-control-cse .gsc-table-result {\\r\\n    font-family: Arial, sans-serif;\\r\\n  }\\r\\n  input.gsc-input, .gsc-input-box, .gsc-input-box-hover, .gsc-input-box-focus {\\r\\n    border-color: #CCCCCC;\\r\\n  }\\r\\n  input.gsc-search-button, input.gsc-search-button:hover, input.gsc-search-button:focus {\\r\\n    border-color: #CCCCCC;\\r\\n    background-color: #3C78A7;\\r\\n    background-image: none;\\r\\n    filter: none;\\r\\n\\r\\n  }\\r\\n  .gsc-tabHeader.gsc-tabhInactive {\\r\\n    border-color: #FF9900;\\r\\n    background-color: #FFFFFF;\\r\\n  }\\r\\n  .gsc-tabHeader.gsc-tabhActive {\\r\\n    border-color: #E9E9E9;\\r\\n    background-color: #E9E9E9;\\r\\n    border-bottom-color: #FF9900\\r\\n  }\\r\\n  .gsc-tabsArea {\\r\\n    border-color: #FF9900;\\r\\n  }\\r\\n  .gsc-webResult.gsc-result, .gsc-results .gsc-imageResult {\\r\\n    border-color: #FFFFFF;\\r\\n    background-color: #FFFFFF;\\r\\n  }\\r\\n  .gsc-webResult.gsc-result:hover, .gsc-imageResult:hover {\\r\\n    border-color: #FFFFFF;\\r\\n    background-color: #FFFFFF;\\r\\n  }\\r\\n  .gs-webResult.gs-result a.gs-title:link, .gs-webResult.gs-result a.gs-title:link b, .gs-imageResult a.gs-title:link, .gs-imageResult a.gs-title:link b  {\\r\\n    color: #3C78A7;\\r\\n  }\\r\\n  .gs-webResult.gs-result a.gs-title:visited, .gs-webResult.gs-result a.gs-title:visited b, .gs-imageResult a.gs-title:visited, .gs-imageResult a.gs-title:visited b {\\r\\n    color: #073763;\\r\\n  }\\r\\n  .gs-webResult.gs-result a.gs-title:hover, .gs-webResult.gs-result a.gs-title:hover b, .gs-imageResult a.gs-title:hover, .gs-imageResult a.gs-title:hover b {\\r\\n    color: #1A0DAB;\\r\\n  }\\r\\n  .gs-webResult.gs-result a.gs-title:active, .gs-webResult.gs-result a.gs-title:active b, .gs-imageResult a.gs-title:active, .gs-imageResult a.gs-title:active b {\\r\\n    color: #3C78A7;\\r\\n  }\\r\\n  .gsc-cursor-page {\\r\\n    color: #3C78A7;\\r\\n  }\\r\\n  a.gsc-trailing-more-results:link {\\r\\n    color: #3C78A7;\\r\\n  }\\r\\n  .gs-webResult .gs-snippet, .gs-imageResult .gs-snippet, .gs-fileFormatType {\\r\\n    color: #333333;\\r\\n  }\\r\\n  .gs-webResult div.gs-visibleUrl, .gs-imageResult div.gs-visibleUrl {\\r\\n    color: #006621;\\r\\n  }\\r\\n  .gs-webResult div.gs-visibleUrl-short {\\r\\n    color: #006621;\\r\\n  }\\r\\n  .gs-webResult div.gs-visibleUrl-short  {\\r\\n    display: none;\\r\\n  }\\r\\n  .gs-webResult div.gs-visibleUrl-long {\\r\\n    display: block;\\r\\n  }\\r\\n  .gs-promotion div.gs-visibleUrl-short {\\r\\n    display: none;\\r\\n  }\\r\\n  .gs-promotion div.gs-visibleUrl-long  {\\r\\n    display: block;\\r\\n  }\\r\\n  .gsc-cursor-box {\\r\\n    border-color: #FFFFFF;\\r\\n  }\\r\\n  .gsc-results .gsc-cursor-box .gsc-cursor-page {\\r\\n    border-color: #E9E9E9;\\r\\n    background-color: #FFFFFF;\\r\\n    color: #3C78A7;\\r\\n  }\\r\\n  .gsc-results .gsc-cursor-box .gsc-cursor-current-page {\\r\\n    border-color: #FF9900;\\r\\n    background-color: #FFFFFF;\\r\\n    color: #073763;\\r\\n  }\\r\\n  .gsc-webResult.gsc-result.gsc-promotion {\\r\\n    border-color: #336699;\\r\\n    background-color: #FFFFFF;\\r\\n  }\\r\\n  .gsc-completion-title {\\r\\n    color: #3C78A7;\\r\\n  }\\r\\n  .gsc-completion-snippet {\\r\\n    color: #333333;\\r\\n  }\\r\\n  .gs-promotion a.gs-title:link,.gs-promotion a.gs-title:link *,.gs-promotion .gs-snippet a:link  {\\r\\n    color: #0000FF;\\r\\n  }\\r\\n  .gs-promotion a.gs-title:visited,.gs-promotion a.gs-title:visited *,.gs-promotion .gs-snippet a:visited {\\r\\n    color: #663399;\\r\\n  }\\r\\n  .gs-promotion a.gs-title:hover,.gs-promotion a.gs-title:hover *,.gs-promotion .gs-snippet a:hover  {\\r\\n    color: #0000FF;\\r\\n  }\\r\\n  .gs-promotion a.gs-title:active,.gs-promotion a.gs-title:active *,.gs-promotion .gs-snippet a:active {\\r\\n    color: #0000FF;\\r\\n  }\\r\\n  .gs-promotion .gs-snippet, .gs-promotion .gs-title .gs-promotion-title-right, .gs-promotion .gs-title .gs-promotion-title-right * {\\r\\n    color: #000000;\\r\\n  }\\r\\n  .gs-promotion .gs-visibleUrl,.gs-promotion .gs-visibleUrl-short  {\\r\\n    color: #008000;\\r\\n  }\\r\\n  .gsc-input input.gsc-input {\\r\\n    background: none repeat scroll 0% 0% white !important;\\r\\n  }\\r\\n.gsc-thumbnail-inside, .gsc-url-top {\\r\\n  padding-left: 0 !important;\\r\\n  margin: 0 !important;\\r\\n}\\r\\n.gsc-input input.gsc-input {\\r\\nbackground:url(http://frenchlane.com/DSC_search.png) no-repeat 0% 0% white !important;\\r\\ntext-indent: 130px;\\r\\n}\\r\\n</style>\\r\\n<!--CUSTOM GOOGLE SEARCH BAR-->    <script>\\n        xg.tg = function () {\\n    var cookies = document.cookie.split(\\';\\');\\n    var re = /^\\\\s*xn_visitor=([^\\\\s]*)/;\\n    var vc = \\'\\';\\n    for (i in cookies) {\\n        if (!cookies.hasOwnProperty(i)) {\\n            continue\\n        }\\n        var match = re.exec(cookies[i]);\\n        if (match) {\\n            vc = match[1];\\n            break;\\n        }\\n    }\\n    var image = new Image();\\n    var user = vc + \\',,datashaping\\';\\n    image.src = \\'http://www22.glam.com/cTagsImgCmd.act?gname=ning_user&gvalue=\\' + user + \\'&gtid=5000059145&gcmd=setc&gexpires=604800&ord=\\' + Math.random()*1E16;\\n    };\\n    xg.tg();\\n    </script>\\n    <script type=\"text/javascript\">\\n    var ning_gaq = ning_gaq || [];\\n    ning_gaq.push([\\'_ning_ga._setAccount\\', \\'UA-2024191-82\\']);\\n    ning_gaq.push([\\'_ning_ga._setNamespace\\', \\'ning\\']);\\n                    ning_gaq.push([\\'_ning_ga._setCustomVar\\', 1, \\'member_type\\', \\'anonymous\\', 3]);\\n            ning_gaq.push([\\'_ning_ga._setCustomVar\\', 2, \\'subdomain\\', \\'datashaping.ning.com\\', 3]);\\n            ning_gaq.push([\\'_ning_ga._setCustomVar\\', 3, \\'category\\', \\'technology\\', 3]);\\n            ning_gaq.push([\\'_ning_ga._setCustomVar\\', 4, \\'product_type\\', \\'pro\\', 3]);\\n            ning_gaq.push([\\'_ning_ga._setCustomVar\\', 5, \\'ab_variation\\', \\'-\\', 3]);    ning_gaq.push([\\'_ning_ga._trackPageview\\']);\\n    ning_gaq.push([\\'_ning_ga._trackPageLoadTime\\']);\\n\\n    (function() {\\n     var ga = document.createElement(\\'script\\'); ga.type = \\'text/javascript\\'; ga.async = true;\\n     ga.src = \"http://static.ning.com/socialnetworkmain/widgets/index/js/google-analytics/ga.js?xn_version=201511092056\";\\n     var s = document.getElementsByTagName(\\'script\\')[0]; s.parentNode.insertBefore(ga, s);\\n     })();\\n</script>\\n<script>\\n  var _comscore = _comscore || [];\\n  _comscore.push({ c1: \"2\", c2: \"6770185\" });\\n  (function() {\\n    var s = document.createElement(\"script\"), el = document.getElementsByTagName(\"script\")[0]; s.async = true;\\n    s.src = (document.location.protocol == \"https:\" ? \"https://sb\" : \"http://b\") + \".scorecardresearch.com/beacon.js\";\\n    el.parentNode.insertBefore(s, el);\\n  })();\\n</script>\\n<noscript>\\n  <img src=\"http://b.scorecardresearch.com/p?c1=2&c2=6770185&cv=2.0&cj=1\" />\\n</noscript>\\n\\n</div>\\n</body>\\n</html>\\n'"
      ]
     },
     "execution_count": 6,
     "metadata": {},
     "output_type": "execute_result"
    }
   ],
   "source": [
    "r.text"
   ]
  },
  {
   "cell_type": "code",
   "execution_count": 1,
   "metadata": {
    "collapsed": true
   },
   "outputs": [],
   "source": [
    "from goose import Goose"
   ]
  },
  {
   "cell_type": "code",
   "execution_count": 2,
   "metadata": {
    "collapsed": true
   },
   "outputs": [],
   "source": [
    "g = Goose()"
   ]
  },
  {
   "cell_type": "code",
   "execution_count": 36,
   "metadata": {
    "collapsed": false
   },
   "outputs": [],
   "source": [
    "a = g.extract('http://www.faz.net/')"
   ]
  },
  {
   "cell_type": "code",
   "execution_count": 37,
   "metadata": {
    "collapsed": false
   },
   "outputs": [
    {
     "data": {
      "text/plain": [
       "u'Die Rekordmeldungen bei den Studierendenzahlen rei\\xdfen nicht ab: Zum Wintersemester gab es noch einmal 60.000 junge Menschen mehr an Deutschlands Hochschulen als vor einem Jahr. Erstmals begannen mehr Frauen als M\\xe4nner ein Studium. Mehr 0'"
      ]
     },
     "execution_count": 37,
     "metadata": {},
     "output_type": "execute_result"
    }
   ],
   "source": [
    "a.cleaned_text"
   ]
  },
  {
   "cell_type": "code",
   "execution_count": 38,
   "metadata": {
    "collapsed": false
   },
   "outputs": [
    {
     "data": {
      "text/plain": [
       "u'Aktuelle Nachrichten online - FAZ.NET'"
      ]
     },
     "execution_count": 38,
     "metadata": {},
     "output_type": "execute_result"
    }
   ],
   "source": [
    "a.title"
   ]
  },
  {
   "cell_type": "code",
   "execution_count": 41,
   "metadata": {
    "collapsed": false
   },
   "outputs": [
    {
     "data": {
      "text/plain": [
       "12"
      ]
     },
     "execution_count": 41,
     "metadata": {},
     "output_type": "execute_result"
    }
   ],
   "source": [
    "bba.score_tweets('Machine Learning microsoft at Comcast - Andrew Leamon and Chushi Ren - http://FORA.tv  http://bit.ly/1j4eU5x ')"
   ]
  },
  {
   "cell_type": "code",
   "execution_count": null,
   "metadata": {
    "collapsed": true
   },
   "outputs": [],
   "source": []
  }
 ],
 "metadata": {
  "kernelspec": {
   "display_name": "Python 2",
   "language": "python",
   "name": "python2"
  },
  "language_info": {
   "codemirror_mode": {
    "name": "ipython",
    "version": 2
   },
   "file_extension": ".py",
   "mimetype": "text/x-python",
   "name": "python",
   "nbconvert_exporter": "python",
   "pygments_lexer": "ipython2",
   "version": "2.7.9"
  }
 },
 "nbformat": 4,
 "nbformat_minor": 0
}
