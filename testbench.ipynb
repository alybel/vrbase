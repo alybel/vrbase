{
 "cells": [
  {
   "cell_type": "code",
   "execution_count": 1,
   "metadata": {
    "collapsed": false
   },
   "outputs": [
    {
     "name": "stdout",
     "output_type": "stream",
     "text": [
      "{'anomalydetection': 7, 'overview': 5, 'randomforest': 12, 'infographic': 5, 'businessanalytics': 12, 'creditcard': 7, 'predictiveanalytics': 12, 'visualization': 7, 'fintech': 7, 'machinelearning': 12, 'transform': 5, 'onlinepayment': 12, 'finance': 5, 'datamining': 7, 'businessstrategy': 5, 'python': 5, 'outlierdetection': 7, 'scikit': 12, 'sqlperformance': 7, 'unsupervisedlearning': 12, 'prescriptiveanalytics': 12, 'summary': 5, 'dataflow': 5, 'deeplearning': 12, 'avoidoverfitting': 7, 'team': 7, 'analytics': 7, 'trading': 5, 'statistic': 5, 'churn': 12, 'technology': 5, 'datascientist': 12, 'e-commerce': 7, 'saas': 12, 'dataanalytics': 12, 'research': 5, 'innovation': 5, 'artificialintelligence': 12, 'bayes': 12, 'neuralnetwork': 12, 'multivariatecorrelation': 7, 'internetofthings': 7, 'credit': 5, 'supervisedlearning': 12, 'datascience': 12}\n",
      "{'shop': 1000, 'google': 1000, 'veristorm': 1000, 'cheap': 1000, 'webinar': 1000, 'hiring': 1000, 'francisco': 1000, 'sas': 1000, 'apply': 1000, 'sap': 1000, 'seminar': 1000, 'guarantee': 1000, 'big data': 1000, 'bigdata': 1000, 'application': 1000, 'only': 1000, 'music': 1000, 'pivotal': 1000, 'local': 1000, 'buy': 1000, 'jobs': 1000, 'offer': 1000, 'marketing': 1000, 'price': 1000, 'free': 1000, 'discount': 1000, 'job': 1000, 'birthday': 1000, 'oracle': 1000, 'opportunity': 1000, 'rapidminer': 1000, 'hire': 1000, 'knime': 1000, 'ibm': 1000, 'emc': 1000, 'dato': 1000, 'ebay': 1000, 'advertising': 1000, 'azure': 1000, 'position': 1000, 'microsoft': 1000, 'spss': 1000}\n"
     ]
    },
    {
     "data": {
      "text/plain": [
       "'2.3.0'"
      ]
     },
     "execution_count": 1,
     "metadata": {},
     "output_type": "execute_result"
    }
   ],
   "source": [
    "account = \"AlexanderD_Beck\"\n",
    "import sys\n",
    "sys.path.append(\"bluebird/\")\n",
    "sys.path.append(\"accounts/%s/\"%account)\n",
    "import config as cfg\n",
    "import bblib as bbl\n",
    "import bbanalytics as bba\n",
    "\n",
    "%load_ext autoreload\n",
    "%autoreload 2\n",
    "\n",
    "bbl.set_cfg(cfg)\n",
    "bba.set_cfg(cfg)\n",
    "bba.initialize()\n",
    "bbl.tweepy.__version__\n",
    "#TextBuilder = bbl.BuildText(preambles=cfg.preambles, hashtags=cfg.hashtags)"
   ]
  },
  {
   "cell_type": "markdown",
   "metadata": {},
   "source": [
    "##Check Score of Tweets"
   ]
  },
  {
   "cell_type": "code",
   "execution_count": 86,
   "metadata": {
    "collapsed": true
   },
   "outputs": [],
   "source": [
    "t = 'Churn'"
   ]
  },
  {
   "cell_type": "code",
   "execution_count": 85,
   "metadata": {
    "collapsed": false
   },
   "outputs": [
    {
     "name": "stdout",
     "output_type": "stream",
     "text": [
      "12\n",
      "Churn Review\n",
      "['churn', 'review']\n"
     ]
    },
    {
     "data": {
      "text/plain": [
       "12"
      ]
     },
     "execution_count": 85,
     "metadata": {},
     "output_type": "execute_result"
    }
   ],
   "source": [
    "bba.score_tweets(t = t, verbose = True)"
   ]
  },
  {
   "cell_type": "code",
   "execution_count": 64,
   "metadata": {
    "collapsed": false
   },
   "outputs": [
    {
     "data": {
      "text/plain": [
       "(None, 0)"
      ]
     },
     "execution_count": 64,
     "metadata": {},
     "output_type": "execute_result"
    }
   ],
   "source": [
    "TextBuilder.build_text(url = 'http://shmental.com/finance-minister-arun-jaitley-calls-for-prudent-expenditure-management/')"
   ]
  },
  {
   "cell_type": "code",
   "execution_count": 7,
   "metadata": {
    "collapsed": false
   },
   "outputs": [],
   "source": [
    "auth, api = bblib.connect_app_to_twitter()"
   ]
  },
  {
   "cell_type": "code",
   "execution_count": 8,
   "metadata": {
    "collapsed": false
   },
   "outputs": [],
   "source": [
    "tl = api.user_timeline(screen_name = account, count = 200)"
   ]
  },
  {
   "cell_type": "code",
   "execution_count": 11,
   "metadata": {
    "collapsed": true
   },
   "outputs": [],
   "source": [
    "import json"
   ]
  },
  {
   "cell_type": "code",
   "execution_count": 27,
   "metadata": {
    "collapsed": false
   },
   "outputs": [
    {
     "data": {
      "text/plain": [
       "3600"
      ]
     },
     "execution_count": 27,
     "metadata": {},
     "output_type": "execute_result"
    }
   ],
   "source": [
    "User = bblib.get_info_from_account_id(api, 'valureach')\n",
    "User.followers_count"
   ]
  },
  {
   "cell_type": "code",
   "execution_count": 18,
   "metadata": {
    "collapsed": false
   },
   "outputs": [
    {
     "data": {
      "text/plain": [
       "561471163785023489"
      ]
     },
     "execution_count": 18,
     "metadata": {},
     "output_type": "execute_result"
    }
   ],
   "source": [
    "tl[-1].id"
   ]
  },
  {
   "cell_type": "code",
   "execution_count": 19,
   "metadata": {
    "collapsed": false
   },
   "outputs": [],
   "source": [
    "tl2 = api.user_timeline(screen_name = account, count = 200, max_id =561471163785023489 )"
   ]
  },
  {
   "cell_type": "code",
   "execution_count": 20,
   "metadata": {
    "collapsed": false
   },
   "outputs": [
    {
     "data": {
      "text/plain": [
       "59"
      ]
     },
     "execution_count": 20,
     "metadata": {},
     "output_type": "execute_result"
    }
   ],
   "source": [
    "len(tl2)"
   ]
  },
  {
   "cell_type": "code",
   "execution_count": 29,
   "metadata": {
    "collapsed": false
   },
   "outputs": [
    {
     "data": {
      "text/plain": [
       "[<tweepy.models.Status at 0x104d312d0>]"
      ]
     },
     "execution_count": 29,
     "metadata": {},
     "output_type": "execute_result"
    }
   ],
   "source": [
    "api.retweets_of_me()"
   ]
  },
  {
   "cell_type": "code",
   "execution_count": 25,
   "metadata": {
    "collapsed": false
   },
   "outputs": [
    {
     "data": {
      "text/plain": [
       "1"
      ]
     },
     "execution_count": 25,
     "metadata": {},
     "output_type": "execute_result"
    }
   ],
   "source": [
    "len(q)"
   ]
  },
  {
   "cell_type": "code",
   "execution_count": 31,
   "metadata": {
    "collapsed": false
   },
   "outputs": [],
   "source": []
  },
  {
   "cell_type": "code",
   "execution_count": 32,
   "metadata": {
    "collapsed": false
   },
   "outputs": [
    {
     "data": {
      "text/plain": [
       "'2.1'"
      ]
     },
     "execution_count": 32,
     "metadata": {},
     "output_type": "execute_result"
    }
   ],
   "source": []
  },
  {
   "cell_type": "code",
   "execution_count": 36,
   "metadata": {
    "collapsed": false
   },
   "outputs": [],
   "source": [
    "me = api.me()"
   ]
  },
  {
   "cell_type": "code",
   "execution_count": 37,
   "metadata": {
    "collapsed": false
   },
   "outputs": [
    {
     "data": {
      "text/plain": [
       "318"
      ]
     },
     "execution_count": 37,
     "metadata": {},
     "output_type": "execute_result"
    }
   ],
   "source": [
    "me.statuses_count"
   ]
  },
  {
   "cell_type": "markdown",
   "metadata": {
    "collapsed": false
   },
   "source": [
    "### Debug Build Tweet"
   ]
  },
  {
   "cell_type": "code",
   "execution_count": 2,
   "metadata": {
    "collapsed": true
   },
   "outputs": [],
   "source": [
    "url = \"https://t.co/nEMI12Gt3Y\""
   ]
  },
  {
   "cell_type": "code",
   "execution_count": 22,
   "metadata": {
    "collapsed": false
   },
   "outputs": [],
   "source": [
    "html = BT.get_ws_html(url)"
   ]
  },
  {
   "cell_type": "code",
   "execution_count": 3,
   "metadata": {
    "collapsed": false
   },
   "outputs": [],
   "source": [
    "BT = bbl.BuildText([], [])"
   ]
  },
  {
   "cell_type": "code",
   "execution_count": 4,
   "metadata": {
    "collapsed": false
   },
   "outputs": [
    {
     "name": "stdout",
     "output_type": "stream",
     "text": [
      "{'anomalydetection': 7, 'overview': 5, 'randomforest': 12, 'infographic': 5, 'businessanalytics': 12, 'creditcard': 7, 'predictiveanalytics': 12, 'visualization': 7, 'fintech': 7, 'machinelearning': 12, 'transform': 5, 'onlinepayment': 12, 'finance': 5, 'datamining': 7, 'businessstrategy': 5, 'python': 5, 'outlierdetection': 7, 'scikit': 12, 'sqlperformance': 7, 'unsupervisedlearning': 12, 'prescriptiveanalytics': 12, 'summary': 5, 'dataflow': 5, 'deeplearning': 12, 'avoidoverfitting': 7, 'team': 7, 'analytics': 7, 'trading': 5, 'statistic': 5, 'churn': 12, 'technology': 5, 'datascientist': 12, 'e-commerce': 7, 'saas': 12, 'dataanalytics': 12, 'research': 5, 'innovation': 5, 'artificialintelligence': 12, 'bayes': 12, 'neuralnetwork': 12, 'multivariatecorrelation': 7, 'internetofthings': 7, 'credit': 5, 'supervisedlearning': 12, 'datascience': 12}\n",
      "debug"
     ]
    },
    {
     "name": "stderr",
     "output_type": "stream",
     "text": [
      "ERROR:logger:Building tweet failed\n"
     ]
    },
    {
     "name": "stdout",
     "output_type": "stream",
     "text": [
      "\n",
      "{'analytics': 7, 'team': 7} debug2\n"
     ]
    }
   ],
   "source": [
    "text, score = BT.build_text(url, debug=True)"
   ]
  },
  {
   "cell_type": "code",
   "execution_count": 5,
   "metadata": {
    "collapsed": false
   },
   "outputs": [
    {
     "data": {
      "text/plain": [
       "('Argamon Speaks at Sold-Out Inaugural Data Science Conference https://t.co/nEMI12Gt3Y #analytics #team',\n",
       " 72)"
      ]
     },
     "execution_count": 5,
     "metadata": {},
     "output_type": "execute_result"
    }
   ],
   "source": [
    "text, score"
   ]
  },
  {
   "cell_type": "code",
   "execution_count": 42,
   "metadata": {
    "collapsed": false
   },
   "outputs": [],
   "source": [
    "import pickle"
   ]
  },
  {
   "cell_type": "code",
   "execution_count": 44,
   "metadata": {
    "collapsed": false
   },
   "outputs": [],
   "source": [
    "with open('pickle.sav', 'w') as f: \n",
    "    pickle.dump(html, f)"
   ]
  },
  {
   "cell_type": "code",
   "execution_count": 9,
   "metadata": {
    "collapsed": false
   },
   "outputs": [],
   "source": [
    "from bs4 import UnicodeDammit"
   ]
  },
  {
   "cell_type": "code",
   "execution_count": null,
   "metadata": {
    "collapsed": true
   },
   "outputs": [],
   "source": [
    "UnicodeDammit."
   ]
  },
  {
   "cell_type": "code",
   "execution_count": 4,
   "metadata": {
    "collapsed": false
   },
   "outputs": [
    {
     "data": {
      "text/plain": [
       "(None, 0)"
      ]
     },
     "execution_count": 4,
     "metadata": {},
     "output_type": "execute_result"
    }
   ],
   "source": [
    "BT.build_text(url)"
   ]
  },
  {
   "cell_type": "code",
   "execution_count": 19,
   "metadata": {
    "collapsed": false
   },
   "outputs": [
    {
     "data": {
      "text/plain": [
       "<lxml.etree._ElementTree at 0x1080d1320>"
      ]
     },
     "execution_count": 19,
     "metadata": {},
     "output_type": "execute_result"
    }
   ],
   "source": [
    "ws"
   ]
  },
  {
   "cell_type": "code",
   "execution_count": 20,
   "metadata": {
    "collapsed": false
   },
   "outputs": [
    {
     "name": "stdout",
     "output_type": "stream",
     "text": [
      "<lxml.etree._ElementTree object at 0x1080d1320>\n"
     ]
    }
   ],
   "source": [
    "print ws"
   ]
  },
  {
   "cell_type": "code",
   "execution_count": 22,
   "metadata": {
    "collapsed": true
   },
   "outputs": [],
   "source": [
    "from lxml import etree"
   ]
  },
  {
   "cell_type": "code",
   "execution_count": null,
   "metadata": {
    "collapsed": false
   },
   "outputs": [],
   "source": [
    "result = etree.tostring(ws.getroot(), pretty_print=False, method=\"html\")\n",
    "print(result)"
   ]
  },
  {
   "cell_type": "code",
   "execution_count": 6,
   "metadata": {
    "collapsed": false
   },
   "outputs": [],
   "source": [
    "import nltk\n",
    "from nltk import bigrams\n",
    "from nltk.util import ngrams\n"
   ]
  },
  {
   "cell_type": "code",
   "execution_count": 7,
   "metadata": {
    "collapsed": false
   },
   "outputs": [
    {
     "name": "stdout",
     "output_type": "stream",
     "text": [
      "<generator object bigrams at 0x109c3fc80>\n"
     ]
    }
   ],
   "source": [
    "string = \"I really like python, it's pretty awesome.\"\n",
    "string_bigrams = bigrams(string)\n",
    "print string_bigrams"
   ]
  },
  {
   "cell_type": "code",
   "execution_count": 8,
   "metadata": {
    "collapsed": true
   },
   "outputs": [],
   "source": [
    "token = nltk.word_tokenize(string)\n",
    "sb = ngrams(token,2)"
   ]
  },
  {
   "cell_type": "code",
   "execution_count": 10,
   "metadata": {
    "collapsed": false
   },
   "outputs": [
    {
     "name": "stdout",
     "output_type": "stream",
     "text": [
      "Ireally\n",
      "reallylike\n",
      "likepython\n",
      "python,\n",
      ",it\n",
      "it's\n",
      "'spretty\n",
      "prettyawesome\n",
      "awesome.\n"
     ]
    }
   ],
   "source": [
    "for w1, w2 in ngrams(token,2):\n",
    "        print w1+w2"
   ]
  },
  {
   "cell_type": "code",
   "execution_count": 9,
   "metadata": {
    "collapsed": false
   },
   "outputs": [
    {
     "data": {
      "text/plain": [
       "('I', 'really')"
      ]
     },
     "execution_count": 9,
     "metadata": {},
     "output_type": "execute_result"
    }
   ],
   "source": [
    "sb.next()"
   ]
  },
  {
   "cell_type": "code",
   "execution_count": 12,
   "metadata": {
    "collapsed": false
   },
   "outputs": [
    {
     "name": "stdout",
     "output_type": "stream",
     "text": [
      "<generator object ngrams at 0x10c4e5280>\n"
     ]
    }
   ],
   "source": [
    "print sb"
   ]
  },
  {
   "cell_type": "code",
   "execution_count": null,
   "metadata": {
    "collapsed": true
   },
   "outputs": [],
   "source": []
  }
 ],
 "metadata": {
  "kernelspec": {
   "display_name": "Python 2",
   "language": "python",
   "name": "python2"
  },
  "language_info": {
   "codemirror_mode": {
    "name": "ipython",
    "version": 2
   },
   "file_extension": ".py",
   "mimetype": "text/x-python",
   "name": "python",
   "nbconvert_exporter": "python",
   "pygments_lexer": "ipython2",
   "version": "2.7.9"
  }
 },
 "nbformat": 4,
 "nbformat_minor": 0
}
